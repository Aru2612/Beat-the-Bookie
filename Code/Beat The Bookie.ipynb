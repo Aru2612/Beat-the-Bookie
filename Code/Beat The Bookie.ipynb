{
  "nbformat": 4,
  "nbformat_minor": 0,
  "metadata": {
    "kernelspec": {
      "name": "python3",
      "display_name": "Python 3"
    },
    "language_info": {
      "codemirror_mode": {
        "name": "ipython",
        "version": 3
      },
      "file_extension": ".py",
      "mimetype": "text/x-python",
      "name": "python",
      "nbconvert_exporter": "python",
      "pygments_lexer": "ipython3",
      "version": "3.7.4"
    },
    "colab": {
      "name": "Beat The Bookie.ipynb",
      "provenance": [],
      "collapsed_sections": []
    },
    "accelerator": "GPU"
  },
  "cells": [
    {
      "cell_type": "markdown",
      "metadata": {
        "id": "HZT8d2PCngzV",
        "colab_type": "text"
      },
      "source": [
        "# Introduction"
      ]
    },
    {
      "cell_type": "code",
      "metadata": {
        "id": "9QIehvb3ngzh",
        "colab_type": "code",
        "colab": {}
      },
      "source": [
        ""
      ],
      "execution_count": 0,
      "outputs": []
    },
    {
      "cell_type": "markdown",
      "metadata": {
        "id": "AGX31RtBngz6",
        "colab_type": "text"
      },
      "source": [
        "#_Brief Introduction to the project and its goals._#"
      ]
    },
    {
      "cell_type": "markdown",
      "metadata": {
        "id": "oKmpcN7Nng0A",
        "colab_type": "text"
      },
      "source": [
        "# Setting up the Environment"
      ]
    },
    {
      "cell_type": "markdown",
      "metadata": {
        "id": "2xhaP9Wmng0F",
        "colab_type": "text"
      },
      "source": [
        "### Importing Libraries"
      ]
    },
    {
      "cell_type": "code",
      "metadata": {
        "id": "JkT3cWFIng0M",
        "colab_type": "code",
        "colab": {}
      },
      "source": [
        "from dateutil import relativedelta\n",
        "\n",
        "import numpy as np\n",
        "import pandas as pd\n",
        "\n",
        "import matplotlib as mpl\n",
        "import matplotlib.pyplot as plt\n",
        "\n",
        "import seaborn as sns\n",
        "\n",
        "from sklearn.preprocessing import LabelEncoder,MinMaxScaler\n",
        "from sklearn.linear_model import LogisticRegression\n",
        "from sklearn.model_selection import train_test_split\n",
        "from sklearn.model_selection import cross_validate\n",
        "from sklearn.model_selection import GridSearchCV, RandomizedSearchCV"
      ],
      "execution_count": 0,
      "outputs": []
    },
    {
      "cell_type": "markdown",
      "metadata": {
        "id": "IQMEfR2rng0b",
        "colab_type": "text"
      },
      "source": [
        "### Notebook Display Settings\n"
      ]
    },
    {
      "cell_type": "code",
      "metadata": {
        "id": "D3dFfH4nng0g",
        "colab_type": "code",
        "colab": {}
      },
      "source": [
        "# Change the maximum number of rows displayed when viewing the pandas dataframe\n",
        "pd.set_option('display.max_rows', 100)\n",
        "pd.set_option('display.max_columns', 50)\n",
        "\n",
        "import os\n",
        "import warnings\n",
        "\n",
        "# Suppress all warnings\n",
        "warnings.filterwarnings(\"ignore\")"
      ],
      "execution_count": 0,
      "outputs": []
    },
    {
      "cell_type": "markdown",
      "metadata": {
        "id": "csSFOOxSng0v",
        "colab_type": "text"
      },
      "source": [
        "### Default Figure Settings"
      ]
    },
    {
      "cell_type": "code",
      "metadata": {
        "id": "RHJsDRCVng02",
        "colab_type": "code",
        "colab": {}
      },
      "source": [
        "# Set plot properties\n",
        "mpl.rcParams['axes.titlesize'] = 20\n",
        "mpl.rcParams['axes.labelsize'] = 16\n",
        "mpl.rcParams['axes.titleweight']='bold'\n",
        "mpl.rcParams['axes.labelweight']='normal'\n",
        "mpl.rcParams['figure.figsize']=(8,6)\n",
        "\n",
        "# Choose the font for the plots based on os (as some fonts are not available across different os)\n",
        "if os.name=='nt':\n",
        "    mpl.rcParams['font.family'] = \"sans-serif\"\n",
        "    mpl.rcParams['font.sans-serif'] = \"Arial\"\n",
        "elif os.name=='posix':  \n",
        "    mpl.rcParams['font.family'] = \"Mukti Narrow\"\n",
        "\n",
        "# Enables colour codes for seaborn plots\n",
        "sns.set(color_codes=True)"
      ],
      "execution_count": 0,
      "outputs": []
    },
    {
      "cell_type": "markdown",
      "metadata": {
        "id": "1hhmjCU-ng1C",
        "colab_type": "text"
      },
      "source": [
        "### Parallel Processing Configuration"
      ]
    },
    {
      "cell_type": "code",
      "metadata": {
        "id": "GhfR1Fxmng1G",
        "colab_type": "code",
        "colab": {}
      },
      "source": [
        "import multiprocessing as mp\n",
        "\n",
        "# Get the number of cpu available for parallel processing\n",
        "n_cpu=mp.cpu_count()"
      ],
      "execution_count": 0,
      "outputs": []
    },
    {
      "cell_type": "markdown",
      "metadata": {
        "id": "SgCOfPXbng1T",
        "colab_type": "text"
      },
      "source": [
        "# Data Transformation & Exploration"
      ]
    },
    {
      "cell_type": "markdown",
      "metadata": {
        "id": "KdtB2FBhng1Y",
        "colab_type": "text"
      },
      "source": [
        "## Read the Data"
      ]
    },
    {
      "cell_type": "code",
      "metadata": {
        "id": "KPPYm8qhng1d",
        "colab_type": "code",
        "outputId": "4617e12c-da1c-4c5f-d4b0-dfba565669f9",
        "colab": {}
      },
      "source": [
        "# Read the csv file \n",
        "data=pd.read_csv('Data/epl-training.csv')\n",
        "\n",
        "# Dropping the trailing columns\n",
        "data.dropna(axis=1, how='all',inplace=True)\n",
        "data['Date']=pd.to_datetime(data['Date'], format='%d/%m/%Y')\n",
        "data.drop([column for column in data.columns if 'Unnamed' in column], axis = 1, inplace=True) \n",
        "print(\"Shape of the table (rows, columns): \", data.shape)"
      ],
      "execution_count": 0,
      "outputs": [
        {
          "output_type": "stream",
          "text": [
            "Shape of the table (rows, columns):  (4180, 22)\n"
          ],
          "name": "stdout"
        }
      ]
    },
    {
      "cell_type": "code",
      "metadata": {
        "id": "9kgoy98vng1s",
        "colab_type": "code",
        "outputId": "7cf3ec61-b7b6-4fb4-eb6b-a8c04c8c3635",
        "colab": {}
      },
      "source": [
        "data.head()"
      ],
      "execution_count": 0,
      "outputs": [
        {
          "output_type": "execute_result",
          "data": {
            "text/html": [
              "<div>\n",
              "<style scoped>\n",
              "    .dataframe tbody tr th:only-of-type {\n",
              "        vertical-align: middle;\n",
              "    }\n",
              "\n",
              "    .dataframe tbody tr th {\n",
              "        vertical-align: top;\n",
              "    }\n",
              "\n",
              "    .dataframe thead th {\n",
              "        text-align: right;\n",
              "    }\n",
              "</style>\n",
              "<table border=\"1\" class=\"dataframe\">\n",
              "  <thead>\n",
              "    <tr style=\"text-align: right;\">\n",
              "      <th></th>\n",
              "      <th>Date</th>\n",
              "      <th>HomeTeam</th>\n",
              "      <th>AwayTeam</th>\n",
              "      <th>FTHG</th>\n",
              "      <th>FTAG</th>\n",
              "      <th>FTR</th>\n",
              "      <th>HTHG</th>\n",
              "      <th>HTAG</th>\n",
              "      <th>HTR</th>\n",
              "      <th>Referee</th>\n",
              "      <th>HS</th>\n",
              "      <th>AS</th>\n",
              "      <th>HST</th>\n",
              "      <th>AST</th>\n",
              "      <th>HF</th>\n",
              "      <th>AF</th>\n",
              "      <th>HC</th>\n",
              "      <th>AC</th>\n",
              "      <th>HY</th>\n",
              "      <th>AY</th>\n",
              "      <th>HR</th>\n",
              "      <th>AR</th>\n",
              "    </tr>\n",
              "  </thead>\n",
              "  <tbody>\n",
              "    <tr>\n",
              "      <th>0</th>\n",
              "      <td>2008-08-16</td>\n",
              "      <td>Arsenal</td>\n",
              "      <td>West Brom</td>\n",
              "      <td>1</td>\n",
              "      <td>0</td>\n",
              "      <td>H</td>\n",
              "      <td>1</td>\n",
              "      <td>0</td>\n",
              "      <td>H</td>\n",
              "      <td>H Webb</td>\n",
              "      <td>24</td>\n",
              "      <td>5</td>\n",
              "      <td>14</td>\n",
              "      <td>4</td>\n",
              "      <td>11</td>\n",
              "      <td>8</td>\n",
              "      <td>7</td>\n",
              "      <td>5</td>\n",
              "      <td>0</td>\n",
              "      <td>0</td>\n",
              "      <td>0</td>\n",
              "      <td>0</td>\n",
              "    </tr>\n",
              "    <tr>\n",
              "      <th>1</th>\n",
              "      <td>2008-08-16</td>\n",
              "      <td>Bolton</td>\n",
              "      <td>Stoke</td>\n",
              "      <td>3</td>\n",
              "      <td>1</td>\n",
              "      <td>H</td>\n",
              "      <td>3</td>\n",
              "      <td>0</td>\n",
              "      <td>H</td>\n",
              "      <td>C Foy</td>\n",
              "      <td>14</td>\n",
              "      <td>8</td>\n",
              "      <td>8</td>\n",
              "      <td>2</td>\n",
              "      <td>13</td>\n",
              "      <td>12</td>\n",
              "      <td>4</td>\n",
              "      <td>3</td>\n",
              "      <td>1</td>\n",
              "      <td>2</td>\n",
              "      <td>0</td>\n",
              "      <td>0</td>\n",
              "    </tr>\n",
              "    <tr>\n",
              "      <th>2</th>\n",
              "      <td>2008-08-16</td>\n",
              "      <td>Everton</td>\n",
              "      <td>Blackburn</td>\n",
              "      <td>2</td>\n",
              "      <td>3</td>\n",
              "      <td>A</td>\n",
              "      <td>1</td>\n",
              "      <td>1</td>\n",
              "      <td>D</td>\n",
              "      <td>A Marriner</td>\n",
              "      <td>10</td>\n",
              "      <td>15</td>\n",
              "      <td>5</td>\n",
              "      <td>11</td>\n",
              "      <td>11</td>\n",
              "      <td>9</td>\n",
              "      <td>3</td>\n",
              "      <td>5</td>\n",
              "      <td>2</td>\n",
              "      <td>2</td>\n",
              "      <td>0</td>\n",
              "      <td>0</td>\n",
              "    </tr>\n",
              "    <tr>\n",
              "      <th>3</th>\n",
              "      <td>2008-08-16</td>\n",
              "      <td>Hull</td>\n",
              "      <td>Fulham</td>\n",
              "      <td>2</td>\n",
              "      <td>1</td>\n",
              "      <td>H</td>\n",
              "      <td>1</td>\n",
              "      <td>1</td>\n",
              "      <td>D</td>\n",
              "      <td>P Walton</td>\n",
              "      <td>11</td>\n",
              "      <td>12</td>\n",
              "      <td>6</td>\n",
              "      <td>6</td>\n",
              "      <td>10</td>\n",
              "      <td>9</td>\n",
              "      <td>5</td>\n",
              "      <td>6</td>\n",
              "      <td>3</td>\n",
              "      <td>0</td>\n",
              "      <td>0</td>\n",
              "      <td>0</td>\n",
              "    </tr>\n",
              "    <tr>\n",
              "      <th>4</th>\n",
              "      <td>2008-08-16</td>\n",
              "      <td>Middlesbrough</td>\n",
              "      <td>Tottenham</td>\n",
              "      <td>2</td>\n",
              "      <td>1</td>\n",
              "      <td>H</td>\n",
              "      <td>0</td>\n",
              "      <td>0</td>\n",
              "      <td>D</td>\n",
              "      <td>M Atkinson</td>\n",
              "      <td>14</td>\n",
              "      <td>8</td>\n",
              "      <td>10</td>\n",
              "      <td>5</td>\n",
              "      <td>11</td>\n",
              "      <td>12</td>\n",
              "      <td>7</td>\n",
              "      <td>9</td>\n",
              "      <td>1</td>\n",
              "      <td>2</td>\n",
              "      <td>0</td>\n",
              "      <td>0</td>\n",
              "    </tr>\n",
              "  </tbody>\n",
              "</table>\n",
              "</div>"
            ],
            "text/plain": [
              "        Date       HomeTeam   AwayTeam  FTHG  FTAG FTR  HTHG  HTAG HTR  \\\n",
              "0 2008-08-16        Arsenal  West Brom     1     0   H     1     0   H   \n",
              "1 2008-08-16         Bolton      Stoke     3     1   H     3     0   H   \n",
              "2 2008-08-16        Everton  Blackburn     2     3   A     1     1   D   \n",
              "3 2008-08-16           Hull     Fulham     2     1   H     1     1   D   \n",
              "4 2008-08-16  Middlesbrough  Tottenham     2     1   H     0     0   D   \n",
              "\n",
              "      Referee  HS  AS  HST  AST  HF  AF  HC  AC  HY  AY  HR  AR  \n",
              "0      H Webb  24   5   14    4  11   8   7   5   0   0   0   0  \n",
              "1       C Foy  14   8    8    2  13  12   4   3   1   2   0   0  \n",
              "2  A Marriner  10  15    5   11  11   9   3   5   2   2   0   0  \n",
              "3    P Walton  11  12    6    6  10   9   5   6   3   0   0   0  \n",
              "4  M Atkinson  14   8   10    5  11  12   7   9   1   2   0   0  "
            ]
          },
          "metadata": {
            "tags": []
          },
          "execution_count": 7
        }
      ]
    },
    {
      "cell_type": "markdown",
      "metadata": {
        "id": "6-B30uKjng16",
        "colab_type": "text"
      },
      "source": [
        "## Exploratory Data Analysis"
      ]
    },
    {
      "cell_type": "markdown",
      "metadata": {
        "id": "HwtDHVOhng1-",
        "colab_type": "text"
      },
      "source": [
        "### Function definitions"
      ]
    },
    {
      "cell_type": "markdown",
      "metadata": {
        "id": "P0X6Ld2Lng2I",
        "colab_type": "text"
      },
      "source": [
        "The function __get_pivot_column_vs_column_count__ returns a dataframe after pivoting a column against another column. The elements of dataframe represent counts of all the different combinations of __col1__ and __col2__ in the dataframe __df__."
      ]
    },
    {
      "cell_type": "code",
      "metadata": {
        "id": "x3oyuvQhng2T",
        "colab_type": "code",
        "colab": {}
      },
      "source": [
        "def get_pivot_column_vs_column_count(df,col1,col2):\n",
        "    return df.groupby([col1,col2]).size().reset_index().\\\n",
        "              rename(columns={0:'counts'}).\\\n",
        "              pivot(values='counts',index=col1,columns=col2)"
      ],
      "execution_count": 0,
      "outputs": []
    },
    {
      "cell_type": "markdown",
      "metadata": {
        "id": "m1vbBnX_ng2r",
        "colab_type": "text"
      },
      "source": [
        "The function __get_column_countplot__ plots a bar chart. The bar chart is representative of the column __col__ in the dataframe __df__. The function counts the occurances of each value taken by __col__ in combination with the different outcome of __FTR__ (i.e. H, D, A). "
      ]
    },
    {
      "cell_type": "code",
      "metadata": {
        "id": "ZTRnrYwmng2w",
        "colab_type": "code",
        "colab": {}
      },
      "source": [
        "def get_column_countplot(df,col,y='FTR',ax=None ):\n",
        "    if ax is None:\n",
        "        ax = plt.gca()\n",
        "    df.groupby([col, y]).size().reset_index().\\\n",
        "       pivot(columns=y, index=col, values=0).\\\n",
        "       plot(kind='bar', stacked=True,ax=ax)\n",
        "    ax.set_xlabel(col)\n",
        "    ax.set_ylabel('Counts')\n",
        "    ax.set_title('Count Plot: %s'%(col))"
      ],
      "execution_count": 0,
      "outputs": []
    },
    {
      "cell_type": "markdown",
      "metadata": {
        "id": "SwoZuLzFng3F",
        "colab_type": "text"
      },
      "source": [
        "### Number of teams"
      ]
    },
    {
      "cell_type": "markdown",
      "metadata": {
        "id": "bOglfquvng3K",
        "colab_type": "text"
      },
      "source": [
        "#### Number of unique teams in the table:"
      ]
    },
    {
      "cell_type": "code",
      "metadata": {
        "scrolled": false,
        "id": "0XfnMuY-ng3P",
        "colab_type": "code",
        "outputId": "eef6b33b-db56-4c55-b473-bc920a629d63",
        "colab": {}
      },
      "source": [
        "data['HomeTeam'].nunique()"
      ],
      "execution_count": 0,
      "outputs": [
        {
          "output_type": "stream",
          "text": [
            "Number of unique teams in the table:  36\n"
          ],
          "name": "stdout"
        }
      ]
    },
    {
      "cell_type": "markdown",
      "metadata": {
        "id": "B0R1oCAang3s",
        "colab_type": "text"
      },
      "source": [
        "#### Checking if all the team in the column `HomeTeam` are in `AwayTeam`"
      ]
    },
    {
      "cell_type": "code",
      "metadata": {
        "id": "IUp7qpJcng3v",
        "colab_type": "code",
        "outputId": "59d5caf6-9bd3-4a3e-e02c-c3eb73d38846",
        "colab": {}
      },
      "source": [
        "np.array_equal(sorted(data['HomeTeam'].unique()),sorted(data['AwayTeam'].unique()))"
      ],
      "execution_count": 0,
      "outputs": [
        {
          "output_type": "execute_result",
          "data": {
            "text/plain": [
              "True"
            ]
          },
          "metadata": {
            "tags": []
          },
          "execution_count": 11
        }
      ]
    },
    {
      "cell_type": "markdown",
      "metadata": {
        "id": "xPaIVJMvng39",
        "colab_type": "text"
      },
      "source": [
        "#### List of all teams in the data:"
      ]
    },
    {
      "cell_type": "code",
      "metadata": {
        "scrolled": true,
        "id": "ayd1UgMAng4F",
        "colab_type": "code",
        "outputId": "08d70e4d-0eec-4ad4-8d25-1a4efdd172c9",
        "colab": {}
      },
      "source": [
        "print(sorted(data['HomeTeam'].unique()))"
      ],
      "execution_count": 0,
      "outputs": [
        {
          "output_type": "stream",
          "text": [
            "['Arsenal', 'Aston Villa', 'Birmingham', 'Blackburn', 'Blackpool', 'Bolton', 'Bournemouth', 'Brighton', 'Burnley', 'Cardiff', 'Chelsea', 'Crystal Palace', 'Everton', 'Fulham', 'Huddersfield', 'Hull', 'Leicester', 'Liverpool', 'Man City', 'Man United', 'Middlesbrough', 'Newcastle', 'Norwich', 'Portsmouth', 'QPR', 'Reading', 'Southampton', 'Stoke', 'Sunderland', 'Swansea', 'Tottenham', 'Watford', 'West Brom', 'West Ham', 'Wigan', 'Wolves']\n"
          ],
          "name": "stdout"
        }
      ]
    },
    {
      "cell_type": "markdown",
      "metadata": {
        "id": "Yb2X6hh8ng4T",
        "colab_type": "text"
      },
      "source": [
        "### Analysing the `Referee` column"
      ]
    },
    {
      "cell_type": "markdown",
      "metadata": {
        "id": "-nftdPmGng4W",
        "colab_type": "text"
      },
      "source": [
        "#### The number of unique referees in dataset:"
      ]
    },
    {
      "cell_type": "code",
      "metadata": {
        "id": "8KuVd6Twng4a",
        "colab_type": "code",
        "outputId": "7ceea0d4-85e4-4098-c3ac-00fbec9c62cf",
        "colab": {}
      },
      "source": [
        "data['Referee'].nunique()"
      ],
      "execution_count": 0,
      "outputs": [
        {
          "output_type": "execute_result",
          "data": {
            "text/plain": [
              "36"
            ]
          },
          "metadata": {
            "tags": []
          },
          "execution_count": 13
        }
      ]
    },
    {
      "cell_type": "markdown",
      "metadata": {
        "id": "QH2y0IVdng4n",
        "colab_type": "text"
      },
      "source": [
        "> It can be seen that the number of referees here is the same as the number of teams"
      ]
    },
    {
      "cell_type": "code",
      "metadata": {
        "scrolled": true,
        "id": "ek_JSP7gng4r",
        "colab_type": "code",
        "outputId": "ff41306e-01ef-41c2-c799-e15b132b2f7b",
        "colab": {}
      },
      "source": [
        "data['Referee'].nunique()==data['HomeTeam'].nunique()"
      ],
      "execution_count": 0,
      "outputs": [
        {
          "output_type": "execute_result",
          "data": {
            "text/plain": [
              "True"
            ]
          },
          "metadata": {
            "tags": []
          },
          "execution_count": 14
        }
      ]
    },
    {
      "cell_type": "markdown",
      "metadata": {
        "id": "7DmA69rgng5K",
        "colab_type": "text"
      },
      "source": [
        "### Analysing the Dates"
      ]
    },
    {
      "cell_type": "markdown",
      "metadata": {
        "id": "ma-Td3kyng5P",
        "colab_type": "text"
      },
      "source": [
        "The first and the last date (when arranged chronologically) observed in the table:"
      ]
    },
    {
      "cell_type": "code",
      "metadata": {
        "scrolled": true,
        "id": "es7nFe3Yng5U",
        "colab_type": "code",
        "outputId": "3a61fe2a-6c39-40f4-c3ef-6b691bd2bf08",
        "colab": {}
      },
      "source": [
        "print(\"The earliest date in the table: \", data['Date'].min())\n",
        "print(\"The latest date in the table: \", data['Date'].max())"
      ],
      "execution_count": 0,
      "outputs": [
        {
          "output_type": "stream",
          "text": [
            "The earliest date in the table:  2008-08-16 00:00:00\n",
            "The latest date in the table:  2019-05-12 00:00:00\n"
          ],
          "name": "stdout"
        }
      ]
    },
    {
      "cell_type": "code",
      "metadata": {
        "id": "qedbaQzlng5d",
        "colab_type": "code",
        "outputId": "16e3a3da-669b-4f96-92d9-97150c3be319",
        "colab": {}
      },
      "source": [
        "rd = relativedelta.relativedelta(data['Date'].max(),data['Date'].min())\n",
        "print('%d years %d months %d days'%(rd.years,rd.months,rd.days))"
      ],
      "execution_count": 0,
      "outputs": [
        {
          "output_type": "stream",
          "text": [
            "10 years 8 months 26 days\n"
          ],
          "name": "stdout"
        }
      ]
    },
    {
      "cell_type": "code",
      "metadata": {
        "id": "8-jeCIU3ng5p",
        "colab_type": "code",
        "outputId": "d949ca09-e438-413c-b1b3-665cfc3a67f3",
        "colab": {}
      },
      "source": [
        "sorted((data['Date'].dt.month).unique())"
      ],
      "execution_count": 0,
      "outputs": [
        {
          "output_type": "execute_result",
          "data": {
            "text/plain": [
              "[1, 2, 3, 4, 5, 8, 9, 10, 11, 12]"
            ]
          },
          "metadata": {
            "tags": []
          },
          "execution_count": 47
        }
      ]
    },
    {
      "cell_type": "markdown",
      "metadata": {
        "id": "fYX1GfhDng5w",
        "colab_type": "text"
      },
      "source": [
        "It can be seen here that 6 and 7 are missing."
      ]
    },
    {
      "cell_type": "markdown",
      "metadata": {
        "id": "bTj1otNjng5y",
        "colab_type": "text"
      },
      "source": [
        "> This means that no matches happen in June and July."
      ]
    },
    {
      "cell_type": "markdown",
      "metadata": {
        "id": "1WRE1mpRng52",
        "colab_type": "text"
      },
      "source": [
        "Therefore, we can consider that: "
      ]
    },
    {
      "cell_type": "markdown",
      "metadata": {
        "id": "yJQYMYj4ng54",
        "colab_type": "text"
      },
      "source": [
        "> Each Season starts from __August to May__ and so we can deduce that the data covers __11 Seasons__"
      ]
    },
    {
      "cell_type": "markdown",
      "metadata": {
        "id": "vdoOplO5ng55",
        "colab_type": "text"
      },
      "source": [
        "### Number of Matches played by the teams"
      ]
    },
    {
      "cell_type": "markdown",
      "metadata": {
        "id": "qhqm3fkZng59",
        "colab_type": "text"
      },
      "source": [
        "A count of the occurances of each combination of Home and Away team allocation."
      ]
    },
    {
      "cell_type": "code",
      "metadata": {
        "id": "5iUl783-ng5-",
        "colab_type": "code",
        "outputId": "b1bfc8ea-21d9-45dc-a3fe-4f17c46c7e51",
        "colab": {}
      },
      "source": [
        "get_pivot_column_vs_column_count(data,'HomeTeam','AwayTeam')"
      ],
      "execution_count": 0,
      "outputs": [
        {
          "output_type": "execute_result",
          "data": {
            "text/html": [
              "<div>\n",
              "<style scoped>\n",
              "    .dataframe tbody tr th:only-of-type {\n",
              "        vertical-align: middle;\n",
              "    }\n",
              "\n",
              "    .dataframe tbody tr th {\n",
              "        vertical-align: top;\n",
              "    }\n",
              "\n",
              "    .dataframe thead th {\n",
              "        text-align: right;\n",
              "    }\n",
              "</style>\n",
              "<table border=\"1\" class=\"dataframe\">\n",
              "  <thead>\n",
              "    <tr style=\"text-align: right;\">\n",
              "      <th>AwayTeam</th>\n",
              "      <th>Arsenal</th>\n",
              "      <th>Aston Villa</th>\n",
              "      <th>Birmingham</th>\n",
              "      <th>Blackburn</th>\n",
              "      <th>Blackpool</th>\n",
              "      <th>Bolton</th>\n",
              "      <th>Bournemouth</th>\n",
              "      <th>Brighton</th>\n",
              "      <th>Burnley</th>\n",
              "      <th>Cardiff</th>\n",
              "      <th>Chelsea</th>\n",
              "      <th>Crystal Palace</th>\n",
              "      <th>Everton</th>\n",
              "      <th>Fulham</th>\n",
              "      <th>Huddersfield</th>\n",
              "      <th>Hull</th>\n",
              "      <th>Leicester</th>\n",
              "      <th>Liverpool</th>\n",
              "      <th>Man City</th>\n",
              "      <th>Man United</th>\n",
              "      <th>Middlesbrough</th>\n",
              "      <th>Newcastle</th>\n",
              "      <th>Norwich</th>\n",
              "      <th>Portsmouth</th>\n",
              "      <th>QPR</th>\n",
              "      <th>Reading</th>\n",
              "      <th>Southampton</th>\n",
              "      <th>Stoke</th>\n",
              "      <th>Sunderland</th>\n",
              "      <th>Swansea</th>\n",
              "      <th>Tottenham</th>\n",
              "      <th>Watford</th>\n",
              "      <th>West Brom</th>\n",
              "      <th>West Ham</th>\n",
              "      <th>Wigan</th>\n",
              "      <th>Wolves</th>\n",
              "    </tr>\n",
              "    <tr>\n",
              "      <th>HomeTeam</th>\n",
              "      <th></th>\n",
              "      <th></th>\n",
              "      <th></th>\n",
              "      <th></th>\n",
              "      <th></th>\n",
              "      <th></th>\n",
              "      <th></th>\n",
              "      <th></th>\n",
              "      <th></th>\n",
              "      <th></th>\n",
              "      <th></th>\n",
              "      <th></th>\n",
              "      <th></th>\n",
              "      <th></th>\n",
              "      <th></th>\n",
              "      <th></th>\n",
              "      <th></th>\n",
              "      <th></th>\n",
              "      <th></th>\n",
              "      <th></th>\n",
              "      <th></th>\n",
              "      <th></th>\n",
              "      <th></th>\n",
              "      <th></th>\n",
              "      <th></th>\n",
              "      <th></th>\n",
              "      <th></th>\n",
              "      <th></th>\n",
              "      <th></th>\n",
              "      <th></th>\n",
              "      <th></th>\n",
              "      <th></th>\n",
              "      <th></th>\n",
              "      <th></th>\n",
              "      <th></th>\n",
              "      <th></th>\n",
              "    </tr>\n",
              "  </thead>\n",
              "  <tbody>\n",
              "    <tr>\n",
              "      <th>Arsenal</th>\n",
              "      <td>NaN</td>\n",
              "      <td>8.0</td>\n",
              "      <td>2.0</td>\n",
              "      <td>4.0</td>\n",
              "      <td>1.0</td>\n",
              "      <td>4.0</td>\n",
              "      <td>4.0</td>\n",
              "      <td>2.0</td>\n",
              "      <td>5.0</td>\n",
              "      <td>2.0</td>\n",
              "      <td>11.0</td>\n",
              "      <td>6.0</td>\n",
              "      <td>11.0</td>\n",
              "      <td>7.0</td>\n",
              "      <td>2.0</td>\n",
              "      <td>5.0</td>\n",
              "      <td>5.0</td>\n",
              "      <td>11.0</td>\n",
              "      <td>11.0</td>\n",
              "      <td>11.0</td>\n",
              "      <td>2.0</td>\n",
              "      <td>9.0</td>\n",
              "      <td>4.0</td>\n",
              "      <td>2.0</td>\n",
              "      <td>3.0</td>\n",
              "      <td>1.0</td>\n",
              "      <td>7.0</td>\n",
              "      <td>10.0</td>\n",
              "      <td>9.0</td>\n",
              "      <td>7.0</td>\n",
              "      <td>11.0</td>\n",
              "      <td>4.0</td>\n",
              "      <td>9.0</td>\n",
              "      <td>10.0</td>\n",
              "      <td>5.0</td>\n",
              "      <td>4.0</td>\n",
              "    </tr>\n",
              "    <tr>\n",
              "      <th>Aston Villa</th>\n",
              "      <td>8.0</td>\n",
              "      <td>NaN</td>\n",
              "      <td>2.0</td>\n",
              "      <td>4.0</td>\n",
              "      <td>1.0</td>\n",
              "      <td>4.0</td>\n",
              "      <td>1.0</td>\n",
              "      <td>NaN</td>\n",
              "      <td>2.0</td>\n",
              "      <td>1.0</td>\n",
              "      <td>8.0</td>\n",
              "      <td>3.0</td>\n",
              "      <td>8.0</td>\n",
              "      <td>6.0</td>\n",
              "      <td>NaN</td>\n",
              "      <td>4.0</td>\n",
              "      <td>2.0</td>\n",
              "      <td>8.0</td>\n",
              "      <td>8.0</td>\n",
              "      <td>8.0</td>\n",
              "      <td>1.0</td>\n",
              "      <td>7.0</td>\n",
              "      <td>4.0</td>\n",
              "      <td>2.0</td>\n",
              "      <td>3.0</td>\n",
              "      <td>1.0</td>\n",
              "      <td>4.0</td>\n",
              "      <td>8.0</td>\n",
              "      <td>8.0</td>\n",
              "      <td>5.0</td>\n",
              "      <td>8.0</td>\n",
              "      <td>1.0</td>\n",
              "      <td>7.0</td>\n",
              "      <td>7.0</td>\n",
              "      <td>5.0</td>\n",
              "      <td>3.0</td>\n",
              "    </tr>\n",
              "    <tr>\n",
              "      <th>Birmingham</th>\n",
              "      <td>2.0</td>\n",
              "      <td>2.0</td>\n",
              "      <td>NaN</td>\n",
              "      <td>2.0</td>\n",
              "      <td>1.0</td>\n",
              "      <td>2.0</td>\n",
              "      <td>NaN</td>\n",
              "      <td>NaN</td>\n",
              "      <td>1.0</td>\n",
              "      <td>NaN</td>\n",
              "      <td>2.0</td>\n",
              "      <td>NaN</td>\n",
              "      <td>2.0</td>\n",
              "      <td>2.0</td>\n",
              "      <td>NaN</td>\n",
              "      <td>1.0</td>\n",
              "      <td>NaN</td>\n",
              "      <td>2.0</td>\n",
              "      <td>2.0</td>\n",
              "      <td>2.0</td>\n",
              "      <td>NaN</td>\n",
              "      <td>1.0</td>\n",
              "      <td>NaN</td>\n",
              "      <td>1.0</td>\n",
              "      <td>NaN</td>\n",
              "      <td>NaN</td>\n",
              "      <td>NaN</td>\n",
              "      <td>2.0</td>\n",
              "      <td>2.0</td>\n",
              "      <td>NaN</td>\n",
              "      <td>2.0</td>\n",
              "      <td>NaN</td>\n",
              "      <td>1.0</td>\n",
              "      <td>2.0</td>\n",
              "      <td>2.0</td>\n",
              "      <td>2.0</td>\n",
              "    </tr>\n",
              "    <tr>\n",
              "      <th>Blackburn</th>\n",
              "      <td>4.0</td>\n",
              "      <td>4.0</td>\n",
              "      <td>2.0</td>\n",
              "      <td>NaN</td>\n",
              "      <td>1.0</td>\n",
              "      <td>4.0</td>\n",
              "      <td>NaN</td>\n",
              "      <td>NaN</td>\n",
              "      <td>1.0</td>\n",
              "      <td>NaN</td>\n",
              "      <td>4.0</td>\n",
              "      <td>NaN</td>\n",
              "      <td>4.0</td>\n",
              "      <td>4.0</td>\n",
              "      <td>NaN</td>\n",
              "      <td>2.0</td>\n",
              "      <td>NaN</td>\n",
              "      <td>4.0</td>\n",
              "      <td>4.0</td>\n",
              "      <td>4.0</td>\n",
              "      <td>1.0</td>\n",
              "      <td>3.0</td>\n",
              "      <td>1.0</td>\n",
              "      <td>2.0</td>\n",
              "      <td>1.0</td>\n",
              "      <td>NaN</td>\n",
              "      <td>NaN</td>\n",
              "      <td>4.0</td>\n",
              "      <td>4.0</td>\n",
              "      <td>1.0</td>\n",
              "      <td>4.0</td>\n",
              "      <td>NaN</td>\n",
              "      <td>3.0</td>\n",
              "      <td>3.0</td>\n",
              "      <td>4.0</td>\n",
              "      <td>3.0</td>\n",
              "    </tr>\n",
              "    <tr>\n",
              "      <th>Blackpool</th>\n",
              "      <td>1.0</td>\n",
              "      <td>1.0</td>\n",
              "      <td>1.0</td>\n",
              "      <td>1.0</td>\n",
              "      <td>NaN</td>\n",
              "      <td>1.0</td>\n",
              "      <td>NaN</td>\n",
              "      <td>NaN</td>\n",
              "      <td>NaN</td>\n",
              "      <td>NaN</td>\n",
              "      <td>1.0</td>\n",
              "      <td>NaN</td>\n",
              "      <td>1.0</td>\n",
              "      <td>1.0</td>\n",
              "      <td>NaN</td>\n",
              "      <td>NaN</td>\n",
              "      <td>NaN</td>\n",
              "      <td>1.0</td>\n",
              "      <td>1.0</td>\n",
              "      <td>1.0</td>\n",
              "      <td>NaN</td>\n",
              "      <td>1.0</td>\n",
              "      <td>NaN</td>\n",
              "      <td>NaN</td>\n",
              "      <td>NaN</td>\n",
              "      <td>NaN</td>\n",
              "      <td>NaN</td>\n",
              "      <td>1.0</td>\n",
              "      <td>1.0</td>\n",
              "      <td>NaN</td>\n",
              "      <td>1.0</td>\n",
              "      <td>NaN</td>\n",
              "      <td>1.0</td>\n",
              "      <td>1.0</td>\n",
              "      <td>1.0</td>\n",
              "      <td>1.0</td>\n",
              "    </tr>\n",
              "    <tr>\n",
              "      <th>Bolton</th>\n",
              "      <td>4.0</td>\n",
              "      <td>4.0</td>\n",
              "      <td>2.0</td>\n",
              "      <td>4.0</td>\n",
              "      <td>1.0</td>\n",
              "      <td>NaN</td>\n",
              "      <td>NaN</td>\n",
              "      <td>NaN</td>\n",
              "      <td>1.0</td>\n",
              "      <td>NaN</td>\n",
              "      <td>4.0</td>\n",
              "      <td>NaN</td>\n",
              "      <td>4.0</td>\n",
              "      <td>4.0</td>\n",
              "      <td>NaN</td>\n",
              "      <td>2.0</td>\n",
              "      <td>NaN</td>\n",
              "      <td>4.0</td>\n",
              "      <td>4.0</td>\n",
              "      <td>4.0</td>\n",
              "      <td>1.0</td>\n",
              "      <td>3.0</td>\n",
              "      <td>1.0</td>\n",
              "      <td>2.0</td>\n",
              "      <td>1.0</td>\n",
              "      <td>NaN</td>\n",
              "      <td>NaN</td>\n",
              "      <td>4.0</td>\n",
              "      <td>4.0</td>\n",
              "      <td>1.0</td>\n",
              "      <td>4.0</td>\n",
              "      <td>NaN</td>\n",
              "      <td>3.0</td>\n",
              "      <td>3.0</td>\n",
              "      <td>4.0</td>\n",
              "      <td>3.0</td>\n",
              "    </tr>\n",
              "    <tr>\n",
              "      <th>Bournemouth</th>\n",
              "      <td>4.0</td>\n",
              "      <td>1.0</td>\n",
              "      <td>NaN</td>\n",
              "      <td>NaN</td>\n",
              "      <td>NaN</td>\n",
              "      <td>NaN</td>\n",
              "      <td>NaN</td>\n",
              "      <td>2.0</td>\n",
              "      <td>3.0</td>\n",
              "      <td>1.0</td>\n",
              "      <td>4.0</td>\n",
              "      <td>4.0</td>\n",
              "      <td>4.0</td>\n",
              "      <td>1.0</td>\n",
              "      <td>2.0</td>\n",
              "      <td>1.0</td>\n",
              "      <td>4.0</td>\n",
              "      <td>4.0</td>\n",
              "      <td>4.0</td>\n",
              "      <td>4.0</td>\n",
              "      <td>1.0</td>\n",
              "      <td>3.0</td>\n",
              "      <td>1.0</td>\n",
              "      <td>NaN</td>\n",
              "      <td>NaN</td>\n",
              "      <td>NaN</td>\n",
              "      <td>4.0</td>\n",
              "      <td>3.0</td>\n",
              "      <td>2.0</td>\n",
              "      <td>3.0</td>\n",
              "      <td>4.0</td>\n",
              "      <td>4.0</td>\n",
              "      <td>3.0</td>\n",
              "      <td>4.0</td>\n",
              "      <td>NaN</td>\n",
              "      <td>1.0</td>\n",
              "    </tr>\n",
              "    <tr>\n",
              "      <th>Brighton</th>\n",
              "      <td>2.0</td>\n",
              "      <td>NaN</td>\n",
              "      <td>NaN</td>\n",
              "      <td>NaN</td>\n",
              "      <td>NaN</td>\n",
              "      <td>NaN</td>\n",
              "      <td>2.0</td>\n",
              "      <td>NaN</td>\n",
              "      <td>2.0</td>\n",
              "      <td>1.0</td>\n",
              "      <td>2.0</td>\n",
              "      <td>2.0</td>\n",
              "      <td>2.0</td>\n",
              "      <td>1.0</td>\n",
              "      <td>2.0</td>\n",
              "      <td>NaN</td>\n",
              "      <td>2.0</td>\n",
              "      <td>2.0</td>\n",
              "      <td>2.0</td>\n",
              "      <td>2.0</td>\n",
              "      <td>NaN</td>\n",
              "      <td>2.0</td>\n",
              "      <td>NaN</td>\n",
              "      <td>NaN</td>\n",
              "      <td>NaN</td>\n",
              "      <td>NaN</td>\n",
              "      <td>2.0</td>\n",
              "      <td>1.0</td>\n",
              "      <td>NaN</td>\n",
              "      <td>1.0</td>\n",
              "      <td>2.0</td>\n",
              "      <td>2.0</td>\n",
              "      <td>1.0</td>\n",
              "      <td>2.0</td>\n",
              "      <td>NaN</td>\n",
              "      <td>1.0</td>\n",
              "    </tr>\n",
              "    <tr>\n",
              "      <th>Burnley</th>\n",
              "      <td>5.0</td>\n",
              "      <td>2.0</td>\n",
              "      <td>1.0</td>\n",
              "      <td>1.0</td>\n",
              "      <td>NaN</td>\n",
              "      <td>1.0</td>\n",
              "      <td>3.0</td>\n",
              "      <td>2.0</td>\n",
              "      <td>NaN</td>\n",
              "      <td>1.0</td>\n",
              "      <td>5.0</td>\n",
              "      <td>4.0</td>\n",
              "      <td>5.0</td>\n",
              "      <td>2.0</td>\n",
              "      <td>2.0</td>\n",
              "      <td>3.0</td>\n",
              "      <td>4.0</td>\n",
              "      <td>5.0</td>\n",
              "      <td>5.0</td>\n",
              "      <td>5.0</td>\n",
              "      <td>1.0</td>\n",
              "      <td>3.0</td>\n",
              "      <td>NaN</td>\n",
              "      <td>1.0</td>\n",
              "      <td>1.0</td>\n",
              "      <td>NaN</td>\n",
              "      <td>4.0</td>\n",
              "      <td>4.0</td>\n",
              "      <td>3.0</td>\n",
              "      <td>3.0</td>\n",
              "      <td>5.0</td>\n",
              "      <td>3.0</td>\n",
              "      <td>3.0</td>\n",
              "      <td>5.0</td>\n",
              "      <td>1.0</td>\n",
              "      <td>2.0</td>\n",
              "    </tr>\n",
              "    <tr>\n",
              "      <th>Cardiff</th>\n",
              "      <td>2.0</td>\n",
              "      <td>1.0</td>\n",
              "      <td>NaN</td>\n",
              "      <td>NaN</td>\n",
              "      <td>NaN</td>\n",
              "      <td>NaN</td>\n",
              "      <td>1.0</td>\n",
              "      <td>1.0</td>\n",
              "      <td>1.0</td>\n",
              "      <td>NaN</td>\n",
              "      <td>2.0</td>\n",
              "      <td>2.0</td>\n",
              "      <td>2.0</td>\n",
              "      <td>2.0</td>\n",
              "      <td>1.0</td>\n",
              "      <td>1.0</td>\n",
              "      <td>1.0</td>\n",
              "      <td>2.0</td>\n",
              "      <td>2.0</td>\n",
              "      <td>2.0</td>\n",
              "      <td>NaN</td>\n",
              "      <td>2.0</td>\n",
              "      <td>1.0</td>\n",
              "      <td>NaN</td>\n",
              "      <td>NaN</td>\n",
              "      <td>NaN</td>\n",
              "      <td>2.0</td>\n",
              "      <td>1.0</td>\n",
              "      <td>1.0</td>\n",
              "      <td>1.0</td>\n",
              "      <td>2.0</td>\n",
              "      <td>1.0</td>\n",
              "      <td>1.0</td>\n",
              "      <td>2.0</td>\n",
              "      <td>NaN</td>\n",
              "      <td>1.0</td>\n",
              "    </tr>\n",
              "    <tr>\n",
              "      <th>Chelsea</th>\n",
              "      <td>11.0</td>\n",
              "      <td>8.0</td>\n",
              "      <td>2.0</td>\n",
              "      <td>4.0</td>\n",
              "      <td>1.0</td>\n",
              "      <td>4.0</td>\n",
              "      <td>4.0</td>\n",
              "      <td>2.0</td>\n",
              "      <td>5.0</td>\n",
              "      <td>2.0</td>\n",
              "      <td>NaN</td>\n",
              "      <td>6.0</td>\n",
              "      <td>11.0</td>\n",
              "      <td>7.0</td>\n",
              "      <td>2.0</td>\n",
              "      <td>5.0</td>\n",
              "      <td>5.0</td>\n",
              "      <td>11.0</td>\n",
              "      <td>11.0</td>\n",
              "      <td>11.0</td>\n",
              "      <td>2.0</td>\n",
              "      <td>9.0</td>\n",
              "      <td>4.0</td>\n",
              "      <td>2.0</td>\n",
              "      <td>3.0</td>\n",
              "      <td>1.0</td>\n",
              "      <td>7.0</td>\n",
              "      <td>10.0</td>\n",
              "      <td>9.0</td>\n",
              "      <td>7.0</td>\n",
              "      <td>11.0</td>\n",
              "      <td>4.0</td>\n",
              "      <td>9.0</td>\n",
              "      <td>10.0</td>\n",
              "      <td>5.0</td>\n",
              "      <td>4.0</td>\n",
              "    </tr>\n",
              "    <tr>\n",
              "      <th>Crystal Palace</th>\n",
              "      <td>6.0</td>\n",
              "      <td>3.0</td>\n",
              "      <td>NaN</td>\n",
              "      <td>NaN</td>\n",
              "      <td>NaN</td>\n",
              "      <td>NaN</td>\n",
              "      <td>4.0</td>\n",
              "      <td>2.0</td>\n",
              "      <td>4.0</td>\n",
              "      <td>2.0</td>\n",
              "      <td>6.0</td>\n",
              "      <td>NaN</td>\n",
              "      <td>6.0</td>\n",
              "      <td>2.0</td>\n",
              "      <td>2.0</td>\n",
              "      <td>3.0</td>\n",
              "      <td>5.0</td>\n",
              "      <td>6.0</td>\n",
              "      <td>6.0</td>\n",
              "      <td>6.0</td>\n",
              "      <td>1.0</td>\n",
              "      <td>5.0</td>\n",
              "      <td>2.0</td>\n",
              "      <td>NaN</td>\n",
              "      <td>1.0</td>\n",
              "      <td>NaN</td>\n",
              "      <td>6.0</td>\n",
              "      <td>5.0</td>\n",
              "      <td>4.0</td>\n",
              "      <td>5.0</td>\n",
              "      <td>6.0</td>\n",
              "      <td>4.0</td>\n",
              "      <td>5.0</td>\n",
              "      <td>6.0</td>\n",
              "      <td>NaN</td>\n",
              "      <td>1.0</td>\n",
              "    </tr>\n",
              "    <tr>\n",
              "      <th>Everton</th>\n",
              "      <td>11.0</td>\n",
              "      <td>8.0</td>\n",
              "      <td>2.0</td>\n",
              "      <td>4.0</td>\n",
              "      <td>1.0</td>\n",
              "      <td>4.0</td>\n",
              "      <td>4.0</td>\n",
              "      <td>2.0</td>\n",
              "      <td>5.0</td>\n",
              "      <td>2.0</td>\n",
              "      <td>11.0</td>\n",
              "      <td>6.0</td>\n",
              "      <td>NaN</td>\n",
              "      <td>7.0</td>\n",
              "      <td>2.0</td>\n",
              "      <td>5.0</td>\n",
              "      <td>5.0</td>\n",
              "      <td>11.0</td>\n",
              "      <td>11.0</td>\n",
              "      <td>11.0</td>\n",
              "      <td>2.0</td>\n",
              "      <td>9.0</td>\n",
              "      <td>4.0</td>\n",
              "      <td>2.0</td>\n",
              "      <td>3.0</td>\n",
              "      <td>1.0</td>\n",
              "      <td>7.0</td>\n",
              "      <td>10.0</td>\n",
              "      <td>9.0</td>\n",
              "      <td>7.0</td>\n",
              "      <td>11.0</td>\n",
              "      <td>4.0</td>\n",
              "      <td>9.0</td>\n",
              "      <td>10.0</td>\n",
              "      <td>5.0</td>\n",
              "      <td>4.0</td>\n",
              "    </tr>\n",
              "    <tr>\n",
              "      <th>Fulham</th>\n",
              "      <td>7.0</td>\n",
              "      <td>6.0</td>\n",
              "      <td>2.0</td>\n",
              "      <td>4.0</td>\n",
              "      <td>1.0</td>\n",
              "      <td>4.0</td>\n",
              "      <td>1.0</td>\n",
              "      <td>1.0</td>\n",
              "      <td>2.0</td>\n",
              "      <td>2.0</td>\n",
              "      <td>7.0</td>\n",
              "      <td>2.0</td>\n",
              "      <td>7.0</td>\n",
              "      <td>NaN</td>\n",
              "      <td>1.0</td>\n",
              "      <td>3.0</td>\n",
              "      <td>1.0</td>\n",
              "      <td>7.0</td>\n",
              "      <td>7.0</td>\n",
              "      <td>7.0</td>\n",
              "      <td>1.0</td>\n",
              "      <td>6.0</td>\n",
              "      <td>3.0</td>\n",
              "      <td>2.0</td>\n",
              "      <td>2.0</td>\n",
              "      <td>1.0</td>\n",
              "      <td>3.0</td>\n",
              "      <td>6.0</td>\n",
              "      <td>6.0</td>\n",
              "      <td>3.0</td>\n",
              "      <td>7.0</td>\n",
              "      <td>1.0</td>\n",
              "      <td>5.0</td>\n",
              "      <td>6.0</td>\n",
              "      <td>5.0</td>\n",
              "      <td>4.0</td>\n",
              "    </tr>\n",
              "    <tr>\n",
              "      <th>Huddersfield</th>\n",
              "      <td>2.0</td>\n",
              "      <td>NaN</td>\n",
              "      <td>NaN</td>\n",
              "      <td>NaN</td>\n",
              "      <td>NaN</td>\n",
              "      <td>NaN</td>\n",
              "      <td>2.0</td>\n",
              "      <td>2.0</td>\n",
              "      <td>2.0</td>\n",
              "      <td>1.0</td>\n",
              "      <td>2.0</td>\n",
              "      <td>2.0</td>\n",
              "      <td>2.0</td>\n",
              "      <td>1.0</td>\n",
              "      <td>NaN</td>\n",
              "      <td>NaN</td>\n",
              "      <td>2.0</td>\n",
              "      <td>2.0</td>\n",
              "      <td>2.0</td>\n",
              "      <td>2.0</td>\n",
              "      <td>NaN</td>\n",
              "      <td>2.0</td>\n",
              "      <td>NaN</td>\n",
              "      <td>NaN</td>\n",
              "      <td>NaN</td>\n",
              "      <td>NaN</td>\n",
              "      <td>2.0</td>\n",
              "      <td>1.0</td>\n",
              "      <td>NaN</td>\n",
              "      <td>1.0</td>\n",
              "      <td>2.0</td>\n",
              "      <td>2.0</td>\n",
              "      <td>1.0</td>\n",
              "      <td>2.0</td>\n",
              "      <td>NaN</td>\n",
              "      <td>1.0</td>\n",
              "    </tr>\n",
              "    <tr>\n",
              "      <th>Hull</th>\n",
              "      <td>5.0</td>\n",
              "      <td>4.0</td>\n",
              "      <td>1.0</td>\n",
              "      <td>2.0</td>\n",
              "      <td>NaN</td>\n",
              "      <td>2.0</td>\n",
              "      <td>1.0</td>\n",
              "      <td>NaN</td>\n",
              "      <td>3.0</td>\n",
              "      <td>1.0</td>\n",
              "      <td>5.0</td>\n",
              "      <td>3.0</td>\n",
              "      <td>5.0</td>\n",
              "      <td>3.0</td>\n",
              "      <td>NaN</td>\n",
              "      <td>NaN</td>\n",
              "      <td>2.0</td>\n",
              "      <td>5.0</td>\n",
              "      <td>5.0</td>\n",
              "      <td>5.0</td>\n",
              "      <td>2.0</td>\n",
              "      <td>3.0</td>\n",
              "      <td>1.0</td>\n",
              "      <td>2.0</td>\n",
              "      <td>1.0</td>\n",
              "      <td>NaN</td>\n",
              "      <td>3.0</td>\n",
              "      <td>5.0</td>\n",
              "      <td>5.0</td>\n",
              "      <td>3.0</td>\n",
              "      <td>5.0</td>\n",
              "      <td>1.0</td>\n",
              "      <td>4.0</td>\n",
              "      <td>5.0</td>\n",
              "      <td>2.0</td>\n",
              "      <td>1.0</td>\n",
              "    </tr>\n",
              "    <tr>\n",
              "      <th>Leicester</th>\n",
              "      <td>5.0</td>\n",
              "      <td>2.0</td>\n",
              "      <td>NaN</td>\n",
              "      <td>NaN</td>\n",
              "      <td>NaN</td>\n",
              "      <td>NaN</td>\n",
              "      <td>4.0</td>\n",
              "      <td>2.0</td>\n",
              "      <td>4.0</td>\n",
              "      <td>1.0</td>\n",
              "      <td>5.0</td>\n",
              "      <td>5.0</td>\n",
              "      <td>5.0</td>\n",
              "      <td>1.0</td>\n",
              "      <td>2.0</td>\n",
              "      <td>2.0</td>\n",
              "      <td>NaN</td>\n",
              "      <td>5.0</td>\n",
              "      <td>5.0</td>\n",
              "      <td>5.0</td>\n",
              "      <td>1.0</td>\n",
              "      <td>4.0</td>\n",
              "      <td>1.0</td>\n",
              "      <td>NaN</td>\n",
              "      <td>1.0</td>\n",
              "      <td>NaN</td>\n",
              "      <td>5.0</td>\n",
              "      <td>4.0</td>\n",
              "      <td>3.0</td>\n",
              "      <td>4.0</td>\n",
              "      <td>5.0</td>\n",
              "      <td>4.0</td>\n",
              "      <td>4.0</td>\n",
              "      <td>5.0</td>\n",
              "      <td>NaN</td>\n",
              "      <td>1.0</td>\n",
              "    </tr>\n",
              "    <tr>\n",
              "      <th>Liverpool</th>\n",
              "      <td>11.0</td>\n",
              "      <td>8.0</td>\n",
              "      <td>2.0</td>\n",
              "      <td>4.0</td>\n",
              "      <td>1.0</td>\n",
              "      <td>4.0</td>\n",
              "      <td>4.0</td>\n",
              "      <td>2.0</td>\n",
              "      <td>5.0</td>\n",
              "      <td>2.0</td>\n",
              "      <td>11.0</td>\n",
              "      <td>6.0</td>\n",
              "      <td>11.0</td>\n",
              "      <td>7.0</td>\n",
              "      <td>2.0</td>\n",
              "      <td>5.0</td>\n",
              "      <td>5.0</td>\n",
              "      <td>NaN</td>\n",
              "      <td>11.0</td>\n",
              "      <td>11.0</td>\n",
              "      <td>2.0</td>\n",
              "      <td>9.0</td>\n",
              "      <td>4.0</td>\n",
              "      <td>2.0</td>\n",
              "      <td>3.0</td>\n",
              "      <td>1.0</td>\n",
              "      <td>7.0</td>\n",
              "      <td>10.0</td>\n",
              "      <td>9.0</td>\n",
              "      <td>7.0</td>\n",
              "      <td>11.0</td>\n",
              "      <td>4.0</td>\n",
              "      <td>9.0</td>\n",
              "      <td>10.0</td>\n",
              "      <td>5.0</td>\n",
              "      <td>4.0</td>\n",
              "    </tr>\n",
              "    <tr>\n",
              "      <th>Man City</th>\n",
              "      <td>11.0</td>\n",
              "      <td>8.0</td>\n",
              "      <td>2.0</td>\n",
              "      <td>4.0</td>\n",
              "      <td>1.0</td>\n",
              "      <td>4.0</td>\n",
              "      <td>4.0</td>\n",
              "      <td>2.0</td>\n",
              "      <td>5.0</td>\n",
              "      <td>2.0</td>\n",
              "      <td>11.0</td>\n",
              "      <td>6.0</td>\n",
              "      <td>11.0</td>\n",
              "      <td>7.0</td>\n",
              "      <td>2.0</td>\n",
              "      <td>5.0</td>\n",
              "      <td>5.0</td>\n",
              "      <td>11.0</td>\n",
              "      <td>NaN</td>\n",
              "      <td>11.0</td>\n",
              "      <td>2.0</td>\n",
              "      <td>9.0</td>\n",
              "      <td>4.0</td>\n",
              "      <td>2.0</td>\n",
              "      <td>3.0</td>\n",
              "      <td>1.0</td>\n",
              "      <td>7.0</td>\n",
              "      <td>10.0</td>\n",
              "      <td>9.0</td>\n",
              "      <td>7.0</td>\n",
              "      <td>11.0</td>\n",
              "      <td>4.0</td>\n",
              "      <td>9.0</td>\n",
              "      <td>10.0</td>\n",
              "      <td>5.0</td>\n",
              "      <td>4.0</td>\n",
              "    </tr>\n",
              "    <tr>\n",
              "      <th>Man United</th>\n",
              "      <td>11.0</td>\n",
              "      <td>8.0</td>\n",
              "      <td>2.0</td>\n",
              "      <td>4.0</td>\n",
              "      <td>1.0</td>\n",
              "      <td>4.0</td>\n",
              "      <td>4.0</td>\n",
              "      <td>2.0</td>\n",
              "      <td>5.0</td>\n",
              "      <td>2.0</td>\n",
              "      <td>11.0</td>\n",
              "      <td>6.0</td>\n",
              "      <td>11.0</td>\n",
              "      <td>7.0</td>\n",
              "      <td>2.0</td>\n",
              "      <td>5.0</td>\n",
              "      <td>5.0</td>\n",
              "      <td>11.0</td>\n",
              "      <td>11.0</td>\n",
              "      <td>NaN</td>\n",
              "      <td>2.0</td>\n",
              "      <td>9.0</td>\n",
              "      <td>4.0</td>\n",
              "      <td>2.0</td>\n",
              "      <td>3.0</td>\n",
              "      <td>1.0</td>\n",
              "      <td>7.0</td>\n",
              "      <td>10.0</td>\n",
              "      <td>9.0</td>\n",
              "      <td>7.0</td>\n",
              "      <td>11.0</td>\n",
              "      <td>4.0</td>\n",
              "      <td>9.0</td>\n",
              "      <td>10.0</td>\n",
              "      <td>5.0</td>\n",
              "      <td>4.0</td>\n",
              "    </tr>\n",
              "    <tr>\n",
              "      <th>Middlesbrough</th>\n",
              "      <td>2.0</td>\n",
              "      <td>1.0</td>\n",
              "      <td>NaN</td>\n",
              "      <td>1.0</td>\n",
              "      <td>NaN</td>\n",
              "      <td>1.0</td>\n",
              "      <td>1.0</td>\n",
              "      <td>NaN</td>\n",
              "      <td>1.0</td>\n",
              "      <td>NaN</td>\n",
              "      <td>2.0</td>\n",
              "      <td>1.0</td>\n",
              "      <td>2.0</td>\n",
              "      <td>1.0</td>\n",
              "      <td>NaN</td>\n",
              "      <td>2.0</td>\n",
              "      <td>1.0</td>\n",
              "      <td>2.0</td>\n",
              "      <td>2.0</td>\n",
              "      <td>2.0</td>\n",
              "      <td>NaN</td>\n",
              "      <td>1.0</td>\n",
              "      <td>NaN</td>\n",
              "      <td>1.0</td>\n",
              "      <td>NaN</td>\n",
              "      <td>NaN</td>\n",
              "      <td>1.0</td>\n",
              "      <td>2.0</td>\n",
              "      <td>2.0</td>\n",
              "      <td>1.0</td>\n",
              "      <td>2.0</td>\n",
              "      <td>1.0</td>\n",
              "      <td>2.0</td>\n",
              "      <td>2.0</td>\n",
              "      <td>1.0</td>\n",
              "      <td>NaN</td>\n",
              "    </tr>\n",
              "    <tr>\n",
              "      <th>Newcastle</th>\n",
              "      <td>9.0</td>\n",
              "      <td>7.0</td>\n",
              "      <td>1.0</td>\n",
              "      <td>3.0</td>\n",
              "      <td>1.0</td>\n",
              "      <td>3.0</td>\n",
              "      <td>3.0</td>\n",
              "      <td>2.0</td>\n",
              "      <td>3.0</td>\n",
              "      <td>2.0</td>\n",
              "      <td>9.0</td>\n",
              "      <td>5.0</td>\n",
              "      <td>9.0</td>\n",
              "      <td>6.0</td>\n",
              "      <td>2.0</td>\n",
              "      <td>3.0</td>\n",
              "      <td>4.0</td>\n",
              "      <td>9.0</td>\n",
              "      <td>9.0</td>\n",
              "      <td>9.0</td>\n",
              "      <td>1.0</td>\n",
              "      <td>NaN</td>\n",
              "      <td>4.0</td>\n",
              "      <td>1.0</td>\n",
              "      <td>3.0</td>\n",
              "      <td>1.0</td>\n",
              "      <td>6.0</td>\n",
              "      <td>8.0</td>\n",
              "      <td>7.0</td>\n",
              "      <td>6.0</td>\n",
              "      <td>9.0</td>\n",
              "      <td>3.0</td>\n",
              "      <td>8.0</td>\n",
              "      <td>8.0</td>\n",
              "      <td>4.0</td>\n",
              "      <td>3.0</td>\n",
              "    </tr>\n",
              "    <tr>\n",
              "      <th>Norwich</th>\n",
              "      <td>4.0</td>\n",
              "      <td>4.0</td>\n",
              "      <td>NaN</td>\n",
              "      <td>1.0</td>\n",
              "      <td>NaN</td>\n",
              "      <td>1.0</td>\n",
              "      <td>1.0</td>\n",
              "      <td>NaN</td>\n",
              "      <td>NaN</td>\n",
              "      <td>1.0</td>\n",
              "      <td>4.0</td>\n",
              "      <td>2.0</td>\n",
              "      <td>4.0</td>\n",
              "      <td>3.0</td>\n",
              "      <td>NaN</td>\n",
              "      <td>1.0</td>\n",
              "      <td>1.0</td>\n",
              "      <td>4.0</td>\n",
              "      <td>4.0</td>\n",
              "      <td>4.0</td>\n",
              "      <td>NaN</td>\n",
              "      <td>4.0</td>\n",
              "      <td>NaN</td>\n",
              "      <td>NaN</td>\n",
              "      <td>2.0</td>\n",
              "      <td>1.0</td>\n",
              "      <td>3.0</td>\n",
              "      <td>4.0</td>\n",
              "      <td>4.0</td>\n",
              "      <td>4.0</td>\n",
              "      <td>4.0</td>\n",
              "      <td>1.0</td>\n",
              "      <td>4.0</td>\n",
              "      <td>3.0</td>\n",
              "      <td>2.0</td>\n",
              "      <td>1.0</td>\n",
              "    </tr>\n",
              "    <tr>\n",
              "      <th>Portsmouth</th>\n",
              "      <td>2.0</td>\n",
              "      <td>2.0</td>\n",
              "      <td>1.0</td>\n",
              "      <td>2.0</td>\n",
              "      <td>NaN</td>\n",
              "      <td>2.0</td>\n",
              "      <td>NaN</td>\n",
              "      <td>NaN</td>\n",
              "      <td>1.0</td>\n",
              "      <td>NaN</td>\n",
              "      <td>2.0</td>\n",
              "      <td>NaN</td>\n",
              "      <td>2.0</td>\n",
              "      <td>2.0</td>\n",
              "      <td>NaN</td>\n",
              "      <td>2.0</td>\n",
              "      <td>NaN</td>\n",
              "      <td>2.0</td>\n",
              "      <td>2.0</td>\n",
              "      <td>2.0</td>\n",
              "      <td>1.0</td>\n",
              "      <td>1.0</td>\n",
              "      <td>NaN</td>\n",
              "      <td>NaN</td>\n",
              "      <td>NaN</td>\n",
              "      <td>NaN</td>\n",
              "      <td>NaN</td>\n",
              "      <td>2.0</td>\n",
              "      <td>2.0</td>\n",
              "      <td>NaN</td>\n",
              "      <td>2.0</td>\n",
              "      <td>NaN</td>\n",
              "      <td>1.0</td>\n",
              "      <td>2.0</td>\n",
              "      <td>2.0</td>\n",
              "      <td>1.0</td>\n",
              "    </tr>\n",
              "    <tr>\n",
              "      <th>QPR</th>\n",
              "      <td>3.0</td>\n",
              "      <td>3.0</td>\n",
              "      <td>NaN</td>\n",
              "      <td>1.0</td>\n",
              "      <td>NaN</td>\n",
              "      <td>1.0</td>\n",
              "      <td>NaN</td>\n",
              "      <td>NaN</td>\n",
              "      <td>1.0</td>\n",
              "      <td>NaN</td>\n",
              "      <td>3.0</td>\n",
              "      <td>1.0</td>\n",
              "      <td>3.0</td>\n",
              "      <td>2.0</td>\n",
              "      <td>NaN</td>\n",
              "      <td>1.0</td>\n",
              "      <td>1.0</td>\n",
              "      <td>3.0</td>\n",
              "      <td>3.0</td>\n",
              "      <td>3.0</td>\n",
              "      <td>NaN</td>\n",
              "      <td>3.0</td>\n",
              "      <td>2.0</td>\n",
              "      <td>NaN</td>\n",
              "      <td>NaN</td>\n",
              "      <td>1.0</td>\n",
              "      <td>2.0</td>\n",
              "      <td>3.0</td>\n",
              "      <td>3.0</td>\n",
              "      <td>3.0</td>\n",
              "      <td>3.0</td>\n",
              "      <td>NaN</td>\n",
              "      <td>3.0</td>\n",
              "      <td>2.0</td>\n",
              "      <td>2.0</td>\n",
              "      <td>1.0</td>\n",
              "    </tr>\n",
              "    <tr>\n",
              "      <th>Reading</th>\n",
              "      <td>1.0</td>\n",
              "      <td>1.0</td>\n",
              "      <td>NaN</td>\n",
              "      <td>NaN</td>\n",
              "      <td>NaN</td>\n",
              "      <td>NaN</td>\n",
              "      <td>NaN</td>\n",
              "      <td>NaN</td>\n",
              "      <td>NaN</td>\n",
              "      <td>NaN</td>\n",
              "      <td>1.0</td>\n",
              "      <td>NaN</td>\n",
              "      <td>1.0</td>\n",
              "      <td>1.0</td>\n",
              "      <td>NaN</td>\n",
              "      <td>NaN</td>\n",
              "      <td>NaN</td>\n",
              "      <td>1.0</td>\n",
              "      <td>1.0</td>\n",
              "      <td>1.0</td>\n",
              "      <td>NaN</td>\n",
              "      <td>1.0</td>\n",
              "      <td>1.0</td>\n",
              "      <td>NaN</td>\n",
              "      <td>1.0</td>\n",
              "      <td>NaN</td>\n",
              "      <td>1.0</td>\n",
              "      <td>1.0</td>\n",
              "      <td>1.0</td>\n",
              "      <td>1.0</td>\n",
              "      <td>1.0</td>\n",
              "      <td>NaN</td>\n",
              "      <td>1.0</td>\n",
              "      <td>1.0</td>\n",
              "      <td>1.0</td>\n",
              "      <td>NaN</td>\n",
              "    </tr>\n",
              "    <tr>\n",
              "      <th>Southampton</th>\n",
              "      <td>7.0</td>\n",
              "      <td>4.0</td>\n",
              "      <td>NaN</td>\n",
              "      <td>NaN</td>\n",
              "      <td>NaN</td>\n",
              "      <td>NaN</td>\n",
              "      <td>4.0</td>\n",
              "      <td>2.0</td>\n",
              "      <td>4.0</td>\n",
              "      <td>2.0</td>\n",
              "      <td>7.0</td>\n",
              "      <td>6.0</td>\n",
              "      <td>7.0</td>\n",
              "      <td>3.0</td>\n",
              "      <td>2.0</td>\n",
              "      <td>3.0</td>\n",
              "      <td>5.0</td>\n",
              "      <td>7.0</td>\n",
              "      <td>7.0</td>\n",
              "      <td>7.0</td>\n",
              "      <td>1.0</td>\n",
              "      <td>6.0</td>\n",
              "      <td>3.0</td>\n",
              "      <td>NaN</td>\n",
              "      <td>2.0</td>\n",
              "      <td>1.0</td>\n",
              "      <td>NaN</td>\n",
              "      <td>6.0</td>\n",
              "      <td>5.0</td>\n",
              "      <td>6.0</td>\n",
              "      <td>7.0</td>\n",
              "      <td>4.0</td>\n",
              "      <td>6.0</td>\n",
              "      <td>7.0</td>\n",
              "      <td>1.0</td>\n",
              "      <td>1.0</td>\n",
              "    </tr>\n",
              "    <tr>\n",
              "      <th>Stoke</th>\n",
              "      <td>10.0</td>\n",
              "      <td>8.0</td>\n",
              "      <td>2.0</td>\n",
              "      <td>4.0</td>\n",
              "      <td>1.0</td>\n",
              "      <td>4.0</td>\n",
              "      <td>3.0</td>\n",
              "      <td>1.0</td>\n",
              "      <td>4.0</td>\n",
              "      <td>1.0</td>\n",
              "      <td>10.0</td>\n",
              "      <td>5.0</td>\n",
              "      <td>10.0</td>\n",
              "      <td>6.0</td>\n",
              "      <td>1.0</td>\n",
              "      <td>5.0</td>\n",
              "      <td>4.0</td>\n",
              "      <td>10.0</td>\n",
              "      <td>10.0</td>\n",
              "      <td>10.0</td>\n",
              "      <td>2.0</td>\n",
              "      <td>8.0</td>\n",
              "      <td>4.0</td>\n",
              "      <td>2.0</td>\n",
              "      <td>3.0</td>\n",
              "      <td>1.0</td>\n",
              "      <td>6.0</td>\n",
              "      <td>NaN</td>\n",
              "      <td>9.0</td>\n",
              "      <td>7.0</td>\n",
              "      <td>10.0</td>\n",
              "      <td>3.0</td>\n",
              "      <td>9.0</td>\n",
              "      <td>9.0</td>\n",
              "      <td>5.0</td>\n",
              "      <td>3.0</td>\n",
              "    </tr>\n",
              "    <tr>\n",
              "      <th>Sunderland</th>\n",
              "      <td>9.0</td>\n",
              "      <td>8.0</td>\n",
              "      <td>2.0</td>\n",
              "      <td>4.0</td>\n",
              "      <td>1.0</td>\n",
              "      <td>4.0</td>\n",
              "      <td>2.0</td>\n",
              "      <td>NaN</td>\n",
              "      <td>3.0</td>\n",
              "      <td>1.0</td>\n",
              "      <td>9.0</td>\n",
              "      <td>4.0</td>\n",
              "      <td>9.0</td>\n",
              "      <td>6.0</td>\n",
              "      <td>NaN</td>\n",
              "      <td>5.0</td>\n",
              "      <td>3.0</td>\n",
              "      <td>9.0</td>\n",
              "      <td>9.0</td>\n",
              "      <td>9.0</td>\n",
              "      <td>2.0</td>\n",
              "      <td>7.0</td>\n",
              "      <td>4.0</td>\n",
              "      <td>2.0</td>\n",
              "      <td>3.0</td>\n",
              "      <td>1.0</td>\n",
              "      <td>5.0</td>\n",
              "      <td>9.0</td>\n",
              "      <td>NaN</td>\n",
              "      <td>6.0</td>\n",
              "      <td>9.0</td>\n",
              "      <td>2.0</td>\n",
              "      <td>8.0</td>\n",
              "      <td>8.0</td>\n",
              "      <td>5.0</td>\n",
              "      <td>3.0</td>\n",
              "    </tr>\n",
              "    <tr>\n",
              "      <th>Swansea</th>\n",
              "      <td>7.0</td>\n",
              "      <td>5.0</td>\n",
              "      <td>NaN</td>\n",
              "      <td>1.0</td>\n",
              "      <td>NaN</td>\n",
              "      <td>1.0</td>\n",
              "      <td>3.0</td>\n",
              "      <td>1.0</td>\n",
              "      <td>3.0</td>\n",
              "      <td>1.0</td>\n",
              "      <td>7.0</td>\n",
              "      <td>5.0</td>\n",
              "      <td>7.0</td>\n",
              "      <td>3.0</td>\n",
              "      <td>1.0</td>\n",
              "      <td>3.0</td>\n",
              "      <td>4.0</td>\n",
              "      <td>7.0</td>\n",
              "      <td>7.0</td>\n",
              "      <td>7.0</td>\n",
              "      <td>1.0</td>\n",
              "      <td>6.0</td>\n",
              "      <td>4.0</td>\n",
              "      <td>NaN</td>\n",
              "      <td>3.0</td>\n",
              "      <td>1.0</td>\n",
              "      <td>6.0</td>\n",
              "      <td>7.0</td>\n",
              "      <td>6.0</td>\n",
              "      <td>NaN</td>\n",
              "      <td>7.0</td>\n",
              "      <td>3.0</td>\n",
              "      <td>7.0</td>\n",
              "      <td>6.0</td>\n",
              "      <td>2.0</td>\n",
              "      <td>1.0</td>\n",
              "    </tr>\n",
              "    <tr>\n",
              "      <th>Tottenham</th>\n",
              "      <td>11.0</td>\n",
              "      <td>8.0</td>\n",
              "      <td>2.0</td>\n",
              "      <td>4.0</td>\n",
              "      <td>1.0</td>\n",
              "      <td>4.0</td>\n",
              "      <td>4.0</td>\n",
              "      <td>2.0</td>\n",
              "      <td>5.0</td>\n",
              "      <td>2.0</td>\n",
              "      <td>11.0</td>\n",
              "      <td>6.0</td>\n",
              "      <td>11.0</td>\n",
              "      <td>7.0</td>\n",
              "      <td>2.0</td>\n",
              "      <td>5.0</td>\n",
              "      <td>5.0</td>\n",
              "      <td>11.0</td>\n",
              "      <td>11.0</td>\n",
              "      <td>11.0</td>\n",
              "      <td>2.0</td>\n",
              "      <td>9.0</td>\n",
              "      <td>4.0</td>\n",
              "      <td>2.0</td>\n",
              "      <td>3.0</td>\n",
              "      <td>1.0</td>\n",
              "      <td>7.0</td>\n",
              "      <td>10.0</td>\n",
              "      <td>9.0</td>\n",
              "      <td>7.0</td>\n",
              "      <td>NaN</td>\n",
              "      <td>4.0</td>\n",
              "      <td>9.0</td>\n",
              "      <td>10.0</td>\n",
              "      <td>5.0</td>\n",
              "      <td>4.0</td>\n",
              "    </tr>\n",
              "    <tr>\n",
              "      <th>Watford</th>\n",
              "      <td>4.0</td>\n",
              "      <td>1.0</td>\n",
              "      <td>NaN</td>\n",
              "      <td>NaN</td>\n",
              "      <td>NaN</td>\n",
              "      <td>NaN</td>\n",
              "      <td>4.0</td>\n",
              "      <td>2.0</td>\n",
              "      <td>3.0</td>\n",
              "      <td>1.0</td>\n",
              "      <td>4.0</td>\n",
              "      <td>4.0</td>\n",
              "      <td>4.0</td>\n",
              "      <td>1.0</td>\n",
              "      <td>2.0</td>\n",
              "      <td>1.0</td>\n",
              "      <td>4.0</td>\n",
              "      <td>4.0</td>\n",
              "      <td>4.0</td>\n",
              "      <td>4.0</td>\n",
              "      <td>1.0</td>\n",
              "      <td>3.0</td>\n",
              "      <td>1.0</td>\n",
              "      <td>NaN</td>\n",
              "      <td>NaN</td>\n",
              "      <td>NaN</td>\n",
              "      <td>4.0</td>\n",
              "      <td>3.0</td>\n",
              "      <td>2.0</td>\n",
              "      <td>3.0</td>\n",
              "      <td>4.0</td>\n",
              "      <td>NaN</td>\n",
              "      <td>3.0</td>\n",
              "      <td>4.0</td>\n",
              "      <td>NaN</td>\n",
              "      <td>1.0</td>\n",
              "    </tr>\n",
              "    <tr>\n",
              "      <th>West Brom</th>\n",
              "      <td>9.0</td>\n",
              "      <td>7.0</td>\n",
              "      <td>1.0</td>\n",
              "      <td>3.0</td>\n",
              "      <td>1.0</td>\n",
              "      <td>3.0</td>\n",
              "      <td>3.0</td>\n",
              "      <td>1.0</td>\n",
              "      <td>3.0</td>\n",
              "      <td>1.0</td>\n",
              "      <td>9.0</td>\n",
              "      <td>5.0</td>\n",
              "      <td>9.0</td>\n",
              "      <td>5.0</td>\n",
              "      <td>1.0</td>\n",
              "      <td>4.0</td>\n",
              "      <td>4.0</td>\n",
              "      <td>9.0</td>\n",
              "      <td>9.0</td>\n",
              "      <td>9.0</td>\n",
              "      <td>2.0</td>\n",
              "      <td>8.0</td>\n",
              "      <td>4.0</td>\n",
              "      <td>1.0</td>\n",
              "      <td>3.0</td>\n",
              "      <td>1.0</td>\n",
              "      <td>6.0</td>\n",
              "      <td>9.0</td>\n",
              "      <td>8.0</td>\n",
              "      <td>7.0</td>\n",
              "      <td>9.0</td>\n",
              "      <td>3.0</td>\n",
              "      <td>NaN</td>\n",
              "      <td>8.0</td>\n",
              "      <td>4.0</td>\n",
              "      <td>2.0</td>\n",
              "    </tr>\n",
              "    <tr>\n",
              "      <th>West Ham</th>\n",
              "      <td>10.0</td>\n",
              "      <td>7.0</td>\n",
              "      <td>2.0</td>\n",
              "      <td>3.0</td>\n",
              "      <td>1.0</td>\n",
              "      <td>3.0</td>\n",
              "      <td>4.0</td>\n",
              "      <td>2.0</td>\n",
              "      <td>5.0</td>\n",
              "      <td>2.0</td>\n",
              "      <td>10.0</td>\n",
              "      <td>6.0</td>\n",
              "      <td>10.0</td>\n",
              "      <td>6.0</td>\n",
              "      <td>2.0</td>\n",
              "      <td>5.0</td>\n",
              "      <td>5.0</td>\n",
              "      <td>10.0</td>\n",
              "      <td>10.0</td>\n",
              "      <td>10.0</td>\n",
              "      <td>2.0</td>\n",
              "      <td>8.0</td>\n",
              "      <td>3.0</td>\n",
              "      <td>2.0</td>\n",
              "      <td>2.0</td>\n",
              "      <td>1.0</td>\n",
              "      <td>7.0</td>\n",
              "      <td>9.0</td>\n",
              "      <td>8.0</td>\n",
              "      <td>6.0</td>\n",
              "      <td>10.0</td>\n",
              "      <td>4.0</td>\n",
              "      <td>8.0</td>\n",
              "      <td>NaN</td>\n",
              "      <td>4.0</td>\n",
              "      <td>3.0</td>\n",
              "    </tr>\n",
              "    <tr>\n",
              "      <th>Wigan</th>\n",
              "      <td>5.0</td>\n",
              "      <td>5.0</td>\n",
              "      <td>2.0</td>\n",
              "      <td>4.0</td>\n",
              "      <td>1.0</td>\n",
              "      <td>4.0</td>\n",
              "      <td>NaN</td>\n",
              "      <td>NaN</td>\n",
              "      <td>1.0</td>\n",
              "      <td>NaN</td>\n",
              "      <td>5.0</td>\n",
              "      <td>NaN</td>\n",
              "      <td>5.0</td>\n",
              "      <td>5.0</td>\n",
              "      <td>NaN</td>\n",
              "      <td>2.0</td>\n",
              "      <td>NaN</td>\n",
              "      <td>5.0</td>\n",
              "      <td>5.0</td>\n",
              "      <td>5.0</td>\n",
              "      <td>1.0</td>\n",
              "      <td>4.0</td>\n",
              "      <td>2.0</td>\n",
              "      <td>2.0</td>\n",
              "      <td>2.0</td>\n",
              "      <td>1.0</td>\n",
              "      <td>1.0</td>\n",
              "      <td>5.0</td>\n",
              "      <td>5.0</td>\n",
              "      <td>2.0</td>\n",
              "      <td>5.0</td>\n",
              "      <td>NaN</td>\n",
              "      <td>4.0</td>\n",
              "      <td>4.0</td>\n",
              "      <td>NaN</td>\n",
              "      <td>3.0</td>\n",
              "    </tr>\n",
              "    <tr>\n",
              "      <th>Wolves</th>\n",
              "      <td>4.0</td>\n",
              "      <td>3.0</td>\n",
              "      <td>2.0</td>\n",
              "      <td>3.0</td>\n",
              "      <td>1.0</td>\n",
              "      <td>3.0</td>\n",
              "      <td>1.0</td>\n",
              "      <td>1.0</td>\n",
              "      <td>2.0</td>\n",
              "      <td>1.0</td>\n",
              "      <td>4.0</td>\n",
              "      <td>1.0</td>\n",
              "      <td>4.0</td>\n",
              "      <td>4.0</td>\n",
              "      <td>1.0</td>\n",
              "      <td>1.0</td>\n",
              "      <td>1.0</td>\n",
              "      <td>4.0</td>\n",
              "      <td>4.0</td>\n",
              "      <td>4.0</td>\n",
              "      <td>NaN</td>\n",
              "      <td>3.0</td>\n",
              "      <td>1.0</td>\n",
              "      <td>1.0</td>\n",
              "      <td>1.0</td>\n",
              "      <td>NaN</td>\n",
              "      <td>1.0</td>\n",
              "      <td>3.0</td>\n",
              "      <td>3.0</td>\n",
              "      <td>1.0</td>\n",
              "      <td>4.0</td>\n",
              "      <td>1.0</td>\n",
              "      <td>2.0</td>\n",
              "      <td>3.0</td>\n",
              "      <td>3.0</td>\n",
              "      <td>NaN</td>\n",
              "    </tr>\n",
              "  </tbody>\n",
              "</table>\n",
              "</div>"
            ],
            "text/plain": [
              "AwayTeam        Arsenal  Aston Villa  Birmingham  Blackburn  Blackpool  \\\n",
              "HomeTeam                                                                 \n",
              "Arsenal             NaN          8.0         2.0        4.0        1.0   \n",
              "Aston Villa         8.0          NaN         2.0        4.0        1.0   \n",
              "Birmingham          2.0          2.0         NaN        2.0        1.0   \n",
              "Blackburn           4.0          4.0         2.0        NaN        1.0   \n",
              "Blackpool           1.0          1.0         1.0        1.0        NaN   \n",
              "Bolton              4.0          4.0         2.0        4.0        1.0   \n",
              "Bournemouth         4.0          1.0         NaN        NaN        NaN   \n",
              "Brighton            2.0          NaN         NaN        NaN        NaN   \n",
              "Burnley             5.0          2.0         1.0        1.0        NaN   \n",
              "Cardiff             2.0          1.0         NaN        NaN        NaN   \n",
              "Chelsea            11.0          8.0         2.0        4.0        1.0   \n",
              "Crystal Palace      6.0          3.0         NaN        NaN        NaN   \n",
              "Everton            11.0          8.0         2.0        4.0        1.0   \n",
              "Fulham              7.0          6.0         2.0        4.0        1.0   \n",
              "Huddersfield        2.0          NaN         NaN        NaN        NaN   \n",
              "Hull                5.0          4.0         1.0        2.0        NaN   \n",
              "Leicester           5.0          2.0         NaN        NaN        NaN   \n",
              "Liverpool          11.0          8.0         2.0        4.0        1.0   \n",
              "Man City           11.0          8.0         2.0        4.0        1.0   \n",
              "Man United         11.0          8.0         2.0        4.0        1.0   \n",
              "Middlesbrough       2.0          1.0         NaN        1.0        NaN   \n",
              "Newcastle           9.0          7.0         1.0        3.0        1.0   \n",
              "Norwich             4.0          4.0         NaN        1.0        NaN   \n",
              "Portsmouth          2.0          2.0         1.0        2.0        NaN   \n",
              "QPR                 3.0          3.0         NaN        1.0        NaN   \n",
              "Reading             1.0          1.0         NaN        NaN        NaN   \n",
              "Southampton         7.0          4.0         NaN        NaN        NaN   \n",
              "Stoke              10.0          8.0         2.0        4.0        1.0   \n",
              "Sunderland          9.0          8.0         2.0        4.0        1.0   \n",
              "Swansea             7.0          5.0         NaN        1.0        NaN   \n",
              "Tottenham          11.0          8.0         2.0        4.0        1.0   \n",
              "Watford             4.0          1.0         NaN        NaN        NaN   \n",
              "West Brom           9.0          7.0         1.0        3.0        1.0   \n",
              "West Ham           10.0          7.0         2.0        3.0        1.0   \n",
              "Wigan               5.0          5.0         2.0        4.0        1.0   \n",
              "Wolves              4.0          3.0         2.0        3.0        1.0   \n",
              "\n",
              "AwayTeam        Bolton  Bournemouth  Brighton  Burnley  Cardiff  Chelsea  \\\n",
              "HomeTeam                                                                   \n",
              "Arsenal            4.0          4.0       2.0      5.0      2.0     11.0   \n",
              "Aston Villa        4.0          1.0       NaN      2.0      1.0      8.0   \n",
              "Birmingham         2.0          NaN       NaN      1.0      NaN      2.0   \n",
              "Blackburn          4.0          NaN       NaN      1.0      NaN      4.0   \n",
              "Blackpool          1.0          NaN       NaN      NaN      NaN      1.0   \n",
              "Bolton             NaN          NaN       NaN      1.0      NaN      4.0   \n",
              "Bournemouth        NaN          NaN       2.0      3.0      1.0      4.0   \n",
              "Brighton           NaN          2.0       NaN      2.0      1.0      2.0   \n",
              "Burnley            1.0          3.0       2.0      NaN      1.0      5.0   \n",
              "Cardiff            NaN          1.0       1.0      1.0      NaN      2.0   \n",
              "Chelsea            4.0          4.0       2.0      5.0      2.0      NaN   \n",
              "Crystal Palace     NaN          4.0       2.0      4.0      2.0      6.0   \n",
              "Everton            4.0          4.0       2.0      5.0      2.0     11.0   \n",
              "Fulham             4.0          1.0       1.0      2.0      2.0      7.0   \n",
              "Huddersfield       NaN          2.0       2.0      2.0      1.0      2.0   \n",
              "Hull               2.0          1.0       NaN      3.0      1.0      5.0   \n",
              "Leicester          NaN          4.0       2.0      4.0      1.0      5.0   \n",
              "Liverpool          4.0          4.0       2.0      5.0      2.0     11.0   \n",
              "Man City           4.0          4.0       2.0      5.0      2.0     11.0   \n",
              "Man United         4.0          4.0       2.0      5.0      2.0     11.0   \n",
              "Middlesbrough      1.0          1.0       NaN      1.0      NaN      2.0   \n",
              "Newcastle          3.0          3.0       2.0      3.0      2.0      9.0   \n",
              "Norwich            1.0          1.0       NaN      NaN      1.0      4.0   \n",
              "Portsmouth         2.0          NaN       NaN      1.0      NaN      2.0   \n",
              "QPR                1.0          NaN       NaN      1.0      NaN      3.0   \n",
              "Reading            NaN          NaN       NaN      NaN      NaN      1.0   \n",
              "Southampton        NaN          4.0       2.0      4.0      2.0      7.0   \n",
              "Stoke              4.0          3.0       1.0      4.0      1.0     10.0   \n",
              "Sunderland         4.0          2.0       NaN      3.0      1.0      9.0   \n",
              "Swansea            1.0          3.0       1.0      3.0      1.0      7.0   \n",
              "Tottenham          4.0          4.0       2.0      5.0      2.0     11.0   \n",
              "Watford            NaN          4.0       2.0      3.0      1.0      4.0   \n",
              "West Brom          3.0          3.0       1.0      3.0      1.0      9.0   \n",
              "West Ham           3.0          4.0       2.0      5.0      2.0     10.0   \n",
              "Wigan              4.0          NaN       NaN      1.0      NaN      5.0   \n",
              "Wolves             3.0          1.0       1.0      2.0      1.0      4.0   \n",
              "\n",
              "AwayTeam        Crystal Palace  Everton  Fulham  Huddersfield  Hull  \\\n",
              "HomeTeam                                                              \n",
              "Arsenal                    6.0     11.0     7.0           2.0   5.0   \n",
              "Aston Villa                3.0      8.0     6.0           NaN   4.0   \n",
              "Birmingham                 NaN      2.0     2.0           NaN   1.0   \n",
              "Blackburn                  NaN      4.0     4.0           NaN   2.0   \n",
              "Blackpool                  NaN      1.0     1.0           NaN   NaN   \n",
              "Bolton                     NaN      4.0     4.0           NaN   2.0   \n",
              "Bournemouth                4.0      4.0     1.0           2.0   1.0   \n",
              "Brighton                   2.0      2.0     1.0           2.0   NaN   \n",
              "Burnley                    4.0      5.0     2.0           2.0   3.0   \n",
              "Cardiff                    2.0      2.0     2.0           1.0   1.0   \n",
              "Chelsea                    6.0     11.0     7.0           2.0   5.0   \n",
              "Crystal Palace             NaN      6.0     2.0           2.0   3.0   \n",
              "Everton                    6.0      NaN     7.0           2.0   5.0   \n",
              "Fulham                     2.0      7.0     NaN           1.0   3.0   \n",
              "Huddersfield               2.0      2.0     1.0           NaN   NaN   \n",
              "Hull                       3.0      5.0     3.0           NaN   NaN   \n",
              "Leicester                  5.0      5.0     1.0           2.0   2.0   \n",
              "Liverpool                  6.0     11.0     7.0           2.0   5.0   \n",
              "Man City                   6.0     11.0     7.0           2.0   5.0   \n",
              "Man United                 6.0     11.0     7.0           2.0   5.0   \n",
              "Middlesbrough              1.0      2.0     1.0           NaN   2.0   \n",
              "Newcastle                  5.0      9.0     6.0           2.0   3.0   \n",
              "Norwich                    2.0      4.0     3.0           NaN   1.0   \n",
              "Portsmouth                 NaN      2.0     2.0           NaN   2.0   \n",
              "QPR                        1.0      3.0     2.0           NaN   1.0   \n",
              "Reading                    NaN      1.0     1.0           NaN   NaN   \n",
              "Southampton                6.0      7.0     3.0           2.0   3.0   \n",
              "Stoke                      5.0     10.0     6.0           1.0   5.0   \n",
              "Sunderland                 4.0      9.0     6.0           NaN   5.0   \n",
              "Swansea                    5.0      7.0     3.0           1.0   3.0   \n",
              "Tottenham                  6.0     11.0     7.0           2.0   5.0   \n",
              "Watford                    4.0      4.0     1.0           2.0   1.0   \n",
              "West Brom                  5.0      9.0     5.0           1.0   4.0   \n",
              "West Ham                   6.0     10.0     6.0           2.0   5.0   \n",
              "Wigan                      NaN      5.0     5.0           NaN   2.0   \n",
              "Wolves                     1.0      4.0     4.0           1.0   1.0   \n",
              "\n",
              "AwayTeam        Leicester  Liverpool  Man City  Man United  Middlesbrough  \\\n",
              "HomeTeam                                                                    \n",
              "Arsenal               5.0       11.0      11.0        11.0            2.0   \n",
              "Aston Villa           2.0        8.0       8.0         8.0            1.0   \n",
              "Birmingham            NaN        2.0       2.0         2.0            NaN   \n",
              "Blackburn             NaN        4.0       4.0         4.0            1.0   \n",
              "Blackpool             NaN        1.0       1.0         1.0            NaN   \n",
              "Bolton                NaN        4.0       4.0         4.0            1.0   \n",
              "Bournemouth           4.0        4.0       4.0         4.0            1.0   \n",
              "Brighton              2.0        2.0       2.0         2.0            NaN   \n",
              "Burnley               4.0        5.0       5.0         5.0            1.0   \n",
              "Cardiff               1.0        2.0       2.0         2.0            NaN   \n",
              "Chelsea               5.0       11.0      11.0        11.0            2.0   \n",
              "Crystal Palace        5.0        6.0       6.0         6.0            1.0   \n",
              "Everton               5.0       11.0      11.0        11.0            2.0   \n",
              "Fulham                1.0        7.0       7.0         7.0            1.0   \n",
              "Huddersfield          2.0        2.0       2.0         2.0            NaN   \n",
              "Hull                  2.0        5.0       5.0         5.0            2.0   \n",
              "Leicester             NaN        5.0       5.0         5.0            1.0   \n",
              "Liverpool             5.0        NaN      11.0        11.0            2.0   \n",
              "Man City              5.0       11.0       NaN        11.0            2.0   \n",
              "Man United            5.0       11.0      11.0         NaN            2.0   \n",
              "Middlesbrough         1.0        2.0       2.0         2.0            NaN   \n",
              "Newcastle             4.0        9.0       9.0         9.0            1.0   \n",
              "Norwich               1.0        4.0       4.0         4.0            NaN   \n",
              "Portsmouth            NaN        2.0       2.0         2.0            1.0   \n",
              "QPR                   1.0        3.0       3.0         3.0            NaN   \n",
              "Reading               NaN        1.0       1.0         1.0            NaN   \n",
              "Southampton           5.0        7.0       7.0         7.0            1.0   \n",
              "Stoke                 4.0       10.0      10.0        10.0            2.0   \n",
              "Sunderland            3.0        9.0       9.0         9.0            2.0   \n",
              "Swansea               4.0        7.0       7.0         7.0            1.0   \n",
              "Tottenham             5.0       11.0      11.0        11.0            2.0   \n",
              "Watford               4.0        4.0       4.0         4.0            1.0   \n",
              "West Brom             4.0        9.0       9.0         9.0            2.0   \n",
              "West Ham              5.0       10.0      10.0        10.0            2.0   \n",
              "Wigan                 NaN        5.0       5.0         5.0            1.0   \n",
              "Wolves                1.0        4.0       4.0         4.0            NaN   \n",
              "\n",
              "AwayTeam        Newcastle  Norwich  Portsmouth  QPR  Reading  Southampton  \\\n",
              "HomeTeam                                                                    \n",
              "Arsenal               9.0      4.0         2.0  3.0      1.0          7.0   \n",
              "Aston Villa           7.0      4.0         2.0  3.0      1.0          4.0   \n",
              "Birmingham            1.0      NaN         1.0  NaN      NaN          NaN   \n",
              "Blackburn             3.0      1.0         2.0  1.0      NaN          NaN   \n",
              "Blackpool             1.0      NaN         NaN  NaN      NaN          NaN   \n",
              "Bolton                3.0      1.0         2.0  1.0      NaN          NaN   \n",
              "Bournemouth           3.0      1.0         NaN  NaN      NaN          4.0   \n",
              "Brighton              2.0      NaN         NaN  NaN      NaN          2.0   \n",
              "Burnley               3.0      NaN         1.0  1.0      NaN          4.0   \n",
              "Cardiff               2.0      1.0         NaN  NaN      NaN          2.0   \n",
              "Chelsea               9.0      4.0         2.0  3.0      1.0          7.0   \n",
              "Crystal Palace        5.0      2.0         NaN  1.0      NaN          6.0   \n",
              "Everton               9.0      4.0         2.0  3.0      1.0          7.0   \n",
              "Fulham                6.0      3.0         2.0  2.0      1.0          3.0   \n",
              "Huddersfield          2.0      NaN         NaN  NaN      NaN          2.0   \n",
              "Hull                  3.0      1.0         2.0  1.0      NaN          3.0   \n",
              "Leicester             4.0      1.0         NaN  1.0      NaN          5.0   \n",
              "Liverpool             9.0      4.0         2.0  3.0      1.0          7.0   \n",
              "Man City              9.0      4.0         2.0  3.0      1.0          7.0   \n",
              "Man United            9.0      4.0         2.0  3.0      1.0          7.0   \n",
              "Middlesbrough         1.0      NaN         1.0  NaN      NaN          1.0   \n",
              "Newcastle             NaN      4.0         1.0  3.0      1.0          6.0   \n",
              "Norwich               4.0      NaN         NaN  2.0      1.0          3.0   \n",
              "Portsmouth            1.0      NaN         NaN  NaN      NaN          NaN   \n",
              "QPR                   3.0      2.0         NaN  NaN      1.0          2.0   \n",
              "Reading               1.0      1.0         NaN  1.0      NaN          1.0   \n",
              "Southampton           6.0      3.0         NaN  2.0      1.0          NaN   \n",
              "Stoke                 8.0      4.0         2.0  3.0      1.0          6.0   \n",
              "Sunderland            7.0      4.0         2.0  3.0      1.0          5.0   \n",
              "Swansea               6.0      4.0         NaN  3.0      1.0          6.0   \n",
              "Tottenham             9.0      4.0         2.0  3.0      1.0          7.0   \n",
              "Watford               3.0      1.0         NaN  NaN      NaN          4.0   \n",
              "West Brom             8.0      4.0         1.0  3.0      1.0          6.0   \n",
              "West Ham              8.0      3.0         2.0  2.0      1.0          7.0   \n",
              "Wigan                 4.0      2.0         2.0  2.0      1.0          1.0   \n",
              "Wolves                3.0      1.0         1.0  1.0      NaN          1.0   \n",
              "\n",
              "AwayTeam        Stoke  Sunderland  Swansea  Tottenham  Watford  West Brom  \\\n",
              "HomeTeam                                                                    \n",
              "Arsenal          10.0         9.0      7.0       11.0      4.0        9.0   \n",
              "Aston Villa       8.0         8.0      5.0        8.0      1.0        7.0   \n",
              "Birmingham        2.0         2.0      NaN        2.0      NaN        1.0   \n",
              "Blackburn         4.0         4.0      1.0        4.0      NaN        3.0   \n",
              "Blackpool         1.0         1.0      NaN        1.0      NaN        1.0   \n",
              "Bolton            4.0         4.0      1.0        4.0      NaN        3.0   \n",
              "Bournemouth       3.0         2.0      3.0        4.0      4.0        3.0   \n",
              "Brighton          1.0         NaN      1.0        2.0      2.0        1.0   \n",
              "Burnley           4.0         3.0      3.0        5.0      3.0        3.0   \n",
              "Cardiff           1.0         1.0      1.0        2.0      1.0        1.0   \n",
              "Chelsea          10.0         9.0      7.0       11.0      4.0        9.0   \n",
              "Crystal Palace    5.0         4.0      5.0        6.0      4.0        5.0   \n",
              "Everton          10.0         9.0      7.0       11.0      4.0        9.0   \n",
              "Fulham            6.0         6.0      3.0        7.0      1.0        5.0   \n",
              "Huddersfield      1.0         NaN      1.0        2.0      2.0        1.0   \n",
              "Hull              5.0         5.0      3.0        5.0      1.0        4.0   \n",
              "Leicester         4.0         3.0      4.0        5.0      4.0        4.0   \n",
              "Liverpool        10.0         9.0      7.0       11.0      4.0        9.0   \n",
              "Man City         10.0         9.0      7.0       11.0      4.0        9.0   \n",
              "Man United       10.0         9.0      7.0       11.0      4.0        9.0   \n",
              "Middlesbrough     2.0         2.0      1.0        2.0      1.0        2.0   \n",
              "Newcastle         8.0         7.0      6.0        9.0      3.0        8.0   \n",
              "Norwich           4.0         4.0      4.0        4.0      1.0        4.0   \n",
              "Portsmouth        2.0         2.0      NaN        2.0      NaN        1.0   \n",
              "QPR               3.0         3.0      3.0        3.0      NaN        3.0   \n",
              "Reading           1.0         1.0      1.0        1.0      NaN        1.0   \n",
              "Southampton       6.0         5.0      6.0        7.0      4.0        6.0   \n",
              "Stoke             NaN         9.0      7.0       10.0      3.0        9.0   \n",
              "Sunderland        9.0         NaN      6.0        9.0      2.0        8.0   \n",
              "Swansea           7.0         6.0      NaN        7.0      3.0        7.0   \n",
              "Tottenham        10.0         9.0      7.0        NaN      4.0        9.0   \n",
              "Watford           3.0         2.0      3.0        4.0      NaN        3.0   \n",
              "West Brom         9.0         8.0      7.0        9.0      3.0        NaN   \n",
              "West Ham          9.0         8.0      6.0       10.0      4.0        8.0   \n",
              "Wigan             5.0         5.0      2.0        5.0      NaN        4.0   \n",
              "Wolves            3.0         3.0      1.0        4.0      1.0        2.0   \n",
              "\n",
              "AwayTeam        West Ham  Wigan  Wolves  \n",
              "HomeTeam                                 \n",
              "Arsenal             10.0    5.0     4.0  \n",
              "Aston Villa          7.0    5.0     3.0  \n",
              "Birmingham           2.0    2.0     2.0  \n",
              "Blackburn            3.0    4.0     3.0  \n",
              "Blackpool            1.0    1.0     1.0  \n",
              "Bolton               3.0    4.0     3.0  \n",
              "Bournemouth          4.0    NaN     1.0  \n",
              "Brighton             2.0    NaN     1.0  \n",
              "Burnley              5.0    1.0     2.0  \n",
              "Cardiff              2.0    NaN     1.0  \n",
              "Chelsea             10.0    5.0     4.0  \n",
              "Crystal Palace       6.0    NaN     1.0  \n",
              "Everton             10.0    5.0     4.0  \n",
              "Fulham               6.0    5.0     4.0  \n",
              "Huddersfield         2.0    NaN     1.0  \n",
              "Hull                 5.0    2.0     1.0  \n",
              "Leicester            5.0    NaN     1.0  \n",
              "Liverpool           10.0    5.0     4.0  \n",
              "Man City            10.0    5.0     4.0  \n",
              "Man United          10.0    5.0     4.0  \n",
              "Middlesbrough        2.0    1.0     NaN  \n",
              "Newcastle            8.0    4.0     3.0  \n",
              "Norwich              3.0    2.0     1.0  \n",
              "Portsmouth           2.0    2.0     1.0  \n",
              "QPR                  2.0    2.0     1.0  \n",
              "Reading              1.0    1.0     NaN  \n",
              "Southampton          7.0    1.0     1.0  \n",
              "Stoke                9.0    5.0     3.0  \n",
              "Sunderland           8.0    5.0     3.0  \n",
              "Swansea              6.0    2.0     1.0  \n",
              "Tottenham           10.0    5.0     4.0  \n",
              "Watford              4.0    NaN     1.0  \n",
              "West Brom            8.0    4.0     2.0  \n",
              "West Ham             NaN    4.0     3.0  \n",
              "Wigan                4.0    NaN     3.0  \n",
              "Wolves               3.0    3.0     NaN  "
            ]
          },
          "metadata": {
            "tags": []
          },
          "execution_count": 17
        }
      ]
    },
    {
      "cell_type": "markdown",
      "metadata": {
        "id": "krwGkaU7ng6H",
        "colab_type": "text"
      },
      "source": [
        "Checking how many matches each team played. As every match a home team plays at home comes in conjunction with one it plays away, it is sufficient to count the number of home matches. "
      ]
    },
    {
      "cell_type": "code",
      "metadata": {
        "id": "cNfqao3ong6J",
        "colab_type": "code",
        "outputId": "16d92e7b-8c95-4c9f-820d-f7ee07ef527d",
        "colab": {}
      },
      "source": [
        "data.HomeTeam.value_counts().plot(kind='bar', figsize=(10,5))\n",
        "plt.title('Number of teams by matches',fontsize=18, fontweight='bold')\n",
        "plt.ylabel('Number of matches',fontsize=16, fontweight='bold')\n",
        "plt.xlabel('Team Name',fontsize=16, fontweight='bold')\n",
        "sns.set_style(\"white\")\n",
        "plt.show()"
      ],
      "execution_count": 0,
      "outputs": [
        {
          "output_type": "display_data",
          "data": {
            "image/png": "[encoded data removed]",
            "text/plain": [
              "<Figure size 720x360 with 1 Axes>"
            ]
          },
          "metadata": {
            "tags": []
          }
        }
      ]
    },
    {
      "cell_type": "markdown",
      "metadata": {
        "id": "uFALb7ovng6a",
        "colab_type": "text"
      },
      "source": [
        "### HTR vs. FTR"
      ]
    },
    {
      "cell_type": "markdown",
      "metadata": {
        "id": "1MRkRc21ng6e",
        "colab_type": "text"
      },
      "source": [
        "A count plot to show the relationship between Half Time Result (`HTR`) and Full Time Result (`FTR`). This was done basically to check for how many of the matches the `HTR` and `FTR` result."
      ]
    },
    {
      "cell_type": "code",
      "metadata": {
        "id": "KCv-uXxvng6g",
        "colab_type": "code",
        "outputId": "01400e03-5a9d-4194-c149-de3521a2bb64",
        "colab": {}
      },
      "source": [
        "get_pivot_column_vs_column_count(data,'HTR','FTR')"
      ],
      "execution_count": 0,
      "outputs": [
        {
          "output_type": "execute_result",
          "data": {
            "text/html": [
              "<div>\n",
              "<style scoped>\n",
              "    .dataframe tbody tr th:only-of-type {\n",
              "        vertical-align: middle;\n",
              "    }\n",
              "\n",
              "    .dataframe tbody tr th {\n",
              "        vertical-align: top;\n",
              "    }\n",
              "\n",
              "    .dataframe thead th {\n",
              "        text-align: right;\n",
              "    }\n",
              "</style>\n",
              "<table border=\"1\" class=\"dataframe\">\n",
              "  <thead>\n",
              "    <tr style=\"text-align: right;\">\n",
              "      <th>FTR</th>\n",
              "      <th>A</th>\n",
              "      <th>D</th>\n",
              "      <th>H</th>\n",
              "    </tr>\n",
              "    <tr>\n",
              "      <th>HTR</th>\n",
              "      <th></th>\n",
              "      <th></th>\n",
              "      <th></th>\n",
              "    </tr>\n",
              "  </thead>\n",
              "  <tbody>\n",
              "    <tr>\n",
              "      <th>A</th>\n",
              "      <td>703</td>\n",
              "      <td>199</td>\n",
              "      <td>99</td>\n",
              "    </tr>\n",
              "    <tr>\n",
              "      <th>D</th>\n",
              "      <td>439</td>\n",
              "      <td>647</td>\n",
              "      <td>646</td>\n",
              "    </tr>\n",
              "    <tr>\n",
              "      <th>H</th>\n",
              "      <td>70</td>\n",
              "      <td>191</td>\n",
              "      <td>1186</td>\n",
              "    </tr>\n",
              "  </tbody>\n",
              "</table>\n",
              "</div>"
            ],
            "text/plain": [
              "FTR    A    D     H\n",
              "HTR                \n",
              "A    703  199    99\n",
              "D    439  647   646\n",
              "H     70  191  1186"
            ]
          },
          "metadata": {
            "tags": []
          },
          "execution_count": 19
        }
      ]
    },
    {
      "cell_type": "markdown",
      "metadata": {
        "id": "q_YdY3hdng6n",
        "colab_type": "text"
      },
      "source": [
        "###  Histogram (Count Plots) of all Features"
      ]
    },
    {
      "cell_type": "markdown",
      "metadata": {
        "id": "dP1QoPSTng6q",
        "colab_type": "text"
      },
      "source": [
        "The columns of the unprocessed dataset will later be used to extract information about the individual teams. To investigate the characteristics of each of the individual columns, we first utilize a histogram plot of each of the columns. Prior to obtaining this plot, all the categorical columns (Home Team, Away Team, Referee and Full Time Result) are turned into numerical values using the __Label_Encoder__ function."
      ]
    },
    {
      "cell_type": "markdown",
      "metadata": {
        "id": "S6zKeaQXng6t",
        "colab_type": "text"
      },
      "source": [
        "Bar Chart for each of the numerical features in the imported dataset. The bar chart will show a count of the occurances of each unique value taken by each feautre. In addition to this, the bar chart will show what proportion of each unique value that resulted in Home win (__H__), Draw (__D__) or Away win (__A__)."
      ]
    },
    {
      "cell_type": "code",
      "metadata": {
        "scrolled": false,
        "id": "9e7OCJkGng6w",
        "colab_type": "code",
        "outputId": "f47a1c81-ff5a-4e27-ab01-ee93b7f0f89d",
        "colab": {}
      },
      "source": [
        "# Save the column names of numerical features as a list\n",
        "num_col_list=[x for x in data.columns if x not in ['Date','HomeTeam','AwayTeam','Referee','FTR','HTR']]\n",
        "\n",
        "# Reshaping array for easier formatting\n",
        "num_col_list = np.reshape(num_col_list, (8, 2))\n",
        "\n",
        "# Call the function get_column_countplot() to plot the count plot of the categorical columns as s ubplots in a figure\n",
        "fig, axes = plt.subplots(8,2,figsize=(15,60))\n",
        "for i in range(8):\n",
        "    for j in range(2):\n",
        "        get_column_countplot(data,num_col_list[i][j], ax=axes[i,j])\n",
        "fig.tight_layout(rect=[0, 0.03, 1, 0.97])\n",
        "fig.suptitle(\"Count plots of all features\",fontweight='bold',fontsize=20)\n",
        "sns.set_style(\"white\")\n",
        "plt.show()"
      ],
      "execution_count": 0,
      "outputs": [
        {
          "output_type": "display_data",
          "data": {
            "image/png": "[encoded data removed]",
            "text/plain": [
              "<Figure size 1080x4320 with 16 Axes>"
            ]
          },
          "metadata": {
            "tags": []
          }
        }
      ]
    },
    {
      "cell_type": "markdown",
      "metadata": {
        "id": "nqJxOVlang65",
        "colab_type": "text"
      },
      "source": [
        "### Checking if the dataset is balanced"
      ]
    },
    {
      "cell_type": "markdown",
      "metadata": {
        "id": "0w8_hwNtng68",
        "colab_type": "text"
      },
      "source": [
        "A bar chart showing the number of home wins, draws and away wins."
      ]
    },
    {
      "cell_type": "code",
      "metadata": {
        "id": "DWPVqiwbng7A",
        "colab_type": "code",
        "outputId": "98c71df0-4d93-4dde-a4df-91d84d7defa7",
        "colab": {}
      },
      "source": [
        "# Get the counts \n",
        "count_val=data['FTR'].value_counts()\n",
        "\n",
        "# Visualise the count\n",
        "X_ticks=['Home','Draw','Away']\n",
        "bar_width=0.7\n",
        "fig,ax=plt.subplots()\n",
        "plt.bar(1,count_val[0],color='forestgreen')\n",
        "plt.bar(2,count_val[2],color='darkorange')\n",
        "plt.bar(3,count_val[1],color='#970a1b')\n",
        "plt.text(1, count_val[0]/2, \"{:,}\".format(count_val[0]),color='w',\n",
        "         ha='center', va= 'bottom',fontweight='bold',fontsize=14)\n",
        "plt.text(2, count_val[2]/2, \"{:,}\".format(count_val[1]), color='w'\n",
        "         ,ha='center', va= 'bottom',fontweight='bold',fontsize=14)\n",
        "plt.text(3, count_val[1]/2, \"{:,}\".format(count_val[2]), color='w',\n",
        "         ha='center', va= 'bottom', fontweight='bold', fontsize=14)\n",
        "ax.set_title('FTR count', fontsize=18, fontweight='bold')\n",
        "ax.set_xlabel('Classes (Full time result)', fontsize=16, fontweight='bold')\n",
        "ax.set_ylabel('Number of samples in training data', fontsize=16, fontweight='bold')\n",
        "ax.set_xticks([1,2,3])\n",
        "ax.set_xticklabels(X_ticks,fontsize=14)\n",
        "fig.tight_layout()\n",
        "sns.set_style(\"white\")\n",
        "plt.show()"
      ],
      "execution_count": 0,
      "outputs": [
        {
          "output_type": "display_data",
          "data": {
            "image/png": "[encoded data removed]",
            "text/plain": [
              "<Figure size 576x432 with 1 Axes>"
            ]
          },
          "metadata": {
            "tags": []
          }
        }
      ]
    },
    {
      "cell_type": "markdown",
      "metadata": {
        "id": "zyrHsYsbng7I",
        "colab_type": "text"
      },
      "source": [
        "#### Encoding the non-numerical columns"
      ]
    },
    {
      "cell_type": "code",
      "metadata": {
        "id": "GtCmy3pXng7L",
        "colab_type": "code",
        "colab": {}
      },
      "source": [
        "encoded_data = data.copy()\n",
        "\n",
        "for column in ['HomeTeam','AwayTeam','Referee','FTR','HTR']:\n",
        "    encoded_data[column] = LabelEncoder().fit_transform(encoded_data[column])"
      ],
      "execution_count": 0,
      "outputs": []
    },
    {
      "cell_type": "markdown",
      "metadata": {
        "id": "DC1Xut0Ang7S",
        "colab_type": "text"
      },
      "source": [
        "### Correlation Matrix of the Data"
      ]
    },
    {
      "cell_type": "markdown",
      "metadata": {
        "id": "J14cWVwnng7V",
        "colab_type": "text"
      },
      "source": [
        "A visual plot of the correlation matrix between the all the raw columns of the provided dataset. This will help identify important columns as well as discard those that show no correlation. For this, the label encoded dataset will be utilized."
      ]
    },
    {
      "cell_type": "code",
      "metadata": {
        "id": "KkHMZz8Hng7X",
        "colab_type": "code",
        "outputId": "418b05cb-f9fe-4a20-faa0-8e3dfe9e55b2",
        "colab": {}
      },
      "source": [
        "fig=plt.figure(figsize=(20,15))\n",
        "ax = plt.subplot()\n",
        "ax.set_title(\"Heatmap of Correlation Matrix for Columns in Raw Dataset\",fontsize=20,fontweight='bold')\n",
        "sns.heatmap(encoded_data.corr(), annot = True, fmt='.1f', cmap= 'coolwarm', ax=ax)\n",
        "plt.show()"
      ],
      "execution_count": 0,
      "outputs": [
        {
          "output_type": "display_data",
          "data": {
            "image/png": "[encoded data removed]",
            "text/plain": [
              "<Figure size 1440x1080 with 2 Axes>"
            ]
          },
          "metadata": {
            "tags": []
          }
        }
      ]
    },
    {
      "cell_type": "markdown",
      "metadata": {
        "id": "tcvXc3g5ng7i",
        "colab_type": "text"
      },
      "source": [
        "# Feature Extraction"
      ]
    },
    {
      "cell_type": "markdown",
      "metadata": {
        "id": "IoEYxRpkng7l",
        "colab_type": "text"
      },
      "source": [
        "### Average Goals, Points and Aggressiveness"
      ]
    },
    {
      "cell_type": "markdown",
      "metadata": {
        "id": "SG4fqimMng7n",
        "colab_type": "text"
      },
      "source": [
        "Calculating average goals and scores for home teams and away teams. The scores are calculated by considering a win as 3 points, a draw as 1 point and a loss as 0 points. As the number of goals conceded by one team is the number of goals scored by the other team, the average number of goals conceded by the home team is equal to the number of goals scored by the away team (the same applies for goals conceded by the away team). These average values will be used to scale metrics later on in feature extraction to ensure that a value of 1 represents an average performance. This will ensure that the features are of similar scale. "
      ]
    },
    {
      "cell_type": "code",
      "metadata": {
        "id": "U16KqZKbng7r",
        "colab_type": "code",
        "outputId": "a48cf6e0-96d6-431a-e977-0305f2059716",
        "colab": {}
      },
      "source": [
        "# Get total number of matches\n",
        "num_matches = data.shape[0] \n",
        "\n",
        "# Sum home goals column, divide by total matches\n",
        "average_home_goals = data.FTHG.sum()/num_matches\n",
        "\n",
        "# Sum away goals column, divide by total matches\n",
        "average_away_goals = data.FTAG.sum() /num_matches\n",
        "\n",
        "# Average conceded goals = Average of goals for opposite team\n",
        "avg_home_conceded = average_away_goals \n",
        "avg_away_conceded = avg_home_conceded\n",
        "\n",
        "# Calculating points for each team\n",
        "average_home_points = (3*count_val['H'] + count_val['D'])/num_matches\n",
        "average_away_points = (3*count_val['A'] + count_val['D'])/num_matches\n",
        "\n",
        "# Calculating other average  home and away\n",
        "average_home_yellow = data.HY.sum()/num_matches\n",
        "average_away_yellow = data.AY.sum()/num_matches\n",
        "average_home_red = data.HR.sum()/num_matches\n",
        "average_away_red = data.AR.sum()/num_matches\n",
        "average_home_fouls = data.HF.sum()/num_matches\n",
        "average_away_fouls = data.AF.sum()/num_matches\n",
        "\n",
        "print('Average Home Goals:', average_home_goals)\n",
        "print('Average Away Goals:', average_away_goals)\n",
        "print('Average Home Points:',average_home_points)\n",
        "print('Average Away Points:', average_away_points)\n",
        "# print('Average Home Yellow Cards:', average_home_yellow)\n",
        "# print('Average Away Yellow Cards:', average_away_yellow)\n",
        "# print('Average Home Red Cards:',average_home_red)\n",
        "# print('Average Away Red Cards:', average_away_red)\n",
        "print('Average Home Fouls:',average_home_fouls)\n",
        "print('Average Away Fouls:', average_away_fouls)"
      ],
      "execution_count": 0,
      "outputs": [
        {
          "output_type": "stream",
          "text": [
            "Average Home Goals: 1.555023923444976\n",
            "Average Away Goals: 1.1708133971291865\n",
            "Average Home Points: 1.6339712918660287\n",
            "Average Away Points: 1.1179425837320573\n",
            "Average Home Fouls: 10.682057416267943\n",
            "Average Away Fouls: 11.204306220095694\n"
          ],
          "name": "stdout"
        }
      ]
    },
    {
      "cell_type": "markdown",
      "metadata": {
        "id": "MrEVPMqung7z",
        "colab_type": "text"
      },
      "source": [
        "### Team Statistics"
      ]
    },
    {
      "cell_type": "markdown",
      "metadata": {
        "id": "VcK1N-Zvng70",
        "colab_type": "text"
      },
      "source": [
        "Features in the raw data may be used to compute metrics that quantify different qualities of each team when they are playing at home and away. These quantities will be the same for all the home/away matches they play (i.e. a team will have the same Home Attacking Strength (HAS) for all games that it plays on home turf)."
      ]
    },
    {
      "cell_type": "code",
      "metadata": {
        "id": "OQY18tdeng73",
        "colab_type": "code",
        "colab": {}
      },
      "source": [
        "team_stats= pd.DataFrame(columns=('Team','HGS','AGS','HAS','AAS','HGC','AGC','HDS','ADS','HS','HST','AS','AST','HCON','ACON','HF','AF','HAGG','AAGG'))"
      ],
      "execution_count": 0,
      "outputs": []
    },
    {
      "cell_type": "code",
      "metadata": {
        "id": "O_YRvAYYng7_",
        "colab_type": "code",
        "colab": {}
      },
      "source": [
        "# Group data by the teams\n",
        "res_home = data.groupby('HomeTeam')\n",
        "res_away = data.groupby('AwayTeam')"
      ],
      "execution_count": 0,
      "outputs": []
    },
    {
      "cell_type": "code",
      "metadata": {
        "id": "gRfu0jajng8M",
        "colab_type": "code",
        "colab": {}
      },
      "source": [
        "# Add the list of team names\n",
        "team_stats.Team = pd.Series(data['HomeTeam'].unique())"
      ],
      "execution_count": 0,
      "outputs": []
    },
    {
      "cell_type": "code",
      "metadata": {
        "id": "jzgZTpmQng8T",
        "colab_type": "code",
        "colab": {}
      },
      "source": [
        "# Home goal scored (HGS)\n",
        "team_stats.HGS = res_home.FTHG.sum().values \n",
        "# Home goal conceded (HGC)\n",
        "team_stats.HGC = res_home.FTAG.sum().values"
      ],
      "execution_count": 0,
      "outputs": []
    },
    {
      "cell_type": "code",
      "metadata": {
        "id": "bLoVG8E2ng8e",
        "colab_type": "code",
        "colab": {}
      },
      "source": [
        "# Away goal scored (AGS)\n",
        "team_stats.AGS = res_away.FTAG.sum().values \n",
        "# Away goal conceded (AGC)\n",
        "team_stats.AGC = res_away.FTHG.sum().values "
      ],
      "execution_count": 0,
      "outputs": []
    },
    {
      "cell_type": "code",
      "metadata": {
        "id": "BYzWnQcYng8l",
        "colab_type": "code",
        "colab": {}
      },
      "source": [
        "# Calculate number of games played\n",
        "total_home_games_played = res_home.FTHG.count()\n",
        "total_away_games_played = res_away.FTAG.count()"
      ],
      "execution_count": 0,
      "outputs": []
    },
    {
      "cell_type": "code",
      "metadata": {
        "id": "VYtJSoPSng8z",
        "colab_type": "code",
        "colab": {}
      },
      "source": [
        "# Home Attacking Strength\n",
        "team_stats.HAS = (np.divide(team_stats.HGS,total_home_games_played.values)) / average_home_goals\n",
        "# Away Attacking Strength\n",
        "team_stats.AAS = (np.divide(team_stats.AGS,total_away_games_played.values)) / average_away_goals"
      ],
      "execution_count": 0,
      "outputs": []
    },
    {
      "cell_type": "code",
      "metadata": {
        "id": "cOGBjwBqng9N",
        "colab_type": "code",
        "colab": {}
      },
      "source": [
        "# Home Defensive Strength\n",
        "team_stats.HDS = (np.divide(team_stats.HGC,total_home_games_played.values)) / avg_home_conceded\n",
        "# Away Defensive Strength\n",
        "team_stats.ADS = (np.divide(team_stats.AGC,total_away_games_played.values)) / avg_away_conceded"
      ],
      "execution_count": 0,
      "outputs": []
    },
    {
      "cell_type": "code",
      "metadata": {
        "id": "lhh82BP8ng9X",
        "colab_type": "code",
        "colab": {}
      },
      "source": [
        "# Obtaining for each team: Average number of goals scored and conceded when at home and at away.\n",
        "team_stats.GSA = (np.divide(team_stats.AGS,total_away_games_played.values))\n",
        "team_stats.GSH = (np.divide(team_stats.HGS,total_home_games_played.values))\n",
        "\n",
        "team_stats.GCA = (np.divide(team_stats.AGC,total_away_games_played.values))\n",
        "team_stats.GCH = (np.divide(team_stats.HGC,total_home_games_played.values))"
      ],
      "execution_count": 0,
      "outputs": []
    },
    {
      "cell_type": "code",
      "metadata": {
        "id": "i9aJfeNHng9e",
        "colab_type": "code",
        "colab": {}
      },
      "source": [
        "# Shots taken at home and away\n",
        "team_stats.HS = res_home.HS.sum().values \n",
        "team_stats.AS = res_away.AS.sum().values\n",
        "\n",
        "# Shots taken on target at home and away\n",
        "team_stats.HST = res_home.HST.sum().values \n",
        "team_stats.AST = res_away.AST.sum().values\n",
        "\n",
        "# Shot conversion rate (accuracy) at home and away\n",
        "team_stats.HCON = (np.divide(team_stats.HST,team_stats.HS)) \n",
        "team_stats.ACON = (np.divide(team_stats.AST,team_stats.AS)) "
      ],
      "execution_count": 0,
      "outputs": []
    },
    {
      "cell_type": "code",
      "metadata": {
        "id": "UYfR1INFng9s",
        "colab_type": "code",
        "colab": {}
      },
      "source": [
        "# Total number of fouls at home and away\n",
        "team_stats.HF = res_home.HF.sum().values \n",
        "team_stats.AF = res_away.AF.sum().values\n",
        "\n",
        "# A measure of aggressiveness for each team\n",
        "team_stats.HAGG = (np.divide(team_stats.HF,total_home_games_played.values)) / average_home_fouls\n",
        "team_stats.AAGG = (np.divide(team_stats.AF,total_away_games_played.values)) / average_away_fouls"
      ],
      "execution_count": 0,
      "outputs": []
    },
    {
      "cell_type": "code",
      "metadata": {
        "id": "rMsGajYjng90",
        "colab_type": "code",
        "outputId": "4401973d-beab-4e7a-a6ca-b328e7c4b49c",
        "colab": {}
      },
      "source": [
        "team_stats.head()"
      ],
      "execution_count": 0,
      "outputs": [
        {
          "output_type": "execute_result",
          "data": {
            "text/html": [
              "<div>\n",
              "<style scoped>\n",
              "    .dataframe tbody tr th:only-of-type {\n",
              "        vertical-align: middle;\n",
              "    }\n",
              "\n",
              "    .dataframe tbody tr th {\n",
              "        vertical-align: top;\n",
              "    }\n",
              "\n",
              "    .dataframe thead th {\n",
              "        text-align: right;\n",
              "    }\n",
              "</style>\n",
              "<table border=\"1\" class=\"dataframe\">\n",
              "  <thead>\n",
              "    <tr style=\"text-align: right;\">\n",
              "      <th></th>\n",
              "      <th>Team</th>\n",
              "      <th>HGS</th>\n",
              "      <th>AGS</th>\n",
              "      <th>HAS</th>\n",
              "      <th>AAS</th>\n",
              "      <th>HGC</th>\n",
              "      <th>AGC</th>\n",
              "      <th>HDS</th>\n",
              "      <th>ADS</th>\n",
              "      <th>HS</th>\n",
              "      <th>HST</th>\n",
              "      <th>AS</th>\n",
              "      <th>AST</th>\n",
              "      <th>HCON</th>\n",
              "      <th>ACON</th>\n",
              "      <th>HF</th>\n",
              "      <th>AF</th>\n",
              "      <th>HAGG</th>\n",
              "      <th>AAGG</th>\n",
              "    </tr>\n",
              "  </thead>\n",
              "  <tbody>\n",
              "    <tr>\n",
              "      <th>0</th>\n",
              "      <td>0</td>\n",
              "      <td>441</td>\n",
              "      <td>356</td>\n",
              "      <td>1.356923</td>\n",
              "      <td>1.454843</td>\n",
              "      <td>174</td>\n",
              "      <td>292</td>\n",
              "      <td>0.711075</td>\n",
              "      <td>1.193298</td>\n",
              "      <td>3448</td>\n",
              "      <td>1641</td>\n",
              "      <td>2724</td>\n",
              "      <td>1276</td>\n",
              "      <td>0.475928</td>\n",
              "      <td>0.468429</td>\n",
              "      <td>2137</td>\n",
              "      <td>2134</td>\n",
              "      <td>0.957201</td>\n",
              "      <td>0.911304</td>\n",
              "    </tr>\n",
              "    <tr>\n",
              "      <th>1</th>\n",
              "      <td>5</td>\n",
              "      <td>179</td>\n",
              "      <td>156</td>\n",
              "      <td>0.757308</td>\n",
              "      <td>0.876584</td>\n",
              "      <td>198</td>\n",
              "      <td>264</td>\n",
              "      <td>1.112587</td>\n",
              "      <td>1.483449</td>\n",
              "      <td>1804</td>\n",
              "      <td>812</td>\n",
              "      <td>1478</td>\n",
              "      <td>693</td>\n",
              "      <td>0.450111</td>\n",
              "      <td>0.468877</td>\n",
              "      <td>1639</td>\n",
              "      <td>1825</td>\n",
              "      <td>1.009440</td>\n",
              "      <td>1.071604</td>\n",
              "    </tr>\n",
              "    <tr>\n",
              "      <th>2</th>\n",
              "      <td>12</td>\n",
              "      <td>38</td>\n",
              "      <td>37</td>\n",
              "      <td>0.643077</td>\n",
              "      <td>0.831631</td>\n",
              "      <td>35</td>\n",
              "      <td>70</td>\n",
              "      <td>0.786678</td>\n",
              "      <td>1.573355</td>\n",
              "      <td>379</td>\n",
              "      <td>186</td>\n",
              "      <td>321</td>\n",
              "      <td>189</td>\n",
              "      <td>0.490765</td>\n",
              "      <td>0.588785</td>\n",
              "      <td>390</td>\n",
              "      <td>417</td>\n",
              "      <td>0.960785</td>\n",
              "      <td>0.979417</td>\n",
              "    </tr>\n",
              "    <tr>\n",
              "      <th>3</th>\n",
              "      <td>15</td>\n",
              "      <td>98</td>\n",
              "      <td>77</td>\n",
              "      <td>0.829231</td>\n",
              "      <td>0.865345</td>\n",
              "      <td>90</td>\n",
              "      <td>162</td>\n",
              "      <td>1.011443</td>\n",
              "      <td>1.820597</td>\n",
              "      <td>949</td>\n",
              "      <td>501</td>\n",
              "      <td>689</td>\n",
              "      <td>385</td>\n",
              "      <td>0.527924</td>\n",
              "      <td>0.558781</td>\n",
              "      <td>957</td>\n",
              "      <td>950</td>\n",
              "      <td>1.178809</td>\n",
              "      <td>1.115642</td>\n",
              "    </tr>\n",
              "    <tr>\n",
              "      <th>4</th>\n",
              "      <td>20</td>\n",
              "      <td>30</td>\n",
              "      <td>25</td>\n",
              "      <td>1.015385</td>\n",
              "      <td>1.123825</td>\n",
              "      <td>37</td>\n",
              "      <td>41</td>\n",
              "      <td>1.663261</td>\n",
              "      <td>1.843073</td>\n",
              "      <td>253</td>\n",
              "      <td>134</td>\n",
              "      <td>193</td>\n",
              "      <td>101</td>\n",
              "      <td>0.529644</td>\n",
              "      <td>0.523316</td>\n",
              "      <td>216</td>\n",
              "      <td>187</td>\n",
              "      <td>1.064254</td>\n",
              "      <td>0.878422</td>\n",
              "    </tr>\n",
              "  </tbody>\n",
              "</table>\n",
              "</div>"
            ],
            "text/plain": [
              "   Team  HGS  AGS       HAS       AAS  HGC  AGC       HDS       ADS    HS  \\\n",
              "0     0  441  356  1.356923  1.454843  174  292  0.711075  1.193298  3448   \n",
              "1     5  179  156  0.757308  0.876584  198  264  1.112587  1.483449  1804   \n",
              "2    12   38   37  0.643077  0.831631   35   70  0.786678  1.573355   379   \n",
              "3    15   98   77  0.829231  0.865345   90  162  1.011443  1.820597   949   \n",
              "4    20   30   25  1.015385  1.123825   37   41  1.663261  1.843073   253   \n",
              "\n",
              "    HST    AS   AST      HCON      ACON    HF    AF      HAGG      AAGG  \n",
              "0  1641  2724  1276  0.475928  0.468429  2137  2134  0.957201  0.911304  \n",
              "1   812  1478   693  0.450111  0.468877  1639  1825  1.009440  1.071604  \n",
              "2   186   321   189  0.490765  0.588785   390   417  0.960785  0.979417  \n",
              "3   501   689   385  0.527924  0.558781   957   950  1.178809  1.115642  \n",
              "4   134   193   101  0.529644  0.523316   216   187  1.064254  0.878422  "
            ]
          },
          "metadata": {
            "tags": []
          },
          "execution_count": 31
        }
      ]
    },
    {
      "cell_type": "markdown",
      "metadata": {
        "id": "BFFcOj4kng97",
        "colab_type": "text"
      },
      "source": [
        "Not all the features in the table above will be used in the final input features of the classifier. Some of these statistics are intermediate values which aided in the calculation of other statistics. For example the __HGS__ column was used to compute the __HAS__ column. "
      ]
    },
    {
      "cell_type": "markdown",
      "metadata": {
        "id": "HFcOfdXdng9-",
        "colab_type": "text"
      },
      "source": [
        "### Calculation of Form"
      ]
    },
    {
      "cell_type": "markdown",
      "metadata": {
        "id": "J8LjxJGRng-A",
        "colab_type": "text"
      },
      "source": [
        "Form is a calculation of a team's recent performance. Additionally these statistics vary with different allocations. (i.e. a team may have different __FFPTSH__ for different matches played at home). The function __get_features_match__ takes a match info and number of matches as inputs. The function then finds the number of past matches where the two teams played each other. If __n__ or more such matches exist, then the function computes 3 quantities: __FFPTSH__: Average points of home team in the past n matches against the away team, __FFHG__: Average goals of away team against home team in past n matches and __FFAG__: Average goals of home team against away team in the past n matches. If no matches are found then, the average quantities for these statistics are used. "
      ]
    },
    {
      "cell_type": "code",
      "metadata": {
        "id": "qHQdMMLQxZII",
        "colab_type": "code",
        "colab": {}
      },
      "source": [
        "def calc_points_and_goals(df,team_list):\n",
        "  # This ifs control if the current home team was home team or away in the past matches between the team in order\n",
        "  # to sum correctly home/away goals.\n",
        "  points=[]\n",
        "  for team in team_list:\n",
        "    if df['HomeTeam'] == team:\n",
        "        goals_home = df['FTHG']\n",
        "        goals_away = df['FTAG']\n",
        "        if df['FTR'] == 'H':\n",
        "            pts = 3\n",
        "        elif df['FTR'] == 'D':\n",
        "            pts = 1\n",
        "    if df['AwayTeam'] == team:\n",
        "        goals_home = df['FTAG'] \n",
        "        goals_away = df['FTHG']\n",
        "        if df['FTR'] == 'A':\n",
        "            pts = 3\n",
        "        elif df['FTR'] == 'D':\n",
        "            pts = 1\n",
        "    points.append(pts)\n",
        "  if len(team_list)==1:   \n",
        "    return pts[0], goals_home, goals_away\n",
        "  elif len(team_list)==2:   \n",
        "    return pts[0], pts[1], goals_home, goals_away"
      ],
      "execution_count": 0,
      "outputs": []
    },
    {
      "cell_type": "code",
      "metadata": {
        "id": "3w_2Ymolng-B",
        "colab_type": "code",
        "colab": {}
      },
      "source": [
        "def get_form_match(match, n=5):\n",
        "    team1 = match['HomeTeam']\n",
        "    team2 = match['AwayTeam']\n",
        "    # Constructing a table when all the matches between the two teams are shown.\n",
        "    res = data[((data['HomeTeam']==team1) & (data['AwayTeam']==team2)) | ((data['AwayTeam']==team1) & (data['HomeTeam']==team2))]\n",
        "    name = match.name\n",
        "    idx = res.index.get_loc(name)\n",
        "    if idx >= n: \n",
        "      #If there is at least n matches between the teams\n",
        "      matches = res.iloc[idx-n:idx]\n",
        "      matches[['pts_home','pts_away', 'goals_home', 'goals_away']]=matches.apply(calc_points_and_goals)\n",
        "      pts_home_avg = matches['pts_home'].sum()/n\n",
        "      pts_away_avg = matches['pts_away'].sum()/n\n",
        "      goals_home_avg = matches['goals_home'].sum()/n\n",
        "      goals_away_avg = matches['goals_away'].sum()/n\n",
        "    elif idx == 0: \n",
        "      # If there is 0 matches between the teams\n",
        "      pts_avg = average_home_points\n",
        "      pts_avg = average_away_points\n",
        "      goals_home_avg = average_home_goals\n",
        "      goals_away_avg = average_away_goals\n",
        "    else: \n",
        "      #Some games between the teams but not n\n",
        "      matches = res.iloc[0:idx]\n",
        "      m = len(matches)\n",
        "      matches[['pts_home','pts_away', 'goals_home', 'goals_away']]=matches.apply(calc_points_and_goals)\n",
        "      pts_home_avg = matches['pts_home'].sum()/m\n",
        "      pts_away_avg = matches['pts_away'].sum()/m\n",
        "      goals_home_avg = matches['goals_home'].sum()/m\n",
        "      goals_away_avg = matches['goals_away'].sum()/m\n",
        "    return pts_home_avg, pts_away_avg, goals_home_avg, goals_away_avg\n"
      ],
      "execution_count": 0,
      "outputs": []
    },
    {
      "cell_type": "markdown",
      "metadata": {
        "id": "YhK3IN_zng-I",
        "colab_type": "text"
      },
      "source": [
        "Another measure of form is the winning streak of the team. The fucntion __get_features_streak_home__ takes match info and the number of matches to consider as the inputs. It computes three quantities: __PSH__ the point streak of the home team, __SSH__ the average goals over the past __n__ games for the home team and __CSH__ the average goals conceded over the past __n__ matches for the home team. A similar function called __get_features_streak_away__ does the same for the away team. "
      ]
    },
    {
      "cell_type": "code",
      "metadata": {
        "id": "KaeZEpWZng-J",
        "colab_type": "code",
        "colab": {}
      },
      "source": [
        "def get_streak_team(match,team_type, n=15):\n",
        "    team = match[team_type]\n",
        "    team_stats = data[((data['HomeTeam']==team) | (data['AwayTeam']==team))]\n",
        "    name = match.name\n",
        "    idx = team_stats.index.get_loc(name)\n",
        "    if idx == 0:\n",
        "        pts_avg = average_home_points\n",
        "        goals_scored_avg = average_home_goals\n",
        "        goals_conceded_avg = average_away_goals\n",
        "    else:\n",
        "        if idx-n < 0:\n",
        "            newidx = 0\n",
        "        else:\n",
        "            newidx = idx - n\n",
        "        matches_team = team_stats.iloc[newidx:idx]\n",
        "        m = len(matches_team)\n",
        "        matches_team[['pts_home', 'goals_home', 'goals_away']]=matches_team.apply(calc_points_and_goals)\n",
        "        pts_home_avg = matches_team['pts_home'].sum()/n\n",
        "        goals_home_avg = matches_team['goals_home'].sum()/n\n",
        "        goals_away_avg = matches_team['goals_away'].sum()/n\n",
        "        pts_avg = pts/m\n",
        "        goals_scored_avg = goals_scored/m\n",
        "        goals_conceded_avg = goals_conceded/m\n",
        "    return pts_avg, goals_scored_avg, goals_conceded_avg"
      ],
      "execution_count": 0,
      "outputs": []
    },
    {
      "cell_type": "code",
      "metadata": {
        "id": "08bKdLrDng-Q",
        "colab_type": "code",
        "colab": {}
      },
      "source": [
        ""
      ],
      "execution_count": 0,
      "outputs": []
    },
    {
      "cell_type": "markdown",
      "metadata": {
        "id": "y_T1hK7png-V",
        "colab_type": "text"
      },
      "source": [
        "# Data Pre-Processing"
      ]
    },
    {
      "cell_type": "markdown",
      "metadata": {
        "id": "DQf15nm2ng-Y",
        "colab_type": "text"
      },
      "source": [
        "### Defining Input Features and Output Labels"
      ]
    },
    {
      "cell_type": "markdown",
      "metadata": {
        "id": "rm9Dl1Nwng-Z",
        "colab_type": "text"
      },
      "source": [
        "The input features are the features that will eventually be used to train the classifier. Additionally the labels are the observed outcomes. The labels will be used to find the error in the classifier and thereby train the classifier. The function __match_with_team_stats__ add rows from the table __team_stats__ onto the table __X__ according to the value taken by __left_on__. This will be used to add team statistics of the home and away team as features. The __build_X__ function takes inputs of two tables __X__ and __team_stats__. It returns a complete table representing the full feature matrix that will be used to train and test models."
      ]
    },
    {
      "cell_type": "code",
      "metadata": {
        "id": "J6EkL-5Gng-c",
        "colab_type": "code",
        "colab": {}
      },
      "source": [
        "def match_with_team_stats(X,team_stats,col_to_add,left_on,right_on='Team'):\n",
        "    X=pd.merge(X,team_stats[[right_on,col_to_add]],how='left',left_on=left_on,right_on=right_on,sort=False).\\\n",
        "                                                                                    drop(right_on, axis = 1) \n",
        "    return X"
      ],
      "execution_count": 0,
      "outputs": []
    },
    {
      "cell_type": "code",
      "metadata": {
        "id": "Hcal8LcYng-n",
        "colab_type": "code",
        "colab": {}
      },
      "source": [
        "def build_X(X,team_stats):\n",
        "    # Add Home Attacking Strength(HAS), Home Defensive Strength(HDS), Away Attacking Strength(AAS), \n",
        "    # Away Defensive Strength(ADS)\n",
        "    X = match_with_team_stats(X,team_stats,'HAS','HomeTeam')\n",
        "    X = match_with_team_stats(X,team_stats,'HDS','HomeTeam')\n",
        "    X = match_with_team_stats(X,team_stats,'HCON','HomeTeam')\n",
        "    X = match_with_team_stats(X,team_stats,'HAGG','HomeTeam')\n",
        "    \n",
        "    X = match_with_team_stats(X,team_stats,'AAS','AwayTeam')\n",
        "    X = match_with_team_stats(X,team_stats,'ADS','AwayTeam')\n",
        "    X = match_with_team_stats(X,team_stats,'ACON','AwayTeam')\n",
        "    X = match_with_team_stats(X,team_stats,'AAGG','AwayTeam')\n",
        "    \n",
        "    # Add Home Shots on Target(HST), Away Shots on Target(AST), Home Corners(HC), Away Corners(AC) ??\n",
        "    X[['FFPTSH','FFPTSA','FFHG','FFAG']] = X.apply(get_form_match, axis=1, result_type='expand')\n",
        "    X[['PSH','SSH','CSH']] = X.apply(get_streak_team, axis=1, result_type='expand')\n",
        "    X[['PSA','SSA','CSA']] = X.apply(get_streak_team, axis=1, result_type='expand')\n",
        "    \n",
        "    return X"
      ],
      "execution_count": 0,
      "outputs": []
    },
    {
      "cell_type": "code",
      "metadata": {
        "id": "eXwiB8V9ng-s",
        "colab_type": "code",
        "outputId": "df85d8e5-c285-4695-8132-82a9b24eb915",
        "colab": {}
      },
      "source": [
        "X = data[['HomeTeam', 'AwayTeam']]\n",
        "X = build_X(X,team_stats)\n",
        "\n",
        "X.tail()"
      ],
      "execution_count": 0,
      "outputs": [
        {
          "output_type": "execute_result",
          "data": {
            "text/html": [
              "<div>\n",
              "<style scoped>\n",
              "    .dataframe tbody tr th:only-of-type {\n",
              "        vertical-align: middle;\n",
              "    }\n",
              "\n",
              "    .dataframe tbody tr th {\n",
              "        vertical-align: top;\n",
              "    }\n",
              "\n",
              "    .dataframe thead th {\n",
              "        text-align: right;\n",
              "    }\n",
              "</style>\n",
              "<table border=\"1\" class=\"dataframe\">\n",
              "  <thead>\n",
              "    <tr style=\"text-align: right;\">\n",
              "      <th></th>\n",
              "      <th>HomeTeam</th>\n",
              "      <th>AwayTeam</th>\n",
              "      <th>HAS</th>\n",
              "      <th>HDS</th>\n",
              "      <th>HCON</th>\n",
              "      <th>HAGG</th>\n",
              "      <th>AAS</th>\n",
              "      <th>ADS</th>\n",
              "      <th>ACON</th>\n",
              "      <th>AAGG</th>\n",
              "      <th>FFPTSH</th>\n",
              "      <th>FFHG</th>\n",
              "      <th>FFAG</th>\n",
              "      <th>PSH</th>\n",
              "      <th>SSH</th>\n",
              "      <th>CSH</th>\n",
              "      <th>PSA</th>\n",
              "      <th>SSA</th>\n",
              "      <th>CSA</th>\n",
              "    </tr>\n",
              "  </thead>\n",
              "  <tbody>\n",
              "    <tr>\n",
              "      <th>4175</th>\n",
              "      <td>17</td>\n",
              "      <td>35</td>\n",
              "      <td>1.101538</td>\n",
              "      <td>0.919493</td>\n",
              "      <td>0.442366</td>\n",
              "      <td>1.014983</td>\n",
              "      <td>0.472007</td>\n",
              "      <td>1.505926</td>\n",
              "      <td>0.384393</td>\n",
              "      <td>1.129735</td>\n",
              "      <td>0.0</td>\n",
              "      <td>2.000000</td>\n",
              "      <td>0.400000</td>\n",
              "      <td>0.0</td>\n",
              "      <td>2.466667</td>\n",
              "      <td>0.800000</td>\n",
              "      <td>0.0</td>\n",
              "      <td>1.600000</td>\n",
              "      <td>1.066667</td>\n",
              "    </tr>\n",
              "    <tr>\n",
              "      <th>4176</th>\n",
              "      <td>19</td>\n",
              "      <td>9</td>\n",
              "      <td>0.693846</td>\n",
              "      <td>1.640785</td>\n",
              "      <td>0.310044</td>\n",
              "      <td>0.891805</td>\n",
              "      <td>1.356763</td>\n",
              "      <td>1.144258</td>\n",
              "      <td>0.455481</td>\n",
              "      <td>0.971516</td>\n",
              "      <td>0.0</td>\n",
              "      <td>3.000000</td>\n",
              "      <td>1.000000</td>\n",
              "      <td>0.0</td>\n",
              "      <td>1.400000</td>\n",
              "      <td>1.333333</td>\n",
              "      <td>0.0</td>\n",
              "      <td>0.866667</td>\n",
              "      <td>1.866667</td>\n",
              "    </tr>\n",
              "    <tr>\n",
              "      <th>4177</th>\n",
              "      <td>26</td>\n",
              "      <td>14</td>\n",
              "      <td>0.752137</td>\n",
              "      <td>1.073877</td>\n",
              "      <td>0.426641</td>\n",
              "      <td>1.024837</td>\n",
              "      <td>0.842869</td>\n",
              "      <td>1.505926</td>\n",
              "      <td>0.474432</td>\n",
              "      <td>1.036960</td>\n",
              "      <td>0.0</td>\n",
              "      <td>1.333333</td>\n",
              "      <td>0.666667</td>\n",
              "      <td>0.0</td>\n",
              "      <td>1.400000</td>\n",
              "      <td>1.666667</td>\n",
              "      <td>0.0</td>\n",
              "      <td>0.533333</td>\n",
              "      <td>2.533333</td>\n",
              "    </tr>\n",
              "    <tr>\n",
              "      <th>4178</th>\n",
              "      <td>30</td>\n",
              "      <td>12</td>\n",
              "      <td>0.724308</td>\n",
              "      <td>1.303637</td>\n",
              "      <td>0.396022</td>\n",
              "      <td>1.162796</td>\n",
              "      <td>0.831631</td>\n",
              "      <td>1.573355</td>\n",
              "      <td>0.588785</td>\n",
              "      <td>0.979417</td>\n",
              "      <td>0.0</td>\n",
              "      <td>3.400000</td>\n",
              "      <td>1.000000</td>\n",
              "      <td>0.0</td>\n",
              "      <td>1.266667</td>\n",
              "      <td>1.000000</td>\n",
              "      <td>0.0</td>\n",
              "      <td>1.266667</td>\n",
              "      <td>0.866667</td>\n",
              "    </tr>\n",
              "    <tr>\n",
              "      <th>4179</th>\n",
              "      <td>31</td>\n",
              "      <td>33</td>\n",
              "      <td>0.913846</td>\n",
              "      <td>1.159787</td>\n",
              "      <td>0.408699</td>\n",
              "      <td>0.980986</td>\n",
              "      <td>0.977728</td>\n",
              "      <td>1.652023</td>\n",
              "      <td>0.345367</td>\n",
              "      <td>0.829099</td>\n",
              "      <td>0.0</td>\n",
              "      <td>1.800000</td>\n",
              "      <td>1.000000</td>\n",
              "      <td>0.0</td>\n",
              "      <td>1.266667</td>\n",
              "      <td>1.533333</td>\n",
              "      <td>0.0</td>\n",
              "      <td>1.200000</td>\n",
              "      <td>1.466667</td>\n",
              "    </tr>\n",
              "  </tbody>\n",
              "</table>\n",
              "</div>"
            ],
            "text/plain": [
              "      HomeTeam  AwayTeam       HAS       HDS      HCON      HAGG       AAS  \\\n",
              "4175        17        35  1.101538  0.919493  0.442366  1.014983  0.472007   \n",
              "4176        19         9  0.693846  1.640785  0.310044  0.891805  1.356763   \n",
              "4177        26        14  0.752137  1.073877  0.426641  1.024837  0.842869   \n",
              "4178        30        12  0.724308  1.303637  0.396022  1.162796  0.831631   \n",
              "4179        31        33  0.913846  1.159787  0.408699  0.980986  0.977728   \n",
              "\n",
              "           ADS      ACON      AAGG  FFPTSH      FFHG      FFAG  PSH       SSH  \\\n",
              "4175  1.505926  0.384393  1.129735     0.0  2.000000  0.400000  0.0  2.466667   \n",
              "4176  1.144258  0.455481  0.971516     0.0  3.000000  1.000000  0.0  1.400000   \n",
              "4177  1.505926  0.474432  1.036960     0.0  1.333333  0.666667  0.0  1.400000   \n",
              "4178  1.573355  0.588785  0.979417     0.0  3.400000  1.000000  0.0  1.266667   \n",
              "4179  1.652023  0.345367  0.829099     0.0  1.800000  1.000000  0.0  1.266667   \n",
              "\n",
              "           CSH  PSA       SSA       CSA  \n",
              "4175  0.800000  0.0  1.600000  1.066667  \n",
              "4176  1.333333  0.0  0.866667  1.866667  \n",
              "4177  1.666667  0.0  0.533333  2.533333  \n",
              "4178  1.000000  0.0  1.266667  0.866667  \n",
              "4179  1.533333  0.0  1.200000  1.466667  "
            ]
          },
          "metadata": {
            "tags": []
          },
          "execution_count": 37
        }
      ]
    },
    {
      "cell_type": "code",
      "metadata": {
        "id": "nok7uDyeng-z",
        "colab_type": "code",
        "outputId": "19b799c7-0c73-4f87-9ad4-e4d42971e984",
        "colab": {}
      },
      "source": [
        "y = data[['FTR']]\n",
        "\n",
        "y.head()"
      ],
      "execution_count": 0,
      "outputs": [
        {
          "output_type": "execute_result",
          "data": {
            "text/html": [
              "<div>\n",
              "<style scoped>\n",
              "    .dataframe tbody tr th:only-of-type {\n",
              "        vertical-align: middle;\n",
              "    }\n",
              "\n",
              "    .dataframe tbody tr th {\n",
              "        vertical-align: top;\n",
              "    }\n",
              "\n",
              "    .dataframe thead th {\n",
              "        text-align: right;\n",
              "    }\n",
              "</style>\n",
              "<table border=\"1\" class=\"dataframe\">\n",
              "  <thead>\n",
              "    <tr style=\"text-align: right;\">\n",
              "      <th></th>\n",
              "      <th>FTR</th>\n",
              "    </tr>\n",
              "  </thead>\n",
              "  <tbody>\n",
              "    <tr>\n",
              "      <th>0</th>\n",
              "      <td>2</td>\n",
              "    </tr>\n",
              "    <tr>\n",
              "      <th>1</th>\n",
              "      <td>2</td>\n",
              "    </tr>\n",
              "    <tr>\n",
              "      <th>2</th>\n",
              "      <td>0</td>\n",
              "    </tr>\n",
              "    <tr>\n",
              "      <th>3</th>\n",
              "      <td>2</td>\n",
              "    </tr>\n",
              "    <tr>\n",
              "      <th>4</th>\n",
              "      <td>2</td>\n",
              "    </tr>\n",
              "  </tbody>\n",
              "</table>\n",
              "</div>"
            ],
            "text/plain": [
              "   FTR\n",
              "0    2\n",
              "1    2\n",
              "2    0\n",
              "3    2\n",
              "4    2"
            ]
          },
          "metadata": {
            "tags": []
          },
          "execution_count": 38
        }
      ]
    },
    {
      "cell_type": "markdown",
      "metadata": {
        "id": "PdCKYplung-3",
        "colab_type": "text"
      },
      "source": [
        "### Label Encoding Categorical Columns"
      ]
    },
    {
      "cell_type": "code",
      "metadata": {
        "id": "X2ZQ3wTsng-5",
        "colab_type": "code",
        "colab": {}
      },
      "source": [
        "for column in ['HomeTeam','AwayTeam']:\n",
        "    X[column] = LabelEncoder().fit_transform(X[column])\n",
        "y = LabelEncoder().fit_transform(y)"
      ],
      "execution_count": 0,
      "outputs": []
    },
    {
      "cell_type": "markdown",
      "metadata": {
        "id": "pvDuQ4Qang--",
        "colab_type": "text"
      },
      "source": [
        "### Exploratory Data Analysis on Engineered Features"
      ]
    },
    {
      "cell_type": "markdown",
      "metadata": {
        "id": "ZwTMgrPmng_A",
        "colab_type": "text"
      },
      "source": [
        "A histogram plot of the number of occurances of the different values of each features."
      ]
    },
    {
      "cell_type": "code",
      "metadata": {
        "id": "udAtz1Ryng_C",
        "colab_type": "code",
        "outputId": "94153635-6a57-43e0-f165-460828c37583",
        "colab": {}
      },
      "source": [
        "data_for_cor = X\n",
        "data_for_cor['FTR'] = y\n",
        "\n",
        "data_for_cor.hist(figsize=(16, 20), bins=20, xlabelsize=8, ylabelsize=8)\n",
        "sns.set_style(\"white\")"
      ],
      "execution_count": 0,
      "outputs": [
        {
          "output_type": "display_data",
          "data": {
            "image/png": "[encoded data removed]",
            "text/plain": [
              "<Figure size 1152x1440 with 20 Axes>"
            ]
          },
          "metadata": {
            "tags": []
          }
        }
      ]
    },
    {
      "cell_type": "markdown",
      "metadata": {
        "id": "UryyqXqnng_K",
        "colab_type": "text"
      },
      "source": [
        "#### Correlation plot for Engineered Features"
      ]
    },
    {
      "cell_type": "markdown",
      "metadata": {
        "id": "Yu0Zx32Ing_N",
        "colab_type": "text"
      },
      "source": [
        "Similar to the correlation matrix plot for the raw column data, this plot visualizes the correlation between the engineered featuers, the competing teams and the full time result. This is represented on a heatmap."
      ]
    },
    {
      "cell_type": "code",
      "metadata": {
        "id": "qUSANXbkng_O",
        "colab_type": "code",
        "outputId": "f44bc2f5-1ca6-4c8c-f939-d4a37b9bbd76",
        "colab": {}
      },
      "source": [
        "plt.figure(figsize=(20,15))\n",
        "ax = plt.subplot(111)\n",
        "ax.set_title(\"Heatmap of Correllation Matrix for Columns in Raw Dataset\")\n",
        "sns.heatmap(data_for_cor.corr(), annot = True, fmt='.1f', cmap= 'coolwarm', ax=ax)"
      ],
      "execution_count": 0,
      "outputs": [
        {
          "output_type": "execute_result",
          "data": {
            "text/plain": [
              "<matplotlib.axes._subplots.AxesSubplot at 0x1e6e01b0>"
            ]
          },
          "metadata": {
            "tags": []
          },
          "execution_count": 41
        },
        {
          "output_type": "display_data",
          "data": {
            "image/png": "[encoded data removed]",
            "text/plain": [
              "<Figure size 1440x1080 with 2 Axes>"
            ]
          },
          "metadata": {
            "tags": []
          }
        }
      ]
    },
    {
      "cell_type": "markdown",
      "metadata": {
        "id": "RreVV7kFng_U",
        "colab_type": "text"
      },
      "source": [
        "### Scaling the features"
      ]
    },
    {
      "cell_type": "code",
      "metadata": {
        "id": "-DUbTBJGng_V",
        "colab_type": "code",
        "outputId": "7bb8eded-a01a-44b2-f7a1-5409c561693f",
        "colab": {}
      },
      "source": [
        "X = X.apply(MinMaxScaler().fit_transform)"
      ],
      "execution_count": 0,
      "outputs": [
        {
          "output_type": "error",
          "ename": "NameError",
          "evalue": "name 'X' is not defined",
          "traceback": [
            "\u001b[1;31m---------------------------------------------------------------------------\u001b[0m",
            "\u001b[1;31mNameError\u001b[0m                                 Traceback (most recent call last)",
            "\u001b[1;32m<ipython-input-54-e9416e489edd>\u001b[0m in \u001b[0;36m<module>\u001b[1;34m\u001b[0m\n\u001b[1;32m----> 1\u001b[1;33m \u001b[0mX\u001b[0m \u001b[1;33m=\u001b[0m \u001b[0mX\u001b[0m\u001b[1;33m.\u001b[0m\u001b[0mapply\u001b[0m\u001b[1;33m(\u001b[0m\u001b[0mMinMaxScaler\u001b[0m\u001b[1;33m(\u001b[0m\u001b[1;33m)\u001b[0m\u001b[1;33m.\u001b[0m\u001b[0mfit_transform\u001b[0m\u001b[1;33m)\u001b[0m\u001b[1;33m\u001b[0m\u001b[1;33m\u001b[0m\u001b[0m\n\u001b[0m",
            "\u001b[1;31mNameError\u001b[0m: name 'X' is not defined"
          ]
        }
      ]
    },
    {
      "cell_type": "markdown",
      "metadata": {
        "id": "_AE45x86ng_a",
        "colab_type": "text"
      },
      "source": [
        "### Splitting into training and testing datasets"
      ]
    },
    {
      "cell_type": "markdown",
      "metadata": {
        "id": "Ug2vPjuong_b",
        "colab_type": "text"
      },
      "source": [
        "Splitting the full list of input features into training and testing datasets. The output labels are also split accordingly. The decided splitting ratio is 1:4 (test:train)."
      ]
    },
    {
      "cell_type": "code",
      "metadata": {
        "id": "K1Wz9s6hng_d",
        "colab_type": "code",
        "colab": {}
      },
      "source": [
        "X_train, X_test, y_train, y_test = train_test_split(X, Y, test_size=0.2, random_state=42)"
      ],
      "execution_count": 0,
      "outputs": []
    },
    {
      "cell_type": "markdown",
      "metadata": {
        "id": "SPCsgT5bng_i",
        "colab_type": "text"
      },
      "source": [
        "# Model Training"
      ]
    },
    {
      "cell_type": "markdown",
      "metadata": {
        "id": "uEJP4PFgng_j",
        "colab_type": "text"
      },
      "source": [
        "#### Functions to train the classifiers"
      ]
    },
    {
      "cell_type": "code",
      "metadata": {
        "id": "5SpjhESung_l",
        "colab_type": "code",
        "colab": {}
      },
      "source": [
        "def get_scores(model,X,y):\n",
        "    '''\n",
        "    Parameters:\n",
        "        model\n",
        "        X\n",
        "        y\n",
        "    \n",
        "    Returns:\n",
        "    '''\n",
        "    scores = cross_validate(model_LR, X, y, scoring=('accuracy','f1_macro','precision_macro','recall_macro','roc_auc_ovr'),\n",
        "                            cv=10, return_train_score=True,n_jobs=n_cpu)\n",
        "    print('Accuracy: %f'%(scores['test_accuracy'].mean()))\n",
        "    print('Precision: %f'%(scores['test_precision_macro'].mean()))\n",
        "    print('Recall: %f'%(scores['test_recall_macro'].mean()))\n",
        "    print('f1 Score: %f'%(scores['test_f1_macro'].mean()))\n",
        "    print('ROC-AUC: %f'%(scores['test_roc_auc_ovr'].mean()))\n",
        "    return scores"
      ],
      "execution_count": 0,
      "outputs": []
    },
    {
      "cell_type": "code",
      "metadata": {
        "id": "dO0_Xu8yng_v",
        "colab_type": "code",
        "colab": {}
      },
      "source": [
        "def get_best_params_RandomizedCV(model,X,y,param_grid,refit='accuracy'):\n",
        "    '''\n",
        "    This function executes the RandomizedSearchCV() to tune the \n",
        "    hyperparameters, prints the best scores and returns the list of \n",
        "    best performing hyperparameters.\n",
        "    \n",
        "    Parameters:\n",
        "        model\n",
        "        X\n",
        "        y\n",
        "        param_grid\n",
        "        refit='accuracy'\n",
        "    \n",
        "    Returns:\n",
        "        grid_results.best_params_ (dictionary):\n",
        "    '''\n",
        "    scoring=('accuracy','f1_macro','roc_auc_ovr')\n",
        "    other_scores=[score for score in list(scoring) if score!=refit] \n",
        "    grid_results = RandomizedSearchCV(model, param_grid, \n",
        "                                       cv=10,n_jobs=n_cpu,\n",
        "                                       scoring=scoring,\n",
        "                                       refit=refit)\n",
        "    grid_results.fit(X, y)\n",
        "    print('Best parameters: \\n',grid_results.best_params_)\n",
        "    cv_results=grid_results.cv_results_\n",
        "    best_index_results = np.nonzero(cv_results['rank_test_%s'%(refit)] == 1)[0][0]\n",
        "    print('Best mean %s Score: '%(refit),grid_results.best_score_)\n",
        "    print('Best mean %s Score: '%(other_scores[0]),cv_results['mean_test_%s'%(other_scores[0])][best_index_results])\n",
        "    print('Best mean %s Score: '%(other_scores[1]),cv_results['mean_test_%s'%(other_scores[0])][best_index_results])\n",
        "    return grid_results.best_params_"
      ],
      "execution_count": 0,
      "outputs": []
    },
    {
      "cell_type": "code",
      "metadata": {
        "id": "hIenirnqnhAD",
        "colab_type": "code",
        "colab": {}
      },
      "source": [
        "def get_best_params_GridCV(model,X,y,param_grid,refit='accuracy'):\n",
        "    '''\n",
        "    This function executes the GridSearchCV() to tune the \n",
        "    hyperparameters, prints the best scores and returns the list of \n",
        "    best performing hyperparameters.\n",
        "    \n",
        "    Parameters:\n",
        "    model\n",
        "    X\n",
        "    y\n",
        "    param_grid\n",
        "    refit='accuracy'\n",
        "    \n",
        "    Returns:\n",
        "    grid_results.best_params_ (dictionary):\n",
        "    '''\n",
        "    scoring=('accuracy','f1_macro','roc_auc_ovr')\n",
        "    other_scores=[score for score in list(scoring) if score!=refit] \n",
        "    grid_results = GridSearchCV(model, param_grid, \n",
        "                                       cv=10,n_jobs=n_cpu,\n",
        "                                       scoring=scoring,\n",
        "                                       refit=refit)\n",
        "    grid_results.fit(X, y)\n",
        "    print('Best parameters: \\n',grid_results.best_params_)\n",
        "    cv_results=grid_results.cv_results_\n",
        "    best_index_results = np.nonzero(cv_results['rank_test_%s'%(refit)] == 1)[0][0]\n",
        "    print('Best mean %s Score: '%(refit),grid_results.best_score_)\n",
        "    print('Best mean %s Score: '%(other_scores[0]),cv_results['mean_test_%s'%(other_scores[0])][best_index_results])\n",
        "    print('Best mean %s Score: '%(other_scores[1]),cv_results['mean_test_%s'%(other_scores[0])][best_index_results])\n",
        "    return grid_results.best_params_"
      ],
      "execution_count": 0,
      "outputs": []
    },
    {
      "cell_type": "markdown",
      "metadata": {
        "id": "JNuJFxKBnhAJ",
        "colab_type": "text"
      },
      "source": [
        "### Logistic Regression"
      ]
    },
    {
      "cell_type": "code",
      "metadata": {
        "id": "M8I3N406nhAK",
        "colab_type": "code",
        "outputId": "fa680332-2da4-484a-c53a-915e10c64db4",
        "colab": {}
      },
      "source": [
        "model_LR = LogisticRegression(n_jobs=n_cpu)\n",
        "scores_LR=get_scores(model_LR,X_train,y_train)\n",
        "\n",
        "np.random.seed(int(time.time()))\n",
        "\n",
        "param_grid_LR={'penalty' : ['l1', 'l2', 'elasticnet'],\n",
        "               'C' : [1, 10, 100, 1000],\n",
        "               'solver' : ['newton-cg', 'sag','saga', 'lbfgs'],\n",
        "              'fit_intercept' : [True, False]}\n",
        "\n",
        "best_params_LR=get_best_params_GridCV(model_LR, X_train, y_train, param_grid_LR, refit='accuracy')"
      ],
      "execution_count": 0,
      "outputs": [
        {
          "output_type": "stream",
          "text": [
            "Accuracy: 1.000000\n",
            "Precision: 1.000000\n",
            "Recall: 1.000000\n",
            "f1 Score: 1.000000\n",
            "ROC-AUC: 1.000000\n",
            "Best parameters: \n",
            " {'C': 1, 'fit_intercept': True, 'penalty': 'l1', 'solver': 'saga'}\n",
            "Best mean accuracy Score:  1.0\n",
            "Best mean f1_macro Score:  1.0\n",
            "Best mean roc_auc_ovr Score:  1.0\n"
          ],
          "name": "stdout"
        }
      ]
    },
    {
      "cell_type": "markdown",
      "metadata": {
        "id": "xMdh41PTnhAR",
        "colab_type": "text"
      },
      "source": [
        "### Multi-Layer Perceptron Neural Network"
      ]
    },
    {
      "cell_type": "code",
      "metadata": {
        "id": "rtmggDecnhAU",
        "colab_type": "code",
        "outputId": "9c772951-9c12-4fd0-ba42-d4d7f3eb38e4",
        "colab": {}
      },
      "source": [
        "model_mlp = MLPClassifier(solver='sgd',activation='identity',learning_rate='adaptive', \n",
        "                          hidden_layer_sizes=(8, 2), random_state=76)\n",
        "scores_mlp=get_scores(model_nlp,X_train,y_train)\n",
        "\n",
        "\n",
        "param_grid_LR={'penalty' : ['l1', 'l2', 'elasticnet'],\n",
        "               'solver' : ['newton-cg', 'sag','saga', 'lbfgs'],\n",
        "              'fit_intercept' : [True, False]}\n",
        "best_params_LR=get_best_params_GridCV(model_LR,X_train,y_train,param_grid_LR,refit='accuracy')\n",
        "\n",
        "get_scores(model_tuned, X, y)"
      ],
      "execution_count": 0,
      "outputs": [
        {
          "output_type": "error",
          "ename": "NameError",
          "evalue": "name 'MLPClassifier' is not defined",
          "traceback": [
            "\u001b[1;31m---------------------------------------------------------------------------\u001b[0m",
            "\u001b[1;31mNameError\u001b[0m                                 Traceback (most recent call last)",
            "\u001b[1;32m<ipython-input-47-f4764eb6b75b>\u001b[0m in \u001b[0;36m<module>\u001b[1;34m\u001b[0m\n\u001b[1;32m----> 1\u001b[1;33m model_mlp = MLPClassifier(solver='sgd',activation='identity',learning_rate='adaptive', \n\u001b[0m\u001b[0;32m      2\u001b[0m                           hidden_layer_sizes=(8, 2), random_state=76)\n\u001b[0;32m      3\u001b[0m \u001b[0mscores_mlp\u001b[0m\u001b[1;33m=\u001b[0m\u001b[0mget_scores\u001b[0m\u001b[1;33m(\u001b[0m\u001b[0mmodel_nlp\u001b[0m\u001b[1;33m,\u001b[0m\u001b[0mX_train\u001b[0m\u001b[1;33m,\u001b[0m\u001b[0my_train\u001b[0m\u001b[1;33m)\u001b[0m\u001b[1;33m\u001b[0m\u001b[1;33m\u001b[0m\u001b[0m\n\u001b[0;32m      4\u001b[0m \u001b[1;33m\u001b[0m\u001b[0m\n\u001b[0;32m      5\u001b[0m \u001b[1;33m\u001b[0m\u001b[0m\n",
            "\u001b[1;31mNameError\u001b[0m: name 'MLPClassifier' is not defined"
          ]
        }
      ]
    }
  ]
}