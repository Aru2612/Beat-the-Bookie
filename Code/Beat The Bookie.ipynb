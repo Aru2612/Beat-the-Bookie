{
 "cells": [
  {
   "cell_type": "markdown",
   "metadata": {
    "colab_type": "text",
    "id": "HZT8d2PCngzV"
   },
   "source": [
    "# Introduction"
   ]
  },
  {
   "cell_type": "markdown",
   "metadata": {
    "colab_type": "text",
    "id": "AGX31RtBngz6"
   },
   "source": [
    "#_Brief Introduction to the project and its goals._#"
   ]
  },
  {
   "cell_type": "markdown",
   "metadata": {
    "colab_type": "text",
    "id": "oKmpcN7Nng0A"
   },
   "source": [
    "# Setting up the Environment"
   ]
  },
  {
   "cell_type": "markdown",
   "metadata": {
    "colab_type": "text",
    "id": "2xhaP9Wmng0F"
   },
   "source": [
    "### Importing Libraries"
   ]
  },
  {
   "cell_type": "code",
   "execution_count": 1,
   "metadata": {
    "ExecuteTime": {
     "end_time": "2020-01-05T04:52:43.524147Z",
     "start_time": "2020-01-05T04:52:37.810522Z"
    },
    "colab": {},
    "colab_type": "code",
    "id": "JkT3cWFIng0M",
    "scrolled": true
   },
   "outputs": [],
   "source": [
    "import os\n",
    "import warnings\n",
    "\n",
    "import requests\n",
    "import urllib.request\n",
    "\n",
    "import time\n",
    "from dateutil import relativedelta\n",
    "\n",
    "import multiprocessing as mp\n",
    "\n",
    "from IPython.display import HTML, display\n",
    "\n",
    "import numpy as np\n",
    "import pandas as pd\n",
    "\n",
    "import matplotlib as mpl\n",
    "import matplotlib.pyplot as plt\n",
    "\n",
    "import seaborn as sns\n",
    "\n",
    "# Data pre-processing\n",
    "from sklearn.preprocessing import LabelEncoder, MinMaxScaler, label_binarize\n",
    "\n",
    "# Model Selection\n",
    "from sklearn.model_selection import train_test_split\n",
    "from sklearn.model_selection import cross_validate\n",
    "from sklearn.model_selection import GridSearchCV, RandomizedSearchCV\n",
    "\n",
    "# Metrics\n",
    "from sklearn.metrics import accuracy_score, precision_score, recall_score, f1_score, roc_auc_score\n",
    "from sklearn.multiclass import OneVsRestClassifier\n",
    "from sklearn.metrics import plot_confusion_matrix\n",
    "\n",
    "# Models\n",
    "from sklearn.linear_model import LogisticRegression, SGDClassifier\n",
    "from sklearn.naive_bayes import GaussianNB\n",
    "from sklearn.neighbors import KNeighborsClassifier\n",
    "from sklearn.svm import SVC\n",
    "from sklearn.ensemble import RandomForestClassifier, ExtraTreesClassifier\n",
    "from sklearn.tree import DecisionTreeClassifier\n",
    "from sklearn.neural_network import MLPClassifier\n",
    "from xgboost import XGBClassifier\n",
    "\n",
    "from sklearn.decomposition import PCA"
   ]
  },
  {
   "cell_type": "markdown",
   "metadata": {
    "colab_type": "text",
    "id": "IQMEfR2rng0b"
   },
   "source": [
    "### Notebook Display Settings\n"
   ]
  },
  {
   "cell_type": "code",
   "execution_count": 2,
   "metadata": {
    "ExecuteTime": {
     "end_time": "2020-01-05T04:52:43.530142Z",
     "start_time": "2020-01-05T04:52:43.526146Z"
    },
    "colab": {},
    "colab_type": "code",
    "id": "D3dFfH4nng0g"
   },
   "outputs": [],
   "source": [
    "# Change the maximum number of rows displayed when viewing the pandas dataframe\n",
    "pd.set_option('display.max_rows', 100)\n",
    "pd.set_option('display.max_columns', 50)\n",
    "\n",
    "# Suppress all warnings\n",
    "warnings.filterwarnings(\"ignore\")"
   ]
  },
  {
   "cell_type": "markdown",
   "metadata": {
    "colab_type": "text",
    "id": "csSFOOxSng0v"
   },
   "source": [
    "### Default Figure Settings"
   ]
  },
  {
   "cell_type": "code",
   "execution_count": 3,
   "metadata": {
    "ExecuteTime": {
     "end_time": "2020-01-05T04:52:43.538145Z",
     "start_time": "2020-01-05T04:52:43.532141Z"
    },
    "colab": {},
    "colab_type": "code",
    "id": "RHJsDRCVng02"
   },
   "outputs": [],
   "source": [
    "# Set plot properties\n",
    "mpl.rcParams['axes.titlesize'] = 20\n",
    "mpl.rcParams['axes.labelsize'] = 16\n",
    "mpl.rcParams['axes.titleweight']='bold'\n",
    "mpl.rcParams['axes.labelweight']='normal'\n",
    "mpl.rcParams['figure.figsize']=(8,6)\n",
    "\n",
    "# Choose the font for the plots based on os (as some fonts are not available across different os)\n",
    "if os.name=='nt':\n",
    "    mpl.rcParams['font.family'] = \"sans-serif\"\n",
    "    mpl.rcParams['font.sans-serif'] = \"Arial\"\n",
    "elif os.name=='posix':  \n",
    "    mpl.rcParams['font.family'] = \"Mukti Narrow\"\n",
    "\n",
    "# Enables colour codes for seaborn plots\n",
    "sns.set(color_codes=True)"
   ]
  },
  {
   "cell_type": "markdown",
   "metadata": {
    "colab_type": "text",
    "id": "1hhmjCU-ng1C"
   },
   "source": [
    "### Parallel Processing Configuration"
   ]
  },
  {
   "cell_type": "code",
   "execution_count": 4,
   "metadata": {
    "ExecuteTime": {
     "end_time": "2020-01-05T04:52:43.546146Z",
     "start_time": "2020-01-05T04:52:43.539141Z"
    },
    "colab": {},
    "colab_type": "code",
    "id": "GhfR1Fxmng1G"
   },
   "outputs": [],
   "source": [
    "# Get the number of cpu available for parallel processing\n",
    "n_cpu=mp.cpu_count()"
   ]
  },
  {
   "cell_type": "markdown",
   "metadata": {
    "colab_type": "text",
    "id": "SgCOfPXbng1T"
   },
   "source": [
    "# Data Transformation & Exploration"
   ]
  },
  {
   "cell_type": "markdown",
   "metadata": {
    "colab_type": "text",
    "id": "KdtB2FBhng1Y"
   },
   "source": [
    "## Read the Data"
   ]
  },
  {
   "cell_type": "code",
   "execution_count": 5,
   "metadata": {
    "ExecuteTime": {
     "end_time": "2020-01-05T04:52:43.603101Z",
     "start_time": "2020-01-05T04:52:43.547134Z"
    },
    "colab": {},
    "colab_type": "code",
    "id": "KPPYm8qhng1d",
    "outputId": "4617e12c-da1c-4c5f-d4b0-dfba565669f9"
   },
   "outputs": [
    {
     "name": "stdout",
     "output_type": "stream",
     "text": [
      "Shape of the table (rows, columns):  (4180, 22)\n"
     ]
    }
   ],
   "source": [
    "# Read the csv file \n",
    "data=pd.read_csv('Data/epl-training.csv')\n",
    "\n",
    "# Dropping the trailing columns\n",
    "data.dropna(axis=1, how='all',inplace=True)\n",
    "data.drop([column for column in data.columns if 'Unnamed' in column], axis = 1, inplace=True) \n",
    "print(\"Shape of the table (rows, columns): \", data.shape)"
   ]
  },
  {
   "cell_type": "code",
   "execution_count": 6,
   "metadata": {
    "ExecuteTime": {
     "end_time": "2020-01-05T04:52:43.622090Z",
     "start_time": "2020-01-05T04:52:43.604100Z"
    },
    "colab": {},
    "colab_type": "code",
    "id": "9kgoy98vng1s",
    "outputId": "7cf3ec61-b7b6-4fb4-eb6b-a8c04c8c3635"
   },
   "outputs": [
    {
     "data": {
      "text/html": [
       "<div>\n",
       "<style scoped>\n",
       "    .dataframe tbody tr th:only-of-type {\n",
       "        vertical-align: middle;\n",
       "    }\n",
       "\n",
       "    .dataframe tbody tr th {\n",
       "        vertical-align: top;\n",
       "    }\n",
       "\n",
       "    .dataframe thead th {\n",
       "        text-align: right;\n",
       "    }\n",
       "</style>\n",
       "<table border=\"1\" class=\"dataframe\">\n",
       "  <thead>\n",
       "    <tr style=\"text-align: right;\">\n",
       "      <th></th>\n",
       "      <th>Date</th>\n",
       "      <th>HomeTeam</th>\n",
       "      <th>AwayTeam</th>\n",
       "      <th>FTHG</th>\n",
       "      <th>FTAG</th>\n",
       "      <th>FTR</th>\n",
       "      <th>HTHG</th>\n",
       "      <th>HTAG</th>\n",
       "      <th>HTR</th>\n",
       "      <th>Referee</th>\n",
       "      <th>HS</th>\n",
       "      <th>AS</th>\n",
       "      <th>HST</th>\n",
       "      <th>AST</th>\n",
       "      <th>HF</th>\n",
       "      <th>AF</th>\n",
       "      <th>HC</th>\n",
       "      <th>AC</th>\n",
       "      <th>HY</th>\n",
       "      <th>AY</th>\n",
       "      <th>HR</th>\n",
       "      <th>AR</th>\n",
       "    </tr>\n",
       "  </thead>\n",
       "  <tbody>\n",
       "    <tr>\n",
       "      <th>0</th>\n",
       "      <td>16/08/2008</td>\n",
       "      <td>Arsenal</td>\n",
       "      <td>West Brom</td>\n",
       "      <td>1</td>\n",
       "      <td>0</td>\n",
       "      <td>H</td>\n",
       "      <td>1</td>\n",
       "      <td>0</td>\n",
       "      <td>H</td>\n",
       "      <td>H Webb</td>\n",
       "      <td>24</td>\n",
       "      <td>5</td>\n",
       "      <td>14</td>\n",
       "      <td>4</td>\n",
       "      <td>11</td>\n",
       "      <td>8</td>\n",
       "      <td>7</td>\n",
       "      <td>5</td>\n",
       "      <td>0</td>\n",
       "      <td>0</td>\n",
       "      <td>0</td>\n",
       "      <td>0</td>\n",
       "    </tr>\n",
       "    <tr>\n",
       "      <th>1</th>\n",
       "      <td>16/08/2008</td>\n",
       "      <td>Bolton</td>\n",
       "      <td>Stoke</td>\n",
       "      <td>3</td>\n",
       "      <td>1</td>\n",
       "      <td>H</td>\n",
       "      <td>3</td>\n",
       "      <td>0</td>\n",
       "      <td>H</td>\n",
       "      <td>C Foy</td>\n",
       "      <td>14</td>\n",
       "      <td>8</td>\n",
       "      <td>8</td>\n",
       "      <td>2</td>\n",
       "      <td>13</td>\n",
       "      <td>12</td>\n",
       "      <td>4</td>\n",
       "      <td>3</td>\n",
       "      <td>1</td>\n",
       "      <td>2</td>\n",
       "      <td>0</td>\n",
       "      <td>0</td>\n",
       "    </tr>\n",
       "    <tr>\n",
       "      <th>2</th>\n",
       "      <td>16/08/2008</td>\n",
       "      <td>Everton</td>\n",
       "      <td>Blackburn</td>\n",
       "      <td>2</td>\n",
       "      <td>3</td>\n",
       "      <td>A</td>\n",
       "      <td>1</td>\n",
       "      <td>1</td>\n",
       "      <td>D</td>\n",
       "      <td>A Marriner</td>\n",
       "      <td>10</td>\n",
       "      <td>15</td>\n",
       "      <td>5</td>\n",
       "      <td>11</td>\n",
       "      <td>11</td>\n",
       "      <td>9</td>\n",
       "      <td>3</td>\n",
       "      <td>5</td>\n",
       "      <td>2</td>\n",
       "      <td>2</td>\n",
       "      <td>0</td>\n",
       "      <td>0</td>\n",
       "    </tr>\n",
       "    <tr>\n",
       "      <th>3</th>\n",
       "      <td>16/08/2008</td>\n",
       "      <td>Hull</td>\n",
       "      <td>Fulham</td>\n",
       "      <td>2</td>\n",
       "      <td>1</td>\n",
       "      <td>H</td>\n",
       "      <td>1</td>\n",
       "      <td>1</td>\n",
       "      <td>D</td>\n",
       "      <td>P Walton</td>\n",
       "      <td>11</td>\n",
       "      <td>12</td>\n",
       "      <td>6</td>\n",
       "      <td>6</td>\n",
       "      <td>10</td>\n",
       "      <td>9</td>\n",
       "      <td>5</td>\n",
       "      <td>6</td>\n",
       "      <td>3</td>\n",
       "      <td>0</td>\n",
       "      <td>0</td>\n",
       "      <td>0</td>\n",
       "    </tr>\n",
       "    <tr>\n",
       "      <th>4</th>\n",
       "      <td>16/08/2008</td>\n",
       "      <td>Middlesbrough</td>\n",
       "      <td>Tottenham</td>\n",
       "      <td>2</td>\n",
       "      <td>1</td>\n",
       "      <td>H</td>\n",
       "      <td>0</td>\n",
       "      <td>0</td>\n",
       "      <td>D</td>\n",
       "      <td>M Atkinson</td>\n",
       "      <td>14</td>\n",
       "      <td>8</td>\n",
       "      <td>10</td>\n",
       "      <td>5</td>\n",
       "      <td>11</td>\n",
       "      <td>12</td>\n",
       "      <td>7</td>\n",
       "      <td>9</td>\n",
       "      <td>1</td>\n",
       "      <td>2</td>\n",
       "      <td>0</td>\n",
       "      <td>0</td>\n",
       "    </tr>\n",
       "  </tbody>\n",
       "</table>\n",
       "</div>"
      ],
      "text/plain": [
       "         Date       HomeTeam   AwayTeam  FTHG  FTAG FTR  HTHG  HTAG HTR  \\\n",
       "0  16/08/2008        Arsenal  West Brom     1     0   H     1     0   H   \n",
       "1  16/08/2008         Bolton      Stoke     3     1   H     3     0   H   \n",
       "2  16/08/2008        Everton  Blackburn     2     3   A     1     1   D   \n",
       "3  16/08/2008           Hull     Fulham     2     1   H     1     1   D   \n",
       "4  16/08/2008  Middlesbrough  Tottenham     2     1   H     0     0   D   \n",
       "\n",
       "      Referee  HS  AS  HST  AST  HF  AF  HC  AC  HY  AY  HR  AR  \n",
       "0      H Webb  24   5   14    4  11   8   7   5   0   0   0   0  \n",
       "1       C Foy  14   8    8    2  13  12   4   3   1   2   0   0  \n",
       "2  A Marriner  10  15    5   11  11   9   3   5   2   2   0   0  \n",
       "3    P Walton  11  12    6    6  10   9   5   6   3   0   0   0  \n",
       "4  M Atkinson  14   8   10    5  11  12   7   9   1   2   0   0  "
      ]
     },
     "execution_count": 6,
     "metadata": {},
     "output_type": "execute_result"
    }
   ],
   "source": [
    "data.head()"
   ]
  },
  {
   "cell_type": "markdown",
   "metadata": {},
   "source": [
    "### Update data"
   ]
  },
  {
   "cell_type": "markdown",
   "metadata": {},
   "source": [
    "From initial observation it was seen that the data only includes match information fo up to Season 2018/19. Therefore, from the provided website the data for Season 2019/20 was added."
   ]
  },
  {
   "cell_type": "code",
   "execution_count": 7,
   "metadata": {
    "ExecuteTime": {
     "end_time": "2020-01-05T04:52:45.041799Z",
     "start_time": "2020-01-05T04:52:43.623089Z"
    }
   },
   "outputs": [
    {
     "name": "stdout",
     "output_type": "stream",
     "text": [
      "Response OK!\n",
      "File succesfully downloaded and data was updated.\n"
     ]
    },
    {
     "ename": "OSError",
     "evalue": "[Errno 22] Invalid argument",
     "output_type": "error",
     "traceback": [
      "\u001b[1;31m---------------------------------------------------------------------------\u001b[0m",
      "\u001b[1;31mOSError\u001b[0m                                   Traceback (most recent call last)",
      "\u001b[1;32m<ipython-input-7-8fbcf9902a17>\u001b[0m in \u001b[0;36m<module>\u001b[1;34m\u001b[0m\n\u001b[0;32m      5\u001b[0m     \u001b[0mprint\u001b[0m\u001b[1;33m(\u001b[0m\u001b[1;34m'Response OK!\\nFile succesfully downloaded and data was updated.'\u001b[0m\u001b[1;33m)\u001b[0m\u001b[1;33m\u001b[0m\u001b[1;33m\u001b[0m\u001b[0m\n\u001b[0;32m      6\u001b[0m     \u001b[1;31m# Download the csv file\u001b[0m\u001b[1;33m\u001b[0m\u001b[1;33m\u001b[0m\u001b[1;33m\u001b[0m\u001b[0m\n\u001b[1;32m----> 7\u001b[1;33m     \u001b[0murllib\u001b[0m\u001b[1;33m.\u001b[0m\u001b[0mrequest\u001b[0m\u001b[1;33m.\u001b[0m\u001b[0murlretrieve\u001b[0m\u001b[1;33m(\u001b[0m\u001b[0murl\u001b[0m\u001b[1;33m,\u001b[0m\u001b[1;34m'Data/E0.csv'\u001b[0m\u001b[1;33m)\u001b[0m\u001b[1;33m\u001b[0m\u001b[1;33m\u001b[0m\u001b[0m\n\u001b[0m\u001b[0;32m      8\u001b[0m     \u001b[1;31m# Pause the code for a sec\u001b[0m\u001b[1;33m\u001b[0m\u001b[1;33m\u001b[0m\u001b[1;33m\u001b[0m\u001b[0m\n\u001b[0;32m      9\u001b[0m     \u001b[0mtime\u001b[0m\u001b[1;33m.\u001b[0m\u001b[0msleep\u001b[0m\u001b[1;33m(\u001b[0m\u001b[1;36m1\u001b[0m\u001b[1;33m)\u001b[0m\u001b[1;33m\u001b[0m\u001b[1;33m\u001b[0m\u001b[0m\n",
      "\u001b[1;32m~\\Anaconda3\\lib\\urllib\\request.py\u001b[0m in \u001b[0;36murlretrieve\u001b[1;34m(url, filename, reporthook, data)\u001b[0m\n\u001b[0;32m    278\u001b[0m                     \u001b[1;32mbreak\u001b[0m\u001b[1;33m\u001b[0m\u001b[1;33m\u001b[0m\u001b[0m\n\u001b[0;32m    279\u001b[0m                 \u001b[0mread\u001b[0m \u001b[1;33m+=\u001b[0m \u001b[0mlen\u001b[0m\u001b[1;33m(\u001b[0m\u001b[0mblock\u001b[0m\u001b[1;33m)\u001b[0m\u001b[1;33m\u001b[0m\u001b[1;33m\u001b[0m\u001b[0m\n\u001b[1;32m--> 280\u001b[1;33m                 \u001b[0mtfp\u001b[0m\u001b[1;33m.\u001b[0m\u001b[0mwrite\u001b[0m\u001b[1;33m(\u001b[0m\u001b[0mblock\u001b[0m\u001b[1;33m)\u001b[0m\u001b[1;33m\u001b[0m\u001b[1;33m\u001b[0m\u001b[0m\n\u001b[0m\u001b[0;32m    281\u001b[0m                 \u001b[0mblocknum\u001b[0m \u001b[1;33m+=\u001b[0m \u001b[1;36m1\u001b[0m\u001b[1;33m\u001b[0m\u001b[1;33m\u001b[0m\u001b[0m\n\u001b[0;32m    282\u001b[0m                 \u001b[1;32mif\u001b[0m \u001b[0mreporthook\u001b[0m\u001b[1;33m:\u001b[0m\u001b[1;33m\u001b[0m\u001b[1;33m\u001b[0m\u001b[0m\n",
      "\u001b[1;31mOSError\u001b[0m: [Errno 22] Invalid argument"
     ]
    }
   ],
   "source": [
    "url = 'https://www.football-data.co.uk/mmz4281/1920/E0.csv'\n",
    "response = requests.get(url)\n",
    "# Check if url status code is 200\n",
    "if response.status_code==200:\n",
    "    print('Response OK!\\nFile succesfully downloaded and data was updated.')\n",
    "    # Download the csv file\n",
    "    urllib.request.urlretrieve(url,'Data/E0.csv')\n",
    "    # Pause the code for a sec\n",
    "    time.sleep(1) \n",
    "    # Read the downloaded file\n",
    "    data=data.append(pd.read_csv('Data/E0.csv',usecols=data.columns), \n",
    "                ignore_index=True) \n",
    "else:\n",
    "    print('Response wasn\\'t OK!\\nFile could not be downloaded and data wasn not updated.')"
   ]
  },
  {
   "cell_type": "code",
   "execution_count": null,
   "metadata": {
    "ExecuteTime": {
     "end_time": "2020-01-05T04:52:45.052776Z",
     "start_time": "2020-01-05T04:52:45.045759Z"
    }
   },
   "outputs": [],
   "source": [
    "data.shape"
   ]
  },
  {
   "cell_type": "code",
   "execution_count": null,
   "metadata": {
    "ExecuteTime": {
     "end_time": "2020-01-05T04:52:45.081740Z",
     "start_time": "2020-01-05T04:52:45.055753Z"
    }
   },
   "outputs": [],
   "source": [
    "data.head()"
   ]
  },
  {
   "cell_type": "markdown",
   "metadata": {
    "colab_type": "text",
    "id": "6-B30uKjng16"
   },
   "source": [
    "## Exploratory Data Analysis"
   ]
  },
  {
   "cell_type": "code",
   "execution_count": null,
   "metadata": {
    "ExecuteTime": {
     "end_time": "2020-01-05T04:52:45.142703Z",
     "start_time": "2020-01-05T04:52:45.083738Z"
    }
   },
   "outputs": [],
   "source": [
    "data.describe()"
   ]
  },
  {
   "cell_type": "markdown",
   "metadata": {
    "colab_type": "text",
    "id": "HwtDHVOhng1-"
   },
   "source": [
    "### Function definitions"
   ]
  },
  {
   "cell_type": "markdown",
   "metadata": {
    "colab_type": "text",
    "id": "P0X6Ld2Lng2I"
   },
   "source": [
    "The function __get_pivot_column_vs_column_count__ returns a dataframe after pivoting a column against another column. The elements of dataframe represent counts of all the different combinations of __col1__ and __col2__ in the dataframe __df__."
   ]
  },
  {
   "cell_type": "code",
   "execution_count": null,
   "metadata": {
    "ExecuteTime": {
     "end_time": "2020-01-05T04:52:45.147700Z",
     "start_time": "2020-01-05T04:52:45.143702Z"
    },
    "colab": {},
    "colab_type": "code",
    "id": "x3oyuvQhng2T"
   },
   "outputs": [],
   "source": [
    "def get_pivot_column_vs_column_count(df,col1,col2):\n",
    "    return df.groupby([col1,col2]).size().reset_index().\\\n",
    "              rename(columns={0:'counts'}).\\\n",
    "              pivot(values='counts',index=col1,columns=col2)"
   ]
  },
  {
   "cell_type": "markdown",
   "metadata": {
    "colab_type": "text",
    "id": "m1vbBnX_ng2r"
   },
   "source": [
    "The function __get_column_countplot__ plots a bar chart. The bar chart is representative of the column __col__ in the dataframe __df__. The function counts the occurances of each value taken by __col__ in combination with the different outcome of __FTR__ (i.e. H, D, A). "
   ]
  },
  {
   "cell_type": "code",
   "execution_count": null,
   "metadata": {
    "ExecuteTime": {
     "end_time": "2020-01-05T04:52:45.155696Z",
     "start_time": "2020-01-05T04:52:45.148705Z"
    },
    "colab": {},
    "colab_type": "code",
    "id": "ZTRnrYwmng2w"
   },
   "outputs": [],
   "source": [
    "def get_column_countplot(df,col,y='FTR',ax=None ):\n",
    "    if ax is None:\n",
    "        ax = plt.gca()\n",
    "    df.groupby([col, y]).size().reset_index().\\\n",
    "       pivot(columns=y, index=col, values=0).\\\n",
    "       plot(kind='bar', stacked=True,ax=ax)\n",
    "    ax.set_xlabel(col)\n",
    "    ax.set_ylabel('Counts')\n",
    "    ax.set_title('Count Plot: %s'%(col))"
   ]
  },
  {
   "cell_type": "markdown",
   "metadata": {
    "colab_type": "text",
    "id": "SwoZuLzFng3F"
   },
   "source": [
    "### Number of teams"
   ]
  },
  {
   "cell_type": "markdown",
   "metadata": {
    "colab_type": "text",
    "id": "bOglfquvng3K"
   },
   "source": [
    "#### Number of unique teams in the table:"
   ]
  },
  {
   "cell_type": "code",
   "execution_count": null,
   "metadata": {
    "ExecuteTime": {
     "end_time": "2020-01-05T04:52:45.165689Z",
     "start_time": "2020-01-05T04:52:45.156696Z"
    },
    "colab": {},
    "colab_type": "code",
    "id": "0XfnMuY-ng3P",
    "outputId": "eef6b33b-db56-4c55-b473-bc920a629d63",
    "scrolled": false
   },
   "outputs": [],
   "source": [
    "data['HomeTeam'].nunique()"
   ]
  },
  {
   "cell_type": "markdown",
   "metadata": {
    "colab_type": "text",
    "id": "B0R1oCAang3s"
   },
   "source": [
    "#### Checking if all the team in the column `HomeTeam` are in `AwayTeam`"
   ]
  },
  {
   "cell_type": "code",
   "execution_count": null,
   "metadata": {
    "ExecuteTime": {
     "end_time": "2020-01-05T04:52:45.175685Z",
     "start_time": "2020-01-05T04:52:45.167691Z"
    },
    "colab": {},
    "colab_type": "code",
    "id": "IUp7qpJcng3v",
    "outputId": "59d5caf6-9bd3-4a3e-e02c-c3eb73d38846"
   },
   "outputs": [],
   "source": [
    "np.array_equal(sorted(data['HomeTeam'].unique()),sorted(data['AwayTeam'].unique()))"
   ]
  },
  {
   "cell_type": "markdown",
   "metadata": {
    "colab_type": "text",
    "id": "xPaIVJMvng39"
   },
   "source": [
    "#### List of all teams in the data:"
   ]
  },
  {
   "cell_type": "code",
   "execution_count": null,
   "metadata": {
    "ExecuteTime": {
     "end_time": "2020-01-05T04:52:45.183680Z",
     "start_time": "2020-01-05T04:52:45.177683Z"
    },
    "colab": {},
    "colab_type": "code",
    "id": "ayd1UgMAng4F",
    "outputId": "08d70e4d-0eec-4ad4-8d25-1a4efdd172c9",
    "scrolled": true
   },
   "outputs": [],
   "source": [
    "print(sorted(data['HomeTeam'].unique()))"
   ]
  },
  {
   "cell_type": "markdown",
   "metadata": {
    "colab_type": "text",
    "id": "Yb2X6hh8ng4T"
   },
   "source": [
    "### Analysing the `Referee` column"
   ]
  },
  {
   "cell_type": "markdown",
   "metadata": {
    "colab_type": "text",
    "id": "-nftdPmGng4W"
   },
   "source": [
    "#### The number of unique referees in dataset:"
   ]
  },
  {
   "cell_type": "code",
   "execution_count": null,
   "metadata": {
    "ExecuteTime": {
     "end_time": "2020-01-05T04:52:45.190684Z",
     "start_time": "2020-01-05T04:52:45.185678Z"
    },
    "colab": {},
    "colab_type": "code",
    "id": "8KuVd6Twng4a",
    "outputId": "7ceea0d4-85e4-4098-c3ac-00fbec9c62cf",
    "scrolled": true
   },
   "outputs": [],
   "source": [
    "data['Referee'].nunique()"
   ]
  },
  {
   "cell_type": "markdown",
   "metadata": {},
   "source": [
    "> This is 3  referee names more than expected."
   ]
  },
  {
   "cell_type": "code",
   "execution_count": null,
   "metadata": {
    "ExecuteTime": {
     "end_time": "2020-01-05T04:52:45.198679Z",
     "start_time": "2020-01-05T04:52:45.191684Z"
    },
    "scrolled": false
   },
   "outputs": [],
   "source": [
    "data['Referee'].unique()"
   ]
  },
  {
   "cell_type": "markdown",
   "metadata": {},
   "source": [
    "From the list above it was noticed that the following referee names seem to have been repeated in different ways:\n",
    "- `L Mason` and `l Mason`\n",
    "- `S Bennett` and `St Bennett` \n",
    "- `M Atkinson` and `Mn Atkinson`"
   ]
  },
  {
   "cell_type": "code",
   "execution_count": null,
   "metadata": {
    "ExecuteTime": {
     "end_time": "2020-01-05T04:52:45.207666Z",
     "start_time": "2020-01-05T04:52:45.200671Z"
    }
   },
   "outputs": [],
   "source": [
    "data['Referee']=data['Referee'].replace({'l Mason':'L Mason',\n",
    "                                         'St Bennett':'S Bennett',\n",
    "                                         'Mn Atkinson':'M Atkinson'})"
   ]
  },
  {
   "cell_type": "code",
   "execution_count": null,
   "metadata": {
    "ExecuteTime": {
     "end_time": "2020-01-05T04:52:45.215660Z",
     "start_time": "2020-01-05T04:52:45.208665Z"
    }
   },
   "outputs": [],
   "source": [
    "data['Referee'].nunique()==data['HomeTeam'].nunique()"
   ]
  },
  {
   "cell_type": "markdown",
   "metadata": {
    "colab_type": "text",
    "id": "QH2y0IVdng4n"
   },
   "source": [
    "> It can be seen that the number of referees here is the same as the number of teams"
   ]
  },
  {
   "cell_type": "markdown",
   "metadata": {
    "colab_type": "text",
    "id": "7DmA69rgng5K"
   },
   "source": [
    "### Analysing the Dates"
   ]
  },
  {
   "cell_type": "markdown",
   "metadata": {
    "colab_type": "text",
    "id": "ma-Td3kyng5P"
   },
   "source": [
    "The first and the last date (when arranged chronologically) observed in the table:"
   ]
  },
  {
   "cell_type": "code",
   "execution_count": null,
   "metadata": {
    "ExecuteTime": {
     "end_time": "2020-01-05T04:52:45.227654Z",
     "start_time": "2020-01-05T04:52:45.216660Z"
    }
   },
   "outputs": [],
   "source": [
    "# Convert to datetime type\n",
    "data['Date']=pd.to_datetime(data['Date'], format='%d/%m/%Y')"
   ]
  },
  {
   "cell_type": "code",
   "execution_count": null,
   "metadata": {
    "ExecuteTime": {
     "end_time": "2020-01-05T04:52:45.238648Z",
     "start_time": "2020-01-05T04:52:45.228653Z"
    },
    "colab": {},
    "colab_type": "code",
    "id": "es7nFe3Yng5U",
    "outputId": "3a61fe2a-6c39-40f4-c3ef-6b691bd2bf08",
    "scrolled": true
   },
   "outputs": [],
   "source": [
    "print(\"The earliest date in the table: \", data['Date'].min())\n",
    "print(\"The latest date in the table: \", data['Date'].max())"
   ]
  },
  {
   "cell_type": "code",
   "execution_count": null,
   "metadata": {
    "ExecuteTime": {
     "end_time": "2020-01-05T04:52:45.247644Z",
     "start_time": "2020-01-05T04:52:45.239647Z"
    },
    "colab": {},
    "colab_type": "code",
    "id": "qedbaQzlng5d",
    "outputId": "16e3a3da-669b-4f96-92d9-97150c3be319"
   },
   "outputs": [],
   "source": [
    "rd = relativedelta.relativedelta(data['Date'].max(),data['Date'].min())\n",
    "print('%d years %d months %d days'%(rd.years,rd.months,rd.days))"
   ]
  },
  {
   "cell_type": "code",
   "execution_count": null,
   "metadata": {
    "ExecuteTime": {
     "end_time": "2020-01-05T04:52:45.261635Z",
     "start_time": "2020-01-05T04:52:45.254639Z"
    },
    "colab": {},
    "colab_type": "code",
    "id": "8-jeCIU3ng5p",
    "outputId": "d949ca09-e438-413c-b1b3-665cfc3a67f3"
   },
   "outputs": [],
   "source": [
    "sorted((data['Date'].dt.month).unique())"
   ]
  },
  {
   "cell_type": "markdown",
   "metadata": {
    "colab_type": "text",
    "id": "fYX1GfhDng5w"
   },
   "source": [
    "It can be seen here that 6 and 7 are missing."
   ]
  },
  {
   "cell_type": "markdown",
   "metadata": {
    "colab_type": "text",
    "id": "bTj1otNjng5y"
   },
   "source": [
    "> This means that no matches happen in June and July."
   ]
  },
  {
   "cell_type": "markdown",
   "metadata": {
    "colab_type": "text",
    "id": "1WRE1mpRng52"
   },
   "source": [
    "Therefore, we can consider that: "
   ]
  },
  {
   "cell_type": "markdown",
   "metadata": {
    "colab_type": "text",
    "id": "yJQYMYj4ng54"
   },
   "source": [
    "> Each Season starts from __August to May__ and so we can deduce that the data covers __11 Seasons__"
   ]
  },
  {
   "cell_type": "markdown",
   "metadata": {
    "colab_type": "text",
    "id": "vdoOplO5ng55"
   },
   "source": [
    "### Number of Matches played by the teams"
   ]
  },
  {
   "cell_type": "markdown",
   "metadata": {
    "colab_type": "text",
    "id": "qhqm3fkZng59"
   },
   "source": [
    "A count of the occurances of each combination of Home and Away team allocation."
   ]
  },
  {
   "cell_type": "code",
   "execution_count": null,
   "metadata": {
    "ExecuteTime": {
     "end_time": "2020-01-05T04:52:45.350584Z",
     "start_time": "2020-01-05T04:52:45.268631Z"
    },
    "colab": {},
    "colab_type": "code",
    "id": "5iUl783-ng5-",
    "outputId": "b1bfc8ea-21d9-45dc-a3fe-4f17c46c7e51"
   },
   "outputs": [],
   "source": [
    "get_pivot_column_vs_column_count(data,'HomeTeam','AwayTeam')"
   ]
  },
  {
   "cell_type": "markdown",
   "metadata": {
    "colab_type": "text",
    "id": "krwGkaU7ng6H"
   },
   "source": [
    "Checking how many matches each team played. As every match a home team plays at home comes in conjunction with one it plays away, it is sufficient to count the number of home matches. "
   ]
  },
  {
   "cell_type": "code",
   "execution_count": null,
   "metadata": {
    "ExecuteTime": {
     "end_time": "2020-01-05T04:52:46.014221Z",
     "start_time": "2020-01-05T04:52:45.352583Z"
    },
    "colab": {},
    "colab_type": "code",
    "id": "cNfqao3ong6J",
    "outputId": "16d92e7b-8c95-4c9f-820d-f7ee07ef527d"
   },
   "outputs": [],
   "source": [
    "sns.set_style(\"white\")\n",
    "data.HomeTeam.value_counts().plot(kind='bar', figsize=(10,5))\n",
    "plt.title('Number of teams by matches',fontsize=18, fontweight='bold')\n",
    "plt.ylabel('Number of matches',fontsize=16, fontweight='bold')\n",
    "plt.xlabel('Team Name',fontsize=16, fontweight='bold')\n",
    "fig1=plt.savefig('Images/Number of matches histogram.png')\n",
    "plt.show()"
   ]
  },
  {
   "cell_type": "markdown",
   "metadata": {
    "colab_type": "text",
    "id": "uFALb7ovng6a"
   },
   "source": [
    "### HTR vs. FTR"
   ]
  },
  {
   "cell_type": "markdown",
   "metadata": {
    "colab_type": "text",
    "id": "1MRkRc21ng6e"
   },
   "source": [
    "A count plot to show the relationship between Half Time Result (`HTR`) and Full Time Result (`FTR`). This was done basically to check for how many of the matches the `HTR` and `FTR` result."
   ]
  },
  {
   "cell_type": "code",
   "execution_count": null,
   "metadata": {
    "ExecuteTime": {
     "end_time": "2020-01-05T04:52:46.031208Z",
     "start_time": "2020-01-05T04:52:46.016202Z"
    },
    "colab": {},
    "colab_type": "code",
    "id": "KCv-uXxvng6g",
    "outputId": "01400e03-5a9d-4194-c149-de3521a2bb64"
   },
   "outputs": [],
   "source": [
    "get_pivot_column_vs_column_count(data,'HTR','FTR')"
   ]
  },
  {
   "cell_type": "markdown",
   "metadata": {
    "colab_type": "text",
    "id": "q_YdY3hdng6n"
   },
   "source": [
    "###  Histogram (Count Plots) of all Features"
   ]
  },
  {
   "cell_type": "markdown",
   "metadata": {
    "colab_type": "text",
    "id": "dP1QoPSTng6q"
   },
   "source": [
    "The columns of the unprocessed dataset will later be used to extract information about the individual teams. To investigate the characteristics of each of the individual columns, we first utilize a histogram plot of each of the columns. Prior to obtaining this plot, all the categorical columns (Home Team, Away Team, Referee and Full Time Result) are turned into numerical values using the __Label_Encoder__ function."
   ]
  },
  {
   "cell_type": "markdown",
   "metadata": {
    "colab_type": "text",
    "id": "S6zKeaQXng6t"
   },
   "source": [
    "Bar Chart for each of the numerical features in the imported dataset. The bar chart will show a count of the occurances of each unique value taken by each feautre. In addition to this, the bar chart will show what proportion of each unique value that resulted in Home win (__H__), Draw (__D__) or Away win (__A__)."
   ]
  },
  {
   "cell_type": "code",
   "execution_count": null,
   "metadata": {
    "ExecuteTime": {
     "end_time": "2020-01-05T04:52:54.764647Z",
     "start_time": "2020-01-05T04:52:46.033191Z"
    },
    "colab": {},
    "colab_type": "code",
    "id": "9e7OCJkGng6w",
    "outputId": "f47a1c81-ff5a-4e27-ab01-ee93b7f0f89d",
    "scrolled": false
   },
   "outputs": [],
   "source": [
    "# Save the column names of numerical features as a list\n",
    "num_col_list=[x for x in data.columns if x not in ['Date','HomeTeam','AwayTeam','Referee','FTR','HTR']]\n",
    "\n",
    "# Reshaping array for easier formatting\n",
    "num_col_list = np.reshape(num_col_list, (8, 2))\n",
    "\n",
    "# Call the function get_column_countplot() to plot the count plot of the categorical columns as s ubplots in a figure\n",
    "fig, axes = plt.subplots(8,2,figsize=(15,60))\n",
    "sns.set_style(\"white\")\n",
    "for i in range(8):\n",
    "    for j in range(2):\n",
    "        get_column_countplot(data,num_col_list[i][j], ax=axes[i,j])\n",
    "fig.tight_layout(rect=[0, 0.03, 1, 0.97])\n",
    "fig.suptitle(\"Count plots of all features\",fontweight='bold',fontsize=20)\n",
    "fig2=plt.savefig('Images/Count plot all.png')\n",
    "plt.show()"
   ]
  },
  {
   "cell_type": "markdown",
   "metadata": {
    "colab_type": "text",
    "id": "nqJxOVlang65"
   },
   "source": [
    "### Checking if the dataset is balanced"
   ]
  },
  {
   "cell_type": "markdown",
   "metadata": {
    "colab_type": "text",
    "id": "0w8_hwNtng68"
   },
   "source": [
    "A bar chart showing the number of home wins, draws and away wins."
   ]
  },
  {
   "cell_type": "code",
   "execution_count": null,
   "metadata": {
    "ExecuteTime": {
     "end_time": "2020-01-05T04:52:55.015706Z",
     "start_time": "2020-01-05T04:52:54.766647Z"
    },
    "colab": {},
    "colab_type": "code",
    "id": "DWPVqiwbng7A",
    "outputId": "98c71df0-4d93-4dde-a4df-91d84d7defa7"
   },
   "outputs": [],
   "source": [
    "# Get the counts \n",
    "count_val=data['FTR'].value_counts()\n",
    "\n",
    "# Visualise the count\n",
    "X_ticks=['Home','Draw','Away']\n",
    "bar_width=0.7\n",
    "fig,ax=plt.subplots()\n",
    "sns.set_style(\"white\")\n",
    "plt.bar(1,count_val[0],color='forestgreen')\n",
    "plt.bar(2,count_val[2],color='darkorange')\n",
    "plt.bar(3,count_val[1],color='#970a1b')\n",
    "plt.text(1, count_val[0]/2, \"{:,}\".format(count_val[0]),color='w',\n",
    "         ha='center', va= 'bottom',fontweight='bold',fontsize=14)\n",
    "plt.text(2, count_val[2]/2, \"{:,}\".format(count_val[1]), color='w'\n",
    "         ,ha='center', va= 'bottom',fontweight='bold',fontsize=14)\n",
    "plt.text(3, count_val[1]/2, \"{:,}\".format(count_val[2]), color='w',\n",
    "         ha='center', va= 'bottom', fontweight='bold', fontsize=14)\n",
    "ax.set_title('FTR count', fontsize=18, fontweight='bold')\n",
    "ax.set_xlabel('Classes (Full time result)', fontsize=16, fontweight='bold')\n",
    "ax.set_ylabel('Number of samples in training data', fontsize=16, fontweight='bold')\n",
    "ax.set_xticks([1,2,3])\n",
    "ax.set_xticklabels(X_ticks,fontsize=14)\n",
    "fig.tight_layout()\n",
    "fig3=plt.savefig('Images/balance check.png')\n",
    "plt.show()"
   ]
  },
  {
   "cell_type": "markdown",
   "metadata": {
    "colab_type": "text",
    "id": "zyrHsYsbng7I"
   },
   "source": [
    "#### Encoding the non-numerical columns"
   ]
  },
  {
   "cell_type": "code",
   "execution_count": null,
   "metadata": {
    "ExecuteTime": {
     "end_time": "2020-01-05T04:52:55.026698Z",
     "start_time": "2020-01-05T04:52:55.016706Z"
    },
    "colab": {},
    "colab_type": "code",
    "id": "GtCmy3pXng7L"
   },
   "outputs": [],
   "source": [
    "encoded_data = data.copy()\n",
    "\n",
    "for column in ['HomeTeam','AwayTeam','Referee','FTR','HTR']:\n",
    "    encoded_data[column] = LabelEncoder().fit_transform(encoded_data[column])"
   ]
  },
  {
   "cell_type": "markdown",
   "metadata": {
    "colab_type": "text",
    "id": "DC1Xut0Ang7S"
   },
   "source": [
    "### Correlation Matrix of the Data"
   ]
  },
  {
   "cell_type": "markdown",
   "metadata": {
    "colab_type": "text",
    "id": "J14cWVwnng7V"
   },
   "source": [
    "A visual plot of the correlation matrix between the all the raw columns of the provided dataset. This will help identify important columns as well as discard those that show no correlation. For this, the label encoded dataset will be utilized."
   ]
  },
  {
   "cell_type": "code",
   "execution_count": null,
   "metadata": {
    "ExecuteTime": {
     "end_time": "2020-01-05T04:52:57.361482Z",
     "start_time": "2020-01-05T04:52:55.027699Z"
    },
    "colab": {},
    "colab_type": "code",
    "id": "KkHMZz8Hng7X",
    "outputId": "418b05cb-f9fe-4a20-faa0-8e3dfe9e55b2"
   },
   "outputs": [],
   "source": [
    "fig=plt.figure(figsize=(20,15))\n",
    "ax = plt.subplot()\n",
    "ax.set_title(\"Heatmap of Correlation Matrix for Columns in given data\",fontsize=20,fontweight='bold')\n",
    "sns.heatmap(encoded_data.corr(), annot = True, fmt='.1f', cmap= 'coolwarm', ax=ax)\n",
    "fig4=plt.savefig('Images/data corr heatmap.png')\n",
    "plt.show()"
   ]
  },
  {
   "cell_type": "markdown",
   "metadata": {
    "colab_type": "text",
    "id": "tcvXc3g5ng7i"
   },
   "source": [
    "# Feature Extraction"
   ]
  },
  {
   "cell_type": "markdown",
   "metadata": {
    "colab_type": "text",
    "id": "IoEYxRpkng7l"
   },
   "source": [
    "### Average Goals, Points and Aggressiveness"
   ]
  },
  {
   "cell_type": "markdown",
   "metadata": {
    "colab_type": "text",
    "id": "SG4fqimMng7n"
   },
   "source": [
    "Calculating average goals and scores for home teams and away teams. The scores are calculated by considering a win as 3 points, a draw as 1 point and a loss as 0 points. As the number of goals conceded by one team is the number of goals scored by the other team, the average number of goals conceded by the home team is equal to the number of goals scored by the away team (the same applies for goals conceded by the away team). These average values will be used to scale metrics later on in feature extraction to ensure that a value of 1 represents an average performance. This will ensure that the features are of similar scale. "
   ]
  },
  {
   "cell_type": "code",
   "execution_count": null,
   "metadata": {
    "ExecuteTime": {
     "end_time": "2020-01-05T04:52:57.376472Z",
     "start_time": "2020-01-05T04:52:57.363472Z"
    },
    "colab": {},
    "colab_type": "code",
    "id": "U16KqZKbng7r",
    "outputId": "a48cf6e0-96d6-431a-e977-0305f2059716"
   },
   "outputs": [],
   "source": [
    "# Get total number of matches\n",
    "num_matches = data.shape[0] \n",
    "\n",
    "# Sum home goals column, divide by total matches\n",
    "average_home_goals = data.FTHG.sum()/num_matches\n",
    "\n",
    "# Sum away goals column, divide by total matches\n",
    "average_away_goals = data.FTAG.sum() /num_matches\n",
    "\n",
    "# Average conceded goals = Average of goals for opposite team\n",
    "avg_home_conceded = average_away_goals \n",
    "avg_away_conceded = avg_home_conceded\n",
    "\n",
    "# Calculating points for each team\n",
    "average_home_points = (3*count_val['H'] + count_val['D'])/num_matches\n",
    "average_away_points = (3*count_val['A'] + count_val['D'])/num_matches\n",
    "\n",
    "# Calculating other average  home and away\n",
    "average_home_yellow = data.HY.sum()/num_matches\n",
    "average_away_yellow = data.AY.sum()/num_matches\n",
    "average_home_red = data.HR.sum()/num_matches\n",
    "average_away_red = data.AR.sum()/num_matches\n",
    "average_home_fouls = data.HF.sum()/num_matches\n",
    "average_away_fouls = data.AF.sum()/num_matches\n",
    "\n",
    "print('Average Home Goals:', average_home_goals)\n",
    "print('Average Away Goals:', average_away_goals)\n",
    "print('Average Home Points:',average_home_points)\n",
    "print('Average Away Points:', average_away_points)\n",
    "# print('Average Home Yellow Cards:', average_home_yellow)\n",
    "# print('Average Away Yellow Cards:', average_away_yellow)\n",
    "# print('Average Home Red Cards:',average_home_red)\n",
    "# print('Average Away Red Cards:', average_away_red)\n",
    "print('Average Home Fouls:',average_home_fouls)\n",
    "print('Average Away Fouls:', average_away_fouls)"
   ]
  },
  {
   "cell_type": "markdown",
   "metadata": {
    "colab_type": "text",
    "id": "MrEVPMqung7z"
   },
   "source": [
    "### Team Statistics"
   ]
  },
  {
   "cell_type": "markdown",
   "metadata": {
    "colab_type": "text",
    "id": "VcK1N-Zvng70"
   },
   "source": [
    "Features in the raw data may be used to compute metrics that quantify different qualities of each team when they are playing at home and away. These quantities will be the same for all the home/away matches they play (i.e. a team will have the same Home Attacking Strength (HAS) for all games that it plays on home turf)."
   ]
  },
  {
   "cell_type": "code",
   "execution_count": null,
   "metadata": {
    "ExecuteTime": {
     "end_time": "2020-01-05T04:52:57.389470Z",
     "start_time": "2020-01-05T04:52:57.377471Z"
    },
    "colab": {},
    "colab_type": "code",
    "id": "OQY18tdeng73"
   },
   "outputs": [],
   "source": [
    "team_stats= pd.DataFrame(columns=('Team','HGS','AGS','HAS','AAS','HGC','AGC','HDS','ADS','HS','HST','AS','AST','HCON','ACON','HF','AF','HAGG','AAGG'))"
   ]
  },
  {
   "cell_type": "code",
   "execution_count": null,
   "metadata": {
    "ExecuteTime": {
     "end_time": "2020-01-05T04:52:57.397462Z",
     "start_time": "2020-01-05T04:52:57.391456Z"
    },
    "colab": {},
    "colab_type": "code",
    "id": "O_YRvAYYng7_"
   },
   "outputs": [],
   "source": [
    "# Group data by the teams\n",
    "res_home = data.groupby('HomeTeam')\n",
    "res_away = data.groupby('AwayTeam')"
   ]
  },
  {
   "cell_type": "code",
   "execution_count": null,
   "metadata": {
    "ExecuteTime": {
     "end_time": "2020-01-05T04:52:57.406465Z",
     "start_time": "2020-01-05T04:52:57.399453Z"
    },
    "colab": {},
    "colab_type": "code",
    "id": "gRfu0jajng8M"
   },
   "outputs": [],
   "source": [
    "# Add the list of team names\n",
    "team_stats.Team = pd.Series(data['HomeTeam'].unique())"
   ]
  },
  {
   "cell_type": "code",
   "execution_count": null,
   "metadata": {
    "ExecuteTime": {
     "end_time": "2020-01-05T04:52:57.415455Z",
     "start_time": "2020-01-05T04:52:57.408445Z"
    },
    "colab": {},
    "colab_type": "code",
    "id": "jzgZTpmQng8T"
   },
   "outputs": [],
   "source": [
    "# Home goal scored (HGS)\n",
    "team_stats.HGS = res_home.FTHG.sum().values \n",
    "# Home goal conceded (HGC)\n",
    "team_stats.HGC = res_home.FTAG.sum().values"
   ]
  },
  {
   "cell_type": "code",
   "execution_count": null,
   "metadata": {
    "ExecuteTime": {
     "end_time": "2020-01-05T04:52:57.423468Z",
     "start_time": "2020-01-05T04:52:57.416441Z"
    },
    "colab": {},
    "colab_type": "code",
    "id": "bLoVG8E2ng8e"
   },
   "outputs": [],
   "source": [
    "# Away goal scored (AGS)\n",
    "team_stats.AGS = res_away.FTAG.sum().values \n",
    "# Away goal conceded (AGC)\n",
    "team_stats.AGC = res_away.FTHG.sum().values "
   ]
  },
  {
   "cell_type": "code",
   "execution_count": null,
   "metadata": {
    "ExecuteTime": {
     "end_time": "2020-01-05T04:52:57.429434Z",
     "start_time": "2020-01-05T04:52:57.424437Z"
    },
    "colab": {},
    "colab_type": "code",
    "id": "BYzWnQcYng8l"
   },
   "outputs": [],
   "source": [
    "# Calculate number of games played\n",
    "total_home_games_played = res_home.FTHG.count()\n",
    "total_away_games_played = res_away.FTAG.count()"
   ]
  },
  {
   "cell_type": "code",
   "execution_count": null,
   "metadata": {
    "ExecuteTime": {
     "end_time": "2020-01-05T04:52:57.438439Z",
     "start_time": "2020-01-05T04:52:57.430434Z"
    },
    "colab": {},
    "colab_type": "code",
    "id": "VYtJSoPSng8z"
   },
   "outputs": [],
   "source": [
    "# Home Attacking Strength\n",
    "team_stats.HAS = (np.divide(team_stats.HGS,total_home_games_played.values)) / average_home_goals\n",
    "# Away Attacking Strength\n",
    "team_stats.AAS = (np.divide(team_stats.AGS,total_away_games_played.values)) / average_away_goals"
   ]
  },
  {
   "cell_type": "code",
   "execution_count": null,
   "metadata": {
    "ExecuteTime": {
     "end_time": "2020-01-05T04:52:57.447437Z",
     "start_time": "2020-01-05T04:52:57.439427Z"
    },
    "colab": {},
    "colab_type": "code",
    "id": "cOGBjwBqng9N"
   },
   "outputs": [],
   "source": [
    "# Home Defensive Strength\n",
    "team_stats.HDS = (np.divide(team_stats.HGC,total_home_games_played.values)) / avg_home_conceded\n",
    "# Away Defensive Strength\n",
    "team_stats.ADS = (np.divide(team_stats.AGC,total_away_games_played.values)) / avg_away_conceded"
   ]
  },
  {
   "cell_type": "code",
   "execution_count": null,
   "metadata": {
    "ExecuteTime": {
     "end_time": "2020-01-05T04:52:57.456431Z",
     "start_time": "2020-01-05T04:52:57.449426Z"
    },
    "colab": {},
    "colab_type": "code",
    "id": "lhh82BP8ng9X"
   },
   "outputs": [],
   "source": [
    "# Obtaining for each team: Average number of goals scored and conceded when at home and at away.\n",
    "team_stats.GSA = (np.divide(team_stats.AGS,total_away_games_played.values))\n",
    "team_stats.GSH = (np.divide(team_stats.HGS,total_home_games_played.values))\n",
    "\n",
    "team_stats.GCA = (np.divide(team_stats.AGC,total_away_games_played.values))\n",
    "team_stats.GCH = (np.divide(team_stats.HGC,total_home_games_played.values))"
   ]
  },
  {
   "cell_type": "code",
   "execution_count": null,
   "metadata": {
    "ExecuteTime": {
     "end_time": "2020-01-05T04:52:57.473409Z",
     "start_time": "2020-01-05T04:52:57.457433Z"
    },
    "colab": {},
    "colab_type": "code",
    "id": "i9aJfeNHng9e"
   },
   "outputs": [],
   "source": [
    "# Shots taken at home and away\n",
    "team_stats.HS = res_home.HS.sum().values \n",
    "team_stats.AS = res_away.AS.sum().values\n",
    "\n",
    "# Shots taken on target at home and away\n",
    "team_stats.HST = res_home.HST.sum().values \n",
    "team_stats.AST = res_away.AST.sum().values\n",
    "\n",
    "# Shot conversion rate (accuracy) at home and away\n",
    "team_stats.HCON = (np.divide(team_stats.HST,team_stats.HS)) \n",
    "team_stats.ACON = (np.divide(team_stats.AST,team_stats.AS)) "
   ]
  },
  {
   "cell_type": "code",
   "execution_count": null,
   "metadata": {
    "ExecuteTime": {
     "end_time": "2020-01-05T04:52:57.484415Z",
     "start_time": "2020-01-05T04:52:57.474408Z"
    },
    "colab": {},
    "colab_type": "code",
    "id": "UYfR1INFng9s"
   },
   "outputs": [],
   "source": [
    "# Total number of fouls at home and away\n",
    "team_stats.HF = res_home.HF.sum().values \n",
    "team_stats.AF = res_away.AF.sum().values\n",
    "\n",
    "# A measure of aggressiveness for each team\n",
    "team_stats.HAGG = (np.divide(team_stats.HF,total_home_games_played.values)) / average_home_fouls\n",
    "team_stats.AAGG = (np.divide(team_stats.AF,total_away_games_played.values)) / average_away_fouls"
   ]
  },
  {
   "cell_type": "code",
   "execution_count": null,
   "metadata": {
    "ExecuteTime": {
     "end_time": "2020-01-05T04:52:57.503393Z",
     "start_time": "2020-01-05T04:52:57.486401Z"
    },
    "colab": {},
    "colab_type": "code",
    "id": "rMsGajYjng90",
    "outputId": "4401973d-beab-4e7a-a6ca-b328e7c4b49c"
   },
   "outputs": [],
   "source": [
    "team_stats.head()"
   ]
  },
  {
   "cell_type": "markdown",
   "metadata": {
    "colab_type": "text",
    "id": "BFFcOj4kng97"
   },
   "source": [
    "Not all the features in the table above will be used in the final input features of the classifier. Some of these statistics are intermediate values which aided in the calculation of other statistics. For example the __HGS__ column was used to compute the __HAS__ column. "
   ]
  },
  {
   "cell_type": "markdown",
   "metadata": {
    "colab_type": "text",
    "id": "HFcOfdXdng9-"
   },
   "source": [
    "### Calculation of Form"
   ]
  },
  {
   "cell_type": "markdown",
   "metadata": {
    "colab_type": "text",
    "id": "J8LjxJGRng-A"
   },
   "source": [
    "Form is a calculation of a team's recent performance. Additionally these statistics vary with different allocations. (i.e. a team may have different __FFPTSH__ for different matches played at home). The function __get_features_match__ takes a match info and number of matches as inputs. The function then finds the number of past matches where the two teams played each other. If __n__ or more such matches exist, then the function computes 3 quantities: __FFPTSH__: Average points of home team in the past n matches against the away team, __FFHG__: Average goals of away team against home team in past n matches and __FFAG__: Average goals of home team against away team in the past n matches. If no matches are found then, the average quantities for these statistics are used. "
   ]
  },
  {
   "cell_type": "code",
   "execution_count": null,
   "metadata": {
    "ExecuteTime": {
     "end_time": "2020-01-05T04:52:57.515386Z",
     "start_time": "2020-01-05T04:52:57.504392Z"
    },
    "colab": {},
    "colab_type": "code",
    "id": "3w_2Ymolng-B"
   },
   "outputs": [],
   "source": [
    "def get_form_match(match, n=5):\n",
    "    home_team = match['HomeTeam']\n",
    "    away_team = match['AwayTeam']\n",
    "    # Constructing a table when all the matches between the two teams are shown.\n",
    "    res = data[((data['HomeTeam']==home_team) & (data['AwayTeam']==away_team)) | ((data['AwayTeam']==home_team) & (data['HomeTeam']==away_team))]\n",
    "    name = match.name\n",
    "    idx = res.index.get_loc(name)\n",
    "    \n",
    "    pts_home =0\n",
    "    pts_away =0\n",
    "    goals_home =0\n",
    "    goals_away =0\n",
    "    \n",
    "    if idx == 0:\n",
    "        # If there is 0 matches between the teams\n",
    "        pts_home_avg = average_home_points\n",
    "        pts_away_avg = average_away_points\n",
    "        goals_home_avg = average_home_goals\n",
    "        goals_away_avg = average_away_goals\n",
    "        \n",
    "    else:\n",
    "        if idx >= n: \n",
    "            #If there is at least n matches between the teams\n",
    "            matches = res.iloc[idx-n:idx]\n",
    "        else:\n",
    "            matches = res.iloc[0:idx]\n",
    "            \n",
    "        avg_den=len(matches)\n",
    "        \n",
    "        for comb in [['H','A'],['A','H']]:\n",
    "            c1=comb[0]\n",
    "            c2=comb[1]\n",
    "            if comb==['H','A']:\n",
    "                matches_subset = matches[(matches['HomeTeam']==home_team) & (data['AwayTeam']==away_team)]\n",
    "            elif comb==['A','H']:\n",
    "                matches_subset = matches[(matches['HomeTeam']==away_team) & (data['AwayTeam']==home_team)]\n",
    "                \n",
    "            pts_home+=(len(matches_subset[matches_subset['FTR']==c1])*3)+len(matches_subset[matches_subset['FTR']=='D'])\n",
    "            pts_away+=(len(matches_subset[matches_subset['FTR']==c2])*3)+len(matches_subset[matches_subset['FTR']=='D'])\n",
    "            goals_home+=matches_subset['FT%cG'%(c1)].sum()\n",
    "            goals_away+=matches_subset['FT%cG'%(c2)].sum()\n",
    "            \n",
    "        pts_home_avg = pts_home/avg_den\n",
    "        pts_away_avg = pts_away/avg_den\n",
    "        goals_home_avg = goals_home/avg_den\n",
    "        goals_away_avg = goals_away/avg_den\n",
    "        \n",
    "    return pts_home_avg, pts_away_avg, goals_home_avg, goals_away_avg"
   ]
  },
  {
   "cell_type": "markdown",
   "metadata": {
    "colab_type": "text",
    "id": "YhK3IN_zng-I"
   },
   "source": [
    "Another measure of form is the winning streak of the team. The fucntion __get_features_streak_home__ takes match info and the number of matches to consider as the inputs. It computes three quantities: __PSH__ the point streak of the home team, __SSH__ the average goals over the past __n__ games for the home team and __CSH__ the average goals conceded over the past __n__ matches for the home team. A similar function called __get_features_streak_away__ does the same for the away team. "
   ]
  },
  {
   "cell_type": "code",
   "execution_count": null,
   "metadata": {
    "ExecuteTime": {
     "end_time": "2020-01-05T04:52:57.526380Z",
     "start_time": "2020-01-05T04:52:57.517383Z"
    },
    "colab": {},
    "colab_type": "code",
    "id": "KaeZEpWZng-J"
   },
   "outputs": [],
   "source": [
    "def get_streak_team(match,team_type, n=15):\n",
    "    team = match[team_type]\n",
    "    team_data = data[((data['HomeTeam']==team) | (data['AwayTeam']==team))]\n",
    "    \n",
    "    name = match.name\n",
    "    idx = team_data.index.get_loc(name)\n",
    "    \n",
    "    pts=0\n",
    "    goals_scored=0\n",
    "    goals_conceded=0\n",
    "    \n",
    "    if idx == 0:\n",
    "        pts_avg = average_home_points\n",
    "        goals_scored_avg = average_home_goals\n",
    "        goals_conceded_avg = average_away_goals\n",
    "    else:\n",
    "        if idx-n < 0:\n",
    "            newidx = 0\n",
    "        else:\n",
    "            newidx = idx - n\n",
    "            \n",
    "        matches_team = team_data.iloc[newidx:idx]\n",
    "        m = len(matches_team)\n",
    "        \n",
    "        for c in ['H','A']:\n",
    "            if c=='H':\n",
    "                matches_subset=matches_team[matches_team['HomeTeam']==team]\n",
    "                other_c='A'\n",
    "            elif c=='A':\n",
    "                matches_subset=matches_team[matches_team['AwayTeam']==team]\n",
    "                other_c='H'\n",
    "            pts+=(len(matches_subset[matches_subset['FTR']==c])*3)+len(matches_subset[matches_subset['FTR']=='D'])\n",
    "            goals_scored+=matches_subset['FT%cG'%(c)].sum()\n",
    "            goals_conceded+=matches_subset['FT%cG'%(other_c)].sum()\n",
    "            \n",
    "        pts_avg = pts/m\n",
    "        goals_scored_avg = goals_scored/m\n",
    "        goals_conceded_avg = goals_conceded/m\n",
    "    return pts_avg, goals_scored_avg, goals_conceded_avg"
   ]
  },
  {
   "cell_type": "markdown",
   "metadata": {
    "colab_type": "text",
    "id": "y_T1hK7png-V"
   },
   "source": [
    "# Data Pre-Processing"
   ]
  },
  {
   "cell_type": "markdown",
   "metadata": {
    "colab_type": "text",
    "id": "DQf15nm2ng-Y"
   },
   "source": [
    "### Defining Input Features and Output Labels"
   ]
  },
  {
   "cell_type": "markdown",
   "metadata": {
    "colab_type": "text",
    "id": "rm9Dl1Nwng-Z"
   },
   "source": [
    "The input features are the features that will eventually be used to train the classifier. Additionally the labels are the observed outcomes. The labels will be used to find the error in the classifier and thereby train the classifier. The function __match_with_team_stats__ add rows from the table __team_stats__ onto the table __X__ according to the value taken by __left_on__. This will be used to add team statistics of the home and away team as features. The __build_X__ function takes inputs of two tables __X__ and __team_stats__. It returns a complete table representing the full feature matrix that will be used to train and test models."
   ]
  },
  {
   "cell_type": "code",
   "execution_count": null,
   "metadata": {
    "ExecuteTime": {
     "end_time": "2020-01-05T04:52:57.534402Z",
     "start_time": "2020-01-05T04:52:57.527379Z"
    },
    "colab": {},
    "colab_type": "code",
    "id": "J6EkL-5Gng-c"
   },
   "outputs": [],
   "source": [
    "def match_with_team_stats(X,team_stats,col_to_add,left_on,right_on='Team'):\n",
    "    X=pd.merge(X,team_stats[[right_on,col_to_add]],how='left',left_on=left_on,right_on=right_on,sort=False).\\\n",
    "                                                                                    drop(right_on, axis = 1) \n",
    "    return X"
   ]
  },
  {
   "cell_type": "code",
   "execution_count": null,
   "metadata": {
    "ExecuteTime": {
     "end_time": "2020-01-05T04:52:57.544368Z",
     "start_time": "2020-01-05T04:52:57.535373Z"
    },
    "colab": {},
    "colab_type": "code",
    "id": "Hcal8LcYng-n"
   },
   "outputs": [],
   "source": [
    "def build_X(data,team_stats):\n",
    "    X = data[['HomeTeam', 'AwayTeam']]\n",
    "    # Add Home Attacking Strength(HAS), Home Defensive Strength(HDS), Away Attacking Strength(AAS), \n",
    "    # Away Defensive Strength(ADS)\n",
    "    X = match_with_team_stats(X,team_stats,'HAS','HomeTeam')\n",
    "    X = match_with_team_stats(X,team_stats,'HDS','HomeTeam')\n",
    "    X = match_with_team_stats(X,team_stats,'HCON','HomeTeam')\n",
    "    X = match_with_team_stats(X,team_stats,'HAGG','HomeTeam')\n",
    "    print('Added: \\'HAS\\',\\'HDS\\',\\'HCON\\',\\'HAGG\\'')\n",
    "    \n",
    "    X = match_with_team_stats(X,team_stats,'AAS','AwayTeam')\n",
    "    X = match_with_team_stats(X,team_stats,'ADS','AwayTeam')\n",
    "    X = match_with_team_stats(X,team_stats,'ACON','AwayTeam')\n",
    "    X = match_with_team_stats(X,team_stats,'AAGG','AwayTeam')\n",
    "    print('Added: \\'AAS\\',\\'ADS\\',\\'ACON\\',\\'AAGG\\'')\n",
    "    \n",
    "    # Add Home Shots on Target(HST), Away Shots on Target(AST), Home Corners(HC), Away Corners(AC)\n",
    "    X[['FFPTSH','FFPTSA','FFHG','FFAG']] = X.apply(get_form_match, axis=1, result_type='expand')\n",
    "    print('Added: \\'FFPTSH\\',\\'FFPTSA\\',\\'FFHG\\',\\'FFAG\\'')\n",
    "    X[['PSH','SSH','CSH']] = X.apply(get_streak_team, args=['HomeTeam'], axis=1, result_type='expand')\n",
    "    print('Added: \\'PSH\\',\\'SSH\\',\\'CSH\\'')\n",
    "    X[['PSA','SSA','CSA']] = X.apply(get_streak_team, args=['AwayTeam'], axis=1, result_type='expand')\n",
    "    print('Added: \\'PSA\\',\\'SSA\\',\\'CSA\\'')\n",
    "    \n",
    "    return X"
   ]
  },
  {
   "cell_type": "markdown",
   "metadata": {},
   "source": [
    "#### Defining X"
   ]
  },
  {
   "cell_type": "code",
   "execution_count": null,
   "metadata": {
    "ExecuteTime": {
     "end_time": "2020-01-05T04:55:25.448903Z",
     "start_time": "2020-01-05T04:52:57.545367Z"
    },
    "colab": {},
    "colab_type": "code",
    "id": "eXwiB8V9ng-s",
    "outputId": "df85d8e5-c285-4695-8132-82a9b24eb915"
   },
   "outputs": [],
   "source": [
    "X = build_X(data,team_stats)\n",
    "\n",
    "X.tail()"
   ]
  },
  {
   "cell_type": "markdown",
   "metadata": {},
   "source": [
    "#### Defining y"
   ]
  },
  {
   "cell_type": "code",
   "execution_count": null,
   "metadata": {
    "ExecuteTime": {
     "end_time": "2020-01-05T04:55:25.457919Z",
     "start_time": "2020-01-05T04:55:25.449902Z"
    },
    "colab": {},
    "colab_type": "code",
    "id": "nok7uDyeng-z",
    "outputId": "19b799c7-0c73-4f87-9ad4-e4d42971e984"
   },
   "outputs": [],
   "source": [
    "y = data[['FTR']]\n",
    "\n",
    "y.head()"
   ]
  },
  {
   "cell_type": "markdown",
   "metadata": {
    "colab_type": "text",
    "id": "PdCKYplung-3"
   },
   "source": [
    "### Label Encoding Categorical Columns"
   ]
  },
  {
   "cell_type": "code",
   "execution_count": null,
   "metadata": {
    "ExecuteTime": {
     "end_time": "2020-01-05T04:55:25.475890Z",
     "start_time": "2020-01-05T04:55:25.459897Z"
    }
   },
   "outputs": [],
   "source": [
    "non_numerical_cols=[col for col in X.columns if col not in X._get_numeric_data().columns]\n",
    "X[non_numerical_cols]=X[non_numerical_cols].apply(LabelEncoder().fit_transform)\n",
    "y = LabelEncoder().fit_transform(y)"
   ]
  },
  {
   "cell_type": "markdown",
   "metadata": {
    "colab_type": "text",
    "id": "pvDuQ4Qang--"
   },
   "source": [
    "### Exploratory Data Analysis on Engineered Features"
   ]
  },
  {
   "cell_type": "markdown",
   "metadata": {
    "colab_type": "text",
    "id": "ZwTMgrPmng_A"
   },
   "source": [
    "A histogram plot of the number of occurances of the different values of each features."
   ]
  },
  {
   "cell_type": "raw",
   "metadata": {},
   "source": [
    "# data_for_cor = X.copy()\n",
    "# data_for_cor['FTR'] = y\n",
    "col_list = np.reshape(X.columns, (4,5))\n",
    "# Call the function get_column_countplot() to plot the count plot of the categorical columns as s ubplots in a figure\n",
    "fig, axes = plt.subplots(4,5,figsize=(6,8))\n",
    "for i in range(5):\n",
    "    for j in range(4):\n",
    "        get_column_countplot(X,col_list[i][j], ax=axes[i,j])\n",
    "#fig.tight_layout(rect=[0, 0.03, 1, 0.97])\n",
    "fig.suptitle(\"Count plots of all features in X\",fontweight='bold',\n",
    "             fontsize=20)\n",
    "sns.set_style(\"white\")\n",
    "fig5=plt.savefig('Images/X histogram all.png')\n",
    "plt.show()"
   ]
  },
  {
   "cell_type": "code",
   "execution_count": null,
   "metadata": {
    "ExecuteTime": {
     "end_time": "2020-01-05T04:55:31.450593Z",
     "start_time": "2020-01-05T04:55:25.477907Z"
    },
    "colab": {},
    "colab_type": "code",
    "id": "udAtz1Ryng_C",
    "outputId": "94153635-6a57-43e0-f165-460828c37583",
    "scrolled": false
   },
   "outputs": [],
   "source": [
    "data_for_cor = X.copy()\n",
    "data_for_cor['FTR'] = y\n",
    "sns.set_style(\"white\")\n",
    "data_for_cor.hist(figsize=(16, 20), bins=20, xlabelsize=8, ylabelsize=8)\n",
    "fig5=plt.savefig('Images/X histogram all.png')\n",
    "plt.show()"
   ]
  },
  {
   "cell_type": "markdown",
   "metadata": {
    "colab_type": "text",
    "id": "UryyqXqnng_K"
   },
   "source": [
    "#### Correlation plot for Engineered Features"
   ]
  },
  {
   "cell_type": "markdown",
   "metadata": {
    "colab_type": "text",
    "id": "Yu0Zx32Ing_N"
   },
   "source": [
    "Similar to the correlation matrix plot for the raw column data, this plot visualizes the correlation between the engineered featuers, the competing teams and the full time result. This is represented on a heatmap."
   ]
  },
  {
   "cell_type": "code",
   "execution_count": null,
   "metadata": {
    "ExecuteTime": {
     "end_time": "2020-01-05T04:55:33.795596Z",
     "start_time": "2020-01-05T04:55:31.451574Z"
    },
    "colab": {},
    "colab_type": "code",
    "id": "qUSANXbkng_O",
    "outputId": "f44bc2f5-1ca6-4c8c-f939-d4a37b9bbd76"
   },
   "outputs": [],
   "source": [
    "plt.figure(figsize=(20,15))\n",
    "ax = plt.subplot(111)\n",
    "ax.set_title(\"Heatmap of Correlation Matrix for Columns of Design Matrix\",\n",
    "             fontsize=20,fontweight='bold')\n",
    "sns.heatmap(data_for_cor.corr(), annot = True, fmt='.1f', cmap= 'coolwarm', \n",
    "            ax=ax)\n",
    "fig6=plt.savefig('Images/X_corr_heatmap.png')\n",
    "plt.show()\n"
   ]
  },
  {
   "cell_type": "markdown",
   "metadata": {
    "colab_type": "text",
    "id": "RreVV7kFng_U"
   },
   "source": [
    "### Scaling the features"
   ]
  },
  {
   "cell_type": "code",
   "execution_count": null,
   "metadata": {
    "ExecuteTime": {
     "end_time": "2020-01-05T04:55:33.817584Z",
     "start_time": "2020-01-05T04:55:33.796595Z"
    },
    "colab": {},
    "colab_type": "code",
    "id": "-DUbTBJGng_V",
    "outputId": "7bb8eded-a01a-44b2-f7a1-5409c561693f"
   },
   "outputs": [],
   "source": [
    "X[X.columns] =MinMaxScaler().fit_transform(X[X.columns])"
   ]
  },
  {
   "cell_type": "code",
   "execution_count": null,
   "metadata": {
    "ExecuteTime": {
     "end_time": "2020-01-05T04:55:33.837572Z",
     "start_time": "2020-01-05T04:55:33.818584Z"
    },
    "scrolled": false
   },
   "outputs": [],
   "source": [
    "X.head()"
   ]
  },
  {
   "cell_type": "markdown",
   "metadata": {
    "colab_type": "text",
    "id": "_AE45x86ng_a"
   },
   "source": [
    "### Splitting into training and testing datasets"
   ]
  },
  {
   "cell_type": "markdown",
   "metadata": {
    "colab_type": "text",
    "id": "Ug2vPjuong_b"
   },
   "source": [
    "Splitting the full list of input features into training and testing datasets. The output labels are also split accordingly. The decided splitting ratio is 1:4 (test:train)."
   ]
  },
  {
   "cell_type": "code",
   "execution_count": null,
   "metadata": {
    "ExecuteTime": {
     "end_time": "2020-01-05T04:55:33.845567Z",
     "start_time": "2020-01-05T04:55:33.838571Z"
    },
    "colab": {},
    "colab_type": "code",
    "id": "K1Wz9s6hng_d"
   },
   "outputs": [],
   "source": [
    "X_train, X_test, y_train, y_test = train_test_split(X, y, test_size=0.2, random_state=42)"
   ]
  },
  {
   "cell_type": "markdown",
   "metadata": {
    "colab_type": "text",
    "id": "SPCsgT5bng_i"
   },
   "source": [
    "# Model Training"
   ]
  },
  {
   "cell_type": "markdown",
   "metadata": {
    "colab_type": "text",
    "id": "uEJP4PFgng_j"
   },
   "source": [
    "#### Functions to train the classifiers"
   ]
  },
  {
   "cell_type": "code",
   "execution_count": null,
   "metadata": {
    "ExecuteTime": {
     "end_time": "2020-01-05T04:55:33.852564Z",
     "start_time": "2020-01-05T04:55:33.846566Z"
    },
    "colab": {},
    "colab_type": "code",
    "id": "5SpjhESung_l"
   },
   "outputs": [],
   "source": [
    "def get_scores(model,X,y):\n",
    "    score_list=['accuracy','precision_macro','recall_macro','f1_macro','roc_auc_ovr']\n",
    "    scores = cross_validate(model, X, y, scoring=score_list,\n",
    "                            cv=10, return_train_score=True,n_jobs=n_cpu)\n",
    "    mean_scores=[]\n",
    "    for suffix in score_list:\n",
    "        mean_scores.append((scores['test_%s'%(suffix)].mean()))\n",
    "    return scores,mean_scores"
   ]
  },
  {
   "cell_type": "code",
   "execution_count": null,
   "metadata": {
    "ExecuteTime": {
     "end_time": "2020-01-05T04:55:33.862561Z",
     "start_time": "2020-01-05T04:55:33.853562Z"
    }
   },
   "outputs": [],
   "source": [
    "def get_model_accuracy_on_test(model,X_train,y_train,X_test,y_test,title):    \n",
    "    scores = {}\n",
    "    \n",
    "    classifier=model.fit(X_train,y_train)\n",
    "    y_pred = model.predict(X_test)\n",
    "    \n",
    "    scores['accuracy'] = (accuracy_score(y_test, y_pred))\n",
    "    scores['precision'] = (precision_score(y_test, y_pred,average='macro'))\n",
    "    scores['recall'] = (recall_score(y_test, y_pred,average='macro'))\n",
    "    disp = plot_confusion_matrix(classifier, X_test, y_test,\n",
    "                                 display_labels=['A','D','H'],\n",
    "                                 cmap=plt.cm.Blues)\n",
    "    disp.ax_.set_title('Confusion Matrix: %s'%(title))\n",
    "    disp.confusion_matrix\n",
    "    return scores"
   ]
  },
  {
   "cell_type": "code",
   "execution_count": null,
   "metadata": {
    "ExecuteTime": {
     "end_time": "2020-01-05T04:55:33.873558Z",
     "start_time": "2020-01-05T04:55:33.864556Z"
    },
    "colab": {},
    "colab_type": "code",
    "id": "dO0_Xu8yng_v"
   },
   "outputs": [],
   "source": [
    "def get_best_params_RandomizedCV(model,X,y,param_grid,refit='accuracy'):\n",
    "    scoring=('accuracy','f1_macro','roc_auc_ovr')\n",
    "    other_scores=[score for score in list(scoring) if score!=refit] \n",
    "    grid_results = RandomizedSearchCV(model, param_grid, \n",
    "                                       cv=10,n_jobs=n_cpu,\n",
    "                                       scoring=scoring,\n",
    "                                       refit=refit)\n",
    "    grid_results.fit(X, y)\n",
    "#     print('Best parameters: \\n',grid_results.best_params_)\n",
    "    cv_results=grid_results.cv_results_\n",
    "    best_index_results = np.nonzero(cv_results['rank_test_%s'%(refit)] == 1)[0][0]\n",
    "    refit_score=grid_results.best_score_\n",
    "    other_score_0=cv_results['mean_test_%s'%(other_scores[0])][best_index_results]\n",
    "    other_score_1=cv_results['mean_test_%s'%(other_scores[1])][best_index_results]\n",
    "    best_params_df=pd.DataFrame([[refit,refit_score,other_score_0,other_score_1]],\n",
    "                                columns=['Refit',refit,other_scores[0],other_scores[1]])\n",
    "    return grid_results.best_params_,best_params_df"
   ]
  },
  {
   "cell_type": "code",
   "execution_count": null,
   "metadata": {
    "ExecuteTime": {
     "end_time": "2020-01-05T04:55:33.882546Z",
     "start_time": "2020-01-05T04:55:33.874550Z"
    },
    "colab": {},
    "colab_type": "code",
    "id": "hIenirnqnhAD"
   },
   "outputs": [],
   "source": [
    "def get_best_params_GridCV(model,X,y,param_grid,refit='accuracy'):\n",
    "    scoring=('accuracy','f1_macro','roc_auc_ovr')\n",
    "    other_scores=[score for score in list(scoring) if score!=refit] \n",
    "    grid_results = GridSearchCV(model, param_grid, \n",
    "                                       cv=10,n_jobs=n_cpu,\n",
    "                                       scoring=scoring,\n",
    "                                       refit=refit)\n",
    "    grid_results.fit(X, y)\n",
    "#     print('Best parameters: \\n',grid_results.best_params_)\n",
    "    cv_results=grid_results.cv_results_\n",
    "    best_index_results = np.nonzero(cv_results['rank_test_%s'%(refit)] == 1)[0][0]\n",
    "    refit_score=grid_results.best_score_\n",
    "    other_score_0=cv_results['mean_test_%s'%(other_scores[0])][best_index_results]\n",
    "    other_score_1=cv_results['mean_test_%s'%(other_scores[1])][best_index_results]\n",
    "    best_params_df=pd.DataFrame([[refit,refit_score,other_score_0,other_score_1]],\n",
    "                                columns=['Refit',refit,other_scores[0],other_scores[1]])\n",
    "    return grid_results.best_params_,best_params_df"
   ]
  },
  {
   "cell_type": "code",
   "execution_count": null,
   "metadata": {
    "ExecuteTime": {
     "end_time": "2020-01-05T04:55:33.895539Z",
     "start_time": "2020-01-05T04:55:33.883545Z"
    }
   },
   "outputs": [],
   "source": [
    "def train_model_get_best_params(model, param_grid, X_train,y_train):\n",
    "    # Start time measurement\n",
    "    start_meas = time.time()\n",
    "    \n",
    "    # Get cross-val score of the passed model\n",
    "    scores,scores_list=get_scores(model,X_train,y_train)\n",
    "    \n",
    "    # Refit on different score\n",
    "    # best_params_LR = get_best_model_GridCV(model, X_train, y_train, param_grid, refit='accuracy')\n",
    "    refit_list=['Accuracy','f1-score','ROC-AUC']\n",
    "    best_params_a,df_a=get_best_params_RandomizedCV(model, X_train, y_train, param_grid, refit='accuracy')\n",
    "    best_params_f,df_f=get_best_params_RandomizedCV(model, X_train, y_train, param_grid, refit='f1_macro')\n",
    "    best_params_r,df_r=get_best_params_RandomizedCV(model, X_train, y_train, param_grid, refit='roc_auc_ovr')\n",
    "    \n",
    "    stop_meas=time.time()\n",
    "    \n",
    "    # Stop measurement\n",
    "    training_time=stop_meas-start_meas\n",
    "    if training_time<60:\n",
    "        print('Training time: %.2fs'%(training_time))\n",
    "    else:\n",
    "        m,s=divmode(training_time/60)\n",
    "        print('Training time: %dmin %ds'%(m,s))\n",
    "        \n",
    "    # Create a best_params_df\n",
    "    best_params_df=df_a.append(df_f[df_a.columns], ignore_index=True)\n",
    "    best_params_df=best_params_df.append(df_r[df_a.columns], ignore_index=True)\n",
    "    \n",
    "    # Add mean scores column\n",
    "    best_params_df['mean']=best_params_df[best_params_df.columns[1:]].mean(axis=1)\n",
    "    \n",
    "    # Find the best params\n",
    "    best_params_list=[best_params_a,best_params_f,best_params_r]\n",
    "    loc_of_best_params=best_params_df.index[best_params_df['mean']==best_params_df['mean'].max()][0]\n",
    "    best_params=best_params_list[loc_of_best_params]\n",
    "    best_scores=best_params_df.iloc[loc_of_best_params]\n",
    "    \n",
    "    # Create a scores dataframe\n",
    "    scores_df=pd.DataFrame([scores_list],columns=['Accuracy','Precision','Recall','f1-score','ROC-AUC'])\n",
    "    display(HTML('<h3><b>Cross Validation scores on baseline model: </h3></b>'))\n",
    "    display(scores_df)\n",
    "    print()\n",
    "    display(HTML('<h3><b>Scores for different refit on GridSearchCV: </h3></b>'))\n",
    "    display(best_params_df)\n",
    "    display(HTML('<h4>The best parameters were for refit=<b>%s</b>.</h4>'%(refit_list[loc_of_best_params])))\n",
    "    print()\n",
    "    display(HTML('<b>The best parameters returned are: </b>\\n'))\n",
    "    print(best_params)\n",
    "    \n",
    "    return scores,best_scores, best_params"
   ]
  },
  {
   "cell_type": "code",
   "execution_count": null,
   "metadata": {
    "ExecuteTime": {
     "end_time": "2020-01-05T04:55:33.901536Z",
     "start_time": "2020-01-05T04:55:33.896538Z"
    }
   },
   "outputs": [],
   "source": [
    "def get_scores_on_reserved_test_data(model,best_params,suffix):\n",
    "    model.set_params(**best_params)\n",
    "\n",
    "    test_scores = get_model_accuracy_on_test(model,X_train,y_train,\n",
    "                                             X_test,y_test,suffix)\n",
    "\n",
    "    for key, value in test_scores.items():\n",
    "        print('%s: %f' % (key.capitalize(),value),end='\\t')\n",
    "    print()\n",
    "    return test_scores"
   ]
  },
  {
   "cell_type": "code",
   "execution_count": null,
   "metadata": {
    "ExecuteTime": {
     "end_time": "2020-01-05T04:55:33.913528Z",
     "start_time": "2020-01-05T04:55:33.903534Z"
    }
   },
   "outputs": [],
   "source": [
    "def get_top_features(model,model_name,n=X.shape[1]):\n",
    "    feature_imp_df = pd.DataFrame({'Features':X.columns})\n",
    "    if hasattr(model, 'coef_'):\n",
    "        importances=list(np.sum(np.absolute(model.coef_), axis=0))\n",
    "        feature_imp_df['Importance']=importances\n",
    "    elif hasattr(model, 'feature_importances_'):\n",
    "         feature_imp_df['Importance']=list(model.feature_importances_)\n",
    "    else:\n",
    "        print('Attributes required to calculate importance is not available for this model!')\n",
    "        return None\n",
    "            \n",
    "    feature_imp_df = feature_imp_df.sort_values(by=['Importance']).\\\n",
    "                     reset_index(drop=True)\n",
    "    top_features_imp_df=feature_imp_df.iloc[-n:]\n",
    "    index=np.arange(n)\n",
    "\n",
    "    plt.figure()\n",
    "\n",
    "    plt.barh(index,top_features_imp_df['Importance'], align='center',\n",
    "             color='brown')\n",
    "    plt.title('Feature importances: %s'%(model_name),fontsize=18,\n",
    "              fontweight='bold')\n",
    "    plt.xlabel('Importance scores',fontsize=16,fontweight='bold')\n",
    "    plt.ylabel('Features',fontsize=16,fontweight='bold')\n",
    "    plt.xticks(fontsize=13)\n",
    "    plt.yticks(index,top_features_imp_df['Features'],fontsize=13)\n",
    "    plt.ylim([-1, n+1])\n",
    "    plt.show()\n",
    "\n",
    "    return feature_imp_df"
   ]
  },
  {
   "cell_type": "code",
   "execution_count": null,
   "metadata": {
    "ExecuteTime": {
     "end_time": "2020-01-05T04:55:33.920526Z",
     "start_time": "2020-01-05T04:55:33.914528Z"
    }
   },
   "outputs": [],
   "source": [
    "model_acrnym_list=['LR','MLP','GNB','XGB','RFC','KNN','SGD','SVM']\n",
    "best_scores_all=[]\n",
    "all_scores = {}"
   ]
  },
  {
   "cell_type": "markdown",
   "metadata": {},
   "source": [
    "These are baseline models."
   ]
  },
  {
   "cell_type": "code",
   "execution_count": null,
   "metadata": {
    "ExecuteTime": {
     "end_time": "2020-01-05T04:55:33.928531Z",
     "start_time": "2020-01-05T04:55:33.921523Z"
    }
   },
   "outputs": [],
   "source": [
    "def update_scores_dict(best_scores,suffix):\n",
    "    model_dict={'Model':suffix}\n",
    "    model_dict.update(best_scores)\n",
    "    return model_dict"
   ]
  },
  {
   "cell_type": "markdown",
   "metadata": {
    "colab_type": "text",
    "id": "JNuJFxKBnhAJ"
   },
   "source": [
    "### Logistic Regression"
   ]
  },
  {
   "cell_type": "markdown",
   "metadata": {},
   "source": [
    "#### Define model and parameter grid"
   ]
  },
  {
   "cell_type": "code",
   "execution_count": null,
   "metadata": {
    "ExecuteTime": {
     "end_time": "2020-01-05T04:55:40.992735Z",
     "start_time": "2020-01-05T04:55:33.929520Z"
    },
    "colab": {},
    "colab_type": "code",
    "id": "M8I3N406nhAK",
    "outputId": "fa680332-2da4-484a-c53a-915e10c64db4"
   },
   "outputs": [],
   "source": [
    "# Define model and param grid\n",
    "model_LR = LogisticRegression(n_jobs=n_cpu)\n",
    "\n",
    "param_grid_LR = {'penalty' : ['l1','l2', 'elasticnet'],\n",
    "                 'C' : np.logspace(-4,4,10),\n",
    "                 'class_weight' : ['balanced',None],\n",
    "                 'solver' : ['newton-cg', 'sag','saga', 'lbfgs'],\n",
    "                 'fit_intercept' : [True, False]\n",
    "                }\n",
    "# Train and get best parameters\n",
    "scores_LR, best_scores_LR, best_params_LR=train_model_get_best_params(model_LR, param_grid_LR, X_train,y_train)\n",
    "# Update scores dictionary\n",
    "best_scores_all.append(update_scores_dict(best_scores_LR,'LR'))"
   ]
  },
  {
   "cell_type": "markdown",
   "metadata": {},
   "source": [
    "#### Getting scores on reserved test dataset"
   ]
  },
  {
   "cell_type": "code",
   "execution_count": null,
   "metadata": {
    "ExecuteTime": {
     "end_time": "2020-01-05T04:55:41.408721Z",
     "start_time": "2020-01-05T04:55:40.993725Z"
    },
    "colab": {},
    "colab_type": "code",
    "id": "M8I3N406nhAK",
    "outputId": "fa680332-2da4-484a-c53a-915e10c64db4",
    "scrolled": false
   },
   "outputs": [],
   "source": [
    "all_scores['LR']=get_scores_on_reserved_test_data(model_LR,best_params_LR,'LR')"
   ]
  },
  {
   "cell_type": "markdown",
   "metadata": {},
   "source": [
    "#### Checking the top 15 most important features"
   ]
  },
  {
   "cell_type": "code",
   "execution_count": null,
   "metadata": {
    "ExecuteTime": {
     "end_time": "2020-01-05T04:55:41.673585Z",
     "start_time": "2020-01-05T04:55:41.409721Z"
    },
    "colab": {},
    "colab_type": "code",
    "id": "M8I3N406nhAK",
    "outputId": "fa680332-2da4-484a-c53a-915e10c64db4",
    "scrolled": false
   },
   "outputs": [],
   "source": [
    "feature_imp_scores_LR=get_top_features(model_LR,'Logistic Regression',n=15)"
   ]
  },
  {
   "cell_type": "markdown",
   "metadata": {
    "colab_type": "text",
    "id": "xMdh41PTnhAR"
   },
   "source": [
    "### Multi-Layer Perceptron Neural Network"
   ]
  },
  {
   "cell_type": "markdown",
   "metadata": {},
   "source": [
    "#### Define model and parameter grid"
   ]
  },
  {
   "cell_type": "code",
   "execution_count": null,
   "metadata": {
    "ExecuteTime": {
     "end_time": "2020-01-05T04:58:33.200180Z",
     "start_time": "2020-01-05T04:55:41.678583Z"
    },
    "colab": {},
    "colab_type": "code",
    "id": "M8I3N406nhAK",
    "outputId": "fa680332-2da4-484a-c53a-915e10c64db4"
   },
   "outputs": [],
   "source": [
    "# Define model and param grid\n",
    "model_MLP = MLPClassifier()\n",
    "\n",
    "param_grid_MLP = {\n",
    "#     'hidden_layer_sizes': [(50,50,50), (50,100,50), (100,)],\n",
    "    'activation': ['tanh', 'relu','logistic'],\n",
    "    'solver': ['sgd', 'adam'],\n",
    "    'alpha': np.linspace(0.0001, 0.9,5),\n",
    "    'learning_rate': ['constant','adaptive'],\n",
    "}\n",
    "\n",
    "# Train and get best parameters\n",
    "scores_MLP, best_scores_MLP, best_params_MLP=train_model_get_best_params(model_MLP, param_grid_MLP, X_train,y_train)\n",
    "# Update scores dictionary\n",
    "best_scores_all.append(update_scores_dict(best_scores_MLP,'MLP'))"
   ]
  },
  {
   "cell_type": "markdown",
   "metadata": {},
   "source": [
    "#### Getting scores on reserved test dataset"
   ]
  },
  {
   "cell_type": "code",
   "execution_count": null,
   "metadata": {
    "ExecuteTime": {
     "end_time": "2020-01-05T04:58:33.202166Z",
     "start_time": "2020-01-05T04:52:38.356Z"
    },
    "colab": {},
    "colab_type": "code",
    "id": "M8I3N406nhAK",
    "outputId": "fa680332-2da4-484a-c53a-915e10c64db4",
    "scrolled": false
   },
   "outputs": [],
   "source": [
    "all_scores['MLP']=get_scores_on_reserved_test_data(model_MLP,best_params_MLP,'MLP')"
   ]
  },
  {
   "cell_type": "markdown",
   "metadata": {},
   "source": [
    "#### Checking the top 15 most important features"
   ]
  },
  {
   "cell_type": "code",
   "execution_count": null,
   "metadata": {
    "ExecuteTime": {
     "end_time": "2020-01-05T04:58:33.203167Z",
     "start_time": "2020-01-05T04:52:38.362Z"
    },
    "colab": {},
    "colab_type": "code",
    "id": "M8I3N406nhAK",
    "outputId": "fa680332-2da4-484a-c53a-915e10c64db4",
    "scrolled": false
   },
   "outputs": [],
   "source": [
    "feature_imp_scores_MLP=get_top_features(model_MLP,\n",
    "                                'Multi-Layer Perceptron Neural Network',n=15)"
   ]
  },
  {
   "cell_type": "markdown",
   "metadata": {},
   "source": [
    "### Gaussian Naive Bayes"
   ]
  },
  {
   "cell_type": "markdown",
   "metadata": {},
   "source": [
    "#### Define model and parameter grid"
   ]
  },
  {
   "cell_type": "code",
   "execution_count": null,
   "metadata": {
    "ExecuteTime": {
     "end_time": "2020-01-05T04:58:33.204175Z",
     "start_time": "2020-01-05T04:52:38.370Z"
    },
    "colab": {},
    "colab_type": "code",
    "id": "M8I3N406nhAK",
    "outputId": "fa680332-2da4-484a-c53a-915e10c64db4"
   },
   "outputs": [],
   "source": [
    "model_GNB = GaussianNB()\n",
    "\n",
    "param_grid_GNB = {\n",
    "    'var_smoothing': np.linspace(0.01,0.199,25)\n",
    "}\n",
    "\n",
    "# Train and get best parameters\n",
    "scores_GNB, best_scores_GNB, best_params_GNB=train_model_get_best_params(model_GNB, param_grid_GNB, X_train,y_train)\n",
    "# Update scores dictionary\n",
    "best_scores_all.append(update_scores_dict(best_scores_GNB,'GNB'))"
   ]
  },
  {
   "cell_type": "markdown",
   "metadata": {},
   "source": [
    "#### Getting scores on reserved test dataset"
   ]
  },
  {
   "cell_type": "code",
   "execution_count": null,
   "metadata": {
    "ExecuteTime": {
     "end_time": "2020-01-05T04:58:33.204175Z",
     "start_time": "2020-01-05T04:52:38.376Z"
    },
    "colab": {},
    "colab_type": "code",
    "id": "M8I3N406nhAK",
    "outputId": "fa680332-2da4-484a-c53a-915e10c64db4",
    "scrolled": false
   },
   "outputs": [],
   "source": [
    "all_scores['GNB']=get_scores_on_reserved_test_data(model_GNB,best_params_GNB,'GNB')"
   ]
  },
  {
   "cell_type": "markdown",
   "metadata": {},
   "source": [
    "#### Checking the top 15 most important features"
   ]
  },
  {
   "cell_type": "code",
   "execution_count": null,
   "metadata": {
    "ExecuteTime": {
     "end_time": "2020-01-05T04:58:33.205164Z",
     "start_time": "2020-01-05T04:52:38.381Z"
    },
    "colab": {},
    "colab_type": "code",
    "id": "M8I3N406nhAK",
    "outputId": "fa680332-2da4-484a-c53a-915e10c64db4",
    "scrolled": false
   },
   "outputs": [],
   "source": [
    "feature_imp_scores_GNB=get_top_features(model_GNB,'Gaussian Naive Bayes',n=15)"
   ]
  },
  {
   "cell_type": "markdown",
   "metadata": {},
   "source": [
    "### XGBoost"
   ]
  },
  {
   "cell_type": "markdown",
   "metadata": {},
   "source": [
    "#### Define model and parameter grid"
   ]
  },
  {
   "cell_type": "code",
   "execution_count": null,
   "metadata": {
    "ExecuteTime": {
     "end_time": "2020-01-05T04:58:33.206163Z",
     "start_time": "2020-01-05T04:52:38.389Z"
    },
    "colab": {},
    "colab_type": "code",
    "id": "M8I3N406nhAK",
    "outputId": "fa680332-2da4-484a-c53a-915e10c64db4"
   },
   "outputs": [],
   "source": [
    "# Define model and param grid\n",
    "model_XGB = XGBClassifier(nthread=n_cpu)\n",
    "\n",
    "param_grid_XGB = {'min_child_weight': [1, 5, 10],\n",
    "                  'gamma': [0.5, 1, 1.5, 2, 5],\n",
    "                  'subsample': [0.6, 0.8, 1.0],\n",
    "                  'colsample_bytree': [0.6, 0.8, 1.0],\n",
    "                  'max_depth': [3, 4, 5]\n",
    "                 }\n",
    "\n",
    "# Train and get best parameters\n",
    "scores_XGB, best_scores_XGB, best_params_XGB=train_model_get_best_params(model_XGB, param_grid_XGB, X_train,y_train)\n",
    "# Update scores dictionary\n",
    "best_scores_all.append(update_scores_dict(best_scores_XGB,'XGB'))"
   ]
  },
  {
   "cell_type": "markdown",
   "metadata": {},
   "source": [
    "#### Getting scores on reserved test dataset"
   ]
  },
  {
   "cell_type": "code",
   "execution_count": null,
   "metadata": {
    "ExecuteTime": {
     "end_time": "2020-01-05T04:58:33.207167Z",
     "start_time": "2020-01-05T04:52:38.406Z"
    },
    "colab": {},
    "colab_type": "code",
    "id": "M8I3N406nhAK",
    "outputId": "fa680332-2da4-484a-c53a-915e10c64db4",
    "scrolled": false
   },
   "outputs": [],
   "source": [
    "all_scores['XGB']=get_scores_on_reserved_test_data(model_XGB,best_params_XGB,'XGB')"
   ]
  },
  {
   "cell_type": "markdown",
   "metadata": {},
   "source": [
    "#### Checking the top 15 most important features"
   ]
  },
  {
   "cell_type": "code",
   "execution_count": null,
   "metadata": {
    "ExecuteTime": {
     "end_time": "2020-01-05T04:58:33.207167Z",
     "start_time": "2020-01-05T04:52:38.413Z"
    },
    "colab": {},
    "colab_type": "code",
    "id": "M8I3N406nhAK",
    "outputId": "fa680332-2da4-484a-c53a-915e10c64db4",
    "scrolled": false
   },
   "outputs": [],
   "source": [
    "feature_imp_scores_XGB=get_top_features(model_XGB,'XGBoost',n=15)"
   ]
  },
  {
   "cell_type": "markdown",
   "metadata": {},
   "source": [
    "### Random Forests"
   ]
  },
  {
   "cell_type": "markdown",
   "metadata": {},
   "source": [
    "#### Define model and parameter grid"
   ]
  },
  {
   "cell_type": "code",
   "execution_count": null,
   "metadata": {
    "ExecuteTime": {
     "end_time": "2020-01-05T04:58:33.209162Z",
     "start_time": "2020-01-05T04:52:38.505Z"
    },
    "colab": {},
    "colab_type": "code",
    "id": "M8I3N406nhAK",
    "outputId": "fa680332-2da4-484a-c53a-915e10c64db4"
   },
   "outputs": [],
   "source": [
    "# Define model and param grid\n",
    "model_RFC = RandomForestClassifier()\n",
    "\n",
    "param_grid_RFC = {\n",
    "    'bootstrap': [True, False],\n",
    "    'max_depth': np.append(np.linspace(10,100,10,dtype = int),None),\n",
    "    'max_features': ['auto', 'sqrt'],\n",
    "    'min_samples_leaf': np.linspace(2,5,3,dtype = int),\n",
    "    'min_samples_split': np.linspace(2,10,3,dtype = int),\n",
    "    'n_estimators': np.linspace(200,2000,10,dtype = int)\n",
    "}\n",
    "\n",
    "# Train and get best parameters\n",
    "scores_RFC, best_scores_RFC, best_params_RFC=train_model_get_best_params(model_RFC, param_grid_RFC, X_train,y_train)\n",
    "# Update scores dictionary\n",
    "best_scores_all.append(update_scores_dict(best_scores_RFC,'RFC'))"
   ]
  },
  {
   "cell_type": "markdown",
   "metadata": {},
   "source": [
    "#### Getting scores on reserved test dataset"
   ]
  },
  {
   "cell_type": "code",
   "execution_count": null,
   "metadata": {
    "ExecuteTime": {
     "end_time": "2020-01-05T04:58:33.209162Z",
     "start_time": "2020-01-05T04:52:38.510Z"
    },
    "colab": {},
    "colab_type": "code",
    "id": "M8I3N406nhAK",
    "outputId": "fa680332-2da4-484a-c53a-915e10c64db4",
    "scrolled": false
   },
   "outputs": [],
   "source": [
    "all_scores['RFC']=get_scores_on_reserved_test_data(model_RFC,best_params_RFC,'RFC')"
   ]
  },
  {
   "cell_type": "markdown",
   "metadata": {},
   "source": [
    "#### Checking the top 15 most important features"
   ]
  },
  {
   "cell_type": "code",
   "execution_count": null,
   "metadata": {
    "ExecuteTime": {
     "end_time": "2020-01-05T04:58:33.210162Z",
     "start_time": "2020-01-05T04:52:38.515Z"
    },
    "colab": {},
    "colab_type": "code",
    "id": "M8I3N406nhAK",
    "outputId": "fa680332-2da4-484a-c53a-915e10c64db4",
    "scrolled": false
   },
   "outputs": [],
   "source": [
    "feature_imp_scores_RFC=get_top_features(model_RFC,'Random Forest Classifier',n=15)"
   ]
  },
  {
   "cell_type": "markdown",
   "metadata": {},
   "source": [
    "### k-Nearest Neighbours"
   ]
  },
  {
   "cell_type": "markdown",
   "metadata": {},
   "source": [
    "#### Define model and parameter grid"
   ]
  },
  {
   "cell_type": "code",
   "execution_count": null,
   "metadata": {
    "ExecuteTime": {
     "end_time": "2020-01-05T04:58:33.211160Z",
     "start_time": "2020-01-05T04:52:38.522Z"
    },
    "colab": {},
    "colab_type": "code",
    "id": "M8I3N406nhAK",
    "outputId": "fa680332-2da4-484a-c53a-915e10c64db4"
   },
   "outputs": [],
   "source": [
    "# Define model and param grid\n",
    "model_KNN = KNeighborsClassifier()\n",
    "\n",
    "param_grid_KNN = {\n",
    "    'n_neighbors': range(1,10),\n",
    "    'weights': ['distance', 'uniform'],\n",
    "    'algorithm': ['ball_tree', 'kd_tree','brute']\n",
    "}\n",
    "\n",
    "# Train and get best parameters\n",
    "scores_KNN, best_scores_KNN, best_params_KNN=train_model_get_best_params(model_KNN, param_grid_KNN, X_train,y_train)\n",
    "# Update scores dictionary\n",
    "best_scores_all.append(update_scores_dict(best_scores_KNN,'KNN'))"
   ]
  },
  {
   "cell_type": "markdown",
   "metadata": {},
   "source": [
    "#### Getting scores on reserved test dataset"
   ]
  },
  {
   "cell_type": "code",
   "execution_count": null,
   "metadata": {
    "ExecuteTime": {
     "end_time": "2020-01-05T04:58:33.212160Z",
     "start_time": "2020-01-05T04:52:38.527Z"
    },
    "colab": {},
    "colab_type": "code",
    "id": "M8I3N406nhAK",
    "outputId": "fa680332-2da4-484a-c53a-915e10c64db4",
    "scrolled": false
   },
   "outputs": [],
   "source": [
    "all_scores['KNN']=get_scores_on_reserved_test_data(model_KNN,best_params_KNN,\n",
    "                                                   'KNN')"
   ]
  },
  {
   "cell_type": "markdown",
   "metadata": {},
   "source": [
    "#### Checking the top 15 most important features"
   ]
  },
  {
   "cell_type": "code",
   "execution_count": null,
   "metadata": {
    "ExecuteTime": {
     "end_time": "2020-01-05T04:58:33.214159Z",
     "start_time": "2020-01-05T04:52:38.534Z"
    },
    "colab": {},
    "colab_type": "code",
    "id": "M8I3N406nhAK",
    "outputId": "fa680332-2da4-484a-c53a-915e10c64db4",
    "scrolled": false
   },
   "outputs": [],
   "source": [
    "feature_imp_scores_KNN=get_top_features(model_KNN,\n",
    "                                        'k-Nearest Neighbours Classifier',\n",
    "                                        n=15)"
   ]
  },
  {
   "cell_type": "markdown",
   "metadata": {},
   "source": [
    "### Stochastic Gradient Descent"
   ]
  },
  {
   "cell_type": "markdown",
   "metadata": {},
   "source": [
    "#### Define model and parameter grid"
   ]
  },
  {
   "cell_type": "code",
   "execution_count": null,
   "metadata": {
    "ExecuteTime": {
     "end_time": "2020-01-05T04:58:33.215158Z",
     "start_time": "2020-01-05T04:52:38.541Z"
    },
    "colab": {},
    "colab_type": "code",
    "id": "M8I3N406nhAK",
    "outputId": "fa680332-2da4-484a-c53a-915e10c64db4",
    "scrolled": false
   },
   "outputs": [],
   "source": [
    "# Define model and param grid\n",
    "model_SGD = SGDClassifier(loss='log')\n",
    "\n",
    "param_grid_SGD = {\n",
    "    'max_iter': [1000000], # not suggested to change! \n",
    "    'tol': [1e-3],         # not suggested to change! \n",
    "     'loss': ['log', 'modified_huber', 'log', 'modified_huber'],\n",
    "    'alpha' : np.logspace(-4,4,7),\n",
    "    'penalty' : ['l1', 'l2']\n",
    "}\n",
    "# Train and get best parameters\n",
    "scores_SGD, best_scores_SGD, best_params_SGD=train_model_get_best_params(model_SGD, param_grid_SGD, X_train,y_train)\n",
    "# Update scores dictionary\n",
    "best_scores_all.append(update_scores_dict(best_scores_SGD,'SGD'))"
   ]
  },
  {
   "cell_type": "markdown",
   "metadata": {},
   "source": [
    "#### Getting scores on reserved test dataset"
   ]
  },
  {
   "cell_type": "code",
   "execution_count": null,
   "metadata": {
    "ExecuteTime": {
     "end_time": "2020-01-05T04:58:33.216158Z",
     "start_time": "2020-01-05T04:52:38.546Z"
    },
    "colab": {},
    "colab_type": "code",
    "id": "M8I3N406nhAK",
    "outputId": "fa680332-2da4-484a-c53a-915e10c64db4",
    "scrolled": false
   },
   "outputs": [],
   "source": [
    "all_scores['SGD']=get_scores_on_reserved_test_data(model_SGD,best_params_SGD,\n",
    "                                                   'SGD')"
   ]
  },
  {
   "cell_type": "markdown",
   "metadata": {},
   "source": [
    "#### Checking the top 15 most important features"
   ]
  },
  {
   "cell_type": "code",
   "execution_count": null,
   "metadata": {
    "ExecuteTime": {
     "end_time": "2020-01-05T04:58:33.217157Z",
     "start_time": "2020-01-05T04:52:38.555Z"
    },
    "colab": {},
    "colab_type": "code",
    "id": "M8I3N406nhAK",
    "outputId": "fa680332-2da4-484a-c53a-915e10c64db4",
    "scrolled": false
   },
   "outputs": [],
   "source": [
    "feature_imp_scores_SGD=get_top_features(model_SGD,'Stochastic Gradient Descent',\n",
    "                                        n=15)"
   ]
  },
  {
   "cell_type": "markdown",
   "metadata": {},
   "source": [
    "### Support Vector Machine"
   ]
  },
  {
   "cell_type": "markdown",
   "metadata": {},
   "source": [
    "#### Define model and parameter grid"
   ]
  },
  {
   "cell_type": "code",
   "execution_count": null,
   "metadata": {
    "ExecuteTime": {
     "end_time": "2020-01-05T04:58:33.218166Z",
     "start_time": "2020-01-05T04:52:38.561Z"
    },
    "colab": {},
    "colab_type": "code",
    "id": "M8I3N406nhAK",
    "outputId": "fa680332-2da4-484a-c53a-915e10c64db4"
   },
   "outputs": [],
   "source": [
    "# Define model and param grid\n",
    "model_SVM = SVC(gamma='auto')\n",
    "\n",
    "param_grid_SVM = {\n",
    "        'kernel':['linear', 'rbf', 'sigmoid',],\n",
    "        'degree':range(2,5),\n",
    "        'gamma':['scale', 'auto'],\n",
    "        'shrinking': [True, False],\n",
    "        'probability': [True], #M: it has to be True, False will trigger error for the algorithm\n",
    "        'decision_function_shape': ['ovo', 'ovr'],\n",
    "    }\n",
    "\n",
    "# Train and get best parameters\n",
    "scores_SVM, best_scores_SVM, best_params_SVM=train_model_get_best_params(model_SVM, param_grid_SVM, X_train,y_train)\n",
    "# Update scores dictionary\n",
    "best_scores_all.append(update_scores_dict(best_scores_SVM,'SVM'))"
   ]
  },
  {
   "cell_type": "markdown",
   "metadata": {},
   "source": [
    "#### Getting scores on reserved test dataset"
   ]
  },
  {
   "cell_type": "code",
   "execution_count": null,
   "metadata": {
    "ExecuteTime": {
     "end_time": "2020-01-05T04:58:33.219156Z",
     "start_time": "2020-01-05T04:52:38.567Z"
    },
    "colab": {},
    "colab_type": "code",
    "id": "M8I3N406nhAK",
    "outputId": "fa680332-2da4-484a-c53a-915e10c64db4",
    "scrolled": false
   },
   "outputs": [],
   "source": [
    "all_scores['SVM']=get_scores_on_reserved_test_data(model_SVM,best_params_SVM,\n",
    "                                                   'SVM')"
   ]
  },
  {
   "cell_type": "markdown",
   "metadata": {},
   "source": [
    "#### Checking the top 15 most important features"
   ]
  },
  {
   "cell_type": "code",
   "execution_count": null,
   "metadata": {
    "ExecuteTime": {
     "end_time": "2020-01-05T04:58:33.220163Z",
     "start_time": "2020-01-05T04:52:38.572Z"
    },
    "colab": {},
    "colab_type": "code",
    "id": "M8I3N406nhAK",
    "outputId": "fa680332-2da4-484a-c53a-915e10c64db4",
    "scrolled": false
   },
   "outputs": [],
   "source": [
    "feature_imp_scores_SVM=get_top_features(model_SVM,'Support Vector Machine',n=15)"
   ]
  },
  {
   "cell_type": "markdown",
   "metadata": {},
   "source": [
    "### Extra Trees Classifier"
   ]
  },
  {
   "cell_type": "markdown",
   "metadata": {},
   "source": [
    "#### Define model and parameter grid"
   ]
  },
  {
   "cell_type": "code",
   "execution_count": null,
   "metadata": {
    "ExecuteTime": {
     "end_time": "2020-01-05T04:58:33.220163Z",
     "start_time": "2020-01-05T04:52:38.578Z"
    },
    "colab": {},
    "colab_type": "code",
    "id": "M8I3N406nhAK",
    "outputId": "fa680332-2da4-484a-c53a-915e10c64db4"
   },
   "outputs": [],
   "source": [
    "# Define model and param grid\n",
    "model_ETC = ExtraTreesClassifier()\n",
    "\n",
    "param_grid_ETC = {'min_samples_leaf'=[1],' min_weight_fraction_leaf'=[0.0], \n",
    "                      'max_features'=['auto'], max_leaf_nodes=[None], 'min_impurity_decrease'=[0.0],\n",
    "                      'min_impurity_split'=[None]\n",
    "                     }\n",
    "\n",
    "# Train and get best parameters\n",
    "scores_ETC, best_scores_ETC, best_params_ETC=train_model_get_best_params(model_ETC, param_grid_ETC, X_train,y_train)\n",
    "# Update scores dictionary\n",
    "best_scores_all.append(update_scores_dict(best_scores_ETC,'ETC'))"
   ]
  },
  {
   "cell_type": "markdown",
   "metadata": {},
   "source": [
    "#### Getting scores on reserved test dataset"
   ]
  },
  {
   "cell_type": "code",
   "execution_count": null,
   "metadata": {
    "ExecuteTime": {
     "end_time": "2020-01-05T04:58:33.221155Z",
     "start_time": "2020-01-05T04:52:38.586Z"
    },
    "colab": {},
    "colab_type": "code",
    "id": "M8I3N406nhAK",
    "outputId": "fa680332-2da4-484a-c53a-915e10c64db4",
    "scrolled": false
   },
   "outputs": [],
   "source": [
    "all_scores['ETC']=get_scores_on_reserved_test_data(model_ETC,best_params_ETC,'ETC')"
   ]
  },
  {
   "cell_type": "markdown",
   "metadata": {},
   "source": [
    "#### Checking the top 15 most important features"
   ]
  },
  {
   "cell_type": "code",
   "execution_count": null,
   "metadata": {
    "ExecuteTime": {
     "end_time": "2020-01-05T04:58:33.223154Z",
     "start_time": "2020-01-05T04:52:38.591Z"
    },
    "colab": {},
    "colab_type": "code",
    "id": "M8I3N406nhAK",
    "outputId": "fa680332-2da4-484a-c53a-915e10c64db4",
    "scrolled": false
   },
   "outputs": [],
   "source": [
    "feature_imp_scores_ETC=get_top_features(model_ETC,'Extra Trees Classifier',n=15)"
   ]
  },
  {
   "cell_type": "markdown",
   "metadata": {},
   "source": [
    "### Decision Tree Classifier"
   ]
  },
  {
   "cell_type": "markdown",
   "metadata": {},
   "source": [
    "#### Define model and parameter grid"
   ]
  },
  {
   "cell_type": "code",
   "execution_count": null,
   "metadata": {
    "ExecuteTime": {
     "end_time": "2020-01-05T04:58:33.224153Z",
     "start_time": "2020-01-05T04:52:38.597Z"
    },
    "colab": {},
    "colab_type": "code",
    "id": "M8I3N406nhAK",
    "outputId": "fa680332-2da4-484a-c53a-915e10c64db4"
   },
   "outputs": [],
   "source": [
    "# Define model and param grid\n",
    "model_DTC = DecisionTreeClassifier()\n",
    "\n",
    "param_grid_DTC = {'min_samples_split'=[2],\n",
    "                  'min_samples_leaf'=[1], \n",
    "                  'min_weight_fraction_leaf'=[0.0], \n",
    "                  'max_features'=[5], \n",
    "                  'random_state'=[0], \n",
    "                  'max_leaf_nodes'=[10]\n",
    "                 }\n",
    "\n",
    "# Train and get best parameters\n",
    "scores_DTC, best_scores_DTC, best_params_DTC=train_model_get_best_params(model_DTC, param_grid_DTC, X_train,y_train)\n",
    "# Update scores dictionary\n",
    "best_scores_all.append(update_scores_dict(best_scores_DTC,'DTC'))"
   ]
  },
  {
   "cell_type": "markdown",
   "metadata": {},
   "source": [
    "#### Getting scores on reserved test dataset"
   ]
  },
  {
   "cell_type": "code",
   "execution_count": null,
   "metadata": {
    "ExecuteTime": {
     "end_time": "2020-01-05T04:58:33.225152Z",
     "start_time": "2020-01-05T04:52:38.603Z"
    },
    "colab": {},
    "colab_type": "code",
    "id": "M8I3N406nhAK",
    "outputId": "fa680332-2da4-484a-c53a-915e10c64db4",
    "scrolled": false
   },
   "outputs": [],
   "source": [
    "all_scores['DTC']=get_scores_on_reserved_test_data(model_DTC,best_params_DTC,'DTC')"
   ]
  },
  {
   "cell_type": "markdown",
   "metadata": {},
   "source": [
    "#### Checking the top 15 most important features"
   ]
  },
  {
   "cell_type": "code",
   "execution_count": null,
   "metadata": {
    "ExecuteTime": {
     "end_time": "2020-01-05T04:58:33.226153Z",
     "start_time": "2020-01-05T04:52:38.608Z"
    },
    "colab": {},
    "colab_type": "code",
    "id": "M8I3N406nhAK",
    "outputId": "fa680332-2da4-484a-c53a-915e10c64db4",
    "scrolled": false
   },
   "outputs": [],
   "source": [
    "feature_imp_scores_DTC=get_top_features(model_DTC,'Decision Tree Classifier',n=15)"
   ]
  },
  {
   "cell_type": "markdown",
   "metadata": {},
   "source": [
    "### Plotting Scores for all Classifiers"
   ]
  },
  {
   "cell_type": "code",
   "execution_count": null,
   "metadata": {
    "ExecuteTime": {
     "end_time": "2020-01-05T04:58:33.227171Z",
     "start_time": "2020-01-05T04:52:38.613Z"
    },
    "scrolled": true
   },
   "outputs": [],
   "source": [
    "cross_val_scores_dict={'LR':scores_LR,'SGD':scores_SGD,'GNB':scores_GNB,'k-NN':scores_KNN,'XGB':scores_XGB,\n",
    "                       'MLP':scores_MLP,'RFC':scores_RFC,'SVM':scores_SVM}"
   ]
  },
  {
   "cell_type": "markdown",
   "metadata": {},
   "source": [
    "#### Comparing Model Evaluation Metrics in each fold of the cross-validation"
   ]
  },
  {
   "cell_type": "code",
   "execution_count": null,
   "metadata": {
    "ExecuteTime": {
     "end_time": "2020-01-05T04:58:33.228151Z",
     "start_time": "2020-01-05T04:52:38.619Z"
    }
   },
   "outputs": [],
   "source": [
    "plot_cross_val_score_fold_wise(cross_val_scores_dict)"
   ]
  },
  {
   "cell_type": "markdown",
   "metadata": {},
   "source": [
    "#### Accuracy on reserved test dataset from the training data"
   ]
  },
  {
   "cell_type": "code",
   "execution_count": null,
   "metadata": {
    "ExecuteTime": {
     "end_time": "2020-01-05T04:58:33.229151Z",
     "start_time": "2020-01-05T04:52:38.624Z"
    }
   },
   "outputs": [],
   "source": [
    "plot_test_scores_for_models(all_scores)"
   ]
  },
  {
   "cell_type": "markdown",
   "metadata": {},
   "source": [
    "## Feature Selection"
   ]
  },
  {
   "cell_type": "code",
   "execution_count": null,
   "metadata": {
    "ExecuteTime": {
     "end_time": "2020-01-05T04:58:33.230150Z",
     "start_time": "2020-01-05T04:52:38.631Z"
    }
   },
   "outputs": [],
   "source": [
    "def perform_PCA(data_train,data_test=None,n_components=1,disp_plot=False):\n",
    "    pca = PCA(n_components=n_components).fit(data_train)\n",
    "    \n",
    "    data_train_reduced=pca.transform(data_train)\n",
    "    display(HTML('Dimensionality of data has been reduced from <b>%d to %d</b>.'%(data_train.shape[1],\n",
    "                                                                   data_train_reduced.shape[1])))\n",
    "    # Plot the explained ratios\n",
    "    if disp_plot:\n",
    "        pca_full=PCA().fit(data_train)\n",
    "        sns.set_style('white')\n",
    "        ratio_cumsum=np.cumsum(pca_full.explained_variance_ratio_)\n",
    "        plt.plot(np.arange(len(ratio_cumsum)),ratio_cumsum)\n",
    "        plt.axvline(x=data_train_reduced.shape[1],linestyle='--',color='r',\n",
    "                    ymax=0.95)\n",
    "        plt.axhline(y=1,linestyle='--',color='#A9A9A9',\n",
    "                    xmax=0.95)\n",
    "        plt.xlabel('Number of components')\n",
    "        plt.ylabel('Cumulative explained variance');\n",
    "        plt.title('Cumulative explained variance ratio vs. Number of components')\n",
    "        plt.show()\n",
    "    # Return reduced dataframes\n",
    "    if data_test is None:\n",
    "        return data_train_reduced\n",
    "    else:\n",
    "        return data_train_reduced, pca.transform(data_test)"
   ]
  },
  {
   "cell_type": "code",
   "execution_count": null,
   "metadata": {
    "ExecuteTime": {
     "end_time": "2020-01-05T04:58:33.231169Z",
     "start_time": "2020-01-05T04:52:38.639Z"
    }
   },
   "outputs": [],
   "source": [
    "X_train_red,X_test_red=perform_PCA(X_train,data_test=X_test,n_components=0.95, disp_plot=True)"
   ]
  },
  {
   "cell_type": "code",
   "execution_count": null,
   "metadata": {
    "ExecuteTime": {
     "end_time": "2020-01-05T04:58:33.232149Z",
     "start_time": "2020-01-05T04:52:38.643Z"
    }
   },
   "outputs": [],
   "source": [
    "X_train_red.shape"
   ]
  },
  {
   "cell_type": "markdown",
   "metadata": {},
   "source": [
    "## Re-train models"
   ]
  },
  {
   "cell_type": "code",
   "execution_count": 63,
   "metadata": {
    "ExecuteTime": {
     "end_time": "2020-01-05T00:04:25.161953Z",
     "start_time": "2020-01-05T00:04:25.155957Z"
    }
   },
   "outputs": [],
   "source": [
    "best_scores_all_red=[]\n",
    "all_scores_red = {}"
   ]
  },
  {
   "cell_type": "markdown",
   "metadata": {},
   "source": [
    "#### Define model and parameter grid"
   ]
  },
  {
   "cell_type": "code",
   "execution_count": 86,
   "metadata": {
    "ExecuteTime": {
     "end_time": "2020-01-05T00:36:48.710133Z",
     "start_time": "2020-01-05T00:36:43.070931Z"
    },
    "colab": {},
    "colab_type": "code",
    "id": "M8I3N406nhAK",
    "outputId": "fa680332-2da4-484a-c53a-915e10c64db4"
   },
   "outputs": [
    {
     "name": "stdout",
     "output_type": "stream",
     "text": [
      "Training time: 5.59s\n",
      "\n",
      "Cross Validation scores on baseline model: \n",
      "\n"
     ]
    },
    {
     "data": {
      "text/html": [
       "<div>\n",
       "<style scoped>\n",
       "    .dataframe tbody tr th:only-of-type {\n",
       "        vertical-align: middle;\n",
       "    }\n",
       "\n",
       "    .dataframe tbody tr th {\n",
       "        vertical-align: top;\n",
       "    }\n",
       "\n",
       "    .dataframe thead th {\n",
       "        text-align: right;\n",
       "    }\n",
       "</style>\n",
       "<table border=\"1\" class=\"dataframe\">\n",
       "  <thead>\n",
       "    <tr style=\"text-align: right;\">\n",
       "      <th></th>\n",
       "      <th>Accuracy</th>\n",
       "      <th>Precision</th>\n",
       "      <th>Recall</th>\n",
       "      <th>f1-score</th>\n",
       "      <th>ROC-AUC</th>\n",
       "    </tr>\n",
       "  </thead>\n",
       "  <tbody>\n",
       "    <tr>\n",
       "      <th>0</th>\n",
       "      <td>0.522939</td>\n",
       "      <td>0.409444</td>\n",
       "      <td>0.440793</td>\n",
       "      <td>0.382759</td>\n",
       "      <td>0.646704</td>\n",
       "    </tr>\n",
       "  </tbody>\n",
       "</table>\n",
       "</div>"
      ],
      "text/plain": [
       "   Accuracy  Precision    Recall  f1-score   ROC-AUC\n",
       "0  0.522939   0.409444  0.440793  0.382759  0.646704"
      ]
     },
     "metadata": {},
     "output_type": "display_data"
    },
    {
     "name": "stdout",
     "output_type": "stream",
     "text": [
      "Scores for different refit on GridSearchCV: \n",
      "\n"
     ]
    },
    {
     "data": {
      "text/html": [
       "<div>\n",
       "<style scoped>\n",
       "    .dataframe tbody tr th:only-of-type {\n",
       "        vertical-align: middle;\n",
       "    }\n",
       "\n",
       "    .dataframe tbody tr th {\n",
       "        vertical-align: top;\n",
       "    }\n",
       "\n",
       "    .dataframe thead th {\n",
       "        text-align: right;\n",
       "    }\n",
       "</style>\n",
       "<table border=\"1\" class=\"dataframe\">\n",
       "  <thead>\n",
       "    <tr style=\"text-align: right;\">\n",
       "      <th></th>\n",
       "      <th>Refit</th>\n",
       "      <th>accuracy</th>\n",
       "      <th>f1_macro</th>\n",
       "      <th>roc_auc_ovr</th>\n",
       "      <th>mean</th>\n",
       "    </tr>\n",
       "  </thead>\n",
       "  <tbody>\n",
       "    <tr>\n",
       "      <th>0</th>\n",
       "      <td>accuracy</td>\n",
       "      <td>0.519809</td>\n",
       "      <td>0.384623</td>\n",
       "      <td>0.647371</td>\n",
       "      <td>0.517267</td>\n",
       "    </tr>\n",
       "    <tr>\n",
       "      <th>1</th>\n",
       "      <td>f1_macro</td>\n",
       "      <td>0.484780</td>\n",
       "      <td>0.457060</td>\n",
       "      <td>0.646485</td>\n",
       "      <td>0.529442</td>\n",
       "    </tr>\n",
       "    <tr>\n",
       "      <th>2</th>\n",
       "      <td>roc_auc_ovr</td>\n",
       "      <td>0.486768</td>\n",
       "      <td>0.455938</td>\n",
       "      <td>0.648291</td>\n",
       "      <td>0.530332</td>\n",
       "    </tr>\n",
       "  </tbody>\n",
       "</table>\n",
       "</div>"
      ],
      "text/plain": [
       "         Refit  accuracy  f1_macro  roc_auc_ovr      mean\n",
       "0     accuracy  0.519809  0.384623     0.647371  0.517267\n",
       "1     f1_macro  0.484780  0.457060     0.646485  0.529442\n",
       "2  roc_auc_ovr  0.486768  0.455938     0.648291  0.530332"
      ]
     },
     "metadata": {},
     "output_type": "display_data"
    },
    {
     "name": "stdout",
     "output_type": "stream",
     "text": [
      "The best parameters were for refit=ROC-AUC.\n",
      "\n",
      "The best parameters returned are: \n",
      "\n",
      "{'solver': 'saga', 'penalty': 'l1', 'fit_intercept': True, 'class_weight': 'balanced', 'C': 0.3593813663804626}\n"
     ]
    }
   ],
   "source": [
    "# Define model and param grid\n",
    "model_LR_red = LogisticRegression(n_jobs=n_cpu)\n",
    "\n",
    "param_grid_LR = {'penalty' : ['l1','l2', 'elasticnet'],\n",
    "                 'C' : np.logspace(-4,4,10),\n",
    "                 'class_weight' : ['balanced',None],\n",
    "                 'solver' : ['newton-cg', 'sag','saga', 'lbfgs'],\n",
    "                 'fit_intercept' : [True, False]\n",
    "                }\n",
    "# Train and get best parameters\n",
    "scores_LR_red, best_scores_LR_red, best_params_LR_red=train_model_get_best_params(model_LR_red, param_grid_LR_red, X_train_red,y_train)\n",
    "# Update scores dictionary\n",
    "best_scores_all_red.append(update_scores_dict(best_scores_LR_red,'LR'))"
   ]
  },
  {
   "cell_type": "markdown",
   "metadata": {},
   "source": [
    "#### Getting scores on reserved test dataset"
   ]
  },
  {
   "cell_type": "code",
   "execution_count": 65,
   "metadata": {
    "ExecuteTime": {
     "end_time": "2020-01-05T00:04:32.697738Z",
     "start_time": "2020-01-05T00:04:32.233477Z"
    },
    "colab": {},
    "colab_type": "code",
    "id": "M8I3N406nhAK",
    "outputId": "fa680332-2da4-484a-c53a-915e10c64db4",
    "scrolled": false
   },
   "outputs": [
    {
     "name": "stdout",
     "output_type": "stream",
     "text": [
      "Accuracy: 0.492027\tPrecision: 0.467151\tRecall: 0.470302\t\n"
     ]
    },
    {
     "data": {
      "image/png": "[encoded data removed]",
      "text/plain": [
       "<Figure size 576x432 with 2 Axes>"
      ]
     },
     "metadata": {},
     "output_type": "display_data"
    }
   ],
   "source": [
    "all_scores_red['LR']=get_scores_on_reserved_test_data(model_LR_red,best_params_LR_red,'LR')"
   ]
  },
  {
   "cell_type": "markdown",
   "metadata": {},
   "source": [
    "#### Checking the top 15 most important features"
   ]
  },
  {
   "cell_type": "code",
   "execution_count": 66,
   "metadata": {
    "ExecuteTime": {
     "end_time": "2020-01-05T00:04:32.974577Z",
     "start_time": "2020-01-05T00:04:32.698738Z"
    },
    "colab": {},
    "colab_type": "code",
    "id": "M8I3N406nhAK",
    "outputId": "fa680332-2da4-484a-c53a-915e10c64db4",
    "scrolled": false
   },
   "outputs": [
    {
     "data": {
      "image/png": "[encoded data removed]",
      "text/plain": [
       "<Figure size 576x432 with 1 Axes>"
      ]
     },
     "metadata": {},
     "output_type": "display_data"
    }
   ],
   "source": [
    "feature_imp_scores_LR_red=get_top_features(model_LR_red,'Logistic Regression',n=15)"
   ]
  },
  {
   "cell_type": "markdown",
   "metadata": {
    "colab_type": "text",
    "id": "xMdh41PTnhAR"
   },
   "source": [
    "### Multi-Layer Perceptron Neural Network"
   ]
  },
  {
   "cell_type": "markdown",
   "metadata": {},
   "source": [
    "#### Define model and parameter grid"
   ]
  },
  {
   "cell_type": "code",
   "execution_count": 67,
   "metadata": {
    "ExecuteTime": {
     "end_time": "2020-01-05T00:07:23.153569Z",
     "start_time": "2020-01-05T00:04:32.975563Z"
    },
    "colab": {},
    "colab_type": "code",
    "id": "M8I3N406nhAK",
    "outputId": "fa680332-2da4-484a-c53a-915e10c64db4"
   },
   "outputs": [
    {
     "name": "stdout",
     "output_type": "stream",
     "text": [
      "\n",
      "Cross Validation scores on baseline model: \n",
      "\n"
     ]
    },
    {
     "data": {
      "text/html": [
       "<div>\n",
       "<style scoped>\n",
       "    .dataframe tbody tr th:only-of-type {\n",
       "        vertical-align: middle;\n",
       "    }\n",
       "\n",
       "    .dataframe tbody tr th {\n",
       "        vertical-align: top;\n",
       "    }\n",
       "\n",
       "    .dataframe thead th {\n",
       "        text-align: right;\n",
       "    }\n",
       "</style>\n",
       "<table border=\"1\" class=\"dataframe\">\n",
       "  <thead>\n",
       "    <tr style=\"text-align: right;\">\n",
       "      <th></th>\n",
       "      <th>Accuracy</th>\n",
       "      <th>Precision</th>\n",
       "      <th>Recall</th>\n",
       "      <th>f1-score</th>\n",
       "      <th>ROC-AUC</th>\n",
       "    </tr>\n",
       "  </thead>\n",
       "  <tbody>\n",
       "    <tr>\n",
       "      <th>0</th>\n",
       "      <td>0.502993</td>\n",
       "      <td>0.436727</td>\n",
       "      <td>0.435344</td>\n",
       "      <td>0.414122</td>\n",
       "      <td>0.644782</td>\n",
       "    </tr>\n",
       "  </tbody>\n",
       "</table>\n",
       "</div>"
      ],
      "text/plain": [
       "   Accuracy  Precision    Recall  f1-score   ROC-AUC\n",
       "0  0.502993   0.436727  0.435344  0.414122  0.644782"
      ]
     },
     "metadata": {},
     "output_type": "display_data"
    },
    {
     "name": "stdout",
     "output_type": "stream",
     "text": [
      "Scores for different refit on GridSearchCV: \n",
      "\n"
     ]
    },
    {
     "data": {
      "text/html": [
       "<div>\n",
       "<style scoped>\n",
       "    .dataframe tbody tr th:only-of-type {\n",
       "        vertical-align: middle;\n",
       "    }\n",
       "\n",
       "    .dataframe tbody tr th {\n",
       "        vertical-align: top;\n",
       "    }\n",
       "\n",
       "    .dataframe thead th {\n",
       "        text-align: right;\n",
       "    }\n",
       "</style>\n",
       "<table border=\"1\" class=\"dataframe\">\n",
       "  <thead>\n",
       "    <tr style=\"text-align: right;\">\n",
       "      <th></th>\n",
       "      <th>Refit</th>\n",
       "      <th>accuracy</th>\n",
       "      <th>f1_macro</th>\n",
       "      <th>roc_auc_ovr</th>\n",
       "      <th>mean</th>\n",
       "    </tr>\n",
       "  </thead>\n",
       "  <tbody>\n",
       "    <tr>\n",
       "      <th>0</th>\n",
       "      <td>accuracy</td>\n",
       "      <td>0.527205</td>\n",
       "      <td>0.384002</td>\n",
       "      <td>0.645903</td>\n",
       "      <td>0.519037</td>\n",
       "    </tr>\n",
       "    <tr>\n",
       "      <th>1</th>\n",
       "      <td>f1_macro</td>\n",
       "      <td>0.522082</td>\n",
       "      <td>0.380866</td>\n",
       "      <td>0.641967</td>\n",
       "      <td>0.514972</td>\n",
       "    </tr>\n",
       "    <tr>\n",
       "      <th>2</th>\n",
       "      <td>roc_auc_ovr</td>\n",
       "      <td>0.522077</td>\n",
       "      <td>0.377389</td>\n",
       "      <td>0.649481</td>\n",
       "      <td>0.516316</td>\n",
       "    </tr>\n",
       "  </tbody>\n",
       "</table>\n",
       "</div>"
      ],
      "text/plain": [
       "         Refit  accuracy  f1_macro  roc_auc_ovr      mean\n",
       "0     accuracy  0.527205  0.384002     0.645903  0.519037\n",
       "1     f1_macro  0.522082  0.380866     0.641967  0.514972\n",
       "2  roc_auc_ovr  0.522077  0.377389     0.649481  0.516316"
      ]
     },
     "metadata": {},
     "output_type": "display_data"
    },
    {
     "name": "stdout",
     "output_type": "stream",
     "text": [
      "The best parameters were for refit=Accuracy.\n",
      "\n",
      "The best parameters returned are: \n",
      "\n",
      "{'solver': 'adam', 'learning_rate': 'constant', 'alpha': 0.225075, 'activation': 'tanh'}\n"
     ]
    }
   ],
   "source": [
    "# Define model and param grid\n",
    "model_MLP_red = MLPClassifier()\n",
    "\n",
    "param_grid_MLP_red = {\n",
    "#     'hidden_layer_sizes': [(50,50,50), (50,100,50), (100,)],\n",
    "    'activation': ['tanh', 'relu','logistic'],\n",
    "    'solver': ['sgd', 'adam'],\n",
    "    'alpha': np.linspace(0.0001, 0.9,5),\n",
    "    'learning_rate': ['constant','adaptive'],\n",
    "}\n",
    "\n",
    "# Train and get best parameters\n",
    "scores_MLP_red, best_scores_MLP_red, best_params_MLP_red=train_model_get_best_params(model_MLP_red, param_grid_MLP_red, X_train_red,y_train)\n",
    "# Update scores dictionary\n",
    "best_scores_all_red.append(update_scores_dict(best_scores_MLP_red,'MLP'))"
   ]
  },
  {
   "cell_type": "markdown",
   "metadata": {},
   "source": [
    "#### Getting scores on reserved test dataset"
   ]
  },
  {
   "cell_type": "code",
   "execution_count": 68,
   "metadata": {
    "ExecuteTime": {
     "end_time": "2020-01-05T00:07:25.713143Z",
     "start_time": "2020-01-05T00:07:23.159547Z"
    },
    "colab": {},
    "colab_type": "code",
    "id": "M8I3N406nhAK",
    "outputId": "fa680332-2da4-484a-c53a-915e10c64db4",
    "scrolled": false
   },
   "outputs": [
    {
     "name": "stdout",
     "output_type": "stream",
     "text": [
      "Accuracy: 0.520501\tPrecision: 0.665824\tRecall: 0.428690\t\n"
     ]
    },
    {
     "data": {
      "image/png": "[encoded data removed]",
      "text/plain": [
       "<Figure size 576x432 with 2 Axes>"
      ]
     },
     "metadata": {},
     "output_type": "display_data"
    }
   ],
   "source": [
    "all_scores_red['MLP']=get_scores_on_reserved_test_data(model_MLP_red,best_params_MLP_red,'MLP')"
   ]
  },
  {
   "cell_type": "markdown",
   "metadata": {},
   "source": [
    "#### Checking the top 15 most important features"
   ]
  },
  {
   "cell_type": "code",
   "execution_count": 69,
   "metadata": {
    "ExecuteTime": {
     "end_time": "2020-01-05T00:07:25.718150Z",
     "start_time": "2020-01-05T00:07:25.714130Z"
    },
    "colab": {},
    "colab_type": "code",
    "id": "M8I3N406nhAK",
    "outputId": "fa680332-2da4-484a-c53a-915e10c64db4",
    "scrolled": false
   },
   "outputs": [
    {
     "name": "stdout",
     "output_type": "stream",
     "text": [
      "Attributes required to calculate importance is not available for this model!\n"
     ]
    }
   ],
   "source": [
    "feature_imp_scores_MLP_red=get_top_features(model_MLP_red,\n",
    "                                'Multi-Layer Perceptron Neural Network',n=15)"
   ]
  },
  {
   "cell_type": "markdown",
   "metadata": {},
   "source": [
    "### Gaussian Naive Bayes"
   ]
  },
  {
   "cell_type": "markdown",
   "metadata": {},
   "source": [
    "#### Define model and parameter grid"
   ]
  },
  {
   "cell_type": "code",
   "execution_count": 70,
   "metadata": {
    "ExecuteTime": {
     "end_time": "2020-01-05T00:07:26.668593Z",
     "start_time": "2020-01-05T00:07:25.719128Z"
    },
    "colab": {},
    "colab_type": "code",
    "id": "M8I3N406nhAK",
    "outputId": "fa680332-2da4-484a-c53a-915e10c64db4"
   },
   "outputs": [
    {
     "name": "stdout",
     "output_type": "stream",
     "text": [
      "\n",
      "Cross Validation scores on baseline model: \n",
      "\n"
     ]
    },
    {
     "data": {
      "text/html": [
       "<div>\n",
       "<style scoped>\n",
       "    .dataframe tbody tr th:only-of-type {\n",
       "        vertical-align: middle;\n",
       "    }\n",
       "\n",
       "    .dataframe tbody tr th {\n",
       "        vertical-align: top;\n",
       "    }\n",
       "\n",
       "    .dataframe thead th {\n",
       "        text-align: right;\n",
       "    }\n",
       "</style>\n",
       "<table border=\"1\" class=\"dataframe\">\n",
       "  <thead>\n",
       "    <tr style=\"text-align: right;\">\n",
       "      <th></th>\n",
       "      <th>Accuracy</th>\n",
       "      <th>Precision</th>\n",
       "      <th>Recall</th>\n",
       "      <th>f1-score</th>\n",
       "      <th>ROC-AUC</th>\n",
       "    </tr>\n",
       "  </thead>\n",
       "  <tbody>\n",
       "    <tr>\n",
       "      <th>0</th>\n",
       "      <td>0.497015</td>\n",
       "      <td>0.438652</td>\n",
       "      <td>0.449843</td>\n",
       "      <td>0.431663</td>\n",
       "      <td>0.651082</td>\n",
       "    </tr>\n",
       "  </tbody>\n",
       "</table>\n",
       "</div>"
      ],
      "text/plain": [
       "   Accuracy  Precision    Recall  f1-score   ROC-AUC\n",
       "0  0.497015   0.438652  0.449843  0.431663  0.651082"
      ]
     },
     "metadata": {},
     "output_type": "display_data"
    },
    {
     "name": "stdout",
     "output_type": "stream",
     "text": [
      "Scores for different refit on GridSearchCV: \n",
      "\n"
     ]
    },
    {
     "data": {
      "text/html": [
       "<div>\n",
       "<style scoped>\n",
       "    .dataframe tbody tr th:only-of-type {\n",
       "        vertical-align: middle;\n",
       "    }\n",
       "\n",
       "    .dataframe tbody tr th {\n",
       "        vertical-align: top;\n",
       "    }\n",
       "\n",
       "    .dataframe thead th {\n",
       "        text-align: right;\n",
       "    }\n",
       "</style>\n",
       "<table border=\"1\" class=\"dataframe\">\n",
       "  <thead>\n",
       "    <tr style=\"text-align: right;\">\n",
       "      <th></th>\n",
       "      <th>Refit</th>\n",
       "      <th>accuracy</th>\n",
       "      <th>f1_macro</th>\n",
       "      <th>roc_auc_ovr</th>\n",
       "      <th>mean</th>\n",
       "    </tr>\n",
       "  </thead>\n",
       "  <tbody>\n",
       "    <tr>\n",
       "      <th>0</th>\n",
       "      <td>accuracy</td>\n",
       "      <td>0.500720</td>\n",
       "      <td>0.405711</td>\n",
       "      <td>0.646182</td>\n",
       "      <td>0.517538</td>\n",
       "    </tr>\n",
       "    <tr>\n",
       "      <th>1</th>\n",
       "      <td>f1_macro</td>\n",
       "      <td>0.497873</td>\n",
       "      <td>0.424599</td>\n",
       "      <td>0.649348</td>\n",
       "      <td>0.523940</td>\n",
       "    </tr>\n",
       "    <tr>\n",
       "      <th>2</th>\n",
       "      <td>roc_auc_ovr</td>\n",
       "      <td>0.498439</td>\n",
       "      <td>0.431645</td>\n",
       "      <td>0.650814</td>\n",
       "      <td>0.526966</td>\n",
       "    </tr>\n",
       "  </tbody>\n",
       "</table>\n",
       "</div>"
      ],
      "text/plain": [
       "         Refit  accuracy  f1_macro  roc_auc_ovr      mean\n",
       "0     accuracy  0.500720  0.405711     0.646182  0.517538\n",
       "1     f1_macro  0.497873  0.424599     0.649348  0.523940\n",
       "2  roc_auc_ovr  0.498439  0.431645     0.650814  0.526966"
      ]
     },
     "metadata": {},
     "output_type": "display_data"
    },
    {
     "name": "stdout",
     "output_type": "stream",
     "text": [
      "The best parameters were for refit=ROC-AUC.\n",
      "\n",
      "The best parameters returned are: \n",
      "\n",
      "{'var_smoothing': 0.01}\n"
     ]
    }
   ],
   "source": [
    "model_GNB_red = GaussianNB()\n",
    "\n",
    "param_grid_GNB_red = {\n",
    "    'var_smoothing': np.linspace(0.01,0.199,25)\n",
    "}\n",
    "\n",
    "# Train and get best parameters\n",
    "scores_GNB_red, best_scores_GNB_red, best_params_GNB_red=train_model_get_best_params(model_GNB_red, param_grid_GNB_red, X_train_red,y_train)\n",
    "# Update scores dictionary\n",
    "best_scores_all_red.append(update_scores_dict(best_scores_GNB_red,'GNB'))"
   ]
  },
  {
   "cell_type": "markdown",
   "metadata": {},
   "source": [
    "#### Getting scores on reserved test dataset"
   ]
  },
  {
   "cell_type": "code",
   "execution_count": 71,
   "metadata": {
    "ExecuteTime": {
     "end_time": "2020-01-05T00:07:26.874887Z",
     "start_time": "2020-01-05T00:07:26.669592Z"
    },
    "colab": {},
    "colab_type": "code",
    "id": "M8I3N406nhAK",
    "outputId": "fa680332-2da4-484a-c53a-915e10c64db4",
    "scrolled": false
   },
   "outputs": [
    {
     "name": "stdout",
     "output_type": "stream",
     "text": [
      "Accuracy: 0.517084\tPrecision: 0.475618\tRecall: 0.468067\t\n"
     ]
    },
    {
     "data": {
      "image/png": "[encoded data removed]",
      "text/plain": [
       "<Figure size 576x432 with 2 Axes>"
      ]
     },
     "metadata": {},
     "output_type": "display_data"
    }
   ],
   "source": [
    "all_scores_red['GNB']=get_scores_on_reserved_test_data(model_GNB_red,best_params_GNB_red,'GNB')"
   ]
  },
  {
   "cell_type": "markdown",
   "metadata": {},
   "source": [
    "#### Checking the top 15 most important features"
   ]
  },
  {
   "cell_type": "code",
   "execution_count": 72,
   "metadata": {
    "ExecuteTime": {
     "end_time": "2020-01-05T00:07:26.882882Z",
     "start_time": "2020-01-05T00:07:26.876886Z"
    },
    "colab": {},
    "colab_type": "code",
    "id": "M8I3N406nhAK",
    "outputId": "fa680332-2da4-484a-c53a-915e10c64db4",
    "scrolled": false
   },
   "outputs": [
    {
     "name": "stdout",
     "output_type": "stream",
     "text": [
      "Attributes required to calculate importance is not available for this model!\n"
     ]
    }
   ],
   "source": [
    "feature_imp_scores_GNB_red=get_top_features(model_GNB_red,'Gaussian Naive Bayes',n=15)"
   ]
  },
  {
   "cell_type": "markdown",
   "metadata": {},
   "source": [
    "### XGBoost"
   ]
  },
  {
   "cell_type": "markdown",
   "metadata": {},
   "source": [
    "#### Define model and parameter grid"
   ]
  },
  {
   "cell_type": "code",
   "execution_count": 73,
   "metadata": {
    "ExecuteTime": {
     "end_time": "2020-01-05T00:15:55.608551Z",
     "start_time": "2020-01-05T00:15:48.625016Z"
    },
    "colab": {},
    "colab_type": "code",
    "id": "M8I3N406nhAK",
    "outputId": "fa680332-2da4-484a-c53a-915e10c64db4"
   },
   "outputs": [
    {
     "ename": "TerminatedWorkerError",
     "evalue": "A worker process managed by the executor was unexpectedly terminated. This could be caused by a segmentation fault while calling the function or by an excessive memory usage causing the Operating System to kill the worker.",
     "output_type": "error",
     "traceback": [
      "\u001b[1;31m---------------------------------------------------------------------------\u001b[0m",
      "\u001b[1;31mTerminatedWorkerError\u001b[0m                     Traceback (most recent call last)",
      "\u001b[1;32m<ipython-input-73-f69ceaa60f40>\u001b[0m in \u001b[0;36m<module>\u001b[1;34m\u001b[0m\n\u001b[0;32m      9\u001b[0m         \u001b[1;34m'max_depth'\u001b[0m\u001b[1;33m:\u001b[0m \u001b[1;33m[\u001b[0m\u001b[1;36m3\u001b[0m\u001b[1;33m,\u001b[0m \u001b[1;36m4\u001b[0m\u001b[1;33m,\u001b[0m \u001b[1;36m5\u001b[0m\u001b[1;33m]\u001b[0m\u001b[1;33m\u001b[0m\u001b[1;33m\u001b[0m\u001b[0m\n\u001b[0;32m     10\u001b[0m }\n\u001b[1;32m---> 11\u001b[1;33m \u001b[0mscores_XGB\u001b[0m\u001b[1;33m,\u001b[0m \u001b[0mbest_scores_XGB\u001b[0m\u001b[1;33m,\u001b[0m \u001b[0mbest_params_XGB\u001b[0m\u001b[1;33m=\u001b[0m\u001b[0mtrain_model_get_best_params\u001b[0m\u001b[1;33m(\u001b[0m\u001b[0mmodel_XGB\u001b[0m\u001b[1;33m,\u001b[0m \u001b[0mparam_grid_XGB\u001b[0m\u001b[1;33m,\u001b[0m \u001b[0mX_train\u001b[0m\u001b[1;33m,\u001b[0m\u001b[0my_train\u001b[0m\u001b[1;33m)\u001b[0m\u001b[1;33m\u001b[0m\u001b[1;33m\u001b[0m\u001b[0m\n\u001b[0m",
      "\u001b[1;32m<ipython-input-60-226724de6ee9>\u001b[0m in \u001b[0;36mtrain_model_get_best_params\u001b[1;34m(model, param_grid, X_train, y_train)\u001b[0m\n\u001b[0;32m      1\u001b[0m \u001b[1;32mdef\u001b[0m \u001b[0mtrain_model_get_best_params\u001b[0m\u001b[1;33m(\u001b[0m\u001b[0mmodel\u001b[0m\u001b[1;33m,\u001b[0m \u001b[0mparam_grid\u001b[0m\u001b[1;33m,\u001b[0m \u001b[0mX_train\u001b[0m\u001b[1;33m,\u001b[0m\u001b[0my_train\u001b[0m\u001b[1;33m)\u001b[0m\u001b[1;33m:\u001b[0m\u001b[1;33m\u001b[0m\u001b[1;33m\u001b[0m\u001b[0m\n\u001b[0;32m      2\u001b[0m     \u001b[1;31m# Get cross-val score of the passed model\u001b[0m\u001b[1;33m\u001b[0m\u001b[1;33m\u001b[0m\u001b[1;33m\u001b[0m\u001b[0m\n\u001b[1;32m----> 3\u001b[1;33m     \u001b[0mscores\u001b[0m\u001b[1;33m,\u001b[0m\u001b[0mscores_list\u001b[0m\u001b[1;33m=\u001b[0m\u001b[0mget_scores\u001b[0m\u001b[1;33m(\u001b[0m\u001b[0mmodel\u001b[0m\u001b[1;33m,\u001b[0m\u001b[0mX_train\u001b[0m\u001b[1;33m,\u001b[0m\u001b[0my_train\u001b[0m\u001b[1;33m)\u001b[0m\u001b[1;33m\u001b[0m\u001b[1;33m\u001b[0m\u001b[0m\n\u001b[0m\u001b[0;32m      4\u001b[0m     \u001b[1;31m# Refit on different score\u001b[0m\u001b[1;33m\u001b[0m\u001b[1;33m\u001b[0m\u001b[1;33m\u001b[0m\u001b[0m\n\u001b[0;32m      5\u001b[0m     \u001b[1;31m# best_params_LR = get_best_model_GridCV(model, X_train, y_train, param_grid, refit='accuracy')\u001b[0m\u001b[1;33m\u001b[0m\u001b[1;33m\u001b[0m\u001b[1;33m\u001b[0m\u001b[0m\n",
      "\u001b[1;32m<ipython-input-56-aefa3ab1a426>\u001b[0m in \u001b[0;36mget_scores\u001b[1;34m(model, X, y)\u001b[0m\n\u001b[0;32m      2\u001b[0m     \u001b[0mscore_list\u001b[0m\u001b[1;33m=\u001b[0m\u001b[1;33m[\u001b[0m\u001b[1;34m'accuracy'\u001b[0m\u001b[1;33m,\u001b[0m\u001b[1;34m'precision_macro'\u001b[0m\u001b[1;33m,\u001b[0m\u001b[1;34m'recall_macro'\u001b[0m\u001b[1;33m,\u001b[0m\u001b[1;34m'f1_macro'\u001b[0m\u001b[1;33m,\u001b[0m\u001b[1;34m'roc_auc_ovr'\u001b[0m\u001b[1;33m]\u001b[0m\u001b[1;33m\u001b[0m\u001b[1;33m\u001b[0m\u001b[0m\n\u001b[0;32m      3\u001b[0m     scores = cross_validate(model, X, y, scoring=score_list,\n\u001b[1;32m----> 4\u001b[1;33m                             cv=10, return_train_score=True,n_jobs=n_cpu)\n\u001b[0m\u001b[0;32m      5\u001b[0m     \u001b[0mmean_scores\u001b[0m\u001b[1;33m=\u001b[0m\u001b[1;33m[\u001b[0m\u001b[1;33m]\u001b[0m\u001b[1;33m\u001b[0m\u001b[1;33m\u001b[0m\u001b[0m\n\u001b[0;32m      6\u001b[0m     \u001b[1;32mfor\u001b[0m \u001b[0msuffix\u001b[0m \u001b[1;32min\u001b[0m \u001b[0mscore_list\u001b[0m\u001b[1;33m:\u001b[0m\u001b[1;33m\u001b[0m\u001b[1;33m\u001b[0m\u001b[0m\n",
      "\u001b[1;32mc:\\users\\zceeash\\appdata\\local\\programs\\python\\python37\\lib\\site-packages\\sklearn\\model_selection\\_validation.py\u001b[0m in \u001b[0;36mcross_validate\u001b[1;34m(estimator, X, y, groups, scoring, cv, n_jobs, verbose, fit_params, pre_dispatch, return_train_score, return_estimator, error_score)\u001b[0m\n\u001b[0;32m    233\u001b[0m             \u001b[0mreturn_times\u001b[0m\u001b[1;33m=\u001b[0m\u001b[1;32mTrue\u001b[0m\u001b[1;33m,\u001b[0m \u001b[0mreturn_estimator\u001b[0m\u001b[1;33m=\u001b[0m\u001b[0mreturn_estimator\u001b[0m\u001b[1;33m,\u001b[0m\u001b[1;33m\u001b[0m\u001b[1;33m\u001b[0m\u001b[0m\n\u001b[0;32m    234\u001b[0m             error_score=error_score)\n\u001b[1;32m--> 235\u001b[1;33m         for train, test in cv.split(X, y, groups))\n\u001b[0m\u001b[0;32m    236\u001b[0m \u001b[1;33m\u001b[0m\u001b[0m\n\u001b[0;32m    237\u001b[0m     \u001b[0mzipped_scores\u001b[0m \u001b[1;33m=\u001b[0m \u001b[0mlist\u001b[0m\u001b[1;33m(\u001b[0m\u001b[0mzip\u001b[0m\u001b[1;33m(\u001b[0m\u001b[1;33m*\u001b[0m\u001b[0mscores\u001b[0m\u001b[1;33m)\u001b[0m\u001b[1;33m)\u001b[0m\u001b[1;33m\u001b[0m\u001b[1;33m\u001b[0m\u001b[0m\n",
      "\u001b[1;32mc:\\users\\zceeash\\appdata\\local\\programs\\python\\python37\\lib\\site-packages\\joblib\\parallel.py\u001b[0m in \u001b[0;36m__call__\u001b[1;34m(self, iterable)\u001b[0m\n\u001b[0;32m   1015\u001b[0m \u001b[1;33m\u001b[0m\u001b[0m\n\u001b[0;32m   1016\u001b[0m             \u001b[1;32mwith\u001b[0m \u001b[0mself\u001b[0m\u001b[1;33m.\u001b[0m\u001b[0m_backend\u001b[0m\u001b[1;33m.\u001b[0m\u001b[0mretrieval_context\u001b[0m\u001b[1;33m(\u001b[0m\u001b[1;33m)\u001b[0m\u001b[1;33m:\u001b[0m\u001b[1;33m\u001b[0m\u001b[1;33m\u001b[0m\u001b[0m\n\u001b[1;32m-> 1017\u001b[1;33m                 \u001b[0mself\u001b[0m\u001b[1;33m.\u001b[0m\u001b[0mretrieve\u001b[0m\u001b[1;33m(\u001b[0m\u001b[1;33m)\u001b[0m\u001b[1;33m\u001b[0m\u001b[1;33m\u001b[0m\u001b[0m\n\u001b[0m\u001b[0;32m   1018\u001b[0m             \u001b[1;31m# Make sure that we get a last message telling us we are done\u001b[0m\u001b[1;33m\u001b[0m\u001b[1;33m\u001b[0m\u001b[1;33m\u001b[0m\u001b[0m\n\u001b[0;32m   1019\u001b[0m             \u001b[0melapsed_time\u001b[0m \u001b[1;33m=\u001b[0m \u001b[0mtime\u001b[0m\u001b[1;33m.\u001b[0m\u001b[0mtime\u001b[0m\u001b[1;33m(\u001b[0m\u001b[1;33m)\u001b[0m \u001b[1;33m-\u001b[0m \u001b[0mself\u001b[0m\u001b[1;33m.\u001b[0m\u001b[0m_start_time\u001b[0m\u001b[1;33m\u001b[0m\u001b[1;33m\u001b[0m\u001b[0m\n",
      "\u001b[1;32mc:\\users\\zceeash\\appdata\\local\\programs\\python\\python37\\lib\\site-packages\\joblib\\parallel.py\u001b[0m in \u001b[0;36mretrieve\u001b[1;34m(self)\u001b[0m\n\u001b[0;32m    907\u001b[0m             \u001b[1;32mtry\u001b[0m\u001b[1;33m:\u001b[0m\u001b[1;33m\u001b[0m\u001b[1;33m\u001b[0m\u001b[0m\n\u001b[0;32m    908\u001b[0m                 \u001b[1;32mif\u001b[0m \u001b[0mgetattr\u001b[0m\u001b[1;33m(\u001b[0m\u001b[0mself\u001b[0m\u001b[1;33m.\u001b[0m\u001b[0m_backend\u001b[0m\u001b[1;33m,\u001b[0m \u001b[1;34m'supports_timeout'\u001b[0m\u001b[1;33m,\u001b[0m \u001b[1;32mFalse\u001b[0m\u001b[1;33m)\u001b[0m\u001b[1;33m:\u001b[0m\u001b[1;33m\u001b[0m\u001b[1;33m\u001b[0m\u001b[0m\n\u001b[1;32m--> 909\u001b[1;33m                     \u001b[0mself\u001b[0m\u001b[1;33m.\u001b[0m\u001b[0m_output\u001b[0m\u001b[1;33m.\u001b[0m\u001b[0mextend\u001b[0m\u001b[1;33m(\u001b[0m\u001b[0mjob\u001b[0m\u001b[1;33m.\u001b[0m\u001b[0mget\u001b[0m\u001b[1;33m(\u001b[0m\u001b[0mtimeout\u001b[0m\u001b[1;33m=\u001b[0m\u001b[0mself\u001b[0m\u001b[1;33m.\u001b[0m\u001b[0mtimeout\u001b[0m\u001b[1;33m)\u001b[0m\u001b[1;33m)\u001b[0m\u001b[1;33m\u001b[0m\u001b[1;33m\u001b[0m\u001b[0m\n\u001b[0m\u001b[0;32m    910\u001b[0m                 \u001b[1;32melse\u001b[0m\u001b[1;33m:\u001b[0m\u001b[1;33m\u001b[0m\u001b[1;33m\u001b[0m\u001b[0m\n\u001b[0;32m    911\u001b[0m                     \u001b[0mself\u001b[0m\u001b[1;33m.\u001b[0m\u001b[0m_output\u001b[0m\u001b[1;33m.\u001b[0m\u001b[0mextend\u001b[0m\u001b[1;33m(\u001b[0m\u001b[0mjob\u001b[0m\u001b[1;33m.\u001b[0m\u001b[0mget\u001b[0m\u001b[1;33m(\u001b[0m\u001b[1;33m)\u001b[0m\u001b[1;33m)\u001b[0m\u001b[1;33m\u001b[0m\u001b[1;33m\u001b[0m\u001b[0m\n",
      "\u001b[1;32mc:\\users\\zceeash\\appdata\\local\\programs\\python\\python37\\lib\\site-packages\\joblib\\_parallel_backends.py\u001b[0m in \u001b[0;36mwrap_future_result\u001b[1;34m(future, timeout)\u001b[0m\n\u001b[0;32m    560\u001b[0m         AsyncResults.get from multiprocessing.\"\"\"\n\u001b[0;32m    561\u001b[0m         \u001b[1;32mtry\u001b[0m\u001b[1;33m:\u001b[0m\u001b[1;33m\u001b[0m\u001b[1;33m\u001b[0m\u001b[0m\n\u001b[1;32m--> 562\u001b[1;33m             \u001b[1;32mreturn\u001b[0m \u001b[0mfuture\u001b[0m\u001b[1;33m.\u001b[0m\u001b[0mresult\u001b[0m\u001b[1;33m(\u001b[0m\u001b[0mtimeout\u001b[0m\u001b[1;33m=\u001b[0m\u001b[0mtimeout\u001b[0m\u001b[1;33m)\u001b[0m\u001b[1;33m\u001b[0m\u001b[1;33m\u001b[0m\u001b[0m\n\u001b[0m\u001b[0;32m    563\u001b[0m         \u001b[1;32mexcept\u001b[0m \u001b[0mLokyTimeoutError\u001b[0m\u001b[1;33m:\u001b[0m\u001b[1;33m\u001b[0m\u001b[1;33m\u001b[0m\u001b[0m\n\u001b[0;32m    564\u001b[0m             \u001b[1;32mraise\u001b[0m \u001b[0mTimeoutError\u001b[0m\u001b[1;33m(\u001b[0m\u001b[1;33m)\u001b[0m\u001b[1;33m\u001b[0m\u001b[1;33m\u001b[0m\u001b[0m\n",
      "\u001b[1;32mc:\\users\\zceeash\\appdata\\local\\programs\\python\\python37\\lib\\concurrent\\futures\\_base.py\u001b[0m in \u001b[0;36mresult\u001b[1;34m(self, timeout)\u001b[0m\n\u001b[0;32m    433\u001b[0m                 \u001b[1;32mraise\u001b[0m \u001b[0mCancelledError\u001b[0m\u001b[1;33m(\u001b[0m\u001b[1;33m)\u001b[0m\u001b[1;33m\u001b[0m\u001b[1;33m\u001b[0m\u001b[0m\n\u001b[0;32m    434\u001b[0m             \u001b[1;32melif\u001b[0m \u001b[0mself\u001b[0m\u001b[1;33m.\u001b[0m\u001b[0m_state\u001b[0m \u001b[1;33m==\u001b[0m \u001b[0mFINISHED\u001b[0m\u001b[1;33m:\u001b[0m\u001b[1;33m\u001b[0m\u001b[1;33m\u001b[0m\u001b[0m\n\u001b[1;32m--> 435\u001b[1;33m                 \u001b[1;32mreturn\u001b[0m \u001b[0mself\u001b[0m\u001b[1;33m.\u001b[0m\u001b[0m__get_result\u001b[0m\u001b[1;33m(\u001b[0m\u001b[1;33m)\u001b[0m\u001b[1;33m\u001b[0m\u001b[1;33m\u001b[0m\u001b[0m\n\u001b[0m\u001b[0;32m    436\u001b[0m             \u001b[1;32melse\u001b[0m\u001b[1;33m:\u001b[0m\u001b[1;33m\u001b[0m\u001b[1;33m\u001b[0m\u001b[0m\n\u001b[0;32m    437\u001b[0m                 \u001b[1;32mraise\u001b[0m \u001b[0mTimeoutError\u001b[0m\u001b[1;33m(\u001b[0m\u001b[1;33m)\u001b[0m\u001b[1;33m\u001b[0m\u001b[1;33m\u001b[0m\u001b[0m\n",
      "\u001b[1;32mc:\\users\\zceeash\\appdata\\local\\programs\\python\\python37\\lib\\concurrent\\futures\\_base.py\u001b[0m in \u001b[0;36m__get_result\u001b[1;34m(self)\u001b[0m\n\u001b[0;32m    382\u001b[0m     \u001b[1;32mdef\u001b[0m \u001b[0m__get_result\u001b[0m\u001b[1;33m(\u001b[0m\u001b[0mself\u001b[0m\u001b[1;33m)\u001b[0m\u001b[1;33m:\u001b[0m\u001b[1;33m\u001b[0m\u001b[1;33m\u001b[0m\u001b[0m\n\u001b[0;32m    383\u001b[0m         \u001b[1;32mif\u001b[0m \u001b[0mself\u001b[0m\u001b[1;33m.\u001b[0m\u001b[0m_exception\u001b[0m\u001b[1;33m:\u001b[0m\u001b[1;33m\u001b[0m\u001b[1;33m\u001b[0m\u001b[0m\n\u001b[1;32m--> 384\u001b[1;33m             \u001b[1;32mraise\u001b[0m \u001b[0mself\u001b[0m\u001b[1;33m.\u001b[0m\u001b[0m_exception\u001b[0m\u001b[1;33m\u001b[0m\u001b[1;33m\u001b[0m\u001b[0m\n\u001b[0m\u001b[0;32m    385\u001b[0m         \u001b[1;32melse\u001b[0m\u001b[1;33m:\u001b[0m\u001b[1;33m\u001b[0m\u001b[1;33m\u001b[0m\u001b[0m\n\u001b[0;32m    386\u001b[0m             \u001b[1;32mreturn\u001b[0m \u001b[0mself\u001b[0m\u001b[1;33m.\u001b[0m\u001b[0m_result\u001b[0m\u001b[1;33m\u001b[0m\u001b[1;33m\u001b[0m\u001b[0m\n",
      "\u001b[1;31mTerminatedWorkerError\u001b[0m: A worker process managed by the executor was unexpectedly terminated. This could be caused by a segmentation fault while calling the function or by an excessive memory usage causing the Operating System to kill the worker."
     ]
    }
   ],
   "source": [
    "# Define model and param grid\n",
    "model_XGB_red = XGBClassifier(nthread=n_cpu)\n",
    "\n",
    "param_grid_XGB_red = {'min_child_weight': [1, 5, 10],\n",
    "                  'gamma': [0.5, 1, 1.5, 2, 5],\n",
    "                  'subsample': [0.6, 0.8, 1.0],\n",
    "                  'colsample_bytree': [0.6, 0.8, 1.0],\n",
    "                  'max_depth': [3, 4, 5]\n",
    "                 }\n",
    "\n",
    "# Train and get best parameters\n",
    "scores_XGB_red, best_scores_XGB_red, best_params_XGB_red=train_model_get_best_params(model_XGB_red, param_grid_XGB_red, X_train_red,y_train)\n",
    "# Update scores dictionary\n",
    "best_scores_all_red.append(update_scores_dict(best_scores_XGB_red,'XGB'))"
   ]
  },
  {
   "cell_type": "markdown",
   "metadata": {},
   "source": [
    "#### Getting scores on reserved test dataset"
   ]
  },
  {
   "cell_type": "code",
   "execution_count": null,
   "metadata": {
    "ExecuteTime": {
     "end_time": "2020-01-05T00:15:55.610548Z",
     "start_time": "2020-01-05T00:15:49.943Z"
    },
    "colab": {},
    "colab_type": "code",
    "id": "M8I3N406nhAK",
    "outputId": "fa680332-2da4-484a-c53a-915e10c64db4",
    "scrolled": false
   },
   "outputs": [],
   "source": [
    "all_scores_red['XGB']=get_scores_on_reserved_test_data(model_XGB_red,best_params_XGB_red,'XGB')"
   ]
  },
  {
   "cell_type": "markdown",
   "metadata": {},
   "source": [
    "#### Checking the top 15 most important features"
   ]
  },
  {
   "cell_type": "code",
   "execution_count": null,
   "metadata": {
    "ExecuteTime": {
     "end_time": "2020-01-05T00:15:55.610548Z",
     "start_time": "2020-01-05T00:15:51.111Z"
    },
    "colab": {},
    "colab_type": "code",
    "id": "M8I3N406nhAK",
    "outputId": "fa680332-2da4-484a-c53a-915e10c64db4",
    "scrolled": false
   },
   "outputs": [],
   "source": [
    "feature_imp_scores_XGB_red=get_top_features(model_XGB_red,'XGBoost',n=15)"
   ]
  },
  {
   "cell_type": "markdown",
   "metadata": {},
   "source": [
    "### Random Forests"
   ]
  },
  {
   "cell_type": "markdown",
   "metadata": {},
   "source": [
    "#### Define model and parameter grid"
   ]
  },
  {
   "cell_type": "code",
   "execution_count": 75,
   "metadata": {
    "ExecuteTime": {
     "end_time": "2020-01-05T00:22:41.850681Z",
     "start_time": "2020-01-05T00:16:07.191554Z"
    },
    "colab": {},
    "colab_type": "code",
    "id": "M8I3N406nhAK",
    "outputId": "fa680332-2da4-484a-c53a-915e10c64db4"
   },
   "outputs": [
    {
     "name": "stdout",
     "output_type": "stream",
     "text": [
      "\n",
      "Cross Validation scores on baseline model: \n",
      "\n"
     ]
    },
    {
     "data": {
      "text/html": [
       "<div>\n",
       "<style scoped>\n",
       "    .dataframe tbody tr th:only-of-type {\n",
       "        vertical-align: middle;\n",
       "    }\n",
       "\n",
       "    .dataframe tbody tr th {\n",
       "        vertical-align: top;\n",
       "    }\n",
       "\n",
       "    .dataframe thead th {\n",
       "        text-align: right;\n",
       "    }\n",
       "</style>\n",
       "<table border=\"1\" class=\"dataframe\">\n",
       "  <thead>\n",
       "    <tr style=\"text-align: right;\">\n",
       "      <th></th>\n",
       "      <th>Accuracy</th>\n",
       "      <th>Precision</th>\n",
       "      <th>Recall</th>\n",
       "      <th>f1-score</th>\n",
       "      <th>ROC-AUC</th>\n",
       "    </tr>\n",
       "  </thead>\n",
       "  <tbody>\n",
       "    <tr>\n",
       "      <th>0</th>\n",
       "      <td>0.504428</td>\n",
       "      <td>0.440058</td>\n",
       "      <td>0.439442</td>\n",
       "      <td>0.420872</td>\n",
       "      <td>0.643033</td>\n",
       "    </tr>\n",
       "  </tbody>\n",
       "</table>\n",
       "</div>"
      ],
      "text/plain": [
       "   Accuracy  Precision    Recall  f1-score   ROC-AUC\n",
       "0  0.504428   0.440058  0.439442  0.420872  0.643033"
      ]
     },
     "metadata": {},
     "output_type": "display_data"
    },
    {
     "name": "stdout",
     "output_type": "stream",
     "text": [
      "Scores for different refit on GridSearchCV: \n",
      "\n"
     ]
    },
    {
     "data": {
      "text/html": [
       "<div>\n",
       "<style scoped>\n",
       "    .dataframe tbody tr th:only-of-type {\n",
       "        vertical-align: middle;\n",
       "    }\n",
       "\n",
       "    .dataframe tbody tr th {\n",
       "        vertical-align: top;\n",
       "    }\n",
       "\n",
       "    .dataframe thead th {\n",
       "        text-align: right;\n",
       "    }\n",
       "</style>\n",
       "<table border=\"1\" class=\"dataframe\">\n",
       "  <thead>\n",
       "    <tr style=\"text-align: right;\">\n",
       "      <th></th>\n",
       "      <th>Refit</th>\n",
       "      <th>accuracy</th>\n",
       "      <th>f1_macro</th>\n",
       "      <th>roc_auc_ovr</th>\n",
       "      <th>mean</th>\n",
       "    </tr>\n",
       "  </thead>\n",
       "  <tbody>\n",
       "    <tr>\n",
       "      <th>0</th>\n",
       "      <td>accuracy</td>\n",
       "      <td>0.522081</td>\n",
       "      <td>0.389617</td>\n",
       "      <td>0.654920</td>\n",
       "      <td>0.522206</td>\n",
       "    </tr>\n",
       "    <tr>\n",
       "      <th>1</th>\n",
       "      <td>f1_macro</td>\n",
       "      <td>0.503856</td>\n",
       "      <td>0.422469</td>\n",
       "      <td>0.642886</td>\n",
       "      <td>0.523070</td>\n",
       "    </tr>\n",
       "    <tr>\n",
       "      <th>2</th>\n",
       "      <td>roc_auc_ovr</td>\n",
       "      <td>0.517244</td>\n",
       "      <td>0.397927</td>\n",
       "      <td>0.653819</td>\n",
       "      <td>0.522997</td>\n",
       "    </tr>\n",
       "  </tbody>\n",
       "</table>\n",
       "</div>"
      ],
      "text/plain": [
       "         Refit  accuracy  f1_macro  roc_auc_ovr      mean\n",
       "0     accuracy  0.522081  0.389617     0.654920  0.522206\n",
       "1     f1_macro  0.503856  0.422469     0.642886  0.523070\n",
       "2  roc_auc_ovr  0.517244  0.397927     0.653819  0.522997"
      ]
     },
     "metadata": {},
     "output_type": "display_data"
    },
    {
     "name": "stdout",
     "output_type": "stream",
     "text": [
      "The best parameters were for refit=f1-score.\n",
      "\n",
      "The best parameters returned are: \n",
      "\n",
      "{'n_estimators': 200, 'min_samples_split': 6, 'min_samples_leaf': 2, 'max_features': 'auto', 'max_depth': 40, 'bootstrap': False}\n"
     ]
    }
   ],
   "source": [
    "# Define model and param grid\n",
    "model_RFC_red = RandomForestClassifier()\n",
    "\n",
    "param_grid_RFC_red = {\n",
    "    'bootstrap': [True, False],\n",
    "    'max_depth': np.append(np.linspace(10,100,10,dtype = int),None),\n",
    "    'max_features': ['auto', 'sqrt'],\n",
    "    'min_samples_leaf': np.linspace(2,5,3,dtype = int),\n",
    "    'min_samples_split': np.linspace(2,10,3,dtype = int),\n",
    "    'n_estimators': np.linspace(200,2000,10,dtype = int)\n",
    "}\n",
    "\n",
    "# Train and get best parameters\n",
    "scores_RFC_red, best_scores_RFC_red, best_params_RFC_red=train_model_get_best_params(model_RFC_red, param_grid_RFC_red, X_train_red,y_train)\n",
    "# Update scores dictionary\n",
    "best_scores_all_red.append(update_scores_dict(best_scores_RFC_red,'RFC_red'))"
   ]
  },
  {
   "cell_type": "markdown",
   "metadata": {},
   "source": [
    "#### Getting scores on reserved test dataset"
   ]
  },
  {
   "cell_type": "code",
   "execution_count": 76,
   "metadata": {
    "ExecuteTime": {
     "end_time": "2020-01-05T00:22:43.621519Z",
     "start_time": "2020-01-05T00:22:41.851682Z"
    },
    "colab": {},
    "colab_type": "code",
    "id": "M8I3N406nhAK",
    "outputId": "fa680332-2da4-484a-c53a-915e10c64db4",
    "scrolled": false
   },
   "outputs": [
    {
     "name": "stdout",
     "output_type": "stream",
     "text": [
      "Accuracy: 0.502278\tPrecision: 0.433847\tRecall: 0.428400\t\n"
     ]
    },
    {
     "data": {
      "image/png": "[encoded data removed]",
      "text/plain": [
       "<Figure size 576x432 with 2 Axes>"
      ]
     },
     "metadata": {},
     "output_type": "display_data"
    }
   ],
   "source": [
    "all_scores_red['RFC']=get_scores_on_reserved_test_data(model_RFC_red,best_params_RFC_red,'RFC')"
   ]
  },
  {
   "cell_type": "markdown",
   "metadata": {},
   "source": [
    "#### Checking the top 15 most important features"
   ]
  },
  {
   "cell_type": "code",
   "execution_count": 77,
   "metadata": {
    "ExecuteTime": {
     "end_time": "2020-01-05T00:22:43.918364Z",
     "start_time": "2020-01-05T00:22:43.623502Z"
    },
    "colab": {},
    "colab_type": "code",
    "id": "M8I3N406nhAK",
    "outputId": "fa680332-2da4-484a-c53a-915e10c64db4",
    "scrolled": false
   },
   "outputs": [
    {
     "data": {
      "image/png": "[encoded data removed]",
      "text/plain": [
       "<Figure size 576x432 with 1 Axes>"
      ]
     },
     "metadata": {},
     "output_type": "display_data"
    }
   ],
   "source": [
    "feature_imp_scores_RFC_red=get_top_features(model_RFC_red,'Random Forest Classifier',n=15)"
   ]
  },
  {
   "cell_type": "markdown",
   "metadata": {},
   "source": [
    "### k-Nearest Neighbours"
   ]
  },
  {
   "cell_type": "markdown",
   "metadata": {},
   "source": [
    "#### Define model and parameter grid"
   ]
  },
  {
   "cell_type": "code",
   "execution_count": 78,
   "metadata": {
    "ExecuteTime": {
     "end_time": "2020-01-05T00:22:51.112556Z",
     "start_time": "2020-01-05T00:22:43.920349Z"
    },
    "colab": {},
    "colab_type": "code",
    "id": "M8I3N406nhAK",
    "outputId": "fa680332-2da4-484a-c53a-915e10c64db4"
   },
   "outputs": [
    {
     "name": "stdout",
     "output_type": "stream",
     "text": [
      "\n",
      "Cross Validation scores on baseline model: \n",
      "\n"
     ]
    },
    {
     "data": {
      "text/html": [
       "<div>\n",
       "<style scoped>\n",
       "    .dataframe tbody tr th:only-of-type {\n",
       "        vertical-align: middle;\n",
       "    }\n",
       "\n",
       "    .dataframe tbody tr th {\n",
       "        vertical-align: top;\n",
       "    }\n",
       "\n",
       "    .dataframe thead th {\n",
       "        text-align: right;\n",
       "    }\n",
       "</style>\n",
       "<table border=\"1\" class=\"dataframe\">\n",
       "  <thead>\n",
       "    <tr style=\"text-align: right;\">\n",
       "      <th></th>\n",
       "      <th>Accuracy</th>\n",
       "      <th>Precision</th>\n",
       "      <th>Recall</th>\n",
       "      <th>f1-score</th>\n",
       "      <th>ROC-AUC</th>\n",
       "    </tr>\n",
       "  </thead>\n",
       "  <tbody>\n",
       "    <tr>\n",
       "      <th>0</th>\n",
       "      <td>0.445741</td>\n",
       "      <td>0.413148</td>\n",
       "      <td>0.419089</td>\n",
       "      <td>0.411041</td>\n",
       "      <td>0.602343</td>\n",
       "    </tr>\n",
       "  </tbody>\n",
       "</table>\n",
       "</div>"
      ],
      "text/plain": [
       "   Accuracy  Precision    Recall  f1-score   ROC-AUC\n",
       "0  0.445741   0.413148  0.419089  0.411041  0.602343"
      ]
     },
     "metadata": {},
     "output_type": "display_data"
    },
    {
     "name": "stdout",
     "output_type": "stream",
     "text": [
      "Scores for different refit on GridSearchCV: \n",
      "\n"
     ]
    },
    {
     "data": {
      "text/html": [
       "<div>\n",
       "<style scoped>\n",
       "    .dataframe tbody tr th:only-of-type {\n",
       "        vertical-align: middle;\n",
       "    }\n",
       "\n",
       "    .dataframe tbody tr th {\n",
       "        vertical-align: top;\n",
       "    }\n",
       "\n",
       "    .dataframe thead th {\n",
       "        text-align: right;\n",
       "    }\n",
       "</style>\n",
       "<table border=\"1\" class=\"dataframe\">\n",
       "  <thead>\n",
       "    <tr style=\"text-align: right;\">\n",
       "      <th></th>\n",
       "      <th>Refit</th>\n",
       "      <th>accuracy</th>\n",
       "      <th>f1_macro</th>\n",
       "      <th>roc_auc_ovr</th>\n",
       "      <th>mean</th>\n",
       "    </tr>\n",
       "  </thead>\n",
       "  <tbody>\n",
       "    <tr>\n",
       "      <th>0</th>\n",
       "      <td>accuracy</td>\n",
       "      <td>0.482479</td>\n",
       "      <td>0.425484</td>\n",
       "      <td>0.615899</td>\n",
       "      <td>0.507954</td>\n",
       "    </tr>\n",
       "    <tr>\n",
       "      <th>1</th>\n",
       "      <td>f1_macro</td>\n",
       "      <td>0.476510</td>\n",
       "      <td>0.431121</td>\n",
       "      <td>0.609533</td>\n",
       "      <td>0.505722</td>\n",
       "    </tr>\n",
       "    <tr>\n",
       "      <th>2</th>\n",
       "      <td>roc_auc_ovr</td>\n",
       "      <td>0.474224</td>\n",
       "      <td>0.421095</td>\n",
       "      <td>0.614340</td>\n",
       "      <td>0.503220</td>\n",
       "    </tr>\n",
       "  </tbody>\n",
       "</table>\n",
       "</div>"
      ],
      "text/plain": [
       "         Refit  accuracy  f1_macro  roc_auc_ovr      mean\n",
       "0     accuracy  0.482479  0.425484     0.615899  0.507954\n",
       "1     f1_macro  0.476510  0.431121     0.609533  0.505722\n",
       "2  roc_auc_ovr  0.474224  0.421095     0.614340  0.503220"
      ]
     },
     "metadata": {},
     "output_type": "display_data"
    },
    {
     "name": "stdout",
     "output_type": "stream",
     "text": [
      "The best parameters were for refit=Accuracy.\n",
      "\n",
      "The best parameters returned are: \n",
      "\n",
      "{'weights': 'distance', 'n_neighbors': 9, 'algorithm': 'ball_tree'}\n"
     ]
    }
   ],
   "source": [
    "# Define model and param grid\n",
    "model_KNN_red = KNeighborsClassifier()\n",
    "\n",
    "param_grid_KNN_red = {\n",
    "    'n_neighbors': range(1,10),\n",
    "    'weights': ['distance', 'uniform'],\n",
    "    'algorithm': ['ball_tree', 'kd_tree','brute']\n",
    "}\n",
    "\n",
    "# Train and get best parameters\n",
    "scores_KNN_red, best_scores_KNN_red, best_params_KNN_red=train_model_get_best_params(model_KNN_red, param_grid_KNN_red, X_train_red,y_train)\n",
    "# Update scores dictionary\n",
    "best_scores_all_red.append(update_scores_dict(best_scores_KNN_red,'KNN'))"
   ]
  },
  {
   "cell_type": "markdown",
   "metadata": {},
   "source": [
    "#### Getting scores on reserved test dataset"
   ]
  },
  {
   "cell_type": "code",
   "execution_count": 79,
   "metadata": {
    "ExecuteTime": {
     "end_time": "2020-01-05T00:22:51.492961Z",
     "start_time": "2020-01-05T00:22:51.113557Z"
    },
    "colab": {},
    "colab_type": "code",
    "id": "M8I3N406nhAK",
    "outputId": "fa680332-2da4-484a-c53a-915e10c64db4",
    "scrolled": true
   },
   "outputs": [
    {
     "name": "stdout",
     "output_type": "stream",
     "text": [
      "Accuracy: 0.454442\tPrecision: 0.402222\tRecall: 0.404305\t\n"
     ]
    },
    {
     "data": {
      "image/png": "[encoded data removed]",
      "text/plain": [
       "<Figure size 576x432 with 2 Axes>"
      ]
     },
     "metadata": {},
     "output_type": "display_data"
    }
   ],
   "source": [
    "all_scores_red['KNN']=get_scores_on_reserved_test_data(model_KNN_red,best_params_KNN_red,\n",
    "                                                   'KNN')"
   ]
  },
  {
   "cell_type": "markdown",
   "metadata": {},
   "source": [
    "#### Checking the top 15 most important features"
   ]
  },
  {
   "cell_type": "code",
   "execution_count": 80,
   "metadata": {
    "ExecuteTime": {
     "end_time": "2020-01-05T00:22:51.498946Z",
     "start_time": "2020-01-05T00:22:51.494950Z"
    },
    "colab": {},
    "colab_type": "code",
    "id": "M8I3N406nhAK",
    "outputId": "fa680332-2da4-484a-c53a-915e10c64db4",
    "scrolled": false
   },
   "outputs": [
    {
     "name": "stdout",
     "output_type": "stream",
     "text": [
      "Attributes required to calculate importance is not available for this model!\n"
     ]
    }
   ],
   "source": [
    "feature_imp_scores_KNN_red=get_top_features(model_KNN_red,\n",
    "                                        'k-Nearest Neighbours Classifier',\n",
    "                                        n=15)"
   ]
  },
  {
   "cell_type": "markdown",
   "metadata": {},
   "source": [
    "### Stochastic Gradient Descent"
   ]
  },
  {
   "cell_type": "markdown",
   "metadata": {},
   "source": [
    "#### Define model and parameter grid"
   ]
  },
  {
   "cell_type": "code",
   "execution_count": 82,
   "metadata": {
    "ExecuteTime": {
     "end_time": "2020-01-05T00:26:33.537340Z",
     "start_time": "2020-01-05T00:26:27.534172Z"
    },
    "colab": {},
    "colab_type": "code",
    "id": "M8I3N406nhAK",
    "outputId": "fa680332-2da4-484a-c53a-915e10c64db4",
    "scrolled": false
   },
   "outputs": [
    {
     "name": "stdout",
     "output_type": "stream",
     "text": [
      "\n",
      "Cross Validation scores on baseline model: \n",
      "\n"
     ]
    },
    {
     "data": {
      "text/html": [
       "<div>\n",
       "<style scoped>\n",
       "    .dataframe tbody tr th:only-of-type {\n",
       "        vertical-align: middle;\n",
       "    }\n",
       "\n",
       "    .dataframe tbody tr th {\n",
       "        vertical-align: top;\n",
       "    }\n",
       "\n",
       "    .dataframe thead th {\n",
       "        text-align: right;\n",
       "    }\n",
       "</style>\n",
       "<table border=\"1\" class=\"dataframe\">\n",
       "  <thead>\n",
       "    <tr style=\"text-align: right;\">\n",
       "      <th></th>\n",
       "      <th>Accuracy</th>\n",
       "      <th>Precision</th>\n",
       "      <th>Recall</th>\n",
       "      <th>f1-score</th>\n",
       "      <th>ROC-AUC</th>\n",
       "    </tr>\n",
       "  </thead>\n",
       "  <tbody>\n",
       "    <tr>\n",
       "      <th>0</th>\n",
       "      <td>0.5104</td>\n",
       "      <td>0.403829</td>\n",
       "      <td>0.447439</td>\n",
       "      <td>0.399882</td>\n",
       "      <td>0.643924</td>\n",
       "    </tr>\n",
       "  </tbody>\n",
       "</table>\n",
       "</div>"
      ],
      "text/plain": [
       "   Accuracy  Precision    Recall  f1-score   ROC-AUC\n",
       "0    0.5104   0.403829  0.447439  0.399882  0.643924"
      ]
     },
     "metadata": {},
     "output_type": "display_data"
    },
    {
     "name": "stdout",
     "output_type": "stream",
     "text": [
      "Scores for different refit on GridSearchCV: \n",
      "\n"
     ]
    },
    {
     "data": {
      "text/html": [
       "<div>\n",
       "<style scoped>\n",
       "    .dataframe tbody tr th:only-of-type {\n",
       "        vertical-align: middle;\n",
       "    }\n",
       "\n",
       "    .dataframe tbody tr th {\n",
       "        vertical-align: top;\n",
       "    }\n",
       "\n",
       "    .dataframe thead th {\n",
       "        text-align: right;\n",
       "    }\n",
       "</style>\n",
       "<table border=\"1\" class=\"dataframe\">\n",
       "  <thead>\n",
       "    <tr style=\"text-align: right;\">\n",
       "      <th></th>\n",
       "      <th>Refit</th>\n",
       "      <th>accuracy</th>\n",
       "      <th>f1_macro</th>\n",
       "      <th>roc_auc_ovr</th>\n",
       "      <th>mean</th>\n",
       "    </tr>\n",
       "  </thead>\n",
       "  <tbody>\n",
       "    <tr>\n",
       "      <th>0</th>\n",
       "      <td>accuracy</td>\n",
       "      <td>0.512680</td>\n",
       "      <td>0.390157</td>\n",
       "      <td>0.639113</td>\n",
       "      <td>0.513984</td>\n",
       "    </tr>\n",
       "    <tr>\n",
       "      <th>1</th>\n",
       "      <td>f1_macro</td>\n",
       "      <td>0.507836</td>\n",
       "      <td>0.384604</td>\n",
       "      <td>0.644473</td>\n",
       "      <td>0.512304</td>\n",
       "    </tr>\n",
       "    <tr>\n",
       "      <th>2</th>\n",
       "      <td>roc_auc_ovr</td>\n",
       "      <td>0.520938</td>\n",
       "      <td>0.373612</td>\n",
       "      <td>0.643780</td>\n",
       "      <td>0.512777</td>\n",
       "    </tr>\n",
       "  </tbody>\n",
       "</table>\n",
       "</div>"
      ],
      "text/plain": [
       "         Refit  accuracy  f1_macro  roc_auc_ovr      mean\n",
       "0     accuracy  0.512680  0.390157     0.639113  0.513984\n",
       "1     f1_macro  0.507836  0.384604     0.644473  0.512304\n",
       "2  roc_auc_ovr  0.520938  0.373612     0.643780  0.512777"
      ]
     },
     "metadata": {},
     "output_type": "display_data"
    },
    {
     "name": "stdout",
     "output_type": "stream",
     "text": [
      "The best parameters were for refit=Accuracy.\n",
      "\n",
      "The best parameters returned are: \n",
      "\n",
      "{'tol': 0.001, 'penalty': 'l2', 'max_iter': 1000000, 'loss': 'modified_huber', 'alpha': 0.002154434690031882}\n"
     ]
    }
   ],
   "source": [
    "# Define model and param grid\n",
    "model_SGD_red = SGD_redClassifier(loss='log')\n",
    "\n",
    "param_grid_SGD_red = {\n",
    "    'max_iter': [1000000], # not suggested to change! \n",
    "    'tol': [1e-3],         # not suggested to change! \n",
    "     'loss': ['log', 'modified_huber', 'log', 'modified_huber'],\n",
    "    'alpha' : np.logspace(-4,4,7),\n",
    "    'penalty' : ['l1', 'l2']\n",
    "}\n",
    "# Train and get best parameters\n",
    "scores_SGD_red, best_scores_SGD_red, best_params_SGD_red=train_model_get_best_params(model_SGD_red, param_grid_SGD_red, X_train_red,y_train)\n",
    "# Update scores dictionary\n",
    "best_scores_all_red.append(update_scores_dict(best_scores_SGD_red,'SGD'))"
   ]
  },
  {
   "cell_type": "markdown",
   "metadata": {},
   "source": [
    "#### Getting scores on reserved test dataset"
   ]
  },
  {
   "cell_type": "code",
   "execution_count": 83,
   "metadata": {
    "ExecuteTime": {
     "end_time": "2020-01-05T00:26:33.769210Z",
     "start_time": "2020-01-05T00:26:33.538324Z"
    },
    "colab": {},
    "colab_type": "code",
    "id": "M8I3N406nhAK",
    "outputId": "fa680332-2da4-484a-c53a-915e10c64db4",
    "scrolled": false
   },
   "outputs": [
    {
     "name": "stdout",
     "output_type": "stream",
     "text": [
      "Accuracy: 0.520501\tPrecision: 0.599009\tRecall: 0.406486\t\n"
     ]
    },
    {
     "data": {
      "image/png": "[encoded data removed]",
      "text/plain": [
       "<Figure size 576x432 with 2 Axes>"
      ]
     },
     "metadata": {},
     "output_type": "display_data"
    }
   ],
   "source": [
    "all_scores_red['SGD_red']=get_scores_on_reserved_test_data(model_SGD_red,best_params_SGD_red,\n",
    "                                                   'SGD_red')"
   ]
  },
  {
   "cell_type": "markdown",
   "metadata": {},
   "source": [
    "#### Checking the top 15 most important features"
   ]
  },
  {
   "cell_type": "code",
   "execution_count": 84,
   "metadata": {
    "ExecuteTime": {
     "end_time": "2020-01-05T00:26:34.040576Z",
     "start_time": "2020-01-05T00:26:33.771206Z"
    },
    "colab": {},
    "colab_type": "code",
    "id": "M8I3N406nhAK",
    "outputId": "fa680332-2da4-484a-c53a-915e10c64db4",
    "scrolled": false
   },
   "outputs": [
    {
     "data": {
      "image/png": "[encoded data removed]",
      "text/plain": [
       "<Figure size 576x432 with 1 Axes>"
      ]
     },
     "metadata": {},
     "output_type": "display_data"
    }
   ],
   "source": [
    "feature_imp_scores_SGD_red=get_top_features(model_SGD_red,'Stochastic Gradient Descent',\n",
    "                                        n=15)"
   ]
  },
  {
   "cell_type": "markdown",
   "metadata": {},
   "source": [
    "### Support Vector Machine"
   ]
  },
  {
   "cell_type": "markdown",
   "metadata": {},
   "source": [
    "#### Define model and parameter grid"
   ]
  },
  {
   "cell_type": "code",
   "execution_count": null,
   "metadata": {
    "ExecuteTime": {
     "end_time": "2020-01-05T00:22:52.297746Z",
     "start_time": "2020-01-05T00:18:37.686Z"
    },
    "colab": {},
    "colab_type": "code",
    "id": "M8I3N406nhAK",
    "outputId": "fa680332-2da4-484a-c53a-915e10c64db4"
   },
   "outputs": [],
   "source": [
    "# Define model and param grid\n",
    "model_SVM_red = SVC(gamma='auto')\n",
    "\n",
    "param_grid_SVM_red = {\n",
    "        'kernel':['linear', 'rbf', 'sigmoid',],\n",
    "        'degree':range(2,5),\n",
    "        'gamma':['scale', 'auto'],\n",
    "        'shrinking': [True, False],\n",
    "        'probability': [True], #M: it has to be True, False will trigger error for the algorithm\n",
    "        'decision_function_shape': ['ovo', 'ovr'],\n",
    "    }\n",
    "\n",
    "# Train and get best parameters\n",
    "scores_SVM_red, best_scores_SVM_red, best_params_SVM_red=train_model_get_best_params(model_SVM_red, param_grid_SVM_red, X_train_red,y_train)\n",
    "# Update scores dictionary\n",
    "best_scores_all_red.append(update_scores_dict(best_scores_SVM_red,'SVM'))"
   ]
  },
  {
   "cell_type": "markdown",
   "metadata": {},
   "source": [
    "#### Getting scores on reserved test dataset"
   ]
  },
  {
   "cell_type": "code",
   "execution_count": null,
   "metadata": {
    "ExecuteTime": {
     "end_time": "2020-01-05T00:22:52.298744Z",
     "start_time": "2020-01-05T00:18:38.223Z"
    },
    "colab": {},
    "colab_type": "code",
    "id": "M8I3N406nhAK",
    "outputId": "fa680332-2da4-484a-c53a-915e10c64db4",
    "scrolled": false
   },
   "outputs": [],
   "source": [
    "all_scores_red['SVM']=get_scores_on_reserved_test_data(model_SVM_red,best_params_SVM_red,\n",
    "                                                   'SVM')"
   ]
  },
  {
   "cell_type": "markdown",
   "metadata": {},
   "source": [
    "#### Checking the top 15 most important features"
   ]
  },
  {
   "cell_type": "code",
   "execution_count": null,
   "metadata": {
    "ExecuteTime": {
     "end_time": "2020-01-05T00:22:52.299744Z",
     "start_time": "2020-01-05T00:18:38.806Z"
    },
    "colab": {},
    "colab_type": "code",
    "id": "M8I3N406nhAK",
    "outputId": "fa680332-2da4-484a-c53a-915e10c64db4",
    "scrolled": false
   },
   "outputs": [],
   "source": [
    "feature_imp_scores_SVM_red=get_top_features(model_SVM_red,'Support Vector Machine',n=15)"
   ]
  },
  {
   "cell_type": "markdown",
   "metadata": {},
   "source": [
    "### Extra Trees Classifier"
   ]
  },
  {
   "cell_type": "markdown",
   "metadata": {},
   "source": [
    "#### Define model and parameter grid"
   ]
  },
  {
   "cell_type": "code",
   "execution_count": null,
   "metadata": {
    "ExecuteTime": {
     "end_time": "2020-01-05T00:22:52.297746Z",
     "start_time": "2020-01-05T00:18:37.686Z"
    },
    "colab": {},
    "colab_type": "code",
    "id": "M8I3N406nhAK",
    "outputId": "fa680332-2da4-484a-c53a-915e10c64db4"
   },
   "outputs": [],
   "source": [
    "# Define model and param grid\n",
    "model_ETC_red = ExtraTreesClassifier()\n",
    "\n",
    "param_grid_ETC_red = {'min_samples_leaf'=[1],' min_weight_fraction_leaf'=[0.0], \n",
    "                      'max_features'=['auto'], max_leaf_nodes=[None], 'min_impurity_decrease'=[0.0],\n",
    "                      'min_impurity_split'=[None]\n",
    "                     }\n",
    "\n",
    "# Train and get best parameters\n",
    "scores_ETC_red, best_scores_ETC_red, best_params_ETC_red=train_model_get_best_params(model_ETC_red, \n",
    "                                                                                param_grid_ETC_red, X_train_red,y_train)\n",
    "# Update scores dictionary\n",
    "best_scores_all_red.append(update_scores_dict(best_scores_ETC_red,'ETC'))"
   ]
  },
  {
   "cell_type": "markdown",
   "metadata": {},
   "source": [
    "#### Getting scores on reserved test dataset"
   ]
  },
  {
   "cell_type": "code",
   "execution_count": null,
   "metadata": {
    "ExecuteTime": {
     "end_time": "2020-01-05T00:22:52.298744Z",
     "start_time": "2020-01-05T00:18:38.223Z"
    },
    "colab": {},
    "colab_type": "code",
    "id": "M8I3N406nhAK",
    "outputId": "fa680332-2da4-484a-c53a-915e10c64db4",
    "scrolled": false
   },
   "outputs": [],
   "source": [
    "all_scores_red['ETC']=get_scores_on_reserved_test_data(model_ETC_red,best_params_ETC_red,'ETC')"
   ]
  },
  {
   "cell_type": "markdown",
   "metadata": {},
   "source": [
    "#### Checking the top 15 most important features"
   ]
  },
  {
   "cell_type": "code",
   "execution_count": null,
   "metadata": {
    "ExecuteTime": {
     "end_time": "2020-01-05T00:22:52.299744Z",
     "start_time": "2020-01-05T00:18:38.806Z"
    },
    "colab": {},
    "colab_type": "code",
    "id": "M8I3N406nhAK",
    "outputId": "fa680332-2da4-484a-c53a-915e10c64db4",
    "scrolled": false
   },
   "outputs": [],
   "source": [
    "feature_imp_scores_ETC_red=get_top_features(model_ETC_red,'Support Vector Machine',n=15)"
   ]
  },
  {
   "cell_type": "markdown",
   "metadata": {},
   "source": [
    "### Decision Tree Classifier"
   ]
  },
  {
   "cell_type": "markdown",
   "metadata": {},
   "source": [
    "#### Define model and parameter grid"
   ]
  },
  {
   "cell_type": "code",
   "execution_count": null,
   "metadata": {
    "ExecuteTime": {
     "end_time": "2020-01-05T00:22:52.297746Z",
     "start_time": "2020-01-05T00:18:37.686Z"
    },
    "colab": {},
    "colab_type": "code",
    "id": "M8I3N406nhAK",
    "outputId": "fa680332-2da4-484a-c53a-915e10c64db4"
   },
   "outputs": [],
   "source": [
    "# Define model and param grid\n",
    "model_DTC_red = DecisionTreeClassifier()\n",
    "\n",
    "param_grid_DTC_red = {'min_samples_split'=[2],\n",
    "                      'min_samples_leaf'=[1], \n",
    "                      'min_weight_fraction_leaf'=[0.0], \n",
    "                      'max_features'=[5], \n",
    "                      'random_state'=[0], \n",
    "                      'max_leaf_nodes'=[10]\n",
    "                     }\n",
    "# Train and get best parameters\n",
    "scores_DTC_red, best_scores_DTC_red, best_params_DTC_red=train_model_get_best_params(model_DTC_red, param_grid_DTC_red, X_train_red,y_train)\n",
    "# Update scores dictionary\n",
    "best_scores_all_red.append(update_scores_dict(best_scores_DTC_red,'DTC'))"
   ]
  },
  {
   "cell_type": "markdown",
   "metadata": {},
   "source": [
    "#### Getting scores on reserved test dataset"
   ]
  },
  {
   "cell_type": "code",
   "execution_count": null,
   "metadata": {
    "ExecuteTime": {
     "end_time": "2020-01-05T00:22:52.298744Z",
     "start_time": "2020-01-05T00:18:38.223Z"
    },
    "colab": {},
    "colab_type": "code",
    "id": "M8I3N406nhAK",
    "outputId": "fa680332-2da4-484a-c53a-915e10c64db4",
    "scrolled": false
   },
   "outputs": [],
   "source": [
    "all_scores_red['DTC']=get_scores_on_reserved_test_data(model_DTC_red,best_params_DTC_red,'DTC')"
   ]
  },
  {
   "cell_type": "markdown",
   "metadata": {},
   "source": [
    "#### Checking the top 15 most important features"
   ]
  },
  {
   "cell_type": "code",
   "execution_count": null,
   "metadata": {
    "ExecuteTime": {
     "end_time": "2020-01-05T00:22:52.299744Z",
     "start_time": "2020-01-05T00:18:38.806Z"
    },
    "colab": {},
    "colab_type": "code",
    "id": "M8I3N406nhAK",
    "outputId": "fa680332-2da4-484a-c53a-915e10c64db4",
    "scrolled": false
   },
   "outputs": [],
   "source": [
    "feature_imp_scores_DTC_red=get_top_features(model_DTC_red,'Decision Tree Classifier',n=15)"
   ]
  },
  {
   "cell_type": "markdown",
   "metadata": {},
   "source": [
    "### Plotting Scores for Re-trained Classifiers"
   ]
  },
  {
   "cell_type": "code",
   "execution_count": 3,
   "metadata": {
    "scrolled": true
   },
   "outputs": [
    {
     "ename": "NameError",
     "evalue": "name 'scores_LR' is not defined",
     "output_type": "error",
     "traceback": [
      "\u001b[1;31m---------------------------------------------------------------------------\u001b[0m",
      "\u001b[1;31mNameError\u001b[0m                                 Traceback (most recent call last)",
      "\u001b[1;32m<ipython-input-3-29e3413ecfed>\u001b[0m in \u001b[0;36m<module>\u001b[1;34m\u001b[0m\n\u001b[1;32m----> 1\u001b[1;33m cross_val_scores_dict={'LR':scores_LR,'k-NN':scores_KNN,'XGB':scores_XGB,'GNB':scores_GNB,\n\u001b[0m\u001b[0;32m      2\u001b[0m                        'SGD':scores_SGD,'MLP':scores_MLP,'RFC':scores_RFC,'SVM':scores_SVM}\n",
      "\u001b[1;31mNameError\u001b[0m: name 'scores_LR' is not defined"
     ]
    }
   ],
   "source": [
    "cross_val_scores_dict_RED={'LR':scores_LR,'k-NN':scores_KNN,'XGB':scores_XGB,'GNB':scores_GNB,\n",
    "                       'SGD':scores_SGD,'MLP':scores_MLP,'RFC':scores_RFC,'SVM':scores_SVM}"
   ]
  },
  {
   "cell_type": "markdown",
   "metadata": {},
   "source": [
    "#### Comparing Model Evaluation Metrics in each fold of the cross-validation"
   ]
  },
  {
   "cell_type": "code",
   "execution_count": null,
   "metadata": {},
   "outputs": [],
   "source": [
    "plot_cross_val_score_fold_wise(cross_val_scores_dict_red)"
   ]
  },
  {
   "cell_type": "markdown",
   "metadata": {},
   "source": [
    "#### Accuracy on reserved test dataset from the training data"
   ]
  },
  {
   "cell_type": "code",
   "execution_count": null,
   "metadata": {},
   "outputs": [],
   "source": [
    "plot_test_scores_for_models(all_scores_red)"
   ]
  },
  {
   "cell_type": "markdown",
   "metadata": {},
   "source": [
    "## Compare Models"
   ]
  },
  {
   "cell_type": "code",
   "execution_count": null,
   "metadata": {},
   "outputs": [],
   "source": [
    "# Define the dataframes\n",
    "scores_dict_df=pd.DataFrame.from_dict(best_scores_all, orient='columns')\n",
    "scores_dict_with_DR_df=pd.DataFrame.from_dict(best_scores_dict_DR, \n",
    "                                              orient='columns')\n",
    "# Display results\n",
    "HTML('<h3><b>Scores without Dimensionality Reduction:</b></h3>')\n",
    "display(scores_dict_df)\n",
    "print()\n",
    "HTML('<h3><b>Scores with Dimensionality Reduction:</b></h3>')\n",
    "display(scores_dict_with_DR_df)"
   ]
  },
  {
   "cell_type": "code",
   "execution_count": null,
   "metadata": {},
   "outputs": [],
   "source": [
    "HTML('<h3><b>The best scores are:\\n</b></h3>')\n",
    "max_loc=scores_dict_df['mean'].append(scores_dict_with_DR_df['mean']).argmax()\n",
    "if max_loc<=19:\n",
    "    display(scores_dict_df.iloc[max_loc])\n",
    "    str_flag='before'\n",
    "else:\n",
    "    display(scores_dict_with_DR_df[max_loc])\n",
    "    str_flag='after'\n",
    "HTML('\\n<i>This model was trained <b>%s</b> dimensionality reduction.</i>'%(str_flag))"
   ]
  },
  {
   "cell_type": "markdown",
   "metadata": {},
   "source": [
    "> The best model obtained is: "
   ]
  },
  {
   "cell_type": "code",
   "execution_count": null,
   "metadata": {},
   "outputs": [],
   "source": [
    "best_model="
   ]
  },
  {
   "cell_type": "markdown",
   "metadata": {},
   "source": [
    "# Predicting on Test Data"
   ]
  },
  {
   "cell_type": "markdown",
   "metadata": {},
   "source": [
    "## Read the test data"
   ]
  },
  {
   "cell_type": "code",
   "execution_count": 89,
   "metadata": {
    "ExecuteTime": {
     "end_time": "2020-01-05T01:04:53.585481Z",
     "start_time": "2020-01-05T01:04:53.580484Z"
    }
   },
   "outputs": [],
   "source": [
    "# Read the csv file \n",
    "test_data=pd.read_csv('Data/epl-test.csv')\n",
    "# Convert to datetime type\n",
    "test_data['Date']=pd.to_datetime(test_data['Date'], format='%d/%m/%Y')"
   ]
  },
  {
   "cell_type": "markdown",
   "metadata": {},
   "source": [
    "## Build Design Matrix"
   ]
  },
  {
   "cell_type": "code",
   "execution_count": 90,
   "metadata": {
    "ExecuteTime": {
     "end_time": "2020-01-05T01:05:00.699513Z",
     "start_time": "2020-01-05T01:05:00.691518Z"
    },
    "scrolled": false
   },
   "outputs": [
    {
     "data": {
      "text/html": [
       "<div>\n",
       "<style scoped>\n",
       "    .dataframe tbody tr th:only-of-type {\n",
       "        vertical-align: middle;\n",
       "    }\n",
       "\n",
       "    .dataframe tbody tr th {\n",
       "        vertical-align: top;\n",
       "    }\n",
       "\n",
       "    .dataframe thead th {\n",
       "        text-align: right;\n",
       "    }\n",
       "</style>\n",
       "<table border=\"1\" class=\"dataframe\">\n",
       "  <thead>\n",
       "    <tr style=\"text-align: right;\">\n",
       "      <th></th>\n",
       "      <th>Date</th>\n",
       "      <th>HomeTeam</th>\n",
       "      <th>AwayTeam</th>\n",
       "    </tr>\n",
       "  </thead>\n",
       "  <tbody>\n",
       "    <tr>\n",
       "      <th>0</th>\n",
       "      <td>11 Jan 20</td>\n",
       "      <td>Bournemouth</td>\n",
       "      <td>Watford</td>\n",
       "    </tr>\n",
       "    <tr>\n",
       "      <th>1</th>\n",
       "      <td>11 Jan 20</td>\n",
       "      <td>Aston Villa</td>\n",
       "      <td>Man City</td>\n",
       "    </tr>\n",
       "    <tr>\n",
       "      <th>2</th>\n",
       "      <td>11 Jan 20</td>\n",
       "      <td>Chelsea</td>\n",
       "      <td>Burnley</td>\n",
       "    </tr>\n",
       "    <tr>\n",
       "      <th>3</th>\n",
       "      <td>11 Jan 20</td>\n",
       "      <td>Crystal Palace</td>\n",
       "      <td>Arsenal</td>\n",
       "    </tr>\n",
       "    <tr>\n",
       "      <th>4</th>\n",
       "      <td>11 Jan 20</td>\n",
       "      <td>Everton</td>\n",
       "      <td>Brighton</td>\n",
       "    </tr>\n",
       "  </tbody>\n",
       "</table>\n",
       "</div>"
      ],
      "text/plain": [
       "        Date        HomeTeam  AwayTeam\n",
       "0  11 Jan 20     Bournemouth   Watford\n",
       "1  11 Jan 20     Aston Villa  Man City\n",
       "2  11 Jan 20         Chelsea   Burnley\n",
       "3  11 Jan 20  Crystal Palace   Arsenal\n",
       "4  11 Jan 20         Everton  Brighton"
      ]
     },
     "execution_count": 90,
     "metadata": {},
     "output_type": "execute_result"
    }
   ],
   "source": [
    "test_X=build_X(test_data)\n",
    "if str_flag=='after':\n",
    "    test_X=perform_PCA(test_X)"
   ]
  },
  {
   "cell_type": "markdown",
   "metadata": {},
   "source": [
    "## Predictions"
   ]
  },
  {
   "cell_type": "code",
   "execution_count": null,
   "metadata": {},
   "outputs": [],
   "source": [
    "test_data['FTR']=predicted_results=best_model.predict(test_X)"
   ]
  },
  {
   "cell_type": "markdown",
   "metadata": {},
   "source": [
    "Therefore the final predictions are:"
   ]
  },
  {
   "cell_type": "code",
   "execution_count": null,
   "metadata": {},
   "outputs": [],
   "source": [
    "test_data"
   ]
  }
 ],
 "metadata": {
  "accelerator": "GPU",
  "colab": {
   "collapsed_sections": [],
   "name": "Beat The Bookie.ipynb",
   "provenance": []
  },
  "kernelspec": {
   "display_name": "Python 3",
   "language": "python",
   "name": "python3"
  },
  "language_info": {
   "codemirror_mode": {
    "name": "ipython",
    "version": 3
   },
   "file_extension": ".py",
   "mimetype": "text/x-python",
   "name": "python",
   "nbconvert_exporter": "python",
   "pygments_lexer": "ipython3",
   "version": "3.7.4"
  }
 },
 "nbformat": 4,
 "nbformat_minor": 1
}
