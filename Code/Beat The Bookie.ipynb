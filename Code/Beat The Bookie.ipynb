{
 "cells": [
  {
   "cell_type": "markdown",
   "metadata": {
    "colab_type": "text",
    "id": "HZT8d2PCngzV"
   },
   "source": [
    "# Introduction"
   ]
  },
  {
   "cell_type": "markdown",
   "metadata": {
    "colab_type": "text",
    "id": "AGX31RtBngz6"
   },
   "source": [
    "#_Brief Introduction to the project and its goals._#"
   ]
  },
  {
   "cell_type": "markdown",
   "metadata": {
    "colab_type": "text",
    "id": "oKmpcN7Nng0A"
   },
   "source": [
    "# Setting up the Environment"
   ]
  },
  {
   "cell_type": "markdown",
   "metadata": {
    "colab_type": "text",
    "id": "2xhaP9Wmng0F"
   },
   "source": [
    "### Importing Libraries"
   ]
  },
  {
   "cell_type": "code",
   "execution_count": 1,
   "metadata": {
    "ExecuteTime": {
     "end_time": "2020-01-02T00:46:48.632559Z",
     "start_time": "2020-01-02T00:46:47.468647Z"
    },
    "colab": {},
    "colab_type": "code",
    "id": "JkT3cWFIng0M",
    "scrolled": true
   },
   "outputs": [],
   "source": [
    "from dateutil import relativedelta\n",
    "\n",
    "import numpy as np\n",
    "import pandas as pd\n",
    "\n",
    "import matplotlib as mpl\n",
    "import matplotlib.pyplot as plt\n",
    "\n",
    "import seaborn as sns\n",
    "\n",
    "from sklearn.preprocessing import LabelEncoder, MinMaxScaler, label_binarize\n",
    "\n",
    "from sklearn.model_selection import train_test_split\n",
    "from sklearn.model_selection import cross_validate\n",
    "from sklearn.model_selection import GridSearchCV, RandomizedSearchCV\n",
    "\n",
    "# Metrics\n",
    "from sklearn.metrics import accuracy_score, precision_score, recall_score\n",
    "from sklearn.metrics import f1_score, roc_auc_score\n",
    "from sklearn.multiclass import OneVsRestClassifier\n",
    "\n",
    "# Models\n",
    "from sklearn.linear_model import LogisticRegression\n",
    "from sklearn.svm import SVC\n",
    "from sklearn.naive_bayes import GaussianNB\n",
    "from sklearn.neighbors import KNeighborsClassifier\n",
    "from sklearn.linear_model import SGDClassifier, LogisticRegression\n",
    "from sklearn.neural_network import MLPClassifier\n",
    "from sklearn.ensemble import RandomForestClassifier\n",
    "from sklearn.tree import DecisionTreeClassifier\n",
    "from xgboost import XGBClassifier"
   ]
  },
  {
   "cell_type": "markdown",
   "metadata": {
    "colab_type": "text",
    "id": "IQMEfR2rng0b"
   },
   "source": [
    "### Notebook Display Settings\n"
   ]
  },
  {
   "cell_type": "code",
   "execution_count": 2,
   "metadata": {
    "ExecuteTime": {
     "end_time": "2020-01-02T00:46:48.637548Z",
     "start_time": "2020-01-02T00:46:48.633550Z"
    },
    "colab": {},
    "colab_type": "code",
    "id": "D3dFfH4nng0g"
   },
   "outputs": [],
   "source": [
    "# Change the maximum number of rows displayed when viewing the pandas dataframe\n",
    "pd.set_option('display.max_rows', 100)\n",
    "pd.set_option('display.max_columns', 50)\n",
    "\n",
    "import os\n",
    "import warnings\n",
    "\n",
    "# Suppress all warnings\n",
    "warnings.filterwarnings(\"ignore\")"
   ]
  },
  {
   "cell_type": "markdown",
   "metadata": {
    "colab_type": "text",
    "id": "csSFOOxSng0v"
   },
   "source": [
    "### Default Figure Settings"
   ]
  },
  {
   "cell_type": "code",
   "execution_count": 3,
   "metadata": {
    "ExecuteTime": {
     "end_time": "2020-01-02T00:46:48.647542Z",
     "start_time": "2020-01-02T00:46:48.639552Z"
    },
    "colab": {},
    "colab_type": "code",
    "id": "RHJsDRCVng02"
   },
   "outputs": [],
   "source": [
    "# Set plot properties\n",
    "mpl.rcParams['axes.titlesize'] = 20\n",
    "mpl.rcParams['axes.labelsize'] = 16\n",
    "mpl.rcParams['axes.titleweight']='bold'\n",
    "mpl.rcParams['axes.labelweight']='normal'\n",
    "mpl.rcParams['figure.figsize']=(8,6)\n",
    "\n",
    "# Choose the font for the plots based on os (as some fonts are not available across different os)\n",
    "if os.name=='nt':\n",
    "    mpl.rcParams['font.family'] = \"sans-serif\"\n",
    "    mpl.rcParams['font.sans-serif'] = \"Arial\"\n",
    "elif os.name=='posix':  \n",
    "    mpl.rcParams['font.family'] = \"Mukti Narrow\"\n",
    "\n",
    "# Enables colour codes for seaborn plots\n",
    "sns.set(color_codes=True)"
   ]
  },
  {
   "cell_type": "markdown",
   "metadata": {
    "colab_type": "text",
    "id": "1hhmjCU-ng1C"
   },
   "source": [
    "### Parallel Processing Configuration"
   ]
  },
  {
   "cell_type": "code",
   "execution_count": 4,
   "metadata": {
    "ExecuteTime": {
     "end_time": "2020-01-02T00:46:48.655537Z",
     "start_time": "2020-01-02T00:46:48.649541Z"
    },
    "colab": {},
    "colab_type": "code",
    "id": "GhfR1Fxmng1G"
   },
   "outputs": [],
   "source": [
    "import multiprocessing as mp\n",
    "\n",
    "# Get the number of cpu available for parallel processing\n",
    "n_cpu=mp.cpu_count()"
   ]
  },
  {
   "cell_type": "markdown",
   "metadata": {
    "colab_type": "text",
    "id": "SgCOfPXbng1T"
   },
   "source": [
    "# Data Transformation & Exploration"
   ]
  },
  {
   "cell_type": "markdown",
   "metadata": {
    "colab_type": "text",
    "id": "KdtB2FBhng1Y"
   },
   "source": [
    "## Read the Data"
   ]
  },
  {
   "cell_type": "code",
   "execution_count": 5,
   "metadata": {
    "ExecuteTime": {
     "end_time": "2020-01-02T00:46:48.703511Z",
     "start_time": "2020-01-02T00:46:48.656537Z"
    },
    "colab": {},
    "colab_type": "code",
    "id": "KPPYm8qhng1d",
    "outputId": "4617e12c-da1c-4c5f-d4b0-dfba565669f9"
   },
   "outputs": [
    {
     "name": "stdout",
     "output_type": "stream",
     "text": [
      "Shape of the table (rows, columns):  (4180, 22)\n"
     ]
    }
   ],
   "source": [
    "# Read the csv file \n",
    "data=pd.read_csv('Data/epl-training.csv')\n",
    "\n",
    "# Dropping the trailing columns\n",
    "data.dropna(axis=1, how='all',inplace=True)\n",
    "data['Date']=pd.to_datetime(data['Date'], format='%d/%m/%Y')\n",
    "data.drop([column for column in data.columns if 'Unnamed' in column], axis = 1, inplace=True) \n",
    "print(\"Shape of the table (rows, columns): \", data.shape)"
   ]
  },
  {
   "cell_type": "code",
   "execution_count": 6,
   "metadata": {
    "ExecuteTime": {
     "end_time": "2020-01-02T00:46:48.725496Z",
     "start_time": "2020-01-02T00:46:48.704508Z"
    },
    "colab": {},
    "colab_type": "code",
    "id": "9kgoy98vng1s",
    "outputId": "7cf3ec61-b7b6-4fb4-eb6b-a8c04c8c3635"
   },
   "outputs": [
    {
     "data": {
      "text/html": [
       "<div>\n",
       "<style scoped>\n",
       "    .dataframe tbody tr th:only-of-type {\n",
       "        vertical-align: middle;\n",
       "    }\n",
       "\n",
       "    .dataframe tbody tr th {\n",
       "        vertical-align: top;\n",
       "    }\n",
       "\n",
       "    .dataframe thead th {\n",
       "        text-align: right;\n",
       "    }\n",
       "</style>\n",
       "<table border=\"1\" class=\"dataframe\">\n",
       "  <thead>\n",
       "    <tr style=\"text-align: right;\">\n",
       "      <th></th>\n",
       "      <th>Date</th>\n",
       "      <th>HomeTeam</th>\n",
       "      <th>AwayTeam</th>\n",
       "      <th>FTHG</th>\n",
       "      <th>FTAG</th>\n",
       "      <th>FTR</th>\n",
       "      <th>HTHG</th>\n",
       "      <th>HTAG</th>\n",
       "      <th>HTR</th>\n",
       "      <th>Referee</th>\n",
       "      <th>HS</th>\n",
       "      <th>AS</th>\n",
       "      <th>HST</th>\n",
       "      <th>AST</th>\n",
       "      <th>HF</th>\n",
       "      <th>AF</th>\n",
       "      <th>HC</th>\n",
       "      <th>AC</th>\n",
       "      <th>HY</th>\n",
       "      <th>AY</th>\n",
       "      <th>HR</th>\n",
       "      <th>AR</th>\n",
       "    </tr>\n",
       "  </thead>\n",
       "  <tbody>\n",
       "    <tr>\n",
       "      <th>0</th>\n",
       "      <td>2008-08-16</td>\n",
       "      <td>Arsenal</td>\n",
       "      <td>West Brom</td>\n",
       "      <td>1</td>\n",
       "      <td>0</td>\n",
       "      <td>H</td>\n",
       "      <td>1</td>\n",
       "      <td>0</td>\n",
       "      <td>H</td>\n",
       "      <td>H Webb</td>\n",
       "      <td>24</td>\n",
       "      <td>5</td>\n",
       "      <td>14</td>\n",
       "      <td>4</td>\n",
       "      <td>11</td>\n",
       "      <td>8</td>\n",
       "      <td>7</td>\n",
       "      <td>5</td>\n",
       "      <td>0</td>\n",
       "      <td>0</td>\n",
       "      <td>0</td>\n",
       "      <td>0</td>\n",
       "    </tr>\n",
       "    <tr>\n",
       "      <th>1</th>\n",
       "      <td>2008-08-16</td>\n",
       "      <td>Bolton</td>\n",
       "      <td>Stoke</td>\n",
       "      <td>3</td>\n",
       "      <td>1</td>\n",
       "      <td>H</td>\n",
       "      <td>3</td>\n",
       "      <td>0</td>\n",
       "      <td>H</td>\n",
       "      <td>C Foy</td>\n",
       "      <td>14</td>\n",
       "      <td>8</td>\n",
       "      <td>8</td>\n",
       "      <td>2</td>\n",
       "      <td>13</td>\n",
       "      <td>12</td>\n",
       "      <td>4</td>\n",
       "      <td>3</td>\n",
       "      <td>1</td>\n",
       "      <td>2</td>\n",
       "      <td>0</td>\n",
       "      <td>0</td>\n",
       "    </tr>\n",
       "    <tr>\n",
       "      <th>2</th>\n",
       "      <td>2008-08-16</td>\n",
       "      <td>Everton</td>\n",
       "      <td>Blackburn</td>\n",
       "      <td>2</td>\n",
       "      <td>3</td>\n",
       "      <td>A</td>\n",
       "      <td>1</td>\n",
       "      <td>1</td>\n",
       "      <td>D</td>\n",
       "      <td>A Marriner</td>\n",
       "      <td>10</td>\n",
       "      <td>15</td>\n",
       "      <td>5</td>\n",
       "      <td>11</td>\n",
       "      <td>11</td>\n",
       "      <td>9</td>\n",
       "      <td>3</td>\n",
       "      <td>5</td>\n",
       "      <td>2</td>\n",
       "      <td>2</td>\n",
       "      <td>0</td>\n",
       "      <td>0</td>\n",
       "    </tr>\n",
       "    <tr>\n",
       "      <th>3</th>\n",
       "      <td>2008-08-16</td>\n",
       "      <td>Hull</td>\n",
       "      <td>Fulham</td>\n",
       "      <td>2</td>\n",
       "      <td>1</td>\n",
       "      <td>H</td>\n",
       "      <td>1</td>\n",
       "      <td>1</td>\n",
       "      <td>D</td>\n",
       "      <td>P Walton</td>\n",
       "      <td>11</td>\n",
       "      <td>12</td>\n",
       "      <td>6</td>\n",
       "      <td>6</td>\n",
       "      <td>10</td>\n",
       "      <td>9</td>\n",
       "      <td>5</td>\n",
       "      <td>6</td>\n",
       "      <td>3</td>\n",
       "      <td>0</td>\n",
       "      <td>0</td>\n",
       "      <td>0</td>\n",
       "    </tr>\n",
       "    <tr>\n",
       "      <th>4</th>\n",
       "      <td>2008-08-16</td>\n",
       "      <td>Middlesbrough</td>\n",
       "      <td>Tottenham</td>\n",
       "      <td>2</td>\n",
       "      <td>1</td>\n",
       "      <td>H</td>\n",
       "      <td>0</td>\n",
       "      <td>0</td>\n",
       "      <td>D</td>\n",
       "      <td>M Atkinson</td>\n",
       "      <td>14</td>\n",
       "      <td>8</td>\n",
       "      <td>10</td>\n",
       "      <td>5</td>\n",
       "      <td>11</td>\n",
       "      <td>12</td>\n",
       "      <td>7</td>\n",
       "      <td>9</td>\n",
       "      <td>1</td>\n",
       "      <td>2</td>\n",
       "      <td>0</td>\n",
       "      <td>0</td>\n",
       "    </tr>\n",
       "  </tbody>\n",
       "</table>\n",
       "</div>"
      ],
      "text/plain": [
       "        Date       HomeTeam   AwayTeam  FTHG  FTAG FTR  HTHG  HTAG HTR  \\\n",
       "0 2008-08-16        Arsenal  West Brom     1     0   H     1     0   H   \n",
       "1 2008-08-16         Bolton      Stoke     3     1   H     3     0   H   \n",
       "2 2008-08-16        Everton  Blackburn     2     3   A     1     1   D   \n",
       "3 2008-08-16           Hull     Fulham     2     1   H     1     1   D   \n",
       "4 2008-08-16  Middlesbrough  Tottenham     2     1   H     0     0   D   \n",
       "\n",
       "      Referee  HS  AS  HST  AST  HF  AF  HC  AC  HY  AY  HR  AR  \n",
       "0      H Webb  24   5   14    4  11   8   7   5   0   0   0   0  \n",
       "1       C Foy  14   8    8    2  13  12   4   3   1   2   0   0  \n",
       "2  A Marriner  10  15    5   11  11   9   3   5   2   2   0   0  \n",
       "3    P Walton  11  12    6    6  10   9   5   6   3   0   0   0  \n",
       "4  M Atkinson  14   8   10    5  11  12   7   9   1   2   0   0  "
      ]
     },
     "execution_count": 6,
     "metadata": {},
     "output_type": "execute_result"
    }
   ],
   "source": [
    "data.head()"
   ]
  },
  {
   "cell_type": "markdown",
   "metadata": {
    "colab_type": "text",
    "id": "6-B30uKjng16"
   },
   "source": [
    "## Exploratory Data Analysis"
   ]
  },
  {
   "cell_type": "markdown",
   "metadata": {
    "colab_type": "text",
    "id": "HwtDHVOhng1-"
   },
   "source": [
    "### Function definitions"
   ]
  },
  {
   "cell_type": "markdown",
   "metadata": {
    "colab_type": "text",
    "id": "P0X6Ld2Lng2I"
   },
   "source": [
    "The function __get_pivot_column_vs_column_count__ returns a dataframe after pivoting a column against another column. The elements of dataframe represent counts of all the different combinations of __col1__ and __col2__ in the dataframe __df__."
   ]
  },
  {
   "cell_type": "code",
   "execution_count": 7,
   "metadata": {
    "ExecuteTime": {
     "end_time": "2020-01-02T00:46:48.731493Z",
     "start_time": "2020-01-02T00:46:48.726496Z"
    },
    "colab": {},
    "colab_type": "code",
    "id": "x3oyuvQhng2T"
   },
   "outputs": [],
   "source": [
    "def get_pivot_column_vs_column_count(df,col1,col2):\n",
    "    return df.groupby([col1,col2]).size().reset_index().\\\n",
    "              rename(columns={0:'counts'}).\\\n",
    "              pivot(values='counts',index=col1,columns=col2)"
   ]
  },
  {
   "cell_type": "markdown",
   "metadata": {
    "colab_type": "text",
    "id": "m1vbBnX_ng2r"
   },
   "source": [
    "The function __get_column_countplot__ plots a bar chart. The bar chart is representative of the column __col__ in the dataframe __df__. The function counts the occurances of each value taken by __col__ in combination with the different outcome of __FTR__ (i.e. H, D, A). "
   ]
  },
  {
   "cell_type": "code",
   "execution_count": 8,
   "metadata": {
    "ExecuteTime": {
     "end_time": "2020-01-02T00:46:48.738490Z",
     "start_time": "2020-01-02T00:46:48.733493Z"
    },
    "colab": {},
    "colab_type": "code",
    "id": "ZTRnrYwmng2w"
   },
   "outputs": [],
   "source": [
    "def get_column_countplot(df,col,y='FTR',ax=None ):\n",
    "    if ax is None:\n",
    "        ax = plt.gca()\n",
    "    df.groupby([col, y]).size().reset_index().\\\n",
    "       pivot(columns=y, index=col, values=0).\\\n",
    "       plot(kind='bar', stacked=True,ax=ax)\n",
    "    ax.set_xlabel(col)\n",
    "    ax.set_ylabel('Counts')\n",
    "    ax.set_title('Count Plot: %s'%(col))"
   ]
  },
  {
   "cell_type": "markdown",
   "metadata": {
    "colab_type": "text",
    "id": "SwoZuLzFng3F"
   },
   "source": [
    "### Number of teams"
   ]
  },
  {
   "cell_type": "markdown",
   "metadata": {
    "colab_type": "text",
    "id": "bOglfquvng3K"
   },
   "source": [
    "#### Number of unique teams in the table:"
   ]
  },
  {
   "cell_type": "code",
   "execution_count": 9,
   "metadata": {
    "ExecuteTime": {
     "end_time": "2020-01-02T00:46:48.747484Z",
     "start_time": "2020-01-02T00:46:48.740487Z"
    },
    "colab": {},
    "colab_type": "code",
    "id": "0XfnMuY-ng3P",
    "outputId": "eef6b33b-db56-4c55-b473-bc920a629d63",
    "scrolled": false
   },
   "outputs": [
    {
     "data": {
      "text/plain": [
       "36"
      ]
     },
     "execution_count": 9,
     "metadata": {},
     "output_type": "execute_result"
    }
   ],
   "source": [
    "data['HomeTeam'].nunique()"
   ]
  },
  {
   "cell_type": "markdown",
   "metadata": {
    "colab_type": "text",
    "id": "B0R1oCAang3s"
   },
   "source": [
    "#### Checking if all the team in the column `HomeTeam` are in `AwayTeam`"
   ]
  },
  {
   "cell_type": "code",
   "execution_count": 10,
   "metadata": {
    "ExecuteTime": {
     "end_time": "2020-01-02T00:46:48.758477Z",
     "start_time": "2020-01-02T00:46:48.749483Z"
    },
    "colab": {},
    "colab_type": "code",
    "id": "IUp7qpJcng3v",
    "outputId": "59d5caf6-9bd3-4a3e-e02c-c3eb73d38846"
   },
   "outputs": [
    {
     "data": {
      "text/plain": [
       "True"
      ]
     },
     "execution_count": 10,
     "metadata": {},
     "output_type": "execute_result"
    }
   ],
   "source": [
    "np.array_equal(sorted(data['HomeTeam'].unique()),sorted(data['AwayTeam'].unique()))"
   ]
  },
  {
   "cell_type": "markdown",
   "metadata": {
    "colab_type": "text",
    "id": "xPaIVJMvng39"
   },
   "source": [
    "#### List of all teams in the data:"
   ]
  },
  {
   "cell_type": "code",
   "execution_count": 11,
   "metadata": {
    "ExecuteTime": {
     "end_time": "2020-01-02T00:46:48.764476Z",
     "start_time": "2020-01-02T00:46:48.759477Z"
    },
    "colab": {},
    "colab_type": "code",
    "id": "ayd1UgMAng4F",
    "outputId": "08d70e4d-0eec-4ad4-8d25-1a4efdd172c9",
    "scrolled": true
   },
   "outputs": [
    {
     "name": "stdout",
     "output_type": "stream",
     "text": [
      "['Arsenal', 'Aston Villa', 'Birmingham', 'Blackburn', 'Blackpool', 'Bolton', 'Bournemouth', 'Brighton', 'Burnley', 'Cardiff', 'Chelsea', 'Crystal Palace', 'Everton', 'Fulham', 'Huddersfield', 'Hull', 'Leicester', 'Liverpool', 'Man City', 'Man United', 'Middlesbrough', 'Newcastle', 'Norwich', 'Portsmouth', 'QPR', 'Reading', 'Southampton', 'Stoke', 'Sunderland', 'Swansea', 'Tottenham', 'Watford', 'West Brom', 'West Ham', 'Wigan', 'Wolves']\n"
     ]
    }
   ],
   "source": [
    "print(sorted(data['HomeTeam'].unique()))"
   ]
  },
  {
   "cell_type": "markdown",
   "metadata": {
    "colab_type": "text",
    "id": "Yb2X6hh8ng4T"
   },
   "source": [
    "### Analysing the `Referee` column"
   ]
  },
  {
   "cell_type": "markdown",
   "metadata": {
    "colab_type": "text",
    "id": "-nftdPmGng4W"
   },
   "source": [
    "#### The number of unique referees in dataset:"
   ]
  },
  {
   "cell_type": "code",
   "execution_count": 12,
   "metadata": {
    "ExecuteTime": {
     "end_time": "2020-01-02T00:46:48.773469Z",
     "start_time": "2020-01-02T00:46:48.766474Z"
    },
    "colab": {},
    "colab_type": "code",
    "id": "8KuVd6Twng4a",
    "outputId": "7ceea0d4-85e4-4098-c3ac-00fbec9c62cf"
   },
   "outputs": [
    {
     "data": {
      "text/plain": [
       "36"
      ]
     },
     "execution_count": 12,
     "metadata": {},
     "output_type": "execute_result"
    }
   ],
   "source": [
    "data['Referee'].nunique()"
   ]
  },
  {
   "cell_type": "markdown",
   "metadata": {
    "colab_type": "text",
    "id": "QH2y0IVdng4n"
   },
   "source": [
    "> It can be seen that the number of referees here is the same as the number of teams"
   ]
  },
  {
   "cell_type": "code",
   "execution_count": 13,
   "metadata": {
    "ExecuteTime": {
     "end_time": "2020-01-02T00:46:48.785462Z",
     "start_time": "2020-01-02T00:46:48.774469Z"
    },
    "colab": {},
    "colab_type": "code",
    "id": "ek_JSP7gng4r",
    "outputId": "ff41306e-01ef-41c2-c799-e15b132b2f7b",
    "scrolled": true
   },
   "outputs": [
    {
     "data": {
      "text/plain": [
       "True"
      ]
     },
     "execution_count": 13,
     "metadata": {},
     "output_type": "execute_result"
    }
   ],
   "source": [
    "data['Referee'].nunique()==data['HomeTeam'].nunique()"
   ]
  },
  {
   "cell_type": "markdown",
   "metadata": {
    "colab_type": "text",
    "id": "7DmA69rgng5K"
   },
   "source": [
    "### Analysing the Dates"
   ]
  },
  {
   "cell_type": "markdown",
   "metadata": {
    "colab_type": "text",
    "id": "ma-Td3kyng5P"
   },
   "source": [
    "The first and the last date (when arranged chronologically) observed in the table:"
   ]
  },
  {
   "cell_type": "code",
   "execution_count": 14,
   "metadata": {
    "ExecuteTime": {
     "end_time": "2020-01-02T00:46:48.792458Z",
     "start_time": "2020-01-02T00:46:48.786462Z"
    },
    "colab": {},
    "colab_type": "code",
    "id": "es7nFe3Yng5U",
    "outputId": "3a61fe2a-6c39-40f4-c3ef-6b691bd2bf08",
    "scrolled": true
   },
   "outputs": [
    {
     "name": "stdout",
     "output_type": "stream",
     "text": [
      "The earliest date in the table:  2008-08-16 00:00:00\n",
      "The latest date in the table:  2019-05-12 00:00:00\n"
     ]
    }
   ],
   "source": [
    "print(\"The earliest date in the table: \", data['Date'].min())\n",
    "print(\"The latest date in the table: \", data['Date'].max())"
   ]
  },
  {
   "cell_type": "code",
   "execution_count": 15,
   "metadata": {
    "ExecuteTime": {
     "end_time": "2020-01-02T00:46:48.799455Z",
     "start_time": "2020-01-02T00:46:48.793457Z"
    },
    "colab": {},
    "colab_type": "code",
    "id": "qedbaQzlng5d",
    "outputId": "16e3a3da-669b-4f96-92d9-97150c3be319"
   },
   "outputs": [
    {
     "name": "stdout",
     "output_type": "stream",
     "text": [
      "10 years 8 months 26 days\n"
     ]
    }
   ],
   "source": [
    "rd = relativedelta.relativedelta(data['Date'].max(),data['Date'].min())\n",
    "print('%d years %d months %d days'%(rd.years,rd.months,rd.days))"
   ]
  },
  {
   "cell_type": "code",
   "execution_count": 16,
   "metadata": {
    "ExecuteTime": {
     "end_time": "2020-01-02T00:46:48.807449Z",
     "start_time": "2020-01-02T00:46:48.800454Z"
    },
    "colab": {},
    "colab_type": "code",
    "id": "8-jeCIU3ng5p",
    "outputId": "d949ca09-e438-413c-b1b3-665cfc3a67f3"
   },
   "outputs": [
    {
     "data": {
      "text/plain": [
       "[1, 2, 3, 4, 5, 8, 9, 10, 11, 12]"
      ]
     },
     "execution_count": 16,
     "metadata": {},
     "output_type": "execute_result"
    }
   ],
   "source": [
    "sorted((data['Date'].dt.month).unique())"
   ]
  },
  {
   "cell_type": "markdown",
   "metadata": {
    "colab_type": "text",
    "id": "fYX1GfhDng5w"
   },
   "source": [
    "It can be seen here that 6 and 7 are missing."
   ]
  },
  {
   "cell_type": "markdown",
   "metadata": {
    "colab_type": "text",
    "id": "bTj1otNjng5y"
   },
   "source": [
    "> This means that no matches happen in June and July."
   ]
  },
  {
   "cell_type": "markdown",
   "metadata": {
    "colab_type": "text",
    "id": "1WRE1mpRng52"
   },
   "source": [
    "Therefore, we can consider that: "
   ]
  },
  {
   "cell_type": "markdown",
   "metadata": {
    "colab_type": "text",
    "id": "yJQYMYj4ng54"
   },
   "source": [
    "> Each Season starts from __August to May__ and so we can deduce that the data covers __11 Seasons__"
   ]
  },
  {
   "cell_type": "markdown",
   "metadata": {
    "colab_type": "text",
    "id": "vdoOplO5ng55"
   },
   "source": [
    "### Number of Matches played by the teams"
   ]
  },
  {
   "cell_type": "markdown",
   "metadata": {
    "colab_type": "text",
    "id": "qhqm3fkZng59"
   },
   "source": [
    "A count of the occurances of each combination of Home and Away team allocation."
   ]
  },
  {
   "cell_type": "code",
   "execution_count": 17,
   "metadata": {
    "ExecuteTime": {
     "end_time": "2020-01-02T00:46:48.879408Z",
     "start_time": "2020-01-02T00:46:48.808449Z"
    },
    "colab": {},
    "colab_type": "code",
    "id": "5iUl783-ng5-",
    "outputId": "b1bfc8ea-21d9-45dc-a3fe-4f17c46c7e51"
   },
   "outputs": [
    {
     "data": {
      "text/html": [
       "<div>\n",
       "<style scoped>\n",
       "    .dataframe tbody tr th:only-of-type {\n",
       "        vertical-align: middle;\n",
       "    }\n",
       "\n",
       "    .dataframe tbody tr th {\n",
       "        vertical-align: top;\n",
       "    }\n",
       "\n",
       "    .dataframe thead th {\n",
       "        text-align: right;\n",
       "    }\n",
       "</style>\n",
       "<table border=\"1\" class=\"dataframe\">\n",
       "  <thead>\n",
       "    <tr style=\"text-align: right;\">\n",
       "      <th>AwayTeam</th>\n",
       "      <th>Arsenal</th>\n",
       "      <th>Aston Villa</th>\n",
       "      <th>Birmingham</th>\n",
       "      <th>Blackburn</th>\n",
       "      <th>Blackpool</th>\n",
       "      <th>Bolton</th>\n",
       "      <th>Bournemouth</th>\n",
       "      <th>Brighton</th>\n",
       "      <th>Burnley</th>\n",
       "      <th>Cardiff</th>\n",
       "      <th>Chelsea</th>\n",
       "      <th>Crystal Palace</th>\n",
       "      <th>Everton</th>\n",
       "      <th>Fulham</th>\n",
       "      <th>Huddersfield</th>\n",
       "      <th>Hull</th>\n",
       "      <th>Leicester</th>\n",
       "      <th>Liverpool</th>\n",
       "      <th>Man City</th>\n",
       "      <th>Man United</th>\n",
       "      <th>Middlesbrough</th>\n",
       "      <th>Newcastle</th>\n",
       "      <th>Norwich</th>\n",
       "      <th>Portsmouth</th>\n",
       "      <th>QPR</th>\n",
       "      <th>Reading</th>\n",
       "      <th>Southampton</th>\n",
       "      <th>Stoke</th>\n",
       "      <th>Sunderland</th>\n",
       "      <th>Swansea</th>\n",
       "      <th>Tottenham</th>\n",
       "      <th>Watford</th>\n",
       "      <th>West Brom</th>\n",
       "      <th>West Ham</th>\n",
       "      <th>Wigan</th>\n",
       "      <th>Wolves</th>\n",
       "    </tr>\n",
       "    <tr>\n",
       "      <th>HomeTeam</th>\n",
       "      <th></th>\n",
       "      <th></th>\n",
       "      <th></th>\n",
       "      <th></th>\n",
       "      <th></th>\n",
       "      <th></th>\n",
       "      <th></th>\n",
       "      <th></th>\n",
       "      <th></th>\n",
       "      <th></th>\n",
       "      <th></th>\n",
       "      <th></th>\n",
       "      <th></th>\n",
       "      <th></th>\n",
       "      <th></th>\n",
       "      <th></th>\n",
       "      <th></th>\n",
       "      <th></th>\n",
       "      <th></th>\n",
       "      <th></th>\n",
       "      <th></th>\n",
       "      <th></th>\n",
       "      <th></th>\n",
       "      <th></th>\n",
       "      <th></th>\n",
       "      <th></th>\n",
       "      <th></th>\n",
       "      <th></th>\n",
       "      <th></th>\n",
       "      <th></th>\n",
       "      <th></th>\n",
       "      <th></th>\n",
       "      <th></th>\n",
       "      <th></th>\n",
       "      <th></th>\n",
       "      <th></th>\n",
       "    </tr>\n",
       "  </thead>\n",
       "  <tbody>\n",
       "    <tr>\n",
       "      <th>Arsenal</th>\n",
       "      <td>NaN</td>\n",
       "      <td>8.0</td>\n",
       "      <td>2.0</td>\n",
       "      <td>4.0</td>\n",
       "      <td>1.0</td>\n",
       "      <td>4.0</td>\n",
       "      <td>4.0</td>\n",
       "      <td>2.0</td>\n",
       "      <td>5.0</td>\n",
       "      <td>2.0</td>\n",
       "      <td>11.0</td>\n",
       "      <td>6.0</td>\n",
       "      <td>11.0</td>\n",
       "      <td>7.0</td>\n",
       "      <td>2.0</td>\n",
       "      <td>5.0</td>\n",
       "      <td>5.0</td>\n",
       "      <td>11.0</td>\n",
       "      <td>11.0</td>\n",
       "      <td>11.0</td>\n",
       "      <td>2.0</td>\n",
       "      <td>9.0</td>\n",
       "      <td>4.0</td>\n",
       "      <td>2.0</td>\n",
       "      <td>3.0</td>\n",
       "      <td>1.0</td>\n",
       "      <td>7.0</td>\n",
       "      <td>10.0</td>\n",
       "      <td>9.0</td>\n",
       "      <td>7.0</td>\n",
       "      <td>11.0</td>\n",
       "      <td>4.0</td>\n",
       "      <td>9.0</td>\n",
       "      <td>10.0</td>\n",
       "      <td>5.0</td>\n",
       "      <td>4.0</td>\n",
       "    </tr>\n",
       "    <tr>\n",
       "      <th>Aston Villa</th>\n",
       "      <td>8.0</td>\n",
       "      <td>NaN</td>\n",
       "      <td>2.0</td>\n",
       "      <td>4.0</td>\n",
       "      <td>1.0</td>\n",
       "      <td>4.0</td>\n",
       "      <td>1.0</td>\n",
       "      <td>NaN</td>\n",
       "      <td>2.0</td>\n",
       "      <td>1.0</td>\n",
       "      <td>8.0</td>\n",
       "      <td>3.0</td>\n",
       "      <td>8.0</td>\n",
       "      <td>6.0</td>\n",
       "      <td>NaN</td>\n",
       "      <td>4.0</td>\n",
       "      <td>2.0</td>\n",
       "      <td>8.0</td>\n",
       "      <td>8.0</td>\n",
       "      <td>8.0</td>\n",
       "      <td>1.0</td>\n",
       "      <td>7.0</td>\n",
       "      <td>4.0</td>\n",
       "      <td>2.0</td>\n",
       "      <td>3.0</td>\n",
       "      <td>1.0</td>\n",
       "      <td>4.0</td>\n",
       "      <td>8.0</td>\n",
       "      <td>8.0</td>\n",
       "      <td>5.0</td>\n",
       "      <td>8.0</td>\n",
       "      <td>1.0</td>\n",
       "      <td>7.0</td>\n",
       "      <td>7.0</td>\n",
       "      <td>5.0</td>\n",
       "      <td>3.0</td>\n",
       "    </tr>\n",
       "    <tr>\n",
       "      <th>Birmingham</th>\n",
       "      <td>2.0</td>\n",
       "      <td>2.0</td>\n",
       "      <td>NaN</td>\n",
       "      <td>2.0</td>\n",
       "      <td>1.0</td>\n",
       "      <td>2.0</td>\n",
       "      <td>NaN</td>\n",
       "      <td>NaN</td>\n",
       "      <td>1.0</td>\n",
       "      <td>NaN</td>\n",
       "      <td>2.0</td>\n",
       "      <td>NaN</td>\n",
       "      <td>2.0</td>\n",
       "      <td>2.0</td>\n",
       "      <td>NaN</td>\n",
       "      <td>1.0</td>\n",
       "      <td>NaN</td>\n",
       "      <td>2.0</td>\n",
       "      <td>2.0</td>\n",
       "      <td>2.0</td>\n",
       "      <td>NaN</td>\n",
       "      <td>1.0</td>\n",
       "      <td>NaN</td>\n",
       "      <td>1.0</td>\n",
       "      <td>NaN</td>\n",
       "      <td>NaN</td>\n",
       "      <td>NaN</td>\n",
       "      <td>2.0</td>\n",
       "      <td>2.0</td>\n",
       "      <td>NaN</td>\n",
       "      <td>2.0</td>\n",
       "      <td>NaN</td>\n",
       "      <td>1.0</td>\n",
       "      <td>2.0</td>\n",
       "      <td>2.0</td>\n",
       "      <td>2.0</td>\n",
       "    </tr>\n",
       "    <tr>\n",
       "      <th>Blackburn</th>\n",
       "      <td>4.0</td>\n",
       "      <td>4.0</td>\n",
       "      <td>2.0</td>\n",
       "      <td>NaN</td>\n",
       "      <td>1.0</td>\n",
       "      <td>4.0</td>\n",
       "      <td>NaN</td>\n",
       "      <td>NaN</td>\n",
       "      <td>1.0</td>\n",
       "      <td>NaN</td>\n",
       "      <td>4.0</td>\n",
       "      <td>NaN</td>\n",
       "      <td>4.0</td>\n",
       "      <td>4.0</td>\n",
       "      <td>NaN</td>\n",
       "      <td>2.0</td>\n",
       "      <td>NaN</td>\n",
       "      <td>4.0</td>\n",
       "      <td>4.0</td>\n",
       "      <td>4.0</td>\n",
       "      <td>1.0</td>\n",
       "      <td>3.0</td>\n",
       "      <td>1.0</td>\n",
       "      <td>2.0</td>\n",
       "      <td>1.0</td>\n",
       "      <td>NaN</td>\n",
       "      <td>NaN</td>\n",
       "      <td>4.0</td>\n",
       "      <td>4.0</td>\n",
       "      <td>1.0</td>\n",
       "      <td>4.0</td>\n",
       "      <td>NaN</td>\n",
       "      <td>3.0</td>\n",
       "      <td>3.0</td>\n",
       "      <td>4.0</td>\n",
       "      <td>3.0</td>\n",
       "    </tr>\n",
       "    <tr>\n",
       "      <th>Blackpool</th>\n",
       "      <td>1.0</td>\n",
       "      <td>1.0</td>\n",
       "      <td>1.0</td>\n",
       "      <td>1.0</td>\n",
       "      <td>NaN</td>\n",
       "      <td>1.0</td>\n",
       "      <td>NaN</td>\n",
       "      <td>NaN</td>\n",
       "      <td>NaN</td>\n",
       "      <td>NaN</td>\n",
       "      <td>1.0</td>\n",
       "      <td>NaN</td>\n",
       "      <td>1.0</td>\n",
       "      <td>1.0</td>\n",
       "      <td>NaN</td>\n",
       "      <td>NaN</td>\n",
       "      <td>NaN</td>\n",
       "      <td>1.0</td>\n",
       "      <td>1.0</td>\n",
       "      <td>1.0</td>\n",
       "      <td>NaN</td>\n",
       "      <td>1.0</td>\n",
       "      <td>NaN</td>\n",
       "      <td>NaN</td>\n",
       "      <td>NaN</td>\n",
       "      <td>NaN</td>\n",
       "      <td>NaN</td>\n",
       "      <td>1.0</td>\n",
       "      <td>1.0</td>\n",
       "      <td>NaN</td>\n",
       "      <td>1.0</td>\n",
       "      <td>NaN</td>\n",
       "      <td>1.0</td>\n",
       "      <td>1.0</td>\n",
       "      <td>1.0</td>\n",
       "      <td>1.0</td>\n",
       "    </tr>\n",
       "    <tr>\n",
       "      <th>Bolton</th>\n",
       "      <td>4.0</td>\n",
       "      <td>4.0</td>\n",
       "      <td>2.0</td>\n",
       "      <td>4.0</td>\n",
       "      <td>1.0</td>\n",
       "      <td>NaN</td>\n",
       "      <td>NaN</td>\n",
       "      <td>NaN</td>\n",
       "      <td>1.0</td>\n",
       "      <td>NaN</td>\n",
       "      <td>4.0</td>\n",
       "      <td>NaN</td>\n",
       "      <td>4.0</td>\n",
       "      <td>4.0</td>\n",
       "      <td>NaN</td>\n",
       "      <td>2.0</td>\n",
       "      <td>NaN</td>\n",
       "      <td>4.0</td>\n",
       "      <td>4.0</td>\n",
       "      <td>4.0</td>\n",
       "      <td>1.0</td>\n",
       "      <td>3.0</td>\n",
       "      <td>1.0</td>\n",
       "      <td>2.0</td>\n",
       "      <td>1.0</td>\n",
       "      <td>NaN</td>\n",
       "      <td>NaN</td>\n",
       "      <td>4.0</td>\n",
       "      <td>4.0</td>\n",
       "      <td>1.0</td>\n",
       "      <td>4.0</td>\n",
       "      <td>NaN</td>\n",
       "      <td>3.0</td>\n",
       "      <td>3.0</td>\n",
       "      <td>4.0</td>\n",
       "      <td>3.0</td>\n",
       "    </tr>\n",
       "    <tr>\n",
       "      <th>Bournemouth</th>\n",
       "      <td>4.0</td>\n",
       "      <td>1.0</td>\n",
       "      <td>NaN</td>\n",
       "      <td>NaN</td>\n",
       "      <td>NaN</td>\n",
       "      <td>NaN</td>\n",
       "      <td>NaN</td>\n",
       "      <td>2.0</td>\n",
       "      <td>3.0</td>\n",
       "      <td>1.0</td>\n",
       "      <td>4.0</td>\n",
       "      <td>4.0</td>\n",
       "      <td>4.0</td>\n",
       "      <td>1.0</td>\n",
       "      <td>2.0</td>\n",
       "      <td>1.0</td>\n",
       "      <td>4.0</td>\n",
       "      <td>4.0</td>\n",
       "      <td>4.0</td>\n",
       "      <td>4.0</td>\n",
       "      <td>1.0</td>\n",
       "      <td>3.0</td>\n",
       "      <td>1.0</td>\n",
       "      <td>NaN</td>\n",
       "      <td>NaN</td>\n",
       "      <td>NaN</td>\n",
       "      <td>4.0</td>\n",
       "      <td>3.0</td>\n",
       "      <td>2.0</td>\n",
       "      <td>3.0</td>\n",
       "      <td>4.0</td>\n",
       "      <td>4.0</td>\n",
       "      <td>3.0</td>\n",
       "      <td>4.0</td>\n",
       "      <td>NaN</td>\n",
       "      <td>1.0</td>\n",
       "    </tr>\n",
       "    <tr>\n",
       "      <th>Brighton</th>\n",
       "      <td>2.0</td>\n",
       "      <td>NaN</td>\n",
       "      <td>NaN</td>\n",
       "      <td>NaN</td>\n",
       "      <td>NaN</td>\n",
       "      <td>NaN</td>\n",
       "      <td>2.0</td>\n",
       "      <td>NaN</td>\n",
       "      <td>2.0</td>\n",
       "      <td>1.0</td>\n",
       "      <td>2.0</td>\n",
       "      <td>2.0</td>\n",
       "      <td>2.0</td>\n",
       "      <td>1.0</td>\n",
       "      <td>2.0</td>\n",
       "      <td>NaN</td>\n",
       "      <td>2.0</td>\n",
       "      <td>2.0</td>\n",
       "      <td>2.0</td>\n",
       "      <td>2.0</td>\n",
       "      <td>NaN</td>\n",
       "      <td>2.0</td>\n",
       "      <td>NaN</td>\n",
       "      <td>NaN</td>\n",
       "      <td>NaN</td>\n",
       "      <td>NaN</td>\n",
       "      <td>2.0</td>\n",
       "      <td>1.0</td>\n",
       "      <td>NaN</td>\n",
       "      <td>1.0</td>\n",
       "      <td>2.0</td>\n",
       "      <td>2.0</td>\n",
       "      <td>1.0</td>\n",
       "      <td>2.0</td>\n",
       "      <td>NaN</td>\n",
       "      <td>1.0</td>\n",
       "    </tr>\n",
       "    <tr>\n",
       "      <th>Burnley</th>\n",
       "      <td>5.0</td>\n",
       "      <td>2.0</td>\n",
       "      <td>1.0</td>\n",
       "      <td>1.0</td>\n",
       "      <td>NaN</td>\n",
       "      <td>1.0</td>\n",
       "      <td>3.0</td>\n",
       "      <td>2.0</td>\n",
       "      <td>NaN</td>\n",
       "      <td>1.0</td>\n",
       "      <td>5.0</td>\n",
       "      <td>4.0</td>\n",
       "      <td>5.0</td>\n",
       "      <td>2.0</td>\n",
       "      <td>2.0</td>\n",
       "      <td>3.0</td>\n",
       "      <td>4.0</td>\n",
       "      <td>5.0</td>\n",
       "      <td>5.0</td>\n",
       "      <td>5.0</td>\n",
       "      <td>1.0</td>\n",
       "      <td>3.0</td>\n",
       "      <td>NaN</td>\n",
       "      <td>1.0</td>\n",
       "      <td>1.0</td>\n",
       "      <td>NaN</td>\n",
       "      <td>4.0</td>\n",
       "      <td>4.0</td>\n",
       "      <td>3.0</td>\n",
       "      <td>3.0</td>\n",
       "      <td>5.0</td>\n",
       "      <td>3.0</td>\n",
       "      <td>3.0</td>\n",
       "      <td>5.0</td>\n",
       "      <td>1.0</td>\n",
       "      <td>2.0</td>\n",
       "    </tr>\n",
       "    <tr>\n",
       "      <th>Cardiff</th>\n",
       "      <td>2.0</td>\n",
       "      <td>1.0</td>\n",
       "      <td>NaN</td>\n",
       "      <td>NaN</td>\n",
       "      <td>NaN</td>\n",
       "      <td>NaN</td>\n",
       "      <td>1.0</td>\n",
       "      <td>1.0</td>\n",
       "      <td>1.0</td>\n",
       "      <td>NaN</td>\n",
       "      <td>2.0</td>\n",
       "      <td>2.0</td>\n",
       "      <td>2.0</td>\n",
       "      <td>2.0</td>\n",
       "      <td>1.0</td>\n",
       "      <td>1.0</td>\n",
       "      <td>1.0</td>\n",
       "      <td>2.0</td>\n",
       "      <td>2.0</td>\n",
       "      <td>2.0</td>\n",
       "      <td>NaN</td>\n",
       "      <td>2.0</td>\n",
       "      <td>1.0</td>\n",
       "      <td>NaN</td>\n",
       "      <td>NaN</td>\n",
       "      <td>NaN</td>\n",
       "      <td>2.0</td>\n",
       "      <td>1.0</td>\n",
       "      <td>1.0</td>\n",
       "      <td>1.0</td>\n",
       "      <td>2.0</td>\n",
       "      <td>1.0</td>\n",
       "      <td>1.0</td>\n",
       "      <td>2.0</td>\n",
       "      <td>NaN</td>\n",
       "      <td>1.0</td>\n",
       "    </tr>\n",
       "    <tr>\n",
       "      <th>Chelsea</th>\n",
       "      <td>11.0</td>\n",
       "      <td>8.0</td>\n",
       "      <td>2.0</td>\n",
       "      <td>4.0</td>\n",
       "      <td>1.0</td>\n",
       "      <td>4.0</td>\n",
       "      <td>4.0</td>\n",
       "      <td>2.0</td>\n",
       "      <td>5.0</td>\n",
       "      <td>2.0</td>\n",
       "      <td>NaN</td>\n",
       "      <td>6.0</td>\n",
       "      <td>11.0</td>\n",
       "      <td>7.0</td>\n",
       "      <td>2.0</td>\n",
       "      <td>5.0</td>\n",
       "      <td>5.0</td>\n",
       "      <td>11.0</td>\n",
       "      <td>11.0</td>\n",
       "      <td>11.0</td>\n",
       "      <td>2.0</td>\n",
       "      <td>9.0</td>\n",
       "      <td>4.0</td>\n",
       "      <td>2.0</td>\n",
       "      <td>3.0</td>\n",
       "      <td>1.0</td>\n",
       "      <td>7.0</td>\n",
       "      <td>10.0</td>\n",
       "      <td>9.0</td>\n",
       "      <td>7.0</td>\n",
       "      <td>11.0</td>\n",
       "      <td>4.0</td>\n",
       "      <td>9.0</td>\n",
       "      <td>10.0</td>\n",
       "      <td>5.0</td>\n",
       "      <td>4.0</td>\n",
       "    </tr>\n",
       "    <tr>\n",
       "      <th>Crystal Palace</th>\n",
       "      <td>6.0</td>\n",
       "      <td>3.0</td>\n",
       "      <td>NaN</td>\n",
       "      <td>NaN</td>\n",
       "      <td>NaN</td>\n",
       "      <td>NaN</td>\n",
       "      <td>4.0</td>\n",
       "      <td>2.0</td>\n",
       "      <td>4.0</td>\n",
       "      <td>2.0</td>\n",
       "      <td>6.0</td>\n",
       "      <td>NaN</td>\n",
       "      <td>6.0</td>\n",
       "      <td>2.0</td>\n",
       "      <td>2.0</td>\n",
       "      <td>3.0</td>\n",
       "      <td>5.0</td>\n",
       "      <td>6.0</td>\n",
       "      <td>6.0</td>\n",
       "      <td>6.0</td>\n",
       "      <td>1.0</td>\n",
       "      <td>5.0</td>\n",
       "      <td>2.0</td>\n",
       "      <td>NaN</td>\n",
       "      <td>1.0</td>\n",
       "      <td>NaN</td>\n",
       "      <td>6.0</td>\n",
       "      <td>5.0</td>\n",
       "      <td>4.0</td>\n",
       "      <td>5.0</td>\n",
       "      <td>6.0</td>\n",
       "      <td>4.0</td>\n",
       "      <td>5.0</td>\n",
       "      <td>6.0</td>\n",
       "      <td>NaN</td>\n",
       "      <td>1.0</td>\n",
       "    </tr>\n",
       "    <tr>\n",
       "      <th>Everton</th>\n",
       "      <td>11.0</td>\n",
       "      <td>8.0</td>\n",
       "      <td>2.0</td>\n",
       "      <td>4.0</td>\n",
       "      <td>1.0</td>\n",
       "      <td>4.0</td>\n",
       "      <td>4.0</td>\n",
       "      <td>2.0</td>\n",
       "      <td>5.0</td>\n",
       "      <td>2.0</td>\n",
       "      <td>11.0</td>\n",
       "      <td>6.0</td>\n",
       "      <td>NaN</td>\n",
       "      <td>7.0</td>\n",
       "      <td>2.0</td>\n",
       "      <td>5.0</td>\n",
       "      <td>5.0</td>\n",
       "      <td>11.0</td>\n",
       "      <td>11.0</td>\n",
       "      <td>11.0</td>\n",
       "      <td>2.0</td>\n",
       "      <td>9.0</td>\n",
       "      <td>4.0</td>\n",
       "      <td>2.0</td>\n",
       "      <td>3.0</td>\n",
       "      <td>1.0</td>\n",
       "      <td>7.0</td>\n",
       "      <td>10.0</td>\n",
       "      <td>9.0</td>\n",
       "      <td>7.0</td>\n",
       "      <td>11.0</td>\n",
       "      <td>4.0</td>\n",
       "      <td>9.0</td>\n",
       "      <td>10.0</td>\n",
       "      <td>5.0</td>\n",
       "      <td>4.0</td>\n",
       "    </tr>\n",
       "    <tr>\n",
       "      <th>Fulham</th>\n",
       "      <td>7.0</td>\n",
       "      <td>6.0</td>\n",
       "      <td>2.0</td>\n",
       "      <td>4.0</td>\n",
       "      <td>1.0</td>\n",
       "      <td>4.0</td>\n",
       "      <td>1.0</td>\n",
       "      <td>1.0</td>\n",
       "      <td>2.0</td>\n",
       "      <td>2.0</td>\n",
       "      <td>7.0</td>\n",
       "      <td>2.0</td>\n",
       "      <td>7.0</td>\n",
       "      <td>NaN</td>\n",
       "      <td>1.0</td>\n",
       "      <td>3.0</td>\n",
       "      <td>1.0</td>\n",
       "      <td>7.0</td>\n",
       "      <td>7.0</td>\n",
       "      <td>7.0</td>\n",
       "      <td>1.0</td>\n",
       "      <td>6.0</td>\n",
       "      <td>3.0</td>\n",
       "      <td>2.0</td>\n",
       "      <td>2.0</td>\n",
       "      <td>1.0</td>\n",
       "      <td>3.0</td>\n",
       "      <td>6.0</td>\n",
       "      <td>6.0</td>\n",
       "      <td>3.0</td>\n",
       "      <td>7.0</td>\n",
       "      <td>1.0</td>\n",
       "      <td>5.0</td>\n",
       "      <td>6.0</td>\n",
       "      <td>5.0</td>\n",
       "      <td>4.0</td>\n",
       "    </tr>\n",
       "    <tr>\n",
       "      <th>Huddersfield</th>\n",
       "      <td>2.0</td>\n",
       "      <td>NaN</td>\n",
       "      <td>NaN</td>\n",
       "      <td>NaN</td>\n",
       "      <td>NaN</td>\n",
       "      <td>NaN</td>\n",
       "      <td>2.0</td>\n",
       "      <td>2.0</td>\n",
       "      <td>2.0</td>\n",
       "      <td>1.0</td>\n",
       "      <td>2.0</td>\n",
       "      <td>2.0</td>\n",
       "      <td>2.0</td>\n",
       "      <td>1.0</td>\n",
       "      <td>NaN</td>\n",
       "      <td>NaN</td>\n",
       "      <td>2.0</td>\n",
       "      <td>2.0</td>\n",
       "      <td>2.0</td>\n",
       "      <td>2.0</td>\n",
       "      <td>NaN</td>\n",
       "      <td>2.0</td>\n",
       "      <td>NaN</td>\n",
       "      <td>NaN</td>\n",
       "      <td>NaN</td>\n",
       "      <td>NaN</td>\n",
       "      <td>2.0</td>\n",
       "      <td>1.0</td>\n",
       "      <td>NaN</td>\n",
       "      <td>1.0</td>\n",
       "      <td>2.0</td>\n",
       "      <td>2.0</td>\n",
       "      <td>1.0</td>\n",
       "      <td>2.0</td>\n",
       "      <td>NaN</td>\n",
       "      <td>1.0</td>\n",
       "    </tr>\n",
       "    <tr>\n",
       "      <th>Hull</th>\n",
       "      <td>5.0</td>\n",
       "      <td>4.0</td>\n",
       "      <td>1.0</td>\n",
       "      <td>2.0</td>\n",
       "      <td>NaN</td>\n",
       "      <td>2.0</td>\n",
       "      <td>1.0</td>\n",
       "      <td>NaN</td>\n",
       "      <td>3.0</td>\n",
       "      <td>1.0</td>\n",
       "      <td>5.0</td>\n",
       "      <td>3.0</td>\n",
       "      <td>5.0</td>\n",
       "      <td>3.0</td>\n",
       "      <td>NaN</td>\n",
       "      <td>NaN</td>\n",
       "      <td>2.0</td>\n",
       "      <td>5.0</td>\n",
       "      <td>5.0</td>\n",
       "      <td>5.0</td>\n",
       "      <td>2.0</td>\n",
       "      <td>3.0</td>\n",
       "      <td>1.0</td>\n",
       "      <td>2.0</td>\n",
       "      <td>1.0</td>\n",
       "      <td>NaN</td>\n",
       "      <td>3.0</td>\n",
       "      <td>5.0</td>\n",
       "      <td>5.0</td>\n",
       "      <td>3.0</td>\n",
       "      <td>5.0</td>\n",
       "      <td>1.0</td>\n",
       "      <td>4.0</td>\n",
       "      <td>5.0</td>\n",
       "      <td>2.0</td>\n",
       "      <td>1.0</td>\n",
       "    </tr>\n",
       "    <tr>\n",
       "      <th>Leicester</th>\n",
       "      <td>5.0</td>\n",
       "      <td>2.0</td>\n",
       "      <td>NaN</td>\n",
       "      <td>NaN</td>\n",
       "      <td>NaN</td>\n",
       "      <td>NaN</td>\n",
       "      <td>4.0</td>\n",
       "      <td>2.0</td>\n",
       "      <td>4.0</td>\n",
       "      <td>1.0</td>\n",
       "      <td>5.0</td>\n",
       "      <td>5.0</td>\n",
       "      <td>5.0</td>\n",
       "      <td>1.0</td>\n",
       "      <td>2.0</td>\n",
       "      <td>2.0</td>\n",
       "      <td>NaN</td>\n",
       "      <td>5.0</td>\n",
       "      <td>5.0</td>\n",
       "      <td>5.0</td>\n",
       "      <td>1.0</td>\n",
       "      <td>4.0</td>\n",
       "      <td>1.0</td>\n",
       "      <td>NaN</td>\n",
       "      <td>1.0</td>\n",
       "      <td>NaN</td>\n",
       "      <td>5.0</td>\n",
       "      <td>4.0</td>\n",
       "      <td>3.0</td>\n",
       "      <td>4.0</td>\n",
       "      <td>5.0</td>\n",
       "      <td>4.0</td>\n",
       "      <td>4.0</td>\n",
       "      <td>5.0</td>\n",
       "      <td>NaN</td>\n",
       "      <td>1.0</td>\n",
       "    </tr>\n",
       "    <tr>\n",
       "      <th>Liverpool</th>\n",
       "      <td>11.0</td>\n",
       "      <td>8.0</td>\n",
       "      <td>2.0</td>\n",
       "      <td>4.0</td>\n",
       "      <td>1.0</td>\n",
       "      <td>4.0</td>\n",
       "      <td>4.0</td>\n",
       "      <td>2.0</td>\n",
       "      <td>5.0</td>\n",
       "      <td>2.0</td>\n",
       "      <td>11.0</td>\n",
       "      <td>6.0</td>\n",
       "      <td>11.0</td>\n",
       "      <td>7.0</td>\n",
       "      <td>2.0</td>\n",
       "      <td>5.0</td>\n",
       "      <td>5.0</td>\n",
       "      <td>NaN</td>\n",
       "      <td>11.0</td>\n",
       "      <td>11.0</td>\n",
       "      <td>2.0</td>\n",
       "      <td>9.0</td>\n",
       "      <td>4.0</td>\n",
       "      <td>2.0</td>\n",
       "      <td>3.0</td>\n",
       "      <td>1.0</td>\n",
       "      <td>7.0</td>\n",
       "      <td>10.0</td>\n",
       "      <td>9.0</td>\n",
       "      <td>7.0</td>\n",
       "      <td>11.0</td>\n",
       "      <td>4.0</td>\n",
       "      <td>9.0</td>\n",
       "      <td>10.0</td>\n",
       "      <td>5.0</td>\n",
       "      <td>4.0</td>\n",
       "    </tr>\n",
       "    <tr>\n",
       "      <th>Man City</th>\n",
       "      <td>11.0</td>\n",
       "      <td>8.0</td>\n",
       "      <td>2.0</td>\n",
       "      <td>4.0</td>\n",
       "      <td>1.0</td>\n",
       "      <td>4.0</td>\n",
       "      <td>4.0</td>\n",
       "      <td>2.0</td>\n",
       "      <td>5.0</td>\n",
       "      <td>2.0</td>\n",
       "      <td>11.0</td>\n",
       "      <td>6.0</td>\n",
       "      <td>11.0</td>\n",
       "      <td>7.0</td>\n",
       "      <td>2.0</td>\n",
       "      <td>5.0</td>\n",
       "      <td>5.0</td>\n",
       "      <td>11.0</td>\n",
       "      <td>NaN</td>\n",
       "      <td>11.0</td>\n",
       "      <td>2.0</td>\n",
       "      <td>9.0</td>\n",
       "      <td>4.0</td>\n",
       "      <td>2.0</td>\n",
       "      <td>3.0</td>\n",
       "      <td>1.0</td>\n",
       "      <td>7.0</td>\n",
       "      <td>10.0</td>\n",
       "      <td>9.0</td>\n",
       "      <td>7.0</td>\n",
       "      <td>11.0</td>\n",
       "      <td>4.0</td>\n",
       "      <td>9.0</td>\n",
       "      <td>10.0</td>\n",
       "      <td>5.0</td>\n",
       "      <td>4.0</td>\n",
       "    </tr>\n",
       "    <tr>\n",
       "      <th>Man United</th>\n",
       "      <td>11.0</td>\n",
       "      <td>8.0</td>\n",
       "      <td>2.0</td>\n",
       "      <td>4.0</td>\n",
       "      <td>1.0</td>\n",
       "      <td>4.0</td>\n",
       "      <td>4.0</td>\n",
       "      <td>2.0</td>\n",
       "      <td>5.0</td>\n",
       "      <td>2.0</td>\n",
       "      <td>11.0</td>\n",
       "      <td>6.0</td>\n",
       "      <td>11.0</td>\n",
       "      <td>7.0</td>\n",
       "      <td>2.0</td>\n",
       "      <td>5.0</td>\n",
       "      <td>5.0</td>\n",
       "      <td>11.0</td>\n",
       "      <td>11.0</td>\n",
       "      <td>NaN</td>\n",
       "      <td>2.0</td>\n",
       "      <td>9.0</td>\n",
       "      <td>4.0</td>\n",
       "      <td>2.0</td>\n",
       "      <td>3.0</td>\n",
       "      <td>1.0</td>\n",
       "      <td>7.0</td>\n",
       "      <td>10.0</td>\n",
       "      <td>9.0</td>\n",
       "      <td>7.0</td>\n",
       "      <td>11.0</td>\n",
       "      <td>4.0</td>\n",
       "      <td>9.0</td>\n",
       "      <td>10.0</td>\n",
       "      <td>5.0</td>\n",
       "      <td>4.0</td>\n",
       "    </tr>\n",
       "    <tr>\n",
       "      <th>Middlesbrough</th>\n",
       "      <td>2.0</td>\n",
       "      <td>1.0</td>\n",
       "      <td>NaN</td>\n",
       "      <td>1.0</td>\n",
       "      <td>NaN</td>\n",
       "      <td>1.0</td>\n",
       "      <td>1.0</td>\n",
       "      <td>NaN</td>\n",
       "      <td>1.0</td>\n",
       "      <td>NaN</td>\n",
       "      <td>2.0</td>\n",
       "      <td>1.0</td>\n",
       "      <td>2.0</td>\n",
       "      <td>1.0</td>\n",
       "      <td>NaN</td>\n",
       "      <td>2.0</td>\n",
       "      <td>1.0</td>\n",
       "      <td>2.0</td>\n",
       "      <td>2.0</td>\n",
       "      <td>2.0</td>\n",
       "      <td>NaN</td>\n",
       "      <td>1.0</td>\n",
       "      <td>NaN</td>\n",
       "      <td>1.0</td>\n",
       "      <td>NaN</td>\n",
       "      <td>NaN</td>\n",
       "      <td>1.0</td>\n",
       "      <td>2.0</td>\n",
       "      <td>2.0</td>\n",
       "      <td>1.0</td>\n",
       "      <td>2.0</td>\n",
       "      <td>1.0</td>\n",
       "      <td>2.0</td>\n",
       "      <td>2.0</td>\n",
       "      <td>1.0</td>\n",
       "      <td>NaN</td>\n",
       "    </tr>\n",
       "    <tr>\n",
       "      <th>Newcastle</th>\n",
       "      <td>9.0</td>\n",
       "      <td>7.0</td>\n",
       "      <td>1.0</td>\n",
       "      <td>3.0</td>\n",
       "      <td>1.0</td>\n",
       "      <td>3.0</td>\n",
       "      <td>3.0</td>\n",
       "      <td>2.0</td>\n",
       "      <td>3.0</td>\n",
       "      <td>2.0</td>\n",
       "      <td>9.0</td>\n",
       "      <td>5.0</td>\n",
       "      <td>9.0</td>\n",
       "      <td>6.0</td>\n",
       "      <td>2.0</td>\n",
       "      <td>3.0</td>\n",
       "      <td>4.0</td>\n",
       "      <td>9.0</td>\n",
       "      <td>9.0</td>\n",
       "      <td>9.0</td>\n",
       "      <td>1.0</td>\n",
       "      <td>NaN</td>\n",
       "      <td>4.0</td>\n",
       "      <td>1.0</td>\n",
       "      <td>3.0</td>\n",
       "      <td>1.0</td>\n",
       "      <td>6.0</td>\n",
       "      <td>8.0</td>\n",
       "      <td>7.0</td>\n",
       "      <td>6.0</td>\n",
       "      <td>9.0</td>\n",
       "      <td>3.0</td>\n",
       "      <td>8.0</td>\n",
       "      <td>8.0</td>\n",
       "      <td>4.0</td>\n",
       "      <td>3.0</td>\n",
       "    </tr>\n",
       "    <tr>\n",
       "      <th>Norwich</th>\n",
       "      <td>4.0</td>\n",
       "      <td>4.0</td>\n",
       "      <td>NaN</td>\n",
       "      <td>1.0</td>\n",
       "      <td>NaN</td>\n",
       "      <td>1.0</td>\n",
       "      <td>1.0</td>\n",
       "      <td>NaN</td>\n",
       "      <td>NaN</td>\n",
       "      <td>1.0</td>\n",
       "      <td>4.0</td>\n",
       "      <td>2.0</td>\n",
       "      <td>4.0</td>\n",
       "      <td>3.0</td>\n",
       "      <td>NaN</td>\n",
       "      <td>1.0</td>\n",
       "      <td>1.0</td>\n",
       "      <td>4.0</td>\n",
       "      <td>4.0</td>\n",
       "      <td>4.0</td>\n",
       "      <td>NaN</td>\n",
       "      <td>4.0</td>\n",
       "      <td>NaN</td>\n",
       "      <td>NaN</td>\n",
       "      <td>2.0</td>\n",
       "      <td>1.0</td>\n",
       "      <td>3.0</td>\n",
       "      <td>4.0</td>\n",
       "      <td>4.0</td>\n",
       "      <td>4.0</td>\n",
       "      <td>4.0</td>\n",
       "      <td>1.0</td>\n",
       "      <td>4.0</td>\n",
       "      <td>3.0</td>\n",
       "      <td>2.0</td>\n",
       "      <td>1.0</td>\n",
       "    </tr>\n",
       "    <tr>\n",
       "      <th>Portsmouth</th>\n",
       "      <td>2.0</td>\n",
       "      <td>2.0</td>\n",
       "      <td>1.0</td>\n",
       "      <td>2.0</td>\n",
       "      <td>NaN</td>\n",
       "      <td>2.0</td>\n",
       "      <td>NaN</td>\n",
       "      <td>NaN</td>\n",
       "      <td>1.0</td>\n",
       "      <td>NaN</td>\n",
       "      <td>2.0</td>\n",
       "      <td>NaN</td>\n",
       "      <td>2.0</td>\n",
       "      <td>2.0</td>\n",
       "      <td>NaN</td>\n",
       "      <td>2.0</td>\n",
       "      <td>NaN</td>\n",
       "      <td>2.0</td>\n",
       "      <td>2.0</td>\n",
       "      <td>2.0</td>\n",
       "      <td>1.0</td>\n",
       "      <td>1.0</td>\n",
       "      <td>NaN</td>\n",
       "      <td>NaN</td>\n",
       "      <td>NaN</td>\n",
       "      <td>NaN</td>\n",
       "      <td>NaN</td>\n",
       "      <td>2.0</td>\n",
       "      <td>2.0</td>\n",
       "      <td>NaN</td>\n",
       "      <td>2.0</td>\n",
       "      <td>NaN</td>\n",
       "      <td>1.0</td>\n",
       "      <td>2.0</td>\n",
       "      <td>2.0</td>\n",
       "      <td>1.0</td>\n",
       "    </tr>\n",
       "    <tr>\n",
       "      <th>QPR</th>\n",
       "      <td>3.0</td>\n",
       "      <td>3.0</td>\n",
       "      <td>NaN</td>\n",
       "      <td>1.0</td>\n",
       "      <td>NaN</td>\n",
       "      <td>1.0</td>\n",
       "      <td>NaN</td>\n",
       "      <td>NaN</td>\n",
       "      <td>1.0</td>\n",
       "      <td>NaN</td>\n",
       "      <td>3.0</td>\n",
       "      <td>1.0</td>\n",
       "      <td>3.0</td>\n",
       "      <td>2.0</td>\n",
       "      <td>NaN</td>\n",
       "      <td>1.0</td>\n",
       "      <td>1.0</td>\n",
       "      <td>3.0</td>\n",
       "      <td>3.0</td>\n",
       "      <td>3.0</td>\n",
       "      <td>NaN</td>\n",
       "      <td>3.0</td>\n",
       "      <td>2.0</td>\n",
       "      <td>NaN</td>\n",
       "      <td>NaN</td>\n",
       "      <td>1.0</td>\n",
       "      <td>2.0</td>\n",
       "      <td>3.0</td>\n",
       "      <td>3.0</td>\n",
       "      <td>3.0</td>\n",
       "      <td>3.0</td>\n",
       "      <td>NaN</td>\n",
       "      <td>3.0</td>\n",
       "      <td>2.0</td>\n",
       "      <td>2.0</td>\n",
       "      <td>1.0</td>\n",
       "    </tr>\n",
       "    <tr>\n",
       "      <th>Reading</th>\n",
       "      <td>1.0</td>\n",
       "      <td>1.0</td>\n",
       "      <td>NaN</td>\n",
       "      <td>NaN</td>\n",
       "      <td>NaN</td>\n",
       "      <td>NaN</td>\n",
       "      <td>NaN</td>\n",
       "      <td>NaN</td>\n",
       "      <td>NaN</td>\n",
       "      <td>NaN</td>\n",
       "      <td>1.0</td>\n",
       "      <td>NaN</td>\n",
       "      <td>1.0</td>\n",
       "      <td>1.0</td>\n",
       "      <td>NaN</td>\n",
       "      <td>NaN</td>\n",
       "      <td>NaN</td>\n",
       "      <td>1.0</td>\n",
       "      <td>1.0</td>\n",
       "      <td>1.0</td>\n",
       "      <td>NaN</td>\n",
       "      <td>1.0</td>\n",
       "      <td>1.0</td>\n",
       "      <td>NaN</td>\n",
       "      <td>1.0</td>\n",
       "      <td>NaN</td>\n",
       "      <td>1.0</td>\n",
       "      <td>1.0</td>\n",
       "      <td>1.0</td>\n",
       "      <td>1.0</td>\n",
       "      <td>1.0</td>\n",
       "      <td>NaN</td>\n",
       "      <td>1.0</td>\n",
       "      <td>1.0</td>\n",
       "      <td>1.0</td>\n",
       "      <td>NaN</td>\n",
       "    </tr>\n",
       "    <tr>\n",
       "      <th>Southampton</th>\n",
       "      <td>7.0</td>\n",
       "      <td>4.0</td>\n",
       "      <td>NaN</td>\n",
       "      <td>NaN</td>\n",
       "      <td>NaN</td>\n",
       "      <td>NaN</td>\n",
       "      <td>4.0</td>\n",
       "      <td>2.0</td>\n",
       "      <td>4.0</td>\n",
       "      <td>2.0</td>\n",
       "      <td>7.0</td>\n",
       "      <td>6.0</td>\n",
       "      <td>7.0</td>\n",
       "      <td>3.0</td>\n",
       "      <td>2.0</td>\n",
       "      <td>3.0</td>\n",
       "      <td>5.0</td>\n",
       "      <td>7.0</td>\n",
       "      <td>7.0</td>\n",
       "      <td>7.0</td>\n",
       "      <td>1.0</td>\n",
       "      <td>6.0</td>\n",
       "      <td>3.0</td>\n",
       "      <td>NaN</td>\n",
       "      <td>2.0</td>\n",
       "      <td>1.0</td>\n",
       "      <td>NaN</td>\n",
       "      <td>6.0</td>\n",
       "      <td>5.0</td>\n",
       "      <td>6.0</td>\n",
       "      <td>7.0</td>\n",
       "      <td>4.0</td>\n",
       "      <td>6.0</td>\n",
       "      <td>7.0</td>\n",
       "      <td>1.0</td>\n",
       "      <td>1.0</td>\n",
       "    </tr>\n",
       "    <tr>\n",
       "      <th>Stoke</th>\n",
       "      <td>10.0</td>\n",
       "      <td>8.0</td>\n",
       "      <td>2.0</td>\n",
       "      <td>4.0</td>\n",
       "      <td>1.0</td>\n",
       "      <td>4.0</td>\n",
       "      <td>3.0</td>\n",
       "      <td>1.0</td>\n",
       "      <td>4.0</td>\n",
       "      <td>1.0</td>\n",
       "      <td>10.0</td>\n",
       "      <td>5.0</td>\n",
       "      <td>10.0</td>\n",
       "      <td>6.0</td>\n",
       "      <td>1.0</td>\n",
       "      <td>5.0</td>\n",
       "      <td>4.0</td>\n",
       "      <td>10.0</td>\n",
       "      <td>10.0</td>\n",
       "      <td>10.0</td>\n",
       "      <td>2.0</td>\n",
       "      <td>8.0</td>\n",
       "      <td>4.0</td>\n",
       "      <td>2.0</td>\n",
       "      <td>3.0</td>\n",
       "      <td>1.0</td>\n",
       "      <td>6.0</td>\n",
       "      <td>NaN</td>\n",
       "      <td>9.0</td>\n",
       "      <td>7.0</td>\n",
       "      <td>10.0</td>\n",
       "      <td>3.0</td>\n",
       "      <td>9.0</td>\n",
       "      <td>9.0</td>\n",
       "      <td>5.0</td>\n",
       "      <td>3.0</td>\n",
       "    </tr>\n",
       "    <tr>\n",
       "      <th>Sunderland</th>\n",
       "      <td>9.0</td>\n",
       "      <td>8.0</td>\n",
       "      <td>2.0</td>\n",
       "      <td>4.0</td>\n",
       "      <td>1.0</td>\n",
       "      <td>4.0</td>\n",
       "      <td>2.0</td>\n",
       "      <td>NaN</td>\n",
       "      <td>3.0</td>\n",
       "      <td>1.0</td>\n",
       "      <td>9.0</td>\n",
       "      <td>4.0</td>\n",
       "      <td>9.0</td>\n",
       "      <td>6.0</td>\n",
       "      <td>NaN</td>\n",
       "      <td>5.0</td>\n",
       "      <td>3.0</td>\n",
       "      <td>9.0</td>\n",
       "      <td>9.0</td>\n",
       "      <td>9.0</td>\n",
       "      <td>2.0</td>\n",
       "      <td>7.0</td>\n",
       "      <td>4.0</td>\n",
       "      <td>2.0</td>\n",
       "      <td>3.0</td>\n",
       "      <td>1.0</td>\n",
       "      <td>5.0</td>\n",
       "      <td>9.0</td>\n",
       "      <td>NaN</td>\n",
       "      <td>6.0</td>\n",
       "      <td>9.0</td>\n",
       "      <td>2.0</td>\n",
       "      <td>8.0</td>\n",
       "      <td>8.0</td>\n",
       "      <td>5.0</td>\n",
       "      <td>3.0</td>\n",
       "    </tr>\n",
       "    <tr>\n",
       "      <th>Swansea</th>\n",
       "      <td>7.0</td>\n",
       "      <td>5.0</td>\n",
       "      <td>NaN</td>\n",
       "      <td>1.0</td>\n",
       "      <td>NaN</td>\n",
       "      <td>1.0</td>\n",
       "      <td>3.0</td>\n",
       "      <td>1.0</td>\n",
       "      <td>3.0</td>\n",
       "      <td>1.0</td>\n",
       "      <td>7.0</td>\n",
       "      <td>5.0</td>\n",
       "      <td>7.0</td>\n",
       "      <td>3.0</td>\n",
       "      <td>1.0</td>\n",
       "      <td>3.0</td>\n",
       "      <td>4.0</td>\n",
       "      <td>7.0</td>\n",
       "      <td>7.0</td>\n",
       "      <td>7.0</td>\n",
       "      <td>1.0</td>\n",
       "      <td>6.0</td>\n",
       "      <td>4.0</td>\n",
       "      <td>NaN</td>\n",
       "      <td>3.0</td>\n",
       "      <td>1.0</td>\n",
       "      <td>6.0</td>\n",
       "      <td>7.0</td>\n",
       "      <td>6.0</td>\n",
       "      <td>NaN</td>\n",
       "      <td>7.0</td>\n",
       "      <td>3.0</td>\n",
       "      <td>7.0</td>\n",
       "      <td>6.0</td>\n",
       "      <td>2.0</td>\n",
       "      <td>1.0</td>\n",
       "    </tr>\n",
       "    <tr>\n",
       "      <th>Tottenham</th>\n",
       "      <td>11.0</td>\n",
       "      <td>8.0</td>\n",
       "      <td>2.0</td>\n",
       "      <td>4.0</td>\n",
       "      <td>1.0</td>\n",
       "      <td>4.0</td>\n",
       "      <td>4.0</td>\n",
       "      <td>2.0</td>\n",
       "      <td>5.0</td>\n",
       "      <td>2.0</td>\n",
       "      <td>11.0</td>\n",
       "      <td>6.0</td>\n",
       "      <td>11.0</td>\n",
       "      <td>7.0</td>\n",
       "      <td>2.0</td>\n",
       "      <td>5.0</td>\n",
       "      <td>5.0</td>\n",
       "      <td>11.0</td>\n",
       "      <td>11.0</td>\n",
       "      <td>11.0</td>\n",
       "      <td>2.0</td>\n",
       "      <td>9.0</td>\n",
       "      <td>4.0</td>\n",
       "      <td>2.0</td>\n",
       "      <td>3.0</td>\n",
       "      <td>1.0</td>\n",
       "      <td>7.0</td>\n",
       "      <td>10.0</td>\n",
       "      <td>9.0</td>\n",
       "      <td>7.0</td>\n",
       "      <td>NaN</td>\n",
       "      <td>4.0</td>\n",
       "      <td>9.0</td>\n",
       "      <td>10.0</td>\n",
       "      <td>5.0</td>\n",
       "      <td>4.0</td>\n",
       "    </tr>\n",
       "    <tr>\n",
       "      <th>Watford</th>\n",
       "      <td>4.0</td>\n",
       "      <td>1.0</td>\n",
       "      <td>NaN</td>\n",
       "      <td>NaN</td>\n",
       "      <td>NaN</td>\n",
       "      <td>NaN</td>\n",
       "      <td>4.0</td>\n",
       "      <td>2.0</td>\n",
       "      <td>3.0</td>\n",
       "      <td>1.0</td>\n",
       "      <td>4.0</td>\n",
       "      <td>4.0</td>\n",
       "      <td>4.0</td>\n",
       "      <td>1.0</td>\n",
       "      <td>2.0</td>\n",
       "      <td>1.0</td>\n",
       "      <td>4.0</td>\n",
       "      <td>4.0</td>\n",
       "      <td>4.0</td>\n",
       "      <td>4.0</td>\n",
       "      <td>1.0</td>\n",
       "      <td>3.0</td>\n",
       "      <td>1.0</td>\n",
       "      <td>NaN</td>\n",
       "      <td>NaN</td>\n",
       "      <td>NaN</td>\n",
       "      <td>4.0</td>\n",
       "      <td>3.0</td>\n",
       "      <td>2.0</td>\n",
       "      <td>3.0</td>\n",
       "      <td>4.0</td>\n",
       "      <td>NaN</td>\n",
       "      <td>3.0</td>\n",
       "      <td>4.0</td>\n",
       "      <td>NaN</td>\n",
       "      <td>1.0</td>\n",
       "    </tr>\n",
       "    <tr>\n",
       "      <th>West Brom</th>\n",
       "      <td>9.0</td>\n",
       "      <td>7.0</td>\n",
       "      <td>1.0</td>\n",
       "      <td>3.0</td>\n",
       "      <td>1.0</td>\n",
       "      <td>3.0</td>\n",
       "      <td>3.0</td>\n",
       "      <td>1.0</td>\n",
       "      <td>3.0</td>\n",
       "      <td>1.0</td>\n",
       "      <td>9.0</td>\n",
       "      <td>5.0</td>\n",
       "      <td>9.0</td>\n",
       "      <td>5.0</td>\n",
       "      <td>1.0</td>\n",
       "      <td>4.0</td>\n",
       "      <td>4.0</td>\n",
       "      <td>9.0</td>\n",
       "      <td>9.0</td>\n",
       "      <td>9.0</td>\n",
       "      <td>2.0</td>\n",
       "      <td>8.0</td>\n",
       "      <td>4.0</td>\n",
       "      <td>1.0</td>\n",
       "      <td>3.0</td>\n",
       "      <td>1.0</td>\n",
       "      <td>6.0</td>\n",
       "      <td>9.0</td>\n",
       "      <td>8.0</td>\n",
       "      <td>7.0</td>\n",
       "      <td>9.0</td>\n",
       "      <td>3.0</td>\n",
       "      <td>NaN</td>\n",
       "      <td>8.0</td>\n",
       "      <td>4.0</td>\n",
       "      <td>2.0</td>\n",
       "    </tr>\n",
       "    <tr>\n",
       "      <th>West Ham</th>\n",
       "      <td>10.0</td>\n",
       "      <td>7.0</td>\n",
       "      <td>2.0</td>\n",
       "      <td>3.0</td>\n",
       "      <td>1.0</td>\n",
       "      <td>3.0</td>\n",
       "      <td>4.0</td>\n",
       "      <td>2.0</td>\n",
       "      <td>5.0</td>\n",
       "      <td>2.0</td>\n",
       "      <td>10.0</td>\n",
       "      <td>6.0</td>\n",
       "      <td>10.0</td>\n",
       "      <td>6.0</td>\n",
       "      <td>2.0</td>\n",
       "      <td>5.0</td>\n",
       "      <td>5.0</td>\n",
       "      <td>10.0</td>\n",
       "      <td>10.0</td>\n",
       "      <td>10.0</td>\n",
       "      <td>2.0</td>\n",
       "      <td>8.0</td>\n",
       "      <td>3.0</td>\n",
       "      <td>2.0</td>\n",
       "      <td>2.0</td>\n",
       "      <td>1.0</td>\n",
       "      <td>7.0</td>\n",
       "      <td>9.0</td>\n",
       "      <td>8.0</td>\n",
       "      <td>6.0</td>\n",
       "      <td>10.0</td>\n",
       "      <td>4.0</td>\n",
       "      <td>8.0</td>\n",
       "      <td>NaN</td>\n",
       "      <td>4.0</td>\n",
       "      <td>3.0</td>\n",
       "    </tr>\n",
       "    <tr>\n",
       "      <th>Wigan</th>\n",
       "      <td>5.0</td>\n",
       "      <td>5.0</td>\n",
       "      <td>2.0</td>\n",
       "      <td>4.0</td>\n",
       "      <td>1.0</td>\n",
       "      <td>4.0</td>\n",
       "      <td>NaN</td>\n",
       "      <td>NaN</td>\n",
       "      <td>1.0</td>\n",
       "      <td>NaN</td>\n",
       "      <td>5.0</td>\n",
       "      <td>NaN</td>\n",
       "      <td>5.0</td>\n",
       "      <td>5.0</td>\n",
       "      <td>NaN</td>\n",
       "      <td>2.0</td>\n",
       "      <td>NaN</td>\n",
       "      <td>5.0</td>\n",
       "      <td>5.0</td>\n",
       "      <td>5.0</td>\n",
       "      <td>1.0</td>\n",
       "      <td>4.0</td>\n",
       "      <td>2.0</td>\n",
       "      <td>2.0</td>\n",
       "      <td>2.0</td>\n",
       "      <td>1.0</td>\n",
       "      <td>1.0</td>\n",
       "      <td>5.0</td>\n",
       "      <td>5.0</td>\n",
       "      <td>2.0</td>\n",
       "      <td>5.0</td>\n",
       "      <td>NaN</td>\n",
       "      <td>4.0</td>\n",
       "      <td>4.0</td>\n",
       "      <td>NaN</td>\n",
       "      <td>3.0</td>\n",
       "    </tr>\n",
       "    <tr>\n",
       "      <th>Wolves</th>\n",
       "      <td>4.0</td>\n",
       "      <td>3.0</td>\n",
       "      <td>2.0</td>\n",
       "      <td>3.0</td>\n",
       "      <td>1.0</td>\n",
       "      <td>3.0</td>\n",
       "      <td>1.0</td>\n",
       "      <td>1.0</td>\n",
       "      <td>2.0</td>\n",
       "      <td>1.0</td>\n",
       "      <td>4.0</td>\n",
       "      <td>1.0</td>\n",
       "      <td>4.0</td>\n",
       "      <td>4.0</td>\n",
       "      <td>1.0</td>\n",
       "      <td>1.0</td>\n",
       "      <td>1.0</td>\n",
       "      <td>4.0</td>\n",
       "      <td>4.0</td>\n",
       "      <td>4.0</td>\n",
       "      <td>NaN</td>\n",
       "      <td>3.0</td>\n",
       "      <td>1.0</td>\n",
       "      <td>1.0</td>\n",
       "      <td>1.0</td>\n",
       "      <td>NaN</td>\n",
       "      <td>1.0</td>\n",
       "      <td>3.0</td>\n",
       "      <td>3.0</td>\n",
       "      <td>1.0</td>\n",
       "      <td>4.0</td>\n",
       "      <td>1.0</td>\n",
       "      <td>2.0</td>\n",
       "      <td>3.0</td>\n",
       "      <td>3.0</td>\n",
       "      <td>NaN</td>\n",
       "    </tr>\n",
       "  </tbody>\n",
       "</table>\n",
       "</div>"
      ],
      "text/plain": [
       "AwayTeam        Arsenal  Aston Villa  Birmingham  Blackburn  Blackpool  \\\n",
       "HomeTeam                                                                 \n",
       "Arsenal             NaN          8.0         2.0        4.0        1.0   \n",
       "Aston Villa         8.0          NaN         2.0        4.0        1.0   \n",
       "Birmingham          2.0          2.0         NaN        2.0        1.0   \n",
       "Blackburn           4.0          4.0         2.0        NaN        1.0   \n",
       "Blackpool           1.0          1.0         1.0        1.0        NaN   \n",
       "Bolton              4.0          4.0         2.0        4.0        1.0   \n",
       "Bournemouth         4.0          1.0         NaN        NaN        NaN   \n",
       "Brighton            2.0          NaN         NaN        NaN        NaN   \n",
       "Burnley             5.0          2.0         1.0        1.0        NaN   \n",
       "Cardiff             2.0          1.0         NaN        NaN        NaN   \n",
       "Chelsea            11.0          8.0         2.0        4.0        1.0   \n",
       "Crystal Palace      6.0          3.0         NaN        NaN        NaN   \n",
       "Everton            11.0          8.0         2.0        4.0        1.0   \n",
       "Fulham              7.0          6.0         2.0        4.0        1.0   \n",
       "Huddersfield        2.0          NaN         NaN        NaN        NaN   \n",
       "Hull                5.0          4.0         1.0        2.0        NaN   \n",
       "Leicester           5.0          2.0         NaN        NaN        NaN   \n",
       "Liverpool          11.0          8.0         2.0        4.0        1.0   \n",
       "Man City           11.0          8.0         2.0        4.0        1.0   \n",
       "Man United         11.0          8.0         2.0        4.0        1.0   \n",
       "Middlesbrough       2.0          1.0         NaN        1.0        NaN   \n",
       "Newcastle           9.0          7.0         1.0        3.0        1.0   \n",
       "Norwich             4.0          4.0         NaN        1.0        NaN   \n",
       "Portsmouth          2.0          2.0         1.0        2.0        NaN   \n",
       "QPR                 3.0          3.0         NaN        1.0        NaN   \n",
       "Reading             1.0          1.0         NaN        NaN        NaN   \n",
       "Southampton         7.0          4.0         NaN        NaN        NaN   \n",
       "Stoke              10.0          8.0         2.0        4.0        1.0   \n",
       "Sunderland          9.0          8.0         2.0        4.0        1.0   \n",
       "Swansea             7.0          5.0         NaN        1.0        NaN   \n",
       "Tottenham          11.0          8.0         2.0        4.0        1.0   \n",
       "Watford             4.0          1.0         NaN        NaN        NaN   \n",
       "West Brom           9.0          7.0         1.0        3.0        1.0   \n",
       "West Ham           10.0          7.0         2.0        3.0        1.0   \n",
       "Wigan               5.0          5.0         2.0        4.0        1.0   \n",
       "Wolves              4.0          3.0         2.0        3.0        1.0   \n",
       "\n",
       "AwayTeam        Bolton  Bournemouth  Brighton  Burnley  Cardiff  Chelsea  \\\n",
       "HomeTeam                                                                   \n",
       "Arsenal            4.0          4.0       2.0      5.0      2.0     11.0   \n",
       "Aston Villa        4.0          1.0       NaN      2.0      1.0      8.0   \n",
       "Birmingham         2.0          NaN       NaN      1.0      NaN      2.0   \n",
       "Blackburn          4.0          NaN       NaN      1.0      NaN      4.0   \n",
       "Blackpool          1.0          NaN       NaN      NaN      NaN      1.0   \n",
       "Bolton             NaN          NaN       NaN      1.0      NaN      4.0   \n",
       "Bournemouth        NaN          NaN       2.0      3.0      1.0      4.0   \n",
       "Brighton           NaN          2.0       NaN      2.0      1.0      2.0   \n",
       "Burnley            1.0          3.0       2.0      NaN      1.0      5.0   \n",
       "Cardiff            NaN          1.0       1.0      1.0      NaN      2.0   \n",
       "Chelsea            4.0          4.0       2.0      5.0      2.0      NaN   \n",
       "Crystal Palace     NaN          4.0       2.0      4.0      2.0      6.0   \n",
       "Everton            4.0          4.0       2.0      5.0      2.0     11.0   \n",
       "Fulham             4.0          1.0       1.0      2.0      2.0      7.0   \n",
       "Huddersfield       NaN          2.0       2.0      2.0      1.0      2.0   \n",
       "Hull               2.0          1.0       NaN      3.0      1.0      5.0   \n",
       "Leicester          NaN          4.0       2.0      4.0      1.0      5.0   \n",
       "Liverpool          4.0          4.0       2.0      5.0      2.0     11.0   \n",
       "Man City           4.0          4.0       2.0      5.0      2.0     11.0   \n",
       "Man United         4.0          4.0       2.0      5.0      2.0     11.0   \n",
       "Middlesbrough      1.0          1.0       NaN      1.0      NaN      2.0   \n",
       "Newcastle          3.0          3.0       2.0      3.0      2.0      9.0   \n",
       "Norwich            1.0          1.0       NaN      NaN      1.0      4.0   \n",
       "Portsmouth         2.0          NaN       NaN      1.0      NaN      2.0   \n",
       "QPR                1.0          NaN       NaN      1.0      NaN      3.0   \n",
       "Reading            NaN          NaN       NaN      NaN      NaN      1.0   \n",
       "Southampton        NaN          4.0       2.0      4.0      2.0      7.0   \n",
       "Stoke              4.0          3.0       1.0      4.0      1.0     10.0   \n",
       "Sunderland         4.0          2.0       NaN      3.0      1.0      9.0   \n",
       "Swansea            1.0          3.0       1.0      3.0      1.0      7.0   \n",
       "Tottenham          4.0          4.0       2.0      5.0      2.0     11.0   \n",
       "Watford            NaN          4.0       2.0      3.0      1.0      4.0   \n",
       "West Brom          3.0          3.0       1.0      3.0      1.0      9.0   \n",
       "West Ham           3.0          4.0       2.0      5.0      2.0     10.0   \n",
       "Wigan              4.0          NaN       NaN      1.0      NaN      5.0   \n",
       "Wolves             3.0          1.0       1.0      2.0      1.0      4.0   \n",
       "\n",
       "AwayTeam        Crystal Palace  Everton  Fulham  Huddersfield  Hull  \\\n",
       "HomeTeam                                                              \n",
       "Arsenal                    6.0     11.0     7.0           2.0   5.0   \n",
       "Aston Villa                3.0      8.0     6.0           NaN   4.0   \n",
       "Birmingham                 NaN      2.0     2.0           NaN   1.0   \n",
       "Blackburn                  NaN      4.0     4.0           NaN   2.0   \n",
       "Blackpool                  NaN      1.0     1.0           NaN   NaN   \n",
       "Bolton                     NaN      4.0     4.0           NaN   2.0   \n",
       "Bournemouth                4.0      4.0     1.0           2.0   1.0   \n",
       "Brighton                   2.0      2.0     1.0           2.0   NaN   \n",
       "Burnley                    4.0      5.0     2.0           2.0   3.0   \n",
       "Cardiff                    2.0      2.0     2.0           1.0   1.0   \n",
       "Chelsea                    6.0     11.0     7.0           2.0   5.0   \n",
       "Crystal Palace             NaN      6.0     2.0           2.0   3.0   \n",
       "Everton                    6.0      NaN     7.0           2.0   5.0   \n",
       "Fulham                     2.0      7.0     NaN           1.0   3.0   \n",
       "Huddersfield               2.0      2.0     1.0           NaN   NaN   \n",
       "Hull                       3.0      5.0     3.0           NaN   NaN   \n",
       "Leicester                  5.0      5.0     1.0           2.0   2.0   \n",
       "Liverpool                  6.0     11.0     7.0           2.0   5.0   \n",
       "Man City                   6.0     11.0     7.0           2.0   5.0   \n",
       "Man United                 6.0     11.0     7.0           2.0   5.0   \n",
       "Middlesbrough              1.0      2.0     1.0           NaN   2.0   \n",
       "Newcastle                  5.0      9.0     6.0           2.0   3.0   \n",
       "Norwich                    2.0      4.0     3.0           NaN   1.0   \n",
       "Portsmouth                 NaN      2.0     2.0           NaN   2.0   \n",
       "QPR                        1.0      3.0     2.0           NaN   1.0   \n",
       "Reading                    NaN      1.0     1.0           NaN   NaN   \n",
       "Southampton                6.0      7.0     3.0           2.0   3.0   \n",
       "Stoke                      5.0     10.0     6.0           1.0   5.0   \n",
       "Sunderland                 4.0      9.0     6.0           NaN   5.0   \n",
       "Swansea                    5.0      7.0     3.0           1.0   3.0   \n",
       "Tottenham                  6.0     11.0     7.0           2.0   5.0   \n",
       "Watford                    4.0      4.0     1.0           2.0   1.0   \n",
       "West Brom                  5.0      9.0     5.0           1.0   4.0   \n",
       "West Ham                   6.0     10.0     6.0           2.0   5.0   \n",
       "Wigan                      NaN      5.0     5.0           NaN   2.0   \n",
       "Wolves                     1.0      4.0     4.0           1.0   1.0   \n",
       "\n",
       "AwayTeam        Leicester  Liverpool  Man City  Man United  Middlesbrough  \\\n",
       "HomeTeam                                                                    \n",
       "Arsenal               5.0       11.0      11.0        11.0            2.0   \n",
       "Aston Villa           2.0        8.0       8.0         8.0            1.0   \n",
       "Birmingham            NaN        2.0       2.0         2.0            NaN   \n",
       "Blackburn             NaN        4.0       4.0         4.0            1.0   \n",
       "Blackpool             NaN        1.0       1.0         1.0            NaN   \n",
       "Bolton                NaN        4.0       4.0         4.0            1.0   \n",
       "Bournemouth           4.0        4.0       4.0         4.0            1.0   \n",
       "Brighton              2.0        2.0       2.0         2.0            NaN   \n",
       "Burnley               4.0        5.0       5.0         5.0            1.0   \n",
       "Cardiff               1.0        2.0       2.0         2.0            NaN   \n",
       "Chelsea               5.0       11.0      11.0        11.0            2.0   \n",
       "Crystal Palace        5.0        6.0       6.0         6.0            1.0   \n",
       "Everton               5.0       11.0      11.0        11.0            2.0   \n",
       "Fulham                1.0        7.0       7.0         7.0            1.0   \n",
       "Huddersfield          2.0        2.0       2.0         2.0            NaN   \n",
       "Hull                  2.0        5.0       5.0         5.0            2.0   \n",
       "Leicester             NaN        5.0       5.0         5.0            1.0   \n",
       "Liverpool             5.0        NaN      11.0        11.0            2.0   \n",
       "Man City              5.0       11.0       NaN        11.0            2.0   \n",
       "Man United            5.0       11.0      11.0         NaN            2.0   \n",
       "Middlesbrough         1.0        2.0       2.0         2.0            NaN   \n",
       "Newcastle             4.0        9.0       9.0         9.0            1.0   \n",
       "Norwich               1.0        4.0       4.0         4.0            NaN   \n",
       "Portsmouth            NaN        2.0       2.0         2.0            1.0   \n",
       "QPR                   1.0        3.0       3.0         3.0            NaN   \n",
       "Reading               NaN        1.0       1.0         1.0            NaN   \n",
       "Southampton           5.0        7.0       7.0         7.0            1.0   \n",
       "Stoke                 4.0       10.0      10.0        10.0            2.0   \n",
       "Sunderland            3.0        9.0       9.0         9.0            2.0   \n",
       "Swansea               4.0        7.0       7.0         7.0            1.0   \n",
       "Tottenham             5.0       11.0      11.0        11.0            2.0   \n",
       "Watford               4.0        4.0       4.0         4.0            1.0   \n",
       "West Brom             4.0        9.0       9.0         9.0            2.0   \n",
       "West Ham              5.0       10.0      10.0        10.0            2.0   \n",
       "Wigan                 NaN        5.0       5.0         5.0            1.0   \n",
       "Wolves                1.0        4.0       4.0         4.0            NaN   \n",
       "\n",
       "AwayTeam        Newcastle  Norwich  Portsmouth  QPR  Reading  Southampton  \\\n",
       "HomeTeam                                                                    \n",
       "Arsenal               9.0      4.0         2.0  3.0      1.0          7.0   \n",
       "Aston Villa           7.0      4.0         2.0  3.0      1.0          4.0   \n",
       "Birmingham            1.0      NaN         1.0  NaN      NaN          NaN   \n",
       "Blackburn             3.0      1.0         2.0  1.0      NaN          NaN   \n",
       "Blackpool             1.0      NaN         NaN  NaN      NaN          NaN   \n",
       "Bolton                3.0      1.0         2.0  1.0      NaN          NaN   \n",
       "Bournemouth           3.0      1.0         NaN  NaN      NaN          4.0   \n",
       "Brighton              2.0      NaN         NaN  NaN      NaN          2.0   \n",
       "Burnley               3.0      NaN         1.0  1.0      NaN          4.0   \n",
       "Cardiff               2.0      1.0         NaN  NaN      NaN          2.0   \n",
       "Chelsea               9.0      4.0         2.0  3.0      1.0          7.0   \n",
       "Crystal Palace        5.0      2.0         NaN  1.0      NaN          6.0   \n",
       "Everton               9.0      4.0         2.0  3.0      1.0          7.0   \n",
       "Fulham                6.0      3.0         2.0  2.0      1.0          3.0   \n",
       "Huddersfield          2.0      NaN         NaN  NaN      NaN          2.0   \n",
       "Hull                  3.0      1.0         2.0  1.0      NaN          3.0   \n",
       "Leicester             4.0      1.0         NaN  1.0      NaN          5.0   \n",
       "Liverpool             9.0      4.0         2.0  3.0      1.0          7.0   \n",
       "Man City              9.0      4.0         2.0  3.0      1.0          7.0   \n",
       "Man United            9.0      4.0         2.0  3.0      1.0          7.0   \n",
       "Middlesbrough         1.0      NaN         1.0  NaN      NaN          1.0   \n",
       "Newcastle             NaN      4.0         1.0  3.0      1.0          6.0   \n",
       "Norwich               4.0      NaN         NaN  2.0      1.0          3.0   \n",
       "Portsmouth            1.0      NaN         NaN  NaN      NaN          NaN   \n",
       "QPR                   3.0      2.0         NaN  NaN      1.0          2.0   \n",
       "Reading               1.0      1.0         NaN  1.0      NaN          1.0   \n",
       "Southampton           6.0      3.0         NaN  2.0      1.0          NaN   \n",
       "Stoke                 8.0      4.0         2.0  3.0      1.0          6.0   \n",
       "Sunderland            7.0      4.0         2.0  3.0      1.0          5.0   \n",
       "Swansea               6.0      4.0         NaN  3.0      1.0          6.0   \n",
       "Tottenham             9.0      4.0         2.0  3.0      1.0          7.0   \n",
       "Watford               3.0      1.0         NaN  NaN      NaN          4.0   \n",
       "West Brom             8.0      4.0         1.0  3.0      1.0          6.0   \n",
       "West Ham              8.0      3.0         2.0  2.0      1.0          7.0   \n",
       "Wigan                 4.0      2.0         2.0  2.0      1.0          1.0   \n",
       "Wolves                3.0      1.0         1.0  1.0      NaN          1.0   \n",
       "\n",
       "AwayTeam        Stoke  Sunderland  Swansea  Tottenham  Watford  West Brom  \\\n",
       "HomeTeam                                                                    \n",
       "Arsenal          10.0         9.0      7.0       11.0      4.0        9.0   \n",
       "Aston Villa       8.0         8.0      5.0        8.0      1.0        7.0   \n",
       "Birmingham        2.0         2.0      NaN        2.0      NaN        1.0   \n",
       "Blackburn         4.0         4.0      1.0        4.0      NaN        3.0   \n",
       "Blackpool         1.0         1.0      NaN        1.0      NaN        1.0   \n",
       "Bolton            4.0         4.0      1.0        4.0      NaN        3.0   \n",
       "Bournemouth       3.0         2.0      3.0        4.0      4.0        3.0   \n",
       "Brighton          1.0         NaN      1.0        2.0      2.0        1.0   \n",
       "Burnley           4.0         3.0      3.0        5.0      3.0        3.0   \n",
       "Cardiff           1.0         1.0      1.0        2.0      1.0        1.0   \n",
       "Chelsea          10.0         9.0      7.0       11.0      4.0        9.0   \n",
       "Crystal Palace    5.0         4.0      5.0        6.0      4.0        5.0   \n",
       "Everton          10.0         9.0      7.0       11.0      4.0        9.0   \n",
       "Fulham            6.0         6.0      3.0        7.0      1.0        5.0   \n",
       "Huddersfield      1.0         NaN      1.0        2.0      2.0        1.0   \n",
       "Hull              5.0         5.0      3.0        5.0      1.0        4.0   \n",
       "Leicester         4.0         3.0      4.0        5.0      4.0        4.0   \n",
       "Liverpool        10.0         9.0      7.0       11.0      4.0        9.0   \n",
       "Man City         10.0         9.0      7.0       11.0      4.0        9.0   \n",
       "Man United       10.0         9.0      7.0       11.0      4.0        9.0   \n",
       "Middlesbrough     2.0         2.0      1.0        2.0      1.0        2.0   \n",
       "Newcastle         8.0         7.0      6.0        9.0      3.0        8.0   \n",
       "Norwich           4.0         4.0      4.0        4.0      1.0        4.0   \n",
       "Portsmouth        2.0         2.0      NaN        2.0      NaN        1.0   \n",
       "QPR               3.0         3.0      3.0        3.0      NaN        3.0   \n",
       "Reading           1.0         1.0      1.0        1.0      NaN        1.0   \n",
       "Southampton       6.0         5.0      6.0        7.0      4.0        6.0   \n",
       "Stoke             NaN         9.0      7.0       10.0      3.0        9.0   \n",
       "Sunderland        9.0         NaN      6.0        9.0      2.0        8.0   \n",
       "Swansea           7.0         6.0      NaN        7.0      3.0        7.0   \n",
       "Tottenham        10.0         9.0      7.0        NaN      4.0        9.0   \n",
       "Watford           3.0         2.0      3.0        4.0      NaN        3.0   \n",
       "West Brom         9.0         8.0      7.0        9.0      3.0        NaN   \n",
       "West Ham          9.0         8.0      6.0       10.0      4.0        8.0   \n",
       "Wigan             5.0         5.0      2.0        5.0      NaN        4.0   \n",
       "Wolves            3.0         3.0      1.0        4.0      1.0        2.0   \n",
       "\n",
       "AwayTeam        West Ham  Wigan  Wolves  \n",
       "HomeTeam                                 \n",
       "Arsenal             10.0    5.0     4.0  \n",
       "Aston Villa          7.0    5.0     3.0  \n",
       "Birmingham           2.0    2.0     2.0  \n",
       "Blackburn            3.0    4.0     3.0  \n",
       "Blackpool            1.0    1.0     1.0  \n",
       "Bolton               3.0    4.0     3.0  \n",
       "Bournemouth          4.0    NaN     1.0  \n",
       "Brighton             2.0    NaN     1.0  \n",
       "Burnley              5.0    1.0     2.0  \n",
       "Cardiff              2.0    NaN     1.0  \n",
       "Chelsea             10.0    5.0     4.0  \n",
       "Crystal Palace       6.0    NaN     1.0  \n",
       "Everton             10.0    5.0     4.0  \n",
       "Fulham               6.0    5.0     4.0  \n",
       "Huddersfield         2.0    NaN     1.0  \n",
       "Hull                 5.0    2.0     1.0  \n",
       "Leicester            5.0    NaN     1.0  \n",
       "Liverpool           10.0    5.0     4.0  \n",
       "Man City            10.0    5.0     4.0  \n",
       "Man United          10.0    5.0     4.0  \n",
       "Middlesbrough        2.0    1.0     NaN  \n",
       "Newcastle            8.0    4.0     3.0  \n",
       "Norwich              3.0    2.0     1.0  \n",
       "Portsmouth           2.0    2.0     1.0  \n",
       "QPR                  2.0    2.0     1.0  \n",
       "Reading              1.0    1.0     NaN  \n",
       "Southampton          7.0    1.0     1.0  \n",
       "Stoke                9.0    5.0     3.0  \n",
       "Sunderland           8.0    5.0     3.0  \n",
       "Swansea              6.0    2.0     1.0  \n",
       "Tottenham           10.0    5.0     4.0  \n",
       "Watford              4.0    NaN     1.0  \n",
       "West Brom            8.0    4.0     2.0  \n",
       "West Ham             NaN    4.0     3.0  \n",
       "Wigan                4.0    NaN     3.0  \n",
       "Wolves               3.0    3.0     NaN  "
      ]
     },
     "execution_count": 17,
     "metadata": {},
     "output_type": "execute_result"
    }
   ],
   "source": [
    "get_pivot_column_vs_column_count(data,'HomeTeam','AwayTeam')"
   ]
  },
  {
   "cell_type": "markdown",
   "metadata": {
    "colab_type": "text",
    "id": "krwGkaU7ng6H"
   },
   "source": [
    "Checking how many matches each team played. As every match a home team plays at home comes in conjunction with one it plays away, it is sufficient to count the number of home matches. "
   ]
  },
  {
   "cell_type": "code",
   "execution_count": 18,
   "metadata": {
    "ExecuteTime": {
     "end_time": "2020-01-02T00:46:49.337539Z",
     "start_time": "2020-01-02T00:46:48.880406Z"
    },
    "colab": {},
    "colab_type": "code",
    "id": "cNfqao3ong6J",
    "outputId": "16d92e7b-8c95-4c9f-820d-f7ee07ef527d"
   },
   "outputs": [
    {
     "data": {
      "image/png": "[encoded data removed]",
      "text/plain": [
       "<Figure size 720x360 with 1 Axes>"
      ]
     },
     "metadata": {},
     "output_type": "display_data"
    }
   ],
   "source": [
    "data.HomeTeam.value_counts().plot(kind='bar', figsize=(10,5))\n",
    "plt.title('Number of teams by matches',fontsize=18, fontweight='bold')\n",
    "plt.ylabel('Number of matches',fontsize=16, fontweight='bold')\n",
    "plt.xlabel('Team Name',fontsize=16, fontweight='bold')\n",
    "sns.set_style(\"white\")\n",
    "plt.show()"
   ]
  },
  {
   "cell_type": "markdown",
   "metadata": {
    "colab_type": "text",
    "id": "uFALb7ovng6a"
   },
   "source": [
    "### HTR vs. FTR"
   ]
  },
  {
   "cell_type": "markdown",
   "metadata": {
    "colab_type": "text",
    "id": "1MRkRc21ng6e"
   },
   "source": [
    "A count plot to show the relationship between Half Time Result (`HTR`) and Full Time Result (`FTR`). This was done basically to check for how many of the matches the `HTR` and `FTR` result."
   ]
  },
  {
   "cell_type": "code",
   "execution_count": 19,
   "metadata": {
    "ExecuteTime": {
     "end_time": "2020-01-02T00:46:49.357516Z",
     "start_time": "2020-01-02T00:46:49.338525Z"
    },
    "colab": {},
    "colab_type": "code",
    "id": "KCv-uXxvng6g",
    "outputId": "01400e03-5a9d-4194-c149-de3521a2bb64"
   },
   "outputs": [
    {
     "data": {
      "text/html": [
       "<div>\n",
       "<style scoped>\n",
       "    .dataframe tbody tr th:only-of-type {\n",
       "        vertical-align: middle;\n",
       "    }\n",
       "\n",
       "    .dataframe tbody tr th {\n",
       "        vertical-align: top;\n",
       "    }\n",
       "\n",
       "    .dataframe thead th {\n",
       "        text-align: right;\n",
       "    }\n",
       "</style>\n",
       "<table border=\"1\" class=\"dataframe\">\n",
       "  <thead>\n",
       "    <tr style=\"text-align: right;\">\n",
       "      <th>FTR</th>\n",
       "      <th>A</th>\n",
       "      <th>D</th>\n",
       "      <th>H</th>\n",
       "    </tr>\n",
       "    <tr>\n",
       "      <th>HTR</th>\n",
       "      <th></th>\n",
       "      <th></th>\n",
       "      <th></th>\n",
       "    </tr>\n",
       "  </thead>\n",
       "  <tbody>\n",
       "    <tr>\n",
       "      <th>A</th>\n",
       "      <td>703</td>\n",
       "      <td>199</td>\n",
       "      <td>99</td>\n",
       "    </tr>\n",
       "    <tr>\n",
       "      <th>D</th>\n",
       "      <td>439</td>\n",
       "      <td>647</td>\n",
       "      <td>646</td>\n",
       "    </tr>\n",
       "    <tr>\n",
       "      <th>H</th>\n",
       "      <td>70</td>\n",
       "      <td>191</td>\n",
       "      <td>1186</td>\n",
       "    </tr>\n",
       "  </tbody>\n",
       "</table>\n",
       "</div>"
      ],
      "text/plain": [
       "FTR    A    D     H\n",
       "HTR                \n",
       "A    703  199    99\n",
       "D    439  647   646\n",
       "H     70  191  1186"
      ]
     },
     "execution_count": 19,
     "metadata": {},
     "output_type": "execute_result"
    }
   ],
   "source": [
    "get_pivot_column_vs_column_count(data,'HTR','FTR')"
   ]
  },
  {
   "cell_type": "markdown",
   "metadata": {
    "colab_type": "text",
    "id": "q_YdY3hdng6n"
   },
   "source": [
    "###  Histogram (Count Plots) of all Features"
   ]
  },
  {
   "cell_type": "markdown",
   "metadata": {
    "colab_type": "text",
    "id": "dP1QoPSTng6q"
   },
   "source": [
    "The columns of the unprocessed dataset will later be used to extract information about the individual teams. To investigate the characteristics of each of the individual columns, we first utilize a histogram plot of each of the columns. Prior to obtaining this plot, all the categorical columns (Home Team, Away Team, Referee and Full Time Result) are turned into numerical values using the __Label_Encoder__ function."
   ]
  },
  {
   "cell_type": "markdown",
   "metadata": {
    "colab_type": "text",
    "id": "S6zKeaQXng6t"
   },
   "source": [
    "Bar Chart for each of the numerical features in the imported dataset. The bar chart will show a count of the occurances of each unique value taken by each feautre. In addition to this, the bar chart will show what proportion of each unique value that resulted in Home win (__H__), Draw (__D__) or Away win (__A__)."
   ]
  },
  {
   "cell_type": "code",
   "execution_count": 20,
   "metadata": {
    "ExecuteTime": {
     "end_time": "2020-01-02T00:46:55.586510Z",
     "start_time": "2020-01-02T00:46:49.358515Z"
    },
    "colab": {},
    "colab_type": "code",
    "id": "9e7OCJkGng6w",
    "outputId": "f47a1c81-ff5a-4e27-ab01-ee93b7f0f89d",
    "scrolled": false
   },
   "outputs": [
    {
     "data": {
      "image/png": "[encoded data removed]",
      "text/plain": [
       "<Figure size 1080x4320 with 16 Axes>"
      ]
     },
     "metadata": {},
     "output_type": "display_data"
    }
   ],
   "source": [
    "# Save the column names of numerical features as a list\n",
    "num_col_list=[x for x in data.columns if x not in ['Date','HomeTeam','AwayTeam','Referee','FTR','HTR']]\n",
    "\n",
    "# Reshaping array for easier formatting\n",
    "num_col_list = np.reshape(num_col_list, (8, 2))\n",
    "\n",
    "# Call the function get_column_countplot() to plot the count plot of the categorical columns as s ubplots in a figure\n",
    "fig, axes = plt.subplots(8,2,figsize=(15,60))\n",
    "for i in range(8):\n",
    "    for j in range(2):\n",
    "        get_column_countplot(data,num_col_list[i][j], ax=axes[i,j])\n",
    "fig.tight_layout(rect=[0, 0.03, 1, 0.97])\n",
    "fig.suptitle(\"Count plots of all features\",fontweight='bold',fontsize=20)\n",
    "sns.set_style(\"white\")\n",
    "plt.show()"
   ]
  },
  {
   "cell_type": "markdown",
   "metadata": {
    "colab_type": "text",
    "id": "nqJxOVlang65"
   },
   "source": [
    "### Checking if the dataset is balanced"
   ]
  },
  {
   "cell_type": "markdown",
   "metadata": {
    "colab_type": "text",
    "id": "0w8_hwNtng68"
   },
   "source": [
    "A bar chart showing the number of home wins, draws and away wins."
   ]
  },
  {
   "cell_type": "code",
   "execution_count": 21,
   "metadata": {
    "ExecuteTime": {
     "end_time": "2020-01-02T00:46:55.827578Z",
     "start_time": "2020-01-02T00:46:55.587499Z"
    },
    "colab": {},
    "colab_type": "code",
    "id": "DWPVqiwbng7A",
    "outputId": "98c71df0-4d93-4dde-a4df-91d84d7defa7"
   },
   "outputs": [
    {
     "data": {
      "image/png": "[encoded data removed]",
      "text/plain": [
       "<Figure size 576x432 with 1 Axes>"
      ]
     },
     "metadata": {},
     "output_type": "display_data"
    }
   ],
   "source": [
    "# Get the counts \n",
    "count_val=data['FTR'].value_counts()\n",
    "\n",
    "# Visualise the count\n",
    "X_ticks=['Home','Draw','Away']\n",
    "bar_width=0.7\n",
    "fig,ax=plt.subplots()\n",
    "plt.bar(1,count_val[0],color='forestgreen')\n",
    "plt.bar(2,count_val[2],color='darkorange')\n",
    "plt.bar(3,count_val[1],color='#970a1b')\n",
    "plt.text(1, count_val[0]/2, \"{:,}\".format(count_val[0]),color='w',\n",
    "         ha='center', va= 'bottom',fontweight='bold',fontsize=14)\n",
    "plt.text(2, count_val[2]/2, \"{:,}\".format(count_val[1]), color='w'\n",
    "         ,ha='center', va= 'bottom',fontweight='bold',fontsize=14)\n",
    "plt.text(3, count_val[1]/2, \"{:,}\".format(count_val[2]), color='w',\n",
    "         ha='center', va= 'bottom', fontweight='bold', fontsize=14)\n",
    "ax.set_title('FTR count', fontsize=18, fontweight='bold')\n",
    "ax.set_xlabel('Classes (Full time result)', fontsize=16, fontweight='bold')\n",
    "ax.set_ylabel('Number of samples in training data', fontsize=16, fontweight='bold')\n",
    "ax.set_xticks([1,2,3])\n",
    "ax.set_xticklabels(X_ticks,fontsize=14)\n",
    "fig.tight_layout()\n",
    "sns.set_style(\"white\")\n",
    "plt.show()"
   ]
  },
  {
   "cell_type": "markdown",
   "metadata": {
    "colab_type": "text",
    "id": "zyrHsYsbng7I"
   },
   "source": [
    "#### Encoding the non-numerical columns"
   ]
  },
  {
   "cell_type": "code",
   "execution_count": 22,
   "metadata": {
    "ExecuteTime": {
     "end_time": "2020-01-02T00:46:55.839575Z",
     "start_time": "2020-01-02T00:46:55.828581Z"
    },
    "colab": {},
    "colab_type": "code",
    "id": "GtCmy3pXng7L"
   },
   "outputs": [],
   "source": [
    "encoded_data = data.copy()\n",
    "\n",
    "for column in ['HomeTeam','AwayTeam','Referee','FTR','HTR']:\n",
    "    encoded_data[column] = LabelEncoder().fit_transform(encoded_data[column])"
   ]
  },
  {
   "cell_type": "markdown",
   "metadata": {
    "colab_type": "text",
    "id": "DC1Xut0Ang7S"
   },
   "source": [
    "### Correlation Matrix of the Data"
   ]
  },
  {
   "cell_type": "markdown",
   "metadata": {
    "colab_type": "text",
    "id": "J14cWVwnng7V"
   },
   "source": [
    "A visual plot of the correlation matrix between the all the raw columns of the provided dataset. This will help identify important columns as well as discard those that show no correlation. For this, the label encoded dataset will be utilized."
   ]
  },
  {
   "cell_type": "code",
   "execution_count": 23,
   "metadata": {
    "ExecuteTime": {
     "end_time": "2020-01-02T00:46:57.360427Z",
     "start_time": "2020-01-02T00:46:55.842555Z"
    },
    "colab": {},
    "colab_type": "code",
    "id": "KkHMZz8Hng7X",
    "outputId": "418b05cb-f9fe-4a20-faa0-8e3dfe9e55b2"
   },
   "outputs": [
    {
     "data": {
      "image/png": "[encoded data removed]",
      "text/plain": [
       "<Figure size 1440x1080 with 2 Axes>"
      ]
     },
     "metadata": {},
     "output_type": "display_data"
    }
   ],
   "source": [
    "fig=plt.figure(figsize=(20,15))\n",
    "ax = plt.subplot()\n",
    "ax.set_title(\"Heatmap of Correlation Matrix for Columns in Raw Dataset\",fontsize=20,fontweight='bold')\n",
    "sns.heatmap(encoded_data.corr(), annot = True, fmt='.1f', cmap= 'coolwarm', ax=ax)\n",
    "plt.show()"
   ]
  },
  {
   "cell_type": "markdown",
   "metadata": {
    "colab_type": "text",
    "id": "tcvXc3g5ng7i"
   },
   "source": [
    "# Feature Extraction"
   ]
  },
  {
   "cell_type": "markdown",
   "metadata": {
    "colab_type": "text",
    "id": "IoEYxRpkng7l"
   },
   "source": [
    "### Average Goals, Points and Aggressiveness"
   ]
  },
  {
   "cell_type": "markdown",
   "metadata": {
    "colab_type": "text",
    "id": "SG4fqimMng7n"
   },
   "source": [
    "Calculating average goals and scores for home teams and away teams. The scores are calculated by considering a win as 3 points, a draw as 1 point and a loss as 0 points. As the number of goals conceded by one team is the number of goals scored by the other team, the average number of goals conceded by the home team is equal to the number of goals scored by the away team (the same applies for goals conceded by the away team). These average values will be used to scale metrics later on in feature extraction to ensure that a value of 1 represents an average performance. This will ensure that the features are of similar scale. "
   ]
  },
  {
   "cell_type": "code",
   "execution_count": 24,
   "metadata": {
    "ExecuteTime": {
     "end_time": "2020-01-02T00:46:57.374420Z",
     "start_time": "2020-01-02T00:46:57.362416Z"
    },
    "colab": {},
    "colab_type": "code",
    "id": "U16KqZKbng7r",
    "outputId": "a48cf6e0-96d6-431a-e977-0305f2059716"
   },
   "outputs": [
    {
     "name": "stdout",
     "output_type": "stream",
     "text": [
      "Average Home Goals: 1.555023923444976\n",
      "Average Away Goals: 1.1708133971291865\n",
      "Average Home Points: 1.6339712918660287\n",
      "Average Away Points: 1.1179425837320573\n",
      "Average Home Fouls: 10.682057416267943\n",
      "Average Away Fouls: 11.204306220095694\n"
     ]
    }
   ],
   "source": [
    "# Get total number of matches\n",
    "num_matches = data.shape[0] \n",
    "\n",
    "# Sum home goals column, divide by total matches\n",
    "average_home_goals = data.FTHG.sum()/num_matches\n",
    "\n",
    "# Sum away goals column, divide by total matches\n",
    "average_away_goals = data.FTAG.sum() /num_matches\n",
    "\n",
    "# Average conceded goals = Average of goals for opposite team\n",
    "avg_home_conceded = average_away_goals \n",
    "avg_away_conceded = avg_home_conceded\n",
    "\n",
    "# Calculating points for each team\n",
    "average_home_points = (3*count_val['H'] + count_val['D'])/num_matches\n",
    "average_away_points = (3*count_val['A'] + count_val['D'])/num_matches\n",
    "\n",
    "# Calculating other average  home and away\n",
    "average_home_yellow = data.HY.sum()/num_matches\n",
    "average_away_yellow = data.AY.sum()/num_matches\n",
    "average_home_red = data.HR.sum()/num_matches\n",
    "average_away_red = data.AR.sum()/num_matches\n",
    "average_home_fouls = data.HF.sum()/num_matches\n",
    "average_away_fouls = data.AF.sum()/num_matches\n",
    "\n",
    "print('Average Home Goals:', average_home_goals)\n",
    "print('Average Away Goals:', average_away_goals)\n",
    "print('Average Home Points:',average_home_points)\n",
    "print('Average Away Points:', average_away_points)\n",
    "# print('Average Home Yellow Cards:', average_home_yellow)\n",
    "# print('Average Away Yellow Cards:', average_away_yellow)\n",
    "# print('Average Home Red Cards:',average_home_red)\n",
    "# print('Average Away Red Cards:', average_away_red)\n",
    "print('Average Home Fouls:',average_home_fouls)\n",
    "print('Average Away Fouls:', average_away_fouls)"
   ]
  },
  {
   "cell_type": "markdown",
   "metadata": {
    "colab_type": "text",
    "id": "MrEVPMqung7z"
   },
   "source": [
    "### Team Statistics"
   ]
  },
  {
   "cell_type": "markdown",
   "metadata": {
    "colab_type": "text",
    "id": "VcK1N-Zvng70"
   },
   "source": [
    "Features in the raw data may be used to compute metrics that quantify different qualities of each team when they are playing at home and away. These quantities will be the same for all the home/away matches they play (i.e. a team will have the same Home Attacking Strength (HAS) for all games that it plays on home turf)."
   ]
  },
  {
   "cell_type": "code",
   "execution_count": 25,
   "metadata": {
    "ExecuteTime": {
     "end_time": "2020-01-02T00:46:57.387420Z",
     "start_time": "2020-01-02T00:46:57.376412Z"
    },
    "colab": {},
    "colab_type": "code",
    "id": "OQY18tdeng73"
   },
   "outputs": [],
   "source": [
    "team_stats= pd.DataFrame(columns=('Team','HGS','AGS','HAS','AAS','HGC','AGC','HDS','ADS','HS','HST','AS','AST','HCON','ACON','HF','AF','HAGG','AAGG'))"
   ]
  },
  {
   "cell_type": "code",
   "execution_count": 26,
   "metadata": {
    "ExecuteTime": {
     "end_time": "2020-01-02T00:46:57.395411Z",
     "start_time": "2020-01-02T00:46:57.388415Z"
    },
    "colab": {},
    "colab_type": "code",
    "id": "O_YRvAYYng7_"
   },
   "outputs": [],
   "source": [
    "# Group data by the teams\n",
    "res_home = data.groupby('HomeTeam')\n",
    "res_away = data.groupby('AwayTeam')"
   ]
  },
  {
   "cell_type": "code",
   "execution_count": 27,
   "metadata": {
    "ExecuteTime": {
     "end_time": "2020-01-02T00:46:57.403404Z",
     "start_time": "2020-01-02T00:46:57.397412Z"
    },
    "colab": {},
    "colab_type": "code",
    "id": "gRfu0jajng8M"
   },
   "outputs": [],
   "source": [
    "# Add the list of team names\n",
    "team_stats.Team = pd.Series(data['HomeTeam'].unique())"
   ]
  },
  {
   "cell_type": "code",
   "execution_count": 28,
   "metadata": {
    "ExecuteTime": {
     "end_time": "2020-01-02T00:46:57.413397Z",
     "start_time": "2020-01-02T00:46:57.404393Z"
    },
    "colab": {},
    "colab_type": "code",
    "id": "jzgZTpmQng8T"
   },
   "outputs": [],
   "source": [
    "# Home goal scored (HGS)\n",
    "team_stats.HGS = res_home.FTHG.sum().values \n",
    "# Home goal conceded (HGC)\n",
    "team_stats.HGC = res_home.FTAG.sum().values"
   ]
  },
  {
   "cell_type": "code",
   "execution_count": 29,
   "metadata": {
    "ExecuteTime": {
     "end_time": "2020-01-02T00:46:57.422392Z",
     "start_time": "2020-01-02T00:46:57.415387Z"
    },
    "colab": {},
    "colab_type": "code",
    "id": "bLoVG8E2ng8e"
   },
   "outputs": [],
   "source": [
    "# Away goal scored (AGS)\n",
    "team_stats.AGS = res_away.FTAG.sum().values \n",
    "# Away goal conceded (AGC)\n",
    "team_stats.AGC = res_away.FTHG.sum().values "
   ]
  },
  {
   "cell_type": "code",
   "execution_count": 30,
   "metadata": {
    "ExecuteTime": {
     "end_time": "2020-01-02T00:46:57.429379Z",
     "start_time": "2020-01-02T00:46:57.423383Z"
    },
    "colab": {},
    "colab_type": "code",
    "id": "BYzWnQcYng8l"
   },
   "outputs": [],
   "source": [
    "# Calculate number of games played\n",
    "total_home_games_played = res_home.FTHG.count()\n",
    "total_away_games_played = res_away.FTAG.count()"
   ]
  },
  {
   "cell_type": "code",
   "execution_count": 31,
   "metadata": {
    "ExecuteTime": {
     "end_time": "2020-01-02T00:46:57.438375Z",
     "start_time": "2020-01-02T00:46:57.430379Z"
    },
    "colab": {},
    "colab_type": "code",
    "id": "VYtJSoPSng8z"
   },
   "outputs": [],
   "source": [
    "# Home Attacking Strength\n",
    "team_stats.HAS = (np.divide(team_stats.HGS,total_home_games_played.values)) / average_home_goals\n",
    "# Away Attacking Strength\n",
    "team_stats.AAS = (np.divide(team_stats.AGS,total_away_games_played.values)) / average_away_goals"
   ]
  },
  {
   "cell_type": "code",
   "execution_count": 32,
   "metadata": {
    "ExecuteTime": {
     "end_time": "2020-01-02T00:46:57.446371Z",
     "start_time": "2020-01-02T00:46:57.440374Z"
    },
    "colab": {},
    "colab_type": "code",
    "id": "cOGBjwBqng9N"
   },
   "outputs": [],
   "source": [
    "# Home Defensive Strength\n",
    "team_stats.HDS = (np.divide(team_stats.HGC,total_home_games_played.values)) / avg_home_conceded\n",
    "# Away Defensive Strength\n",
    "team_stats.ADS = (np.divide(team_stats.AGC,total_away_games_played.values)) / avg_away_conceded"
   ]
  },
  {
   "cell_type": "code",
   "execution_count": 33,
   "metadata": {
    "ExecuteTime": {
     "end_time": "2020-01-02T00:46:57.454366Z",
     "start_time": "2020-01-02T00:46:57.448369Z"
    },
    "colab": {},
    "colab_type": "code",
    "id": "lhh82BP8ng9X"
   },
   "outputs": [],
   "source": [
    "# Obtaining for each team: Average number of goals scored and conceded when at home and at away.\n",
    "team_stats.GSA = (np.divide(team_stats.AGS,total_away_games_played.values))\n",
    "team_stats.GSH = (np.divide(team_stats.HGS,total_home_games_played.values))\n",
    "\n",
    "team_stats.GCA = (np.divide(team_stats.AGC,total_away_games_played.values))\n",
    "team_stats.GCH = (np.divide(team_stats.HGC,total_home_games_played.values))"
   ]
  },
  {
   "cell_type": "code",
   "execution_count": 34,
   "metadata": {
    "ExecuteTime": {
     "end_time": "2020-01-02T00:46:57.468357Z",
     "start_time": "2020-01-02T00:46:57.455374Z"
    },
    "colab": {},
    "colab_type": "code",
    "id": "i9aJfeNHng9e"
   },
   "outputs": [],
   "source": [
    "# Shots taken at home and away\n",
    "team_stats.HS = res_home.HS.sum().values \n",
    "team_stats.AS = res_away.AS.sum().values\n",
    "\n",
    "# Shots taken on target at home and away\n",
    "team_stats.HST = res_home.HST.sum().values \n",
    "team_stats.AST = res_away.AST.sum().values\n",
    "\n",
    "# Shot conversion rate (accuracy) at home and away\n",
    "team_stats.HCON = (np.divide(team_stats.HST,team_stats.HS)) \n",
    "team_stats.ACON = (np.divide(team_stats.AST,team_stats.AS)) "
   ]
  },
  {
   "cell_type": "code",
   "execution_count": 35,
   "metadata": {
    "ExecuteTime": {
     "end_time": "2020-01-02T00:46:57.479350Z",
     "start_time": "2020-01-02T00:46:57.469365Z"
    },
    "colab": {},
    "colab_type": "code",
    "id": "UYfR1INFng9s"
   },
   "outputs": [],
   "source": [
    "# Total number of fouls at home and away\n",
    "team_stats.HF = res_home.HF.sum().values \n",
    "team_stats.AF = res_away.AF.sum().values\n",
    "\n",
    "# A measure of aggressiveness for each team\n",
    "team_stats.HAGG = (np.divide(team_stats.HF,total_home_games_played.values)) / average_home_fouls\n",
    "team_stats.AAGG = (np.divide(team_stats.AF,total_away_games_played.values)) / average_away_fouls"
   ]
  },
  {
   "cell_type": "code",
   "execution_count": 36,
   "metadata": {
    "ExecuteTime": {
     "end_time": "2020-01-02T00:46:57.497341Z",
     "start_time": "2020-01-02T00:46:57.480350Z"
    },
    "colab": {},
    "colab_type": "code",
    "id": "rMsGajYjng90",
    "outputId": "4401973d-beab-4e7a-a6ca-b328e7c4b49c"
   },
   "outputs": [
    {
     "data": {
      "text/html": [
       "<div>\n",
       "<style scoped>\n",
       "    .dataframe tbody tr th:only-of-type {\n",
       "        vertical-align: middle;\n",
       "    }\n",
       "\n",
       "    .dataframe tbody tr th {\n",
       "        vertical-align: top;\n",
       "    }\n",
       "\n",
       "    .dataframe thead th {\n",
       "        text-align: right;\n",
       "    }\n",
       "</style>\n",
       "<table border=\"1\" class=\"dataframe\">\n",
       "  <thead>\n",
       "    <tr style=\"text-align: right;\">\n",
       "      <th></th>\n",
       "      <th>Team</th>\n",
       "      <th>HGS</th>\n",
       "      <th>AGS</th>\n",
       "      <th>HAS</th>\n",
       "      <th>AAS</th>\n",
       "      <th>HGC</th>\n",
       "      <th>AGC</th>\n",
       "      <th>HDS</th>\n",
       "      <th>ADS</th>\n",
       "      <th>HS</th>\n",
       "      <th>HST</th>\n",
       "      <th>AS</th>\n",
       "      <th>AST</th>\n",
       "      <th>HCON</th>\n",
       "      <th>ACON</th>\n",
       "      <th>HF</th>\n",
       "      <th>AF</th>\n",
       "      <th>HAGG</th>\n",
       "      <th>AAGG</th>\n",
       "    </tr>\n",
       "  </thead>\n",
       "  <tbody>\n",
       "    <tr>\n",
       "      <th>0</th>\n",
       "      <td>Arsenal</td>\n",
       "      <td>441</td>\n",
       "      <td>356</td>\n",
       "      <td>1.356923</td>\n",
       "      <td>1.454843</td>\n",
       "      <td>174</td>\n",
       "      <td>292</td>\n",
       "      <td>0.711075</td>\n",
       "      <td>1.193298</td>\n",
       "      <td>3448</td>\n",
       "      <td>1641</td>\n",
       "      <td>2724</td>\n",
       "      <td>1276</td>\n",
       "      <td>0.475928</td>\n",
       "      <td>0.468429</td>\n",
       "      <td>2137</td>\n",
       "      <td>2134</td>\n",
       "      <td>0.957201</td>\n",
       "      <td>0.911304</td>\n",
       "    </tr>\n",
       "    <tr>\n",
       "      <th>1</th>\n",
       "      <td>Bolton</td>\n",
       "      <td>179</td>\n",
       "      <td>156</td>\n",
       "      <td>0.757308</td>\n",
       "      <td>0.876584</td>\n",
       "      <td>198</td>\n",
       "      <td>264</td>\n",
       "      <td>1.112587</td>\n",
       "      <td>1.483449</td>\n",
       "      <td>1804</td>\n",
       "      <td>812</td>\n",
       "      <td>1478</td>\n",
       "      <td>693</td>\n",
       "      <td>0.450111</td>\n",
       "      <td>0.468877</td>\n",
       "      <td>1639</td>\n",
       "      <td>1825</td>\n",
       "      <td>1.009440</td>\n",
       "      <td>1.071604</td>\n",
       "    </tr>\n",
       "    <tr>\n",
       "      <th>2</th>\n",
       "      <td>Everton</td>\n",
       "      <td>38</td>\n",
       "      <td>37</td>\n",
       "      <td>0.643077</td>\n",
       "      <td>0.831631</td>\n",
       "      <td>35</td>\n",
       "      <td>70</td>\n",
       "      <td>0.786678</td>\n",
       "      <td>1.573355</td>\n",
       "      <td>379</td>\n",
       "      <td>186</td>\n",
       "      <td>321</td>\n",
       "      <td>189</td>\n",
       "      <td>0.490765</td>\n",
       "      <td>0.588785</td>\n",
       "      <td>390</td>\n",
       "      <td>417</td>\n",
       "      <td>0.960785</td>\n",
       "      <td>0.979417</td>\n",
       "    </tr>\n",
       "    <tr>\n",
       "      <th>3</th>\n",
       "      <td>Hull</td>\n",
       "      <td>98</td>\n",
       "      <td>77</td>\n",
       "      <td>0.829231</td>\n",
       "      <td>0.865345</td>\n",
       "      <td>90</td>\n",
       "      <td>162</td>\n",
       "      <td>1.011443</td>\n",
       "      <td>1.820597</td>\n",
       "      <td>949</td>\n",
       "      <td>501</td>\n",
       "      <td>689</td>\n",
       "      <td>385</td>\n",
       "      <td>0.527924</td>\n",
       "      <td>0.558781</td>\n",
       "      <td>957</td>\n",
       "      <td>950</td>\n",
       "      <td>1.178809</td>\n",
       "      <td>1.115642</td>\n",
       "    </tr>\n",
       "    <tr>\n",
       "      <th>4</th>\n",
       "      <td>Middlesbrough</td>\n",
       "      <td>30</td>\n",
       "      <td>25</td>\n",
       "      <td>1.015385</td>\n",
       "      <td>1.123825</td>\n",
       "      <td>37</td>\n",
       "      <td>41</td>\n",
       "      <td>1.663261</td>\n",
       "      <td>1.843073</td>\n",
       "      <td>253</td>\n",
       "      <td>134</td>\n",
       "      <td>193</td>\n",
       "      <td>101</td>\n",
       "      <td>0.529644</td>\n",
       "      <td>0.523316</td>\n",
       "      <td>216</td>\n",
       "      <td>187</td>\n",
       "      <td>1.064254</td>\n",
       "      <td>0.878422</td>\n",
       "    </tr>\n",
       "  </tbody>\n",
       "</table>\n",
       "</div>"
      ],
      "text/plain": [
       "            Team  HGS  AGS       HAS       AAS  HGC  AGC       HDS       ADS  \\\n",
       "0        Arsenal  441  356  1.356923  1.454843  174  292  0.711075  1.193298   \n",
       "1         Bolton  179  156  0.757308  0.876584  198  264  1.112587  1.483449   \n",
       "2        Everton   38   37  0.643077  0.831631   35   70  0.786678  1.573355   \n",
       "3           Hull   98   77  0.829231  0.865345   90  162  1.011443  1.820597   \n",
       "4  Middlesbrough   30   25  1.015385  1.123825   37   41  1.663261  1.843073   \n",
       "\n",
       "     HS   HST    AS   AST      HCON      ACON    HF    AF      HAGG      AAGG  \n",
       "0  3448  1641  2724  1276  0.475928  0.468429  2137  2134  0.957201  0.911304  \n",
       "1  1804   812  1478   693  0.450111  0.468877  1639  1825  1.009440  1.071604  \n",
       "2   379   186   321   189  0.490765  0.588785   390   417  0.960785  0.979417  \n",
       "3   949   501   689   385  0.527924  0.558781   957   950  1.178809  1.115642  \n",
       "4   253   134   193   101  0.529644  0.523316   216   187  1.064254  0.878422  "
      ]
     },
     "execution_count": 36,
     "metadata": {},
     "output_type": "execute_result"
    }
   ],
   "source": [
    "team_stats.head()"
   ]
  },
  {
   "cell_type": "markdown",
   "metadata": {
    "colab_type": "text",
    "id": "BFFcOj4kng97"
   },
   "source": [
    "Not all the features in the table above will be used in the final input features of the classifier. Some of these statistics are intermediate values which aided in the calculation of other statistics. For example the __HGS__ column was used to compute the __HAS__ column. "
   ]
  },
  {
   "cell_type": "markdown",
   "metadata": {
    "colab_type": "text",
    "id": "HFcOfdXdng9-"
   },
   "source": [
    "### Calculation of Form"
   ]
  },
  {
   "cell_type": "markdown",
   "metadata": {
    "colab_type": "text",
    "id": "J8LjxJGRng-A"
   },
   "source": [
    "Form is a calculation of a team's recent performance. Additionally these statistics vary with different allocations. (i.e. a team may have different __FFPTSH__ for different matches played at home). The function __get_features_match__ takes a match info and number of matches as inputs. The function then finds the number of past matches where the two teams played each other. If __n__ or more such matches exist, then the function computes 3 quantities: __FFPTSH__: Average points of home team in the past n matches against the away team, __FFHG__: Average goals of away team against home team in past n matches and __FFAG__: Average goals of home team against away team in the past n matches. If no matches are found then, the average quantities for these statistics are used. "
   ]
  },
  {
   "cell_type": "code",
   "execution_count": 37,
   "metadata": {
    "ExecuteTime": {
     "end_time": "2020-01-02T00:46:57.510332Z",
     "start_time": "2020-01-02T00:46:57.498340Z"
    },
    "colab": {},
    "colab_type": "code",
    "id": "3w_2Ymolng-B"
   },
   "outputs": [],
   "source": [
    "def get_form_match(match, n=5):\n",
    "    home_team = match['HomeTeam']\n",
    "    away_team = match['AwayTeam']\n",
    "    # Constructing a table when all the matches between the two teams are shown.\n",
    "    res = data[((data['HomeTeam']==home_team) & (data['AwayTeam']==away_team)) | ((data['AwayTeam']==home_team) & (data['HomeTeam']==away_team))]\n",
    "    name = match.name\n",
    "    idx = res.index.get_loc(name)\n",
    "    \n",
    "    pts_home =0\n",
    "    pts_away =0\n",
    "    goals_home =0\n",
    "    goals_away =0\n",
    "    \n",
    "    if idx == 0:\n",
    "        # If there is 0 matches between the teams\n",
    "        pts_home_avg = average_home_points\n",
    "        pts_away_avg = average_away_points\n",
    "        goals_home_avg = average_home_goals\n",
    "        goals_away_avg = average_away_goals\n",
    "        \n",
    "    else:\n",
    "        if idx >= n: \n",
    "            #If there is at least n matches between the teams\n",
    "            matches = res.iloc[idx-n:idx]\n",
    "        else:\n",
    "            matches = res.iloc[0:idx]\n",
    "            \n",
    "        avg_den=len(matches)\n",
    "        \n",
    "        for comb in [['H','A'],['A','H']]:\n",
    "            c1=comb[0]\n",
    "            c2=comb[1]\n",
    "            if comb==['H','A']:\n",
    "                matches_subset = matches[(matches['HomeTeam']==home_team) & (data['AwayTeam']==away_team)]\n",
    "            elif comb==['A','H']:\n",
    "                matches_subset = matches[(matches['HomeTeam']==away_team) & (data['AwayTeam']==home_team)]\n",
    "                \n",
    "            pts_home+=(len(matches_subset[matches_subset['FTR']==c1])*3)+len(matches_subset[matches_subset['FTR']=='D'])\n",
    "            pts_away+=(len(matches_subset[matches_subset['FTR']==c2])*3)+len(matches_subset[matches_subset['FTR']=='D'])\n",
    "            goals_home+=matches_subset['FT%cG'%(c1)].sum()\n",
    "            goals_away+=matches_subset['FT%cG'%(c2)].sum()\n",
    "            \n",
    "        pts_home_avg = pts_home/avg_den\n",
    "        pts_away_avg = pts_away/avg_den\n",
    "        goals_home_avg = goals_home/avg_den\n",
    "        goals_away_avg = goals_away/avg_den\n",
    "        \n",
    "    return pts_home_avg, pts_away_avg, goals_home_avg, goals_away_avg\n"
   ]
  },
  {
   "cell_type": "markdown",
   "metadata": {
    "colab_type": "text",
    "id": "YhK3IN_zng-I"
   },
   "source": [
    "Another measure of form is the winning streak of the team. The fucntion __get_features_streak_home__ takes match info and the number of matches to consider as the inputs. It computes three quantities: __PSH__ the point streak of the home team, __SSH__ the average goals over the past __n__ games for the home team and __CSH__ the average goals conceded over the past __n__ matches for the home team. A similar function called __get_features_streak_away__ does the same for the away team. "
   ]
  },
  {
   "cell_type": "code",
   "execution_count": 38,
   "metadata": {
    "ExecuteTime": {
     "end_time": "2020-01-02T00:46:57.522325Z",
     "start_time": "2020-01-02T00:46:57.511332Z"
    },
    "colab": {},
    "colab_type": "code",
    "id": "KaeZEpWZng-J"
   },
   "outputs": [],
   "source": [
    "def get_streak_team(match,team_type, n=15):\n",
    "    team = match[team_type]\n",
    "    team_data = data[((data['HomeTeam']==team) | (data['AwayTeam']==team))]\n",
    "    \n",
    "    name = match.name\n",
    "    idx = team_data.index.get_loc(name)\n",
    "    \n",
    "    pts=0\n",
    "    goals_scored=0\n",
    "    goals_conceded=0\n",
    "    \n",
    "    if idx == 0:\n",
    "        pts_avg = average_home_points\n",
    "        goals_scored_avg = average_home_goals\n",
    "        goals_conceded_avg = average_away_goals\n",
    "    else:\n",
    "        if idx-n < 0:\n",
    "            newidx = 0\n",
    "        else:\n",
    "            newidx = idx - n\n",
    "            \n",
    "        matches_team = team_data.iloc[newidx:idx]\n",
    "        m = len(matches_team)\n",
    "        \n",
    "        for c in ['H','A']:\n",
    "            if c=='H':\n",
    "                matches_subset=matches_team[matches_team['HomeTeam']==team]\n",
    "                other_c='A'\n",
    "            elif c=='A':\n",
    "                matches_subset=matches_team[matches_team['AwayTeam']==team]\n",
    "                other_c='H'\n",
    "            pts+=(len(matches_subset[matches_subset['FTR']==c])*3)+len(matches_subset[matches_subset['FTR']=='D'])\n",
    "            goals_scored+=matches_subset['FT%cG'%(c)].sum()\n",
    "            goals_conceded+=matches_subset['FT%cG'%(other_c)].sum()\n",
    "            \n",
    "        pts_avg = pts/m\n",
    "        goals_scored_avg = goals_scored/m\n",
    "        goals_conceded_avg = goals_conceded/m\n",
    "    return pts_avg, goals_scored_avg, goals_conceded_avg"
   ]
  },
  {
   "cell_type": "markdown",
   "metadata": {
    "colab_type": "text",
    "id": "y_T1hK7png-V"
   },
   "source": [
    "# Data Pre-Processing"
   ]
  },
  {
   "cell_type": "markdown",
   "metadata": {
    "colab_type": "text",
    "id": "DQf15nm2ng-Y"
   },
   "source": [
    "### Defining Input Features and Output Labels"
   ]
  },
  {
   "cell_type": "markdown",
   "metadata": {
    "colab_type": "text",
    "id": "rm9Dl1Nwng-Z"
   },
   "source": [
    "The input features are the features that will eventually be used to train the classifier. Additionally the labels are the observed outcomes. The labels will be used to find the error in the classifier and thereby train the classifier. The function __match_with_team_stats__ add rows from the table __team_stats__ onto the table __X__ according to the value taken by __left_on__. This will be used to add team statistics of the home and away team as features. The __build_X__ function takes inputs of two tables __X__ and __team_stats__. It returns a complete table representing the full feature matrix that will be used to train and test models."
   ]
  },
  {
   "cell_type": "code",
   "execution_count": 39,
   "metadata": {
    "ExecuteTime": {
     "end_time": "2020-01-02T00:46:57.529321Z",
     "start_time": "2020-01-02T00:46:57.523323Z"
    },
    "colab": {},
    "colab_type": "code",
    "id": "J6EkL-5Gng-c"
   },
   "outputs": [],
   "source": [
    "def match_with_team_stats(X,team_stats,col_to_add,left_on,right_on='Team'):\n",
    "    X=pd.merge(X,team_stats[[right_on,col_to_add]],how='left',left_on=left_on,right_on=right_on,sort=False).\\\n",
    "                                                                                    drop(right_on, axis = 1) \n",
    "    return X"
   ]
  },
  {
   "cell_type": "code",
   "execution_count": 40,
   "metadata": {
    "ExecuteTime": {
     "end_time": "2020-01-02T00:46:57.540314Z",
     "start_time": "2020-01-02T00:46:57.530319Z"
    },
    "colab": {},
    "colab_type": "code",
    "id": "Hcal8LcYng-n"
   },
   "outputs": [],
   "source": [
    "def build_X(X,team_stats):\n",
    "    # Add Home Attacking Strength(HAS), Home Defensive Strength(HDS), Away Attacking Strength(AAS), \n",
    "    # Away Defensive Strength(ADS)\n",
    "    X = match_with_team_stats(X,team_stats,'HAS','HomeTeam')\n",
    "    X = match_with_team_stats(X,team_stats,'HDS','HomeTeam')\n",
    "    X = match_with_team_stats(X,team_stats,'HCON','HomeTeam')\n",
    "    X = match_with_team_stats(X,team_stats,'HAGG','HomeTeam')\n",
    "    print('Added: \\'HAS\\',\\'HDS\\',\\'HCON\\',\\'HAGG\\'')\n",
    "    \n",
    "    X = match_with_team_stats(X,team_stats,'AAS','AwayTeam')\n",
    "    X = match_with_team_stats(X,team_stats,'ADS','AwayTeam')\n",
    "    X = match_with_team_stats(X,team_stats,'ACON','AwayTeam')\n",
    "    X = match_with_team_stats(X,team_stats,'AAGG','AwayTeam')\n",
    "    print('Added: \\'AAS\\',\\'ADS\\',\\'ACON\\',\\'AAGG\\'')\n",
    "    \n",
    "    # Add Home Shots on Target(HST), Away Shots on Target(AST), Home Corners(HC), Away Corners(AC)\n",
    "    X[['FFPTSH','FFPTSA','FFHG','FFAG']] = X.apply(get_form_match, axis=1, result_type='expand')\n",
    "    print('Added: \\'FFPTSH\\',\\'FFPTSA\\',\\'FFHG\\',\\'FFAG\\'')\n",
    "    X[['PSH','SSH','CSH']] = X.apply(get_streak_team, args=['HomeTeam'], axis=1, result_type='expand')\n",
    "    print('Added: \\'PSH\\',\\'SSH\\',\\'CSH\\'')\n",
    "    X[['PSA','SSA','CSA']] = X.apply(get_streak_team, args=['AwayTeam'], axis=1, result_type='expand')\n",
    "    print('Added: \\'PSA\\',\\'SSA\\',\\'CSA\\'')\n",
    "    \n",
    "    return X"
   ]
  },
  {
   "cell_type": "markdown",
   "metadata": {},
   "source": [
    "#### Defining X"
   ]
  },
  {
   "cell_type": "code",
   "execution_count": 41,
   "metadata": {
    "ExecuteTime": {
     "end_time": "2020-01-02T00:49:03.794963Z",
     "start_time": "2020-01-02T00:46:57.541313Z"
    },
    "colab": {},
    "colab_type": "code",
    "id": "eXwiB8V9ng-s",
    "outputId": "df85d8e5-c285-4695-8132-82a9b24eb915"
   },
   "outputs": [
    {
     "name": "stdout",
     "output_type": "stream",
     "text": [
      "Added: 'HAS','HDS','HCON','HAGG'\n",
      "Added: 'AAS','ADS','ACON','AAGG'\n",
      "Added: 'FFPTSH','FFPTSA','FFHG','FFAG'\n",
      "Added: 'PSH','SSH','CSH'\n",
      "Added: 'PSA','SSA','CSA'\n"
     ]
    },
    {
     "data": {
      "text/html": [
       "<div>\n",
       "<style scoped>\n",
       "    .dataframe tbody tr th:only-of-type {\n",
       "        vertical-align: middle;\n",
       "    }\n",
       "\n",
       "    .dataframe tbody tr th {\n",
       "        vertical-align: top;\n",
       "    }\n",
       "\n",
       "    .dataframe thead th {\n",
       "        text-align: right;\n",
       "    }\n",
       "</style>\n",
       "<table border=\"1\" class=\"dataframe\">\n",
       "  <thead>\n",
       "    <tr style=\"text-align: right;\">\n",
       "      <th></th>\n",
       "      <th>HomeTeam</th>\n",
       "      <th>AwayTeam</th>\n",
       "      <th>HAS</th>\n",
       "      <th>HDS</th>\n",
       "      <th>HCON</th>\n",
       "      <th>HAGG</th>\n",
       "      <th>AAS</th>\n",
       "      <th>ADS</th>\n",
       "      <th>ACON</th>\n",
       "      <th>AAGG</th>\n",
       "      <th>FFPTSH</th>\n",
       "      <th>FFPTSA</th>\n",
       "      <th>FFHG</th>\n",
       "      <th>FFAG</th>\n",
       "      <th>PSH</th>\n",
       "      <th>SSH</th>\n",
       "      <th>CSH</th>\n",
       "      <th>PSA</th>\n",
       "      <th>SSA</th>\n",
       "      <th>CSA</th>\n",
       "    </tr>\n",
       "  </thead>\n",
       "  <tbody>\n",
       "    <tr>\n",
       "      <th>4175</th>\n",
       "      <td>Liverpool</td>\n",
       "      <td>Wolves</td>\n",
       "      <td>1.101538</td>\n",
       "      <td>0.919493</td>\n",
       "      <td>0.442366</td>\n",
       "      <td>1.014983</td>\n",
       "      <td>0.472007</td>\n",
       "      <td>1.505926</td>\n",
       "      <td>0.384393</td>\n",
       "      <td>1.129735</td>\n",
       "      <td>2.400000</td>\n",
       "      <td>0.600000</td>\n",
       "      <td>2.000000</td>\n",
       "      <td>0.400000</td>\n",
       "      <td>2.466667</td>\n",
       "      <td>2.466667</td>\n",
       "      <td>0.800000</td>\n",
       "      <td>1.866667</td>\n",
       "      <td>1.600000</td>\n",
       "      <td>1.066667</td>\n",
       "    </tr>\n",
       "    <tr>\n",
       "      <th>4176</th>\n",
       "      <td>Man United</td>\n",
       "      <td>Cardiff</td>\n",
       "      <td>0.693846</td>\n",
       "      <td>1.640785</td>\n",
       "      <td>0.310044</td>\n",
       "      <td>0.891805</td>\n",
       "      <td>1.356763</td>\n",
       "      <td>1.144258</td>\n",
       "      <td>0.455481</td>\n",
       "      <td>0.971516</td>\n",
       "      <td>2.333333</td>\n",
       "      <td>0.333333</td>\n",
       "      <td>3.000000</td>\n",
       "      <td>1.000000</td>\n",
       "      <td>1.666667</td>\n",
       "      <td>1.400000</td>\n",
       "      <td>1.333333</td>\n",
       "      <td>0.800000</td>\n",
       "      <td>0.866667</td>\n",
       "      <td>1.866667</td>\n",
       "    </tr>\n",
       "    <tr>\n",
       "      <th>4177</th>\n",
       "      <td>Southampton</td>\n",
       "      <td>Huddersfield</td>\n",
       "      <td>0.752137</td>\n",
       "      <td>1.073877</td>\n",
       "      <td>0.426641</td>\n",
       "      <td>1.024837</td>\n",
       "      <td>0.842869</td>\n",
       "      <td>1.505926</td>\n",
       "      <td>0.474432</td>\n",
       "      <td>1.036960</td>\n",
       "      <td>1.666667</td>\n",
       "      <td>0.666667</td>\n",
       "      <td>1.333333</td>\n",
       "      <td>0.666667</td>\n",
       "      <td>1.266667</td>\n",
       "      <td>1.400000</td>\n",
       "      <td>1.666667</td>\n",
       "      <td>0.266667</td>\n",
       "      <td>0.533333</td>\n",
       "      <td>2.533333</td>\n",
       "    </tr>\n",
       "    <tr>\n",
       "      <th>4178</th>\n",
       "      <td>Tottenham</td>\n",
       "      <td>Everton</td>\n",
       "      <td>0.724308</td>\n",
       "      <td>1.303637</td>\n",
       "      <td>0.396022</td>\n",
       "      <td>1.162796</td>\n",
       "      <td>0.831631</td>\n",
       "      <td>1.573355</td>\n",
       "      <td>0.588785</td>\n",
       "      <td>0.979417</td>\n",
       "      <td>2.600000</td>\n",
       "      <td>0.200000</td>\n",
       "      <td>3.400000</td>\n",
       "      <td>1.000000</td>\n",
       "      <td>1.466667</td>\n",
       "      <td>1.266667</td>\n",
       "      <td>1.000000</td>\n",
       "      <td>1.533333</td>\n",
       "      <td>1.266667</td>\n",
       "      <td>0.866667</td>\n",
       "    </tr>\n",
       "    <tr>\n",
       "      <th>4179</th>\n",
       "      <td>Watford</td>\n",
       "      <td>West Ham</td>\n",
       "      <td>0.913846</td>\n",
       "      <td>1.159787</td>\n",
       "      <td>0.408699</td>\n",
       "      <td>0.980986</td>\n",
       "      <td>0.977728</td>\n",
       "      <td>1.652023</td>\n",
       "      <td>0.345367</td>\n",
       "      <td>0.829099</td>\n",
       "      <td>2.000000</td>\n",
       "      <td>0.800000</td>\n",
       "      <td>1.800000</td>\n",
       "      <td>1.000000</td>\n",
       "      <td>1.200000</td>\n",
       "      <td>1.266667</td>\n",
       "      <td>1.533333</td>\n",
       "      <td>1.200000</td>\n",
       "      <td>1.200000</td>\n",
       "      <td>1.466667</td>\n",
       "    </tr>\n",
       "  </tbody>\n",
       "</table>\n",
       "</div>"
      ],
      "text/plain": [
       "         HomeTeam      AwayTeam       HAS       HDS      HCON      HAGG  \\\n",
       "4175    Liverpool        Wolves  1.101538  0.919493  0.442366  1.014983   \n",
       "4176   Man United       Cardiff  0.693846  1.640785  0.310044  0.891805   \n",
       "4177  Southampton  Huddersfield  0.752137  1.073877  0.426641  1.024837   \n",
       "4178    Tottenham       Everton  0.724308  1.303637  0.396022  1.162796   \n",
       "4179      Watford      West Ham  0.913846  1.159787  0.408699  0.980986   \n",
       "\n",
       "           AAS       ADS      ACON      AAGG    FFPTSH    FFPTSA      FFHG  \\\n",
       "4175  0.472007  1.505926  0.384393  1.129735  2.400000  0.600000  2.000000   \n",
       "4176  1.356763  1.144258  0.455481  0.971516  2.333333  0.333333  3.000000   \n",
       "4177  0.842869  1.505926  0.474432  1.036960  1.666667  0.666667  1.333333   \n",
       "4178  0.831631  1.573355  0.588785  0.979417  2.600000  0.200000  3.400000   \n",
       "4179  0.977728  1.652023  0.345367  0.829099  2.000000  0.800000  1.800000   \n",
       "\n",
       "          FFAG       PSH       SSH       CSH       PSA       SSA       CSA  \n",
       "4175  0.400000  2.466667  2.466667  0.800000  1.866667  1.600000  1.066667  \n",
       "4176  1.000000  1.666667  1.400000  1.333333  0.800000  0.866667  1.866667  \n",
       "4177  0.666667  1.266667  1.400000  1.666667  0.266667  0.533333  2.533333  \n",
       "4178  1.000000  1.466667  1.266667  1.000000  1.533333  1.266667  0.866667  \n",
       "4179  1.000000  1.200000  1.266667  1.533333  1.200000  1.200000  1.466667  "
      ]
     },
     "execution_count": 41,
     "metadata": {},
     "output_type": "execute_result"
    }
   ],
   "source": [
    "X = data[['HomeTeam', 'AwayTeam']]\n",
    "X = build_X(X,team_stats)\n",
    "\n",
    "X.tail()"
   ]
  },
  {
   "cell_type": "markdown",
   "metadata": {},
   "source": [
    "#### Defining y"
   ]
  },
  {
   "cell_type": "code",
   "execution_count": 68,
   "metadata": {
    "ExecuteTime": {
     "end_time": "2020-01-02T00:49:03.803958Z",
     "start_time": "2020-01-02T00:49:03.796962Z"
    },
    "colab": {},
    "colab_type": "code",
    "id": "nok7uDyeng-z",
    "outputId": "19b799c7-0c73-4f87-9ad4-e4d42971e984"
   },
   "outputs": [
    {
     "data": {
      "text/html": [
       "<div>\n",
       "<style scoped>\n",
       "    .dataframe tbody tr th:only-of-type {\n",
       "        vertical-align: middle;\n",
       "    }\n",
       "\n",
       "    .dataframe tbody tr th {\n",
       "        vertical-align: top;\n",
       "    }\n",
       "\n",
       "    .dataframe thead th {\n",
       "        text-align: right;\n",
       "    }\n",
       "</style>\n",
       "<table border=\"1\" class=\"dataframe\">\n",
       "  <thead>\n",
       "    <tr style=\"text-align: right;\">\n",
       "      <th></th>\n",
       "      <th>FTR</th>\n",
       "    </tr>\n",
       "  </thead>\n",
       "  <tbody>\n",
       "    <tr>\n",
       "      <th>0</th>\n",
       "      <td>H</td>\n",
       "    </tr>\n",
       "    <tr>\n",
       "      <th>1</th>\n",
       "      <td>H</td>\n",
       "    </tr>\n",
       "    <tr>\n",
       "      <th>2</th>\n",
       "      <td>A</td>\n",
       "    </tr>\n",
       "    <tr>\n",
       "      <th>3</th>\n",
       "      <td>H</td>\n",
       "    </tr>\n",
       "    <tr>\n",
       "      <th>4</th>\n",
       "      <td>H</td>\n",
       "    </tr>\n",
       "  </tbody>\n",
       "</table>\n",
       "</div>"
      ],
      "text/plain": [
       "  FTR\n",
       "0   H\n",
       "1   H\n",
       "2   A\n",
       "3   H\n",
       "4   H"
      ]
     },
     "execution_count": 68,
     "metadata": {},
     "output_type": "execute_result"
    }
   ],
   "source": [
    "y = data[['FTR']]\n",
    "\n",
    "y.head()"
   ]
  },
  {
   "cell_type": "markdown",
   "metadata": {
    "colab_type": "text",
    "id": "PdCKYplung-3"
   },
   "source": [
    "### Label Encoding Categorical Columns"
   ]
  },
  {
   "cell_type": "code",
   "execution_count": 69,
   "metadata": {
    "ExecuteTime": {
     "end_time": "2020-01-02T00:49:03.822948Z",
     "start_time": "2020-01-02T00:49:03.804957Z"
    }
   },
   "outputs": [],
   "source": [
    "non_numerical_cols=[col for col in X.columns if col not in X._get_numeric_data().columns]\n",
    "X[non_numerical_cols]=X[non_numerical_cols].apply(LabelEncoder().fit_transform)\n",
    "y = LabelEncoder().fit_transform(y)"
   ]
  },
  {
   "cell_type": "markdown",
   "metadata": {
    "colab_type": "text",
    "id": "pvDuQ4Qang--"
   },
   "source": [
    "### Exploratory Data Analysis on Engineered Features"
   ]
  },
  {
   "cell_type": "markdown",
   "metadata": {
    "colab_type": "text",
    "id": "ZwTMgrPmng_A"
   },
   "source": [
    "A histogram plot of the number of occurances of the different values of each features."
   ]
  },
  {
   "cell_type": "code",
   "execution_count": 70,
   "metadata": {
    "ExecuteTime": {
     "end_time": "2020-01-02T00:49:07.947573Z",
     "start_time": "2020-01-02T00:49:03.824947Z"
    },
    "colab": {},
    "colab_type": "code",
    "id": "udAtz1Ryng_C",
    "outputId": "94153635-6a57-43e0-f165-460828c37583"
   },
   "outputs": [
    {
     "data": {
      "image/png": "[encoded data removed]",
      "text/plain": [
       "<Figure size 1152x1440 with 25 Axes>"
      ]
     },
     "metadata": {},
     "output_type": "display_data"
    }
   ],
   "source": [
    "data_for_cor = X.copy()\n",
    "data_for_cor['FTR'] = y\n",
    "\n",
    "data_for_cor.hist(figsize=(16, 20), bins=20, xlabelsize=8, ylabelsize=8)\n",
    "sns.set_style(\"white\")\n",
    "plt.show()"
   ]
  },
  {
   "cell_type": "markdown",
   "metadata": {
    "colab_type": "text",
    "id": "UryyqXqnng_K"
   },
   "source": [
    "#### Correlation plot for Engineered Features"
   ]
  },
  {
   "cell_type": "markdown",
   "metadata": {
    "colab_type": "text",
    "id": "Yu0Zx32Ing_N"
   },
   "source": [
    "Similar to the correlation matrix plot for the raw column data, this plot visualizes the correlation between the engineered featuers, the competing teams and the full time result. This is represented on a heatmap."
   ]
  },
  {
   "cell_type": "code",
   "execution_count": 71,
   "metadata": {
    "ExecuteTime": {
     "end_time": "2020-01-02T00:49:09.507466Z",
     "start_time": "2020-01-02T00:49:07.948555Z"
    },
    "colab": {},
    "colab_type": "code",
    "id": "qUSANXbkng_O",
    "outputId": "f44bc2f5-1ca6-4c8c-f939-d4a37b9bbd76"
   },
   "outputs": [
    {
     "data": {
      "image/png": "[encoded data removed]",
      "text/plain": [
       "<Figure size 1440x1080 with 2 Axes>"
      ]
     },
     "metadata": {},
     "output_type": "display_data"
    },
    {
     "data": {
      "text/plain": [
       "<Figure size 576x432 with 0 Axes>"
      ]
     },
     "metadata": {},
     "output_type": "display_data"
    }
   ],
   "source": [
    "plt.figure(figsize=(20,15))\n",
    "ax = plt.subplot(111)\n",
    "ax.set_title(\"Heatmap of Correllation Matrix for Columns in Raw Dataset\",\n",
    "             fontsize=20,fontweight='bold')\n",
    "sns.heatmap(data_for_cor.corr(), annot = True, fmt='.1f', cmap= 'coolwarm', \n",
    "            ax=ax)\n",
    "plt.show()\n",
    "plt.savefig('X_corr_heatmap.png')"
   ]
  },
  {
   "cell_type": "markdown",
   "metadata": {
    "colab_type": "text",
    "id": "RreVV7kFng_U"
   },
   "source": [
    "### Scaling the features"
   ]
  },
  {
   "cell_type": "code",
   "execution_count": 72,
   "metadata": {
    "ExecuteTime": {
     "end_time": "2020-01-02T00:49:09.528994Z",
     "start_time": "2020-01-02T00:49:09.508466Z"
    },
    "colab": {},
    "colab_type": "code",
    "id": "-DUbTBJGng_V",
    "outputId": "7bb8eded-a01a-44b2-f7a1-5409c561693f"
   },
   "outputs": [],
   "source": [
    "X[X.columns] =MinMaxScaler().fit_transform(X[X.columns])"
   ]
  },
  {
   "cell_type": "code",
   "execution_count": 73,
   "metadata": {
    "ExecuteTime": {
     "end_time": "2020-01-02T00:49:09.547983Z",
     "start_time": "2020-01-02T00:49:09.529993Z"
    },
    "scrolled": false
   },
   "outputs": [
    {
     "data": {
      "text/html": [
       "<div>\n",
       "<style scoped>\n",
       "    .dataframe tbody tr th:only-of-type {\n",
       "        vertical-align: middle;\n",
       "    }\n",
       "\n",
       "    .dataframe tbody tr th {\n",
       "        vertical-align: top;\n",
       "    }\n",
       "\n",
       "    .dataframe thead th {\n",
       "        text-align: right;\n",
       "    }\n",
       "</style>\n",
       "<table border=\"1\" class=\"dataframe\">\n",
       "  <thead>\n",
       "    <tr style=\"text-align: right;\">\n",
       "      <th></th>\n",
       "      <th>HomeTeam</th>\n",
       "      <th>AwayTeam</th>\n",
       "      <th>HAS</th>\n",
       "      <th>HDS</th>\n",
       "      <th>HCON</th>\n",
       "      <th>HAGG</th>\n",
       "      <th>AAS</th>\n",
       "      <th>ADS</th>\n",
       "      <th>ACON</th>\n",
       "      <th>AAGG</th>\n",
       "      <th>FFPTSH</th>\n",
       "      <th>FFPTSA</th>\n",
       "      <th>FFHG</th>\n",
       "      <th>FFAG</th>\n",
       "      <th>PSH</th>\n",
       "      <th>SSH</th>\n",
       "      <th>CSH</th>\n",
       "      <th>PSA</th>\n",
       "      <th>SSA</th>\n",
       "      <th>CSA</th>\n",
       "    </tr>\n",
       "  </thead>\n",
       "  <tbody>\n",
       "    <tr>\n",
       "      <th>0</th>\n",
       "      <td>0.000000</td>\n",
       "      <td>0.914286</td>\n",
       "      <td>0.790451</td>\n",
       "      <td>0.033195</td>\n",
       "      <td>0.636545</td>\n",
       "      <td>0.359754</td>\n",
       "      <td>0.642942</td>\n",
       "      <td>0.519651</td>\n",
       "      <td>0.212582</td>\n",
       "      <td>0.539924</td>\n",
       "      <td>0.544657</td>\n",
       "      <td>0.372648</td>\n",
       "      <td>0.311005</td>\n",
       "      <td>0.195136</td>\n",
       "      <td>0.544657</td>\n",
       "      <td>0.409217</td>\n",
       "      <td>0.292703</td>\n",
       "      <td>0.544657</td>\n",
       "      <td>0.388756</td>\n",
       "      <td>0.292703</td>\n",
       "    </tr>\n",
       "    <tr>\n",
       "      <th>1</th>\n",
       "      <td>0.142857</td>\n",
       "      <td>0.771429</td>\n",
       "      <td>0.273541</td>\n",
       "      <td>0.440871</td>\n",
       "      <td>0.555493</td>\n",
       "      <td>0.510676</td>\n",
       "      <td>0.065606</td>\n",
       "      <td>0.903930</td>\n",
       "      <td>0.145344</td>\n",
       "      <td>0.524715</td>\n",
       "      <td>0.544657</td>\n",
       "      <td>0.372648</td>\n",
       "      <td>0.311005</td>\n",
       "      <td>0.195136</td>\n",
       "      <td>0.544657</td>\n",
       "      <td>0.409217</td>\n",
       "      <td>0.292703</td>\n",
       "      <td>0.544657</td>\n",
       "      <td>0.388756</td>\n",
       "      <td>0.292703</td>\n",
       "    </tr>\n",
       "    <tr>\n",
       "      <th>2</th>\n",
       "      <td>0.342857</td>\n",
       "      <td>0.085714</td>\n",
       "      <td>0.175066</td>\n",
       "      <td>0.109959</td>\n",
       "      <td>0.683125</td>\n",
       "      <td>0.370107</td>\n",
       "      <td>0.876740</td>\n",
       "      <td>0.000000</td>\n",
       "      <td>0.469319</td>\n",
       "      <td>0.353267</td>\n",
       "      <td>0.544657</td>\n",
       "      <td>0.372648</td>\n",
       "      <td>0.311005</td>\n",
       "      <td>0.195136</td>\n",
       "      <td>0.544657</td>\n",
       "      <td>0.409217</td>\n",
       "      <td>0.292703</td>\n",
       "      <td>0.544657</td>\n",
       "      <td>0.388756</td>\n",
       "      <td>0.292703</td>\n",
       "    </tr>\n",
       "    <tr>\n",
       "      <th>3</th>\n",
       "      <td>0.428571</td>\n",
       "      <td>0.371429</td>\n",
       "      <td>0.335544</td>\n",
       "      <td>0.338174</td>\n",
       "      <td>0.799783</td>\n",
       "      <td>1.000000</td>\n",
       "      <td>0.524851</td>\n",
       "      <td>0.415575</td>\n",
       "      <td>0.084530</td>\n",
       "      <td>0.778200</td>\n",
       "      <td>0.544657</td>\n",
       "      <td>0.372648</td>\n",
       "      <td>0.311005</td>\n",
       "      <td>0.195136</td>\n",
       "      <td>0.544657</td>\n",
       "      <td>0.409217</td>\n",
       "      <td>0.292703</td>\n",
       "      <td>0.544657</td>\n",
       "      <td>0.388756</td>\n",
       "      <td>0.292703</td>\n",
       "    </tr>\n",
       "    <tr>\n",
       "      <th>4</th>\n",
       "      <td>0.571429</td>\n",
       "      <td>0.857143</td>\n",
       "      <td>0.496021</td>\n",
       "      <td>1.000000</td>\n",
       "      <td>0.805183</td>\n",
       "      <td>0.669039</td>\n",
       "      <td>0.188072</td>\n",
       "      <td>0.740611</td>\n",
       "      <td>0.308306</td>\n",
       "      <td>0.807605</td>\n",
       "      <td>0.544657</td>\n",
       "      <td>0.372648</td>\n",
       "      <td>0.311005</td>\n",
       "      <td>0.195136</td>\n",
       "      <td>0.544657</td>\n",
       "      <td>0.409217</td>\n",
       "      <td>0.292703</td>\n",
       "      <td>0.544657</td>\n",
       "      <td>0.388756</td>\n",
       "      <td>0.292703</td>\n",
       "    </tr>\n",
       "  </tbody>\n",
       "</table>\n",
       "</div>"
      ],
      "text/plain": [
       "   HomeTeam  AwayTeam       HAS       HDS      HCON      HAGG       AAS  \\\n",
       "0  0.000000  0.914286  0.790451  0.033195  0.636545  0.359754  0.642942   \n",
       "1  0.142857  0.771429  0.273541  0.440871  0.555493  0.510676  0.065606   \n",
       "2  0.342857  0.085714  0.175066  0.109959  0.683125  0.370107  0.876740   \n",
       "3  0.428571  0.371429  0.335544  0.338174  0.799783  1.000000  0.524851   \n",
       "4  0.571429  0.857143  0.496021  1.000000  0.805183  0.669039  0.188072   \n",
       "\n",
       "        ADS      ACON      AAGG    FFPTSH    FFPTSA      FFHG      FFAG  \\\n",
       "0  0.519651  0.212582  0.539924  0.544657  0.372648  0.311005  0.195136   \n",
       "1  0.903930  0.145344  0.524715  0.544657  0.372648  0.311005  0.195136   \n",
       "2  0.000000  0.469319  0.353267  0.544657  0.372648  0.311005  0.195136   \n",
       "3  0.415575  0.084530  0.778200  0.544657  0.372648  0.311005  0.195136   \n",
       "4  0.740611  0.308306  0.807605  0.544657  0.372648  0.311005  0.195136   \n",
       "\n",
       "        PSH       SSH       CSH       PSA       SSA       CSA  \n",
       "0  0.544657  0.409217  0.292703  0.544657  0.388756  0.292703  \n",
       "1  0.544657  0.409217  0.292703  0.544657  0.388756  0.292703  \n",
       "2  0.544657  0.409217  0.292703  0.544657  0.388756  0.292703  \n",
       "3  0.544657  0.409217  0.292703  0.544657  0.388756  0.292703  \n",
       "4  0.544657  0.409217  0.292703  0.544657  0.388756  0.292703  "
      ]
     },
     "execution_count": 73,
     "metadata": {},
     "output_type": "execute_result"
    }
   ],
   "source": [
    "X.head()"
   ]
  },
  {
   "cell_type": "markdown",
   "metadata": {
    "colab_type": "text",
    "id": "_AE45x86ng_a"
   },
   "source": [
    "### Splitting into training and testing datasets"
   ]
  },
  {
   "cell_type": "markdown",
   "metadata": {
    "colab_type": "text",
    "id": "Ug2vPjuong_b"
   },
   "source": [
    "Splitting the full list of input features into training and testing datasets. The output labels are also split accordingly. The decided splitting ratio is 1:4 (test:train)."
   ]
  },
  {
   "cell_type": "code",
   "execution_count": 74,
   "metadata": {},
   "outputs": [],
   "source": [
    "# y = label_binarize(y, classes=np.unique(y))\n",
    "# n_classes = y.shape[1]"
   ]
  },
  {
   "cell_type": "code",
   "execution_count": 75,
   "metadata": {
    "ExecuteTime": {
     "end_time": "2020-01-02T00:49:09.557979Z",
     "start_time": "2020-01-02T00:49:09.548983Z"
    },
    "colab": {},
    "colab_type": "code",
    "id": "K1Wz9s6hng_d"
   },
   "outputs": [],
   "source": [
    "X_train, X_test, y_train, y_test = train_test_split(X, y, test_size=0.2, random_state=42)"
   ]
  },
  {
   "cell_type": "markdown",
   "metadata": {
    "colab_type": "text",
    "id": "SPCsgT5bng_i"
   },
   "source": [
    "# Model Training"
   ]
  },
  {
   "cell_type": "markdown",
   "metadata": {
    "colab_type": "text",
    "id": "uEJP4PFgng_j"
   },
   "source": [
    "#### Functions to train the classifiers"
   ]
  },
  {
   "cell_type": "code",
   "execution_count": 76,
   "metadata": {
    "ExecuteTime": {
     "end_time": "2020-01-02T00:49:09.565973Z",
     "start_time": "2020-01-02T00:49:09.558978Z"
    },
    "colab": {},
    "colab_type": "code",
    "id": "5SpjhESung_l"
   },
   "outputs": [],
   "source": [
    "def get_scores(model,X,y):\n",
    "    scores = cross_validate(model_LR, X, y, scoring=('accuracy','f1_macro','precision_macro','recall_macro','roc_auc_ovr'),\n",
    "                            cv=10, return_train_score=True,n_jobs=n_cpu)\n",
    "    print('Accuracy: %f'%(scores['test_accuracy'].mean()))\n",
    "    print('Precision: %f'%(scores['test_precision_macro'].mean()))\n",
    "    print('Recall: %f'%(scores['test_recall_macro'].mean()))\n",
    "    print('f1 Score: %f'%(scores['test_f1_macro'].mean()))\n",
    "    print('ROC-AUC: %f'%(scores['test_roc_auc_ovr'].mean()))\n",
    "    return scores"
   ]
  },
  {
   "cell_type": "code",
   "execution_count": 77,
   "metadata": {
    "ExecuteTime": {
     "end_time": "2020-01-02T00:49:09.573969Z",
     "start_time": "2020-01-02T00:49:09.566973Z"
    }
   },
   "outputs": [],
   "source": [
    "def get_model_score(model,X_train,y_train,X_test,y_test):    \n",
    "    scores = {}\n",
    "    \n",
    "    model.fit(X_train,y_train)\n",
    "    y_pred = model.predict(X_test)\n",
    "    \n",
    "    ovr_classifier = OneVsRestClassifier(model)\n",
    "    \n",
    "#     y_train_ovr = label_binarize(y_train, classes=np.unique(y_train))\n",
    "    y_test_ovr = label_binarize(y_test, classes=np.unique(y_test))\n",
    "    y_score = ovr_classifier.fit(X_train, y_train).decision_function(X_test)\n",
    "    \n",
    "    y_pred_ovr = ovr_classifier.predict(X_test)\n",
    "    scores['accuracy'] = (accuracy_score(y_test, y_pred))\n",
    "    scores['precision'] = (precision_score(y_test, y_pred,average='macro'))\n",
    "    scores['recall'] = (recall_score(y_test, y_pred,average='macro'))\n",
    "    scores['f1'] = (f1_score(y_test, y_pred,average='macro'))\n",
    "    scores['roc_auc'] = (roc_auc_score(y_test_ovr, y_score,average='macro', multi_class='ovr'))\n",
    "    \n",
    "    return scores"
   ]
  },
  {
   "cell_type": "code",
   "execution_count": 78,
   "metadata": {
    "ExecuteTime": {
     "end_time": "2020-01-02T00:49:09.582964Z",
     "start_time": "2020-01-02T00:49:09.575967Z"
    },
    "colab": {},
    "colab_type": "code",
    "id": "dO0_Xu8yng_v"
   },
   "outputs": [],
   "source": [
    "def get_best_params_RandomizedCV(model,X,y,param_grid,refit='accuracy'):\n",
    "    scoring=('accuracy','f1_macro','roc_auc_ovr')\n",
    "    other_scores=[score for score in list(scoring) if score!=refit] \n",
    "    grid_results = RandomizedSearchCV(model, param_grid, \n",
    "                                       cv=10,n_jobs=n_cpu,\n",
    "                                       scoring=scoring,\n",
    "                                       refit=refit)\n",
    "    grid_results.fit(X, y)\n",
    "    print('Best parameters: \\n',grid_results.best_params_)\n",
    "    cv_results=grid_results.cv_results_\n",
    "    best_index_results = np.nonzero(cv_results['rank_test_%s'%(refit)] == 1)[0][0]\n",
    "    print('Best mean %s Score: '%(refit),grid_results.best_score_)\n",
    "    print('Best mean %s Score: '%(other_scores[0]),cv_results['mean_test_%s'%(other_scores[0])][best_index_results])\n",
    "    print('Best mean %s Score: '%(other_scores[1]),cv_results['mean_test_%s'%(other_scores[0])][best_index_results])\n",
    "    return grid_results.best_params_"
   ]
  },
  {
   "cell_type": "code",
   "execution_count": 79,
   "metadata": {
    "ExecuteTime": {
     "end_time": "2020-01-02T00:49:09.591958Z",
     "start_time": "2020-01-02T00:49:09.583962Z"
    },
    "colab": {},
    "colab_type": "code",
    "id": "hIenirnqnhAD"
   },
   "outputs": [],
   "source": [
    "def get_best_params_GridCV(model,X,y,param_grid,refit='accuracy'):\n",
    "    scoring=('accuracy','f1_macro','roc_auc_ovr')\n",
    "    other_scores=[score for score in list(scoring) if score!=refit] \n",
    "    grid_results = GridSearchCV(model, param_grid, \n",
    "                                       cv=10,n_jobs=n_cpu,\n",
    "                                       scoring=scoring,\n",
    "                                       refit=refit)\n",
    "    grid_results.fit(X, y)\n",
    "    print('Best parameters: \\n',grid_results.best_params_)\n",
    "    cv_results=grid_results.cv_results_\n",
    "    best_index_results = np.nonzero(cv_results['rank_test_%s'%(refit)] == 1)[0][0]\n",
    "    print('Best mean %s Score: '%(refit),grid_results.best_score_)\n",
    "    print('Best mean %s Score: '%(other_scores[0]),cv_results['mean_test_%s'%(other_scores[0])][best_index_results])\n",
    "    print('Best mean %s Score: '%(other_scores[1]),cv_results['mean_test_%s'%(other_scores[0])][best_index_results])\n",
    "    return grid_results.best_params_"
   ]
  },
  {
   "cell_type": "code",
   "execution_count": 80,
   "metadata": {
    "ExecuteTime": {
     "end_time": "2020-01-02T00:49:09.599953Z",
     "start_time": "2020-01-02T00:49:09.593957Z"
    }
   },
   "outputs": [],
   "source": [
    "all_scores = {}"
   ]
  },
  {
   "cell_type": "markdown",
   "metadata": {
    "colab_type": "text",
    "id": "JNuJFxKBnhAJ"
   },
   "source": [
    "### Logistic Regression"
   ]
  },
  {
   "cell_type": "code",
   "execution_count": 83,
   "metadata": {
    "ExecuteTime": {
     "end_time": "2020-01-02T00:50:11.690276Z",
     "start_time": "2020-01-02T00:49:09.600952Z"
    },
    "colab": {},
    "colab_type": "code",
    "id": "M8I3N406nhAK",
    "outputId": "fa680332-2da4-484a-c53a-915e10c64db4"
   },
   "outputs": [
    {
     "name": "stdout",
     "output_type": "stream",
     "text": [
      "Accuracy: 0.522436\n",
      "Precision: 0.391183\n",
      "Recall: 0.437976\n",
      "f1 Score: 0.383486\n",
      "ROC-AUC: 0.647349\n",
      "Best parameters: \n",
      " {'solver': 'saga', 'penalty': 'l1', 'fit_intercept': False, 'class_weight': None, 'C': 2.782559402207126}\n",
      "Best mean accuracy Score:  0.5212369291268211\n",
      "Best mean f1_macro Score:  0.38462538367181165\n",
      "Best mean roc_auc_ovr Score:  0.38462538367181165\n"
     ]
    }
   ],
   "source": [
    "model_LR = LogisticRegression(n_jobs=n_cpu)\n",
    "scores_LR=get_scores(model_LR,X_train,y_train)\n",
    "\n",
    "param_grid_LR = {\n",
    "    'penalty' : ['l1','l2', 'elasticnet'],\n",
    "    'C' : np.logspace(-4,4,10),\n",
    "    'class_weight' : ['balanced',None],\n",
    "    'solver' : ['newton-cg', 'sag','saga', 'lbfgs'],\n",
    "    'fit_intercept' : [True, False]\n",
    "}\n",
    "\n",
    "# best_params_LR = get_best_model_GridCV(model_LR, X_train, y_train, param_grid_LR, refit='accuracy')\n",
    "best_params_LR=get_best_params_RandomizedCV(model_LR, X_train, y_train, param_grid_LR, refit='accuracy')"
   ]
  },
  {
   "cell_type": "code",
   "execution_count": 85,
   "metadata": {
    "ExecuteTime": {
     "end_time": "2020-01-02T00:50:11.812774Z",
     "start_time": "2020-01-02T00:50:11.692257Z"
    }
   },
   "outputs": [
    {
     "name": "stdout",
     "output_type": "stream",
     "text": [
      "The accuracy score is: 0.522727\n",
      "The precision score is: 0.482900\n",
      "The recall score is: 0.435590\n",
      "The f1 score is: 0.384958\n",
      "The roc_auc score is: 0.651002\n"
     ]
    }
   ],
   "source": [
    "model_LR.set_params(**best_params_LR)\n",
    "\n",
    "all_scores['LR'] = get_model_score(model_LR,X_train,y_train,X_test,y_test)\n",
    "\n",
    "for key, value in all_scores['LR'].items():\n",
    "    print('The %s score is: %f' % (key,value))"
   ]
  },
  {
   "cell_type": "markdown",
   "metadata": {
    "colab_type": "text",
    "id": "xMdh41PTnhAR"
   },
   "source": [
    "### Multi-Layer Perceptron Neural Network"
   ]
  },
  {
   "cell_type": "code",
   "execution_count": 86,
   "metadata": {
    "ExecuteTime": {
     "end_time": "2020-01-02T00:51:13.640904Z",
     "start_time": "2020-01-02T00:50:11.815773Z"
    },
    "colab": {},
    "colab_type": "code",
    "id": "rtmggDecnhAU",
    "outputId": "9c772951-9c12-4fd0-ba42-d4d7f3eb38e4"
   },
   "outputs": [
    {
     "name": "stdout",
     "output_type": "stream",
     "text": [
      "Accuracy: 0.521237\n",
      "Precision: 0.437280\n",
      "Recall: 0.437401\n",
      "f1 Score: 0.384625\n",
      "ROC-AUC: 0.647235\n",
      "Best parameters: \n",
      " {'solver': 'adam', 'learning_rate': 'constant', 'alpha': 0.0001, 'activation': 'tanh'}\n",
      "Best mean accuracy Score:  0.5248306372329965\n",
      "Best mean f1_macro Score:  0.3839335963968502\n",
      "Best mean roc_auc_ovr Score:  0.3839335963968502\n"
     ]
    }
   ],
   "source": [
    "model_MLP = MLPClassifier()\n",
    "scores_MLP = get_scores(model_MLP,X_train,y_train)\n",
    "\n",
    "param_grid_MLP = {\n",
    "#     'hidden_layer_sizes': [(50,50,50), (50,100,50), (100,)],\n",
    "    'activation': ['tanh', 'relu','logistic'],\n",
    "    'solver': ['sgd', 'adam'],\n",
    "    'alpha': np.linspace(0.0001, 0.9,5),\n",
    "    'learning_rate': ['constant','adaptive'],\n",
    "}\n",
    "\n",
    "# best_params_MLP = get_best_params_GridCV(model_MLP, X_train, y_train, param_grid_MLP, refit='accuracy')\n",
    "best_params_MLP = get_best_params_RandomizedCV(model_MLP, X_train, y_train, param_grid_MLP, refit='accuracy')"
   ]
  },
  {
   "cell_type": "code",
   "execution_count": 87,
   "metadata": {
    "ExecuteTime": {
     "end_time": "2020-01-02T00:51:16.337642Z",
     "start_time": "2020-01-02T00:51:13.641914Z"
    }
   },
   "outputs": [
    {
     "ename": "AttributeError",
     "evalue": "'MLPClassifier' object has no attribute 'decision_function'",
     "output_type": "error",
     "traceback": [
      "\u001b[1;31m---------------------------------------------------------------------------\u001b[0m",
      "\u001b[1;31mAttributeError\u001b[0m                            Traceback (most recent call last)",
      "\u001b[1;32m<ipython-input-87-a69cb30f7bfa>\u001b[0m in \u001b[0;36m<module>\u001b[1;34m\u001b[0m\n\u001b[0;32m      1\u001b[0m \u001b[0mmodel_MLP\u001b[0m\u001b[1;33m.\u001b[0m\u001b[0mset_params\u001b[0m\u001b[1;33m(\u001b[0m\u001b[1;33m**\u001b[0m\u001b[0mbest_params_MLP\u001b[0m\u001b[1;33m)\u001b[0m\u001b[1;33m\u001b[0m\u001b[1;33m\u001b[0m\u001b[0m\n\u001b[0;32m      2\u001b[0m \u001b[1;33m\u001b[0m\u001b[0m\n\u001b[1;32m----> 3\u001b[1;33m \u001b[0mall_scores\u001b[0m\u001b[1;33m[\u001b[0m\u001b[1;34m'MLP'\u001b[0m\u001b[1;33m]\u001b[0m \u001b[1;33m=\u001b[0m \u001b[0mget_model_score\u001b[0m\u001b[1;33m(\u001b[0m\u001b[0mmodel_MLP\u001b[0m\u001b[1;33m,\u001b[0m\u001b[0mX_train\u001b[0m\u001b[1;33m,\u001b[0m\u001b[0my_train\u001b[0m\u001b[1;33m,\u001b[0m\u001b[0mX_test\u001b[0m\u001b[1;33m,\u001b[0m\u001b[0my_test\u001b[0m\u001b[1;33m)\u001b[0m\u001b[1;33m\u001b[0m\u001b[1;33m\u001b[0m\u001b[0m\n\u001b[0m\u001b[0;32m      4\u001b[0m \u001b[1;33m\u001b[0m\u001b[0m\n\u001b[0;32m      5\u001b[0m \u001b[0mprint\u001b[0m\u001b[1;33m(\u001b[0m\u001b[1;34m\"Model performance on testing dataset:\"\u001b[0m\u001b[1;33m)\u001b[0m\u001b[1;33m\u001b[0m\u001b[1;33m\u001b[0m\u001b[0m\n",
      "\u001b[1;32m<ipython-input-77-bb5df14e9d04>\u001b[0m in \u001b[0;36mget_model_score\u001b[1;34m(model, X_train, y_train, X_test, y_test)\u001b[0m\n\u001b[0;32m      9\u001b[0m \u001b[1;31m#     y_train_ovr = label_binarize(y_train, classes=np.unique(y_train))\u001b[0m\u001b[1;33m\u001b[0m\u001b[1;33m\u001b[0m\u001b[1;33m\u001b[0m\u001b[0m\n\u001b[0;32m     10\u001b[0m     \u001b[0my_test_ovr\u001b[0m \u001b[1;33m=\u001b[0m \u001b[0mlabel_binarize\u001b[0m\u001b[1;33m(\u001b[0m\u001b[0my_test\u001b[0m\u001b[1;33m,\u001b[0m \u001b[0mclasses\u001b[0m\u001b[1;33m=\u001b[0m\u001b[0mnp\u001b[0m\u001b[1;33m.\u001b[0m\u001b[0munique\u001b[0m\u001b[1;33m(\u001b[0m\u001b[0my_test\u001b[0m\u001b[1;33m)\u001b[0m\u001b[1;33m)\u001b[0m\u001b[1;33m\u001b[0m\u001b[1;33m\u001b[0m\u001b[0m\n\u001b[1;32m---> 11\u001b[1;33m     \u001b[0my_score\u001b[0m \u001b[1;33m=\u001b[0m \u001b[0movr_classifier\u001b[0m\u001b[1;33m.\u001b[0m\u001b[0mfit\u001b[0m\u001b[1;33m(\u001b[0m\u001b[0mX_train\u001b[0m\u001b[1;33m,\u001b[0m \u001b[0my_train\u001b[0m\u001b[1;33m)\u001b[0m\u001b[1;33m.\u001b[0m\u001b[0mdecision_function\u001b[0m\u001b[1;33m(\u001b[0m\u001b[0mX_test\u001b[0m\u001b[1;33m)\u001b[0m\u001b[1;33m\u001b[0m\u001b[1;33m\u001b[0m\u001b[0m\n\u001b[0m\u001b[0;32m     12\u001b[0m \u001b[1;33m\u001b[0m\u001b[0m\n\u001b[0;32m     13\u001b[0m     \u001b[0my_pred_ovr\u001b[0m \u001b[1;33m=\u001b[0m \u001b[0movr_classifier\u001b[0m\u001b[1;33m.\u001b[0m\u001b[0mpredict\u001b[0m\u001b[1;33m(\u001b[0m\u001b[0mX_test\u001b[0m\u001b[1;33m)\u001b[0m\u001b[1;33m\u001b[0m\u001b[1;33m\u001b[0m\u001b[0m\n",
      "\u001b[1;32m~\\Anaconda3\\lib\\site-packages\\sklearn\\utils\\metaestimators.py\u001b[0m in \u001b[0;36m__get__\u001b[1;34m(self, obj, type)\u001b[0m\n\u001b[0;32m    108\u001b[0m                     \u001b[1;32mcontinue\u001b[0m\u001b[1;33m\u001b[0m\u001b[1;33m\u001b[0m\u001b[0m\n\u001b[0;32m    109\u001b[0m                 \u001b[1;32melse\u001b[0m\u001b[1;33m:\u001b[0m\u001b[1;33m\u001b[0m\u001b[1;33m\u001b[0m\u001b[0m\n\u001b[1;32m--> 110\u001b[1;33m                     \u001b[0mgetattr\u001b[0m\u001b[1;33m(\u001b[0m\u001b[0mdelegate\u001b[0m\u001b[1;33m,\u001b[0m \u001b[0mself\u001b[0m\u001b[1;33m.\u001b[0m\u001b[0mattribute_name\u001b[0m\u001b[1;33m)\u001b[0m\u001b[1;33m\u001b[0m\u001b[1;33m\u001b[0m\u001b[0m\n\u001b[0m\u001b[0;32m    111\u001b[0m                     \u001b[1;32mbreak\u001b[0m\u001b[1;33m\u001b[0m\u001b[1;33m\u001b[0m\u001b[0m\n\u001b[0;32m    112\u001b[0m             \u001b[1;32melse\u001b[0m\u001b[1;33m:\u001b[0m\u001b[1;33m\u001b[0m\u001b[1;33m\u001b[0m\u001b[0m\n",
      "\u001b[1;31mAttributeError\u001b[0m: 'MLPClassifier' object has no attribute 'decision_function'"
     ]
    }
   ],
   "source": [
    "model_MLP.set_params(**best_params_MLP)\n",
    "\n",
    "all_scores['MLP'] = get_model_score(model_MLP,X_train,y_train,X_test,y_test)\n",
    "\n",
    "print(\"Model performance on testing dataset:\")\n",
    "for key, value in all_scores['MLP'].items():\n",
    "    print('The %s score is: %f' % (key,value))"
   ]
  },
  {
   "cell_type": "markdown",
   "metadata": {},
   "source": [
    "### Gaussian Naive Bayes"
   ]
  },
  {
   "cell_type": "code",
   "execution_count": null,
   "metadata": {
    "ExecuteTime": {
     "end_time": "2020-01-02T00:51:16.668434Z",
     "start_time": "2020-01-02T00:51:16.338626Z"
    }
   },
   "outputs": [],
   "source": [
    "model_GNB = GaussianNB()\n",
    "scores_GNB = get_scores(model_GNB,X_train,y_train)\n",
    "\n",
    "param_grid_GNB = {\n",
    "    'var_smoothing': np.linspace(0.01,0.199,25)\n",
    "}\n",
    "\n",
    "# best_params_GNB = get_best_params_GridCV(model_GNB, X_train, y_train, param_grid_GNB, refit='accuracy')\n",
    "best_params_GNB = get_best_params_RandomizedCV(model_GNB, X_train, y_train, param_grid_GNB, refit='accuracy')"
   ]
  },
  {
   "cell_type": "code",
   "execution_count": null,
   "metadata": {
    "ExecuteTime": {
     "end_time": "2020-01-02T00:51:16.679429Z",
     "start_time": "2020-01-02T00:51:16.669433Z"
    },
    "scrolled": true
   },
   "outputs": [],
   "source": [
    "model_GNB.set_params(**best_params_GNB)\n",
    "\n",
    "all_scores['GNB'] = get_model_score(model_GNB,X_train,y_train,X_test,y_test)\n",
    "\n",
    "print(\"Model performance on testing dataset:\")\n",
    "for key, value in all_scores['GNB'].items():\n",
    "    print('The %s score is: %f' % (key,value))"
   ]
  },
  {
   "cell_type": "markdown",
   "metadata": {},
   "source": [
    "### XGBoost"
   ]
  },
  {
   "cell_type": "code",
   "execution_count": null,
   "metadata": {
    "ExecuteTime": {
     "end_time": "2020-01-02T00:51:18.614120Z",
     "start_time": "2020-01-02T00:51:16.680427Z"
    },
    "scrolled": false
   },
   "outputs": [],
   "source": [
    "model_XGB = XGBClassifier()\n",
    "scores_XGB = get_scores(model_XGB,X_train,y_train)\n",
    "\n",
    "param_grid_XGB = {\n",
    "        'min_child_weight': [1, 5, 10],\n",
    "        'gamma': [0.5, 1, 1.5, 2, 5],\n",
    "        'subsample': [0.6, 0.8, 1.0],\n",
    "        'colsample_bytree': [0.6, 0.8, 1.0],\n",
    "        'max_depth': [3, 4, 5]\n",
    "}\n",
    "\n",
    "# best_params_XGB = get_best_params_GridCV(model_XGB, X_train, y_train, param_grid_XGB, refit='accuracy')\n",
    "best_params_XGB = get_best_params_RandomizedCV(model_XGB, X_train, y_train, param_grid_XGB, refit='accuracy')"
   ]
  },
  {
   "cell_type": "code",
   "execution_count": null,
   "metadata": {
    "ExecuteTime": {
     "end_time": "2020-01-02T00:51:18.615106Z",
     "start_time": "2020-01-02T00:48:03.722Z"
    }
   },
   "outputs": [],
   "source": [
    "\n",
    "model_XGB.set_params(**best_params_XGB)\n",
    "\n",
    "all_scores['XGB'] = get_model_score(model_XGB,X_train,y_train,X_test,y_test)\n",
    "\n",
    "for key, value in all_scores['XGB'].items():\n",
    "    print('The %s score is: %f' % (key,value))"
   ]
  },
  {
   "cell_type": "markdown",
   "metadata": {},
   "source": [
    "### Random Forests"
   ]
  },
  {
   "cell_type": "code",
   "execution_count": null,
   "metadata": {
    "ExecuteTime": {
     "end_time": "2020-01-02T00:54:14.578006Z",
     "start_time": "2020-01-02T00:52:46.156195Z"
    }
   },
   "outputs": [],
   "source": [
    "model_RFC = RandomForestClassifier()\n",
    "scores_RFC = get_scores(model_RFC,X_train,y_train)\n",
    "\n",
    "param_grid_RFC = {\n",
    "    'bootstrap': [True, False],\n",
    "    'max_depth': np.append(np.linspace(10,100,10,dtype = int),None),\n",
    "    'max_features': ['auto', 'sqrt'],\n",
    "    'min_samples_leaf': np.linspace(2,5,3,dtype = int),\n",
    "    'min_samples_split': np.linspace(2,10,3,dtype = int),\n",
    "    'n_estimators': np.linspace(200,2000,10,dtype = int)\n",
    "}\n",
    "\n",
    "# best_params_RFC = get_best_params_GridCV(model_RFC, X_train, y_train, param_grid_RFC, refit='accuracy')\n",
    "best_params_RFC = get_best_params_RandomizedCV(model_RFC, X_train, y_train, param_grid_RFC, refit='accuracy')"
   ]
  },
  {
   "cell_type": "code",
   "execution_count": null,
   "metadata": {
    "ExecuteTime": {
     "end_time": "2020-01-02T00:54:18.238889Z",
     "start_time": "2020-01-02T00:54:14.580004Z"
    }
   },
   "outputs": [],
   "source": [
    "\n",
    "model_RFC.set_params(**best_params_RFC)\n",
    "\n",
    "all_scores['RFC'] = get_model_score(model_RFC,X_train,y_train,X_test,y_test)\n",
    "\n",
    "for key, value in all_scores['RFC'].items():\n",
    "    print('The %s score is: %f' % (key,value))"
   ]
  },
  {
   "cell_type": "markdown",
   "metadata": {},
   "source": [
    "### K Nearest Neighbours"
   ]
  },
  {
   "cell_type": "code",
   "execution_count": null,
   "metadata": {
    "ExecuteTime": {
     "end_time": "2020-01-02T00:54:19.903938Z",
     "start_time": "2020-01-02T00:54:18.240890Z"
    }
   },
   "outputs": [],
   "source": [
    "model_KNN = KNeighborsClassifier()\n",
    "scores_KNN = get_scores(model_KNN,X_train,y_train)\n",
    "\n",
    "param_grid_KNN = {\n",
    "    'n_neighbors': range(1,10),\n",
    "    'weights': ['distance', 'uniform'],\n",
    "    'algorithm': ['ball_tree', 'kd_tree','brute']\n",
    "}\n",
    "\n",
    "# best_params_KNN = get_best_params_GridCV(model_KNN, X_train, y_train, param_grid_KNN, refit='accuracy')\n",
    "best_params_KNN = get_best_params_RandomizedCV(model_KNN, X_train, y_train, param_grid_KNN, refit='accuracy')"
   ]
  },
  {
   "cell_type": "code",
   "execution_count": null,
   "metadata": {
    "ExecuteTime": {
     "end_time": "2020-01-02T00:54:20.008872Z",
     "start_time": "2020-01-02T00:54:19.904926Z"
    }
   },
   "outputs": [],
   "source": [
    "model_KNN.set_params(**best_params_KNN)\n",
    "\n",
    "all_scores['KNN'] = get_model_score(model_KNN,X_train,y_train,X_test,y_test)\n",
    "\n",
    "for key, value in all_scores['KNN'].items():\n",
    "    print('The %s score is: %f' % (key,value))"
   ]
  },
  {
   "cell_type": "markdown",
   "metadata": {},
   "source": [
    "### Stochastic Gradient Descent"
   ]
  },
  {
   "cell_type": "code",
   "execution_count": null,
   "metadata": {
    "ExecuteTime": {
     "end_time": "2020-01-02T00:54:20.701467Z",
     "start_time": "2020-01-02T00:54:20.009867Z"
    }
   },
   "outputs": [],
   "source": [
    "model_SGD = SGDClassifier()\n",
    "scores_SGDp = get_scores(model_SGD,X_train,y_train)\n",
    "\n",
    "param_grid_SGD = {\n",
    "    'max_iter': [1000000], # not suggested to change! \n",
    "    'tol': [1e-3],         # not suggested to change! \n",
    "    'loss': ['log', 'modified_huber', 'log', 'modified_huber'],\n",
    "    'alpha' : np.logspace(-4,4,7),\n",
    "    'penalty' : ['l1', 'l2']\n",
    "}\n",
    "\n",
    "# best_params_SGD = get_best_params_GridCV(model_SGD, X_train, y_train, param_grid_SGD, refit='accuracy')\n",
    "best_params_SGD = get_best_params_RandomizedCV(model_SGD, X_train, y_train, param_grid_SGD, refit='accuracy')"
   ]
  },
  {
   "cell_type": "code",
   "execution_count": null,
   "metadata": {
    "ExecuteTime": {
     "end_time": "2020-01-02T00:54:20.737446Z",
     "start_time": "2020-01-02T00:54:20.702467Z"
    }
   },
   "outputs": [],
   "source": [
    "model_SGD.set_params(**best_params_SGD)\n",
    "\n",
    "all_scores['SGD'] = get_model_score(model_SGD,X_train,y_train,X_test,y_test)\n",
    "\n",
    "for key, value in all_scores['SGD'].items():\n",
    "    print('The %s score is: %f' % (key,value))"
   ]
  },
  {
   "cell_type": "markdown",
   "metadata": {},
   "source": [
    "### Plotting Scores for all Classifiers"
   ]
  },
  {
   "cell_type": "code",
   "execution_count": null,
   "metadata": {
    "ExecuteTime": {
     "end_time": "2020-01-02T00:51:18.623108Z",
     "start_time": "2020-01-02T00:48:11.299Z"
    }
   },
   "outputs": [],
   "source": [
    "plot_data = {\n",
    "    'classifier' : [],\n",
    "    'accuracy' : [],\n",
    "    'precision' : [],\n",
    "    'recall' : [],\n",
    "    'f1' : []\n",
    "}\n",
    "\n",
    "scoring_methods = []\n",
    "\n",
    "for classifier, scores in all_scores.items():\n",
    "    plot_data['classifier'].append(classifier)\n",
    "    for scoring, value in scores.items():\n",
    "        if not scoring in scoring_methods:\n",
    "            scoring_methods.append(scoring)\n",
    "        plot_data[scoring].append(value)\n",
    "        \n",
    "n = len(plot_data['classifier'])\n",
    "ind = np.arange(n) \n",
    "width = 0.2\n",
    "bar_colours = ['SkyBlue','IndianRed','LightGreen','GoldenRod']\n",
    "\n",
    "fig, ax = plt.subplots()\n",
    "\n",
    "for idx, val in enumerate(scoring_methods): \n",
    "    ax.bar(ind - (n*width)/2 + ((idx+2)*width), plot_data[scoring_methods[idx]], width, color=bar_colours[idx], label=scoring_methods[idx])\n",
    "\n",
    "# Add some text for labels, title and custom x-axis tick labels, etc.\n",
    "ax.set_ylabel('Scores')\n",
    "ax.set_title('Scores by classifier')\n",
    "ax.set_xticks(ind)\n",
    "ax.set_xticklabels(plot_data['classifier'])\n",
    "ax.legend()\n",
    "\n",
    "plt.show()"
   ]
  },
  {
   "cell_type": "code",
   "execution_count": null,
   "metadata": {},
   "outputs": [],
   "source": [
    "index=np.arange(1,11)\n",
    "fig,axs=plt.subplots(1,3,figsize=(22,8))\n",
    "\n",
    "for ind,score in zip(np.arange(3),['accuracy','f1_macro','precision_macro','recall_macro','roc_auc_ovr']):\n",
    "    axs[ind].plot(index,scores_LR['test_%s'%(score)],label='LR',marker='.')\n",
    "    axs[ind].plot(index,scores_KNN['test_%s'%(score)],label='k-NN',marker='.')\n",
    "    axs[ind].plot(index,scores_XGB['test_%s'%(score)],label='XGB',marker='.')\n",
    "    axs[ind].plot(index,scores_GNB['test_%s'%(score)],label='GNB',marker='.')\n",
    "    axs[ind].plot(index,scores_SGD['test_%s'%(score)],label='SGD',marker='.')\n",
    "    axs[ind].plot(index,scores_MLP['test_%s'%(score)],label='MLP',marker='.')\n",
    "    axs[ind].plot(index,scores_RFC['test_%s'%(score)],label='RF',marker='.')\n",
    "    # axs[ind].plot(index,scores_SVM['test_%s'%(score)],label='SVM',marker='.')\n",
    "    axs[ind].set_xticks(np.arange(1,11))\n",
    "    axs[ind].legend(fontsize=12)\n",
    "    axs[ind].set_xlabel('Folds',fontsize=12,fontweight='bold')\n",
    "    axs[ind].set_ylabel('%s'%(score),fontsize=12,fontweight='bold')\n",
    "    axs[ind].set_title('Score Comparison: %s'%(score),fontsize=16,fontweight='bold')\n",
    "\n",
    "plt.show()"
   ]
  },
  {
   "cell_type": "code",
   "execution_count": null,
   "metadata": {},
   "outputs": [],
   "source": []
  },
  {
   "cell_type": "code",
   "execution_count": null,
   "metadata": {},
   "outputs": [],
   "source": []
  },
  {
   "cell_type": "code",
   "execution_count": null,
   "metadata": {},
   "outputs": [],
   "source": []
  },
  {
   "cell_type": "code",
   "execution_count": null,
   "metadata": {},
   "outputs": [],
   "source": []
  },
  {
   "cell_type": "code",
   "execution_count": null,
   "metadata": {},
   "outputs": [],
   "source": []
  },
  {
   "cell_type": "code",
   "execution_count": null,
   "metadata": {},
   "outputs": [],
   "source": []
  },
  {
   "cell_type": "code",
   "execution_count": null,
   "metadata": {},
   "outputs": [],
   "source": []
  },
  {
   "cell_type": "code",
   "execution_count": null,
   "metadata": {},
   "outputs": [],
   "source": []
  }
 ],
 "metadata": {
  "accelerator": "GPU",
  "colab": {
   "collapsed_sections": [],
   "name": "Beat The Bookie.ipynb",
   "provenance": []
  },
  "kernelspec": {
   "display_name": "Python 3",
   "language": "python",
   "name": "python3"
  },
  "language_info": {
   "codemirror_mode": {
    "name": "ipython",
    "version": 3
   },
   "file_extension": ".py",
   "mimetype": "text/x-python",
   "name": "python",
   "nbconvert_exporter": "python",
   "pygments_lexer": "ipython3",
   "version": "3.7.4"
  }
 },
 "nbformat": 4,
 "nbformat_minor": 1
}
