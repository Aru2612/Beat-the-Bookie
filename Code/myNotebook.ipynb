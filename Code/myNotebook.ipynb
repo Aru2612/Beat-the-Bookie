{
 "cells": [
  {
   "cell_type": "code",
   "execution_count": 8,
   "metadata": {},
   "outputs": [
    {
     "name": "stdout",
     "output_type": "stream",
     "text": [
      "/Users/nyufufu/Desktop\n"
     ]
    }
   ],
   "source": [
    "import os\n",
    "# print((os.chdir('/Users/nyufufu/Desktop')))\n",
    "print(os.getcwd())"
   ]
  },
  {
   "cell_type": "code",
   "execution_count": 8,
   "metadata": {},
   "outputs": [],
   "source": [
    "from scipy.stats import uniform, truncnorm, randint\n",
    "params_dict = {\n",
    "    'rfc':{\n",
    "        'n_estimators': range(4,200),\n",
    "        'max_features': truncnorm(a=0, b=1, loc=0.25, scale=0.1),\n",
    "        'min_samples_split': uniform(0.01, 0.199)\n",
    "    },\n",
    "\n",
    "    'knc':{\n",
    "        'n_neighbors': range(1,10),\n",
    "        'weights': ['distance', 'uniform'],\n",
    "        'algorithm': ['ball_tree', 'kd_tree','brute']\n",
    "    },\n",
    "\n",
    "    'gb':{\n",
    "        'priors': [None],\n",
    "        'var_smoothing': uniform(0.01, 0.199)\n",
    "    },\n",
    "\n",
    "    # loss not included for sgd:\n",
    "    # ['squared_loss','hinge', 'squared_hinge', 'perceptron', 'huber', 'epsilon_insensitive', 'squared_epsilon_insensitive']\n",
    "    # To test them, consider CalibratedClassifierCV() instead\n",
    "    'sgd':{\n",
    "        'max_iter': [1000000], # not suggest to change it! \n",
    "        'tol': [1e-3],         # not suggest to change it! \n",
    "        'loss': ['log', 'modified_huber', 'log','modified_huber'] + \\\n",
    "        [] #This is regression loss list !!!\n",
    "    },\n",
    "\n",
    "    'qda':{},\n",
    "\n",
    "    'dt':{\n",
    "        'criterion': ['gini', 'entropy'],\n",
    "        'splitter': ['best', 'random'],\n",
    "        'max_depth': [None],\n",
    "        'max_features':['sqrt','log2','auto', None]   \n",
    "    }\n",
    "}"
   ]
  }
 ],
 "metadata": {
  "kernelspec": {
   "display_name": "Python 3",
   "language": "python",
   "name": "python3"
  },
  "language_info": {
   "codemirror_mode": {
    "name": "ipython",
    "version": 3
   },
   "file_extension": ".py",
   "mimetype": "text/x-python",
   "name": "python",
   "nbconvert_exporter": "python",
   "pygments_lexer": "ipython3",
   "version": "3.6.9"
  }
 },
 "nbformat": 4,
 "nbformat_minor": 2
}
